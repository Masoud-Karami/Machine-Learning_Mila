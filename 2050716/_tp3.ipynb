{
  "nbformat": 4,
  "nbformat_minor": 0,
  "metadata": {
    "colab": {
      "name": "#tp3",
      "provenance": [],
      "collapsed_sections": [
        "DRDnor7oLyyl",
        "UCiTlthzL1BV",
        "FHz6oJQBecXN",
        "kXW5ekTML_V8",
        "wbXIZGn3MT_T",
        "7m0CHH88Mupk",
        "xUl1QxXMM9jy",
        "h6IVQji0gdP9",
        "JxEVf7GbNU-N",
        "pB8hCyIYNYjZ",
        "vvBaOaP6Naz6",
        "v7Fi8qesNcQa",
        "P_tHUvXFNd7a",
        "DB-OWwEyOvP7",
        "1HH1GD9FfqNa",
        "Lq49iOijO8ag",
        "H6G4EI1iPAFY",
        "ksgQ6lFlPEH5",
        "gj0oQ77BPHkA",
        "HnREdyHDPLHI",
        "LO1ESlIYfHWE",
        "r8Y8z8fiPW-C",
        "WLS6DSDQPajg",
        "I7DWGx9TPfB4",
        "e1__HocTPiMQ",
        "SJ-1N1zYPoPJ",
        "d0-g5WcvPq7Z"
      ],
      "toc_visible": true
    },
    "kernelspec": {
      "display_name": "Python 3",
      "name": "python3"
    }
  },
  "cells": [
    {
      "cell_type": "markdown",
      "metadata": {
        "id": "hYFCuzaBRXbW"
      },
      "source": [
        "**# Masoud Karami**      **2050716**\n",
        "\n",
        "\n",
        "[INF8953CE(Fall 2020) : Machine Learning](http://sarathchandar.in/teaching/ml/fall2020/)\n",
        "[Assignment #3](https://drive.google.com/file/d/1UNZ-ozmZ2OsG9L7XTzKBEud9A6aZaOgN/view?usp=sharing) Due on : Nov 16, 10:00 pm\n",
        "\n",
        "* You have to submit the pdf copy of the report on gradescope before the deadline. If you\n",
        "handwrite your solutions, you need to scan the pages, merge them to a single pdf file and\n",
        "submit. Mark page 1 for outline items $Late\\ Submission$ and $Verbosity$.\n",
        "\n",
        "* When asked to report the parameters, save the corresponding parameters in a text file\n",
        "(.txt) with the following template for the name: \n",
        "`Assignment1 <Matricule> <section> <sub-question > <sub-sub-question>`. Submit all the text files and codes compressed\n",
        "to a single file `<your-matricule>.zip` on Moodle.\n",
        "\n",
        "$Note:$ gradescope doesn’t accept `.zip`.\n",
        "\n",
        "* Be precise with your explanations in the report. Unnecessary verbosity will be penalized.\n",
        "* You are free to use libraries with general utilities, such as `matplotlib`, `numpy` and `scipy` for\n",
        "`python`. You can use pre-existing implementation of the algorithms available in scikit-learn\n",
        "package. Do not use NLTK or any other NLP libraries for pre-processing.!\n",
        "\n",
        "---\n",
        "---"
      ]
    },
    {
      "cell_type": "markdown",
      "metadata": {
        "id": "kBCaIx3oKzuP"
      },
      "source": [
        "# Sentiment Classification\n",
        "\n",
        "In this assignment, we will design a sentiment classifier for classifying the sentiment of the\n",
        "reviews. This is a *Natural Language Processing (NLP)* task where the input is a natural\n",
        "language text and output is the sentiment label. We will consider two different review\n",
        "datasets: Yelp reviews for restaurants and IMDB reviews for movies.\n",
        "\n",
        "# Yelp dataset\n",
        "\n",
        "The Yelp dataset consists of 7000 reviews in the training set, 1000 reviews in the validation\n",
        "set, and 2000 reviews in the test set. This is a 5 class problem where each review is classified\n",
        "into one of the five ratings with rating-5 being the best score and rating-1 being the worst\n",
        "score.\n",
        "\n",
        "# IMDB dataset\n",
        "\n",
        "IMDB dataset consists of 15000 reviews in training set, 10000 reviews in validation set, and\n",
        "25000 reviews in test set. This is a 2 class problem with class 1 being positive sentiment and\n",
        "class 0 being negative sentiment."
      ]
    },
    {
      "cell_type": "code",
      "metadata": {
        "id": "KL1Ircn0QIzK"
      },
      "source": [
        "# import sys\n",
        "# import os\n",
        "\n",
        "\n",
        "# filelist = [ f for f in os.listdir('/content/') if f.endswith(\".txt\") or f.endswith(\".csv\")]\n",
        "# for f in filelist:\n",
        "#     os.remove(os.path.join('/content/', f))\n",
        "# sys.modules[__name__].__dict__.clear()"
      ],
      "execution_count": 3,
      "outputs": []
    },
    {
      "cell_type": "markdown",
      "metadata": {
        "id": "DRDnor7oLyyl"
      },
      "source": [
        "> # **1.** \n",
        "Most of the algorithms described in the class expects input as a vector. However, the\n",
        "reviews are natural language text of varying number of words. So the first step would\n",
        "be to convert this varying length movie review to a fixed length vector representation.\n",
        "We will consider two different ways of vectorizing the natural language text: binary\n",
        "bag-of-words representation and frequency bag-of-words representation (as explained in\n",
        "the end of the assignment). Convert both the datasets into both these representations\n",
        "and turn in the converted datasets. Instruction for dataset format is given in the end of\n",
        "the assignment (do not include the dataset in the report)."
      ]
    },
    {
      "cell_type": "code",
      "metadata": {
        "id": "dEmwQ-8xLESz"
      },
      "source": [
        "# print('Question #1', '\\n')\n",
        "\n",
        "\n",
        "import numpy as np\n",
        "import pandas as pd\n",
        "import matplotlib.pyplot as plt\n",
        "import random\n",
        "import string\n",
        "import operator\n",
        "from sklearn import preprocessing\n",
        "from sklearn.naive_bayes import BernoulliNB\n",
        "from sklearn import metrics\n",
        "from sklearn import tree\n",
        "from sklearn.svm import LinearSVC\n",
        "\n",
        "\n",
        "data_path = '/content/'\n",
        "Yelp_train = pd.read_csv(data_path + \"yelp-train.txt\", sep='\\t', header=None)\n",
        "Yelp_test = pd.read_csv(data_path + \"yelp-test.txt\", sep='\\t', header=None)\n",
        "Yelp_valid = pd.read_csv(data_path + \"yelp-valid.txt\", sep='\\t', header=None)\n",
        "IMDB_train = pd.read_csv(data_path + \"IMDB-train.txt\", sep='\\t', header=None)\n",
        "IMDB_test = pd.read_csv(data_path + \"IMDB-test.txt\", sep='\\t', header=None)\n",
        "IMDB_valid = pd.read_csv(data_path + \"IMDB-valid.txt\", sep='\\t', header=None)\n",
        "\n",
        "\n",
        "#  removal of punctuation\n",
        "out = set(string.punctuation)\n",
        "seperator = '#'*100\n"
      ],
      "execution_count": 4,
      "outputs": []
    },
    {
      "cell_type": "code",
      "metadata": {
        "id": "lrt2OTxJYeOT"
      },
      "source": [
        "\n",
        "def bin_bag_of_words(data_set):\n",
        "  counti = data_set[0].count()\n",
        "  for counter in range(counti):\n",
        "    senti = data_set[0][counter]\n",
        "    senti = ''.join(char for char in senti if char not in out)\n",
        "    senti = senti.lower()\n",
        "    data_set[0][counter] = senti\n",
        "  return data_set\n",
        "\n"
      ],
      "execution_count": 5,
      "outputs": []
    },
    {
      "cell_type": "code",
      "metadata": {
        "id": "lA1P1Bpkzxbc",
        "outputId": "dfed5f4b-f844-48ab-d3cc-6a488bc4fa3f",
        "colab": {
          "base_uri": "https://localhost:8080/"
        }
      },
      "source": [
        "Yelp_train = bin_bag_of_words(Yelp_train)"
      ],
      "execution_count": 6,
      "outputs": [
        {
          "output_type": "stream",
          "text": [
            "/usr/local/lib/python3.6/dist-packages/ipykernel_launcher.py:8: SettingWithCopyWarning: \n",
            "A value is trying to be set on a copy of a slice from a DataFrame\n",
            "\n",
            "See the caveats in the documentation: https://pandas.pydata.org/pandas-docs/stable/user_guide/indexing.html#returning-a-view-versus-a-copy\n",
            "  \n"
          ],
          "name": "stderr"
        }
      ]
    },
    {
      "cell_type": "code",
      "metadata": {
        "id": "cb2GqT-yYtEB",
        "outputId": "0c5c6233-3e25-49ec-ec2f-9a100686864a",
        "colab": {
          "base_uri": "https://localhost:8080/"
        }
      },
      "source": [
        "# binary bag of words\n",
        "%%time\n",
        "\n",
        "Yelp_train = bin_bag_of_words(Yelp_train)\n",
        "Yelp_test = bin_bag_of_words(Yelp_test)\n",
        "Yelp_valid = bin_bag_of_words(Yelp_valid)\n",
        "IMDB_train = bin_bag_of_words(IMDB_train)\n",
        "IMDB_test = bin_bag_of_words(IMDB_test)\n",
        "IMDB_valid = bin_bag_of_words(IMDB_valid)"
      ],
      "execution_count": 7,
      "outputs": [
        {
          "output_type": "stream",
          "text": [
            "/usr/local/lib/python3.6/dist-packages/ipykernel_launcher.py:8: SettingWithCopyWarning: \n",
            "A value is trying to be set on a copy of a slice from a DataFrame\n",
            "\n",
            "See the caveats in the documentation: https://pandas.pydata.org/pandas-docs/stable/user_guide/indexing.html#returning-a-view-versus-a-copy\n",
            "  \n"
          ],
          "name": "stderr"
        },
        {
          "output_type": "stream",
          "text": [
            "CPU times: user 23.8 s, sys: 21.8 ms, total: 23.8 s\n",
            "Wall time: 24 s\n"
          ],
          "name": "stdout"
        }
      ]
    },
    {
      "cell_type": "code",
      "metadata": {
        "id": "zA9PzIm0e7Pc"
      },
      "source": [
        "\n",
        "\n",
        "Yelp_train = Yelp_train.values\n",
        "Yelp_test = Yelp_test.values\n",
        "Yelp_valid = Yelp_valid.values\n",
        "\n",
        "IMDB_train = IMDB_train.values\n",
        "IMDB_test = IMDB_test.values\n",
        "IMDB_valid = IMDB_valid.values\n",
        "# print(Yelp_train)\n",
        "# print(IMDB_train)"
      ],
      "execution_count": 8,
      "outputs": []
    },
    {
      "cell_type": "code",
      "metadata": {
        "id": "AWhSGvW4YkVq"
      },
      "source": [
        "\n",
        "def top_myriad(data_set):\n",
        "  pre_data = {}\n",
        "  for col in range(data_set.shape[0]):\n",
        "    sep = data_set[col][0].split()\n",
        "    for idems in range(len(sep)):\n",
        "      if sep[idems] in pre_data:\n",
        "        pre_data[sep[idems]] += 1\n",
        "      else:\n",
        "        pre_data[sep[idems]] = 1\n",
        "  return pre_data"
      ],
      "execution_count": 9,
      "outputs": []
    },
    {
      "cell_type": "code",
      "metadata": {
        "id": "Pt8VgsBmmB7d"
      },
      "source": [
        "\n",
        "\n",
        "\n",
        "top_train_Yelp = []\n",
        "top_train_IMDB = []\n",
        "sortit_Yelp = top_myriad(Yelp_train).items()\n",
        "sortit_IMDB = top_myriad(IMDB_train).items()\n",
        "sort_train_Yelp = sorted(sortit_Yelp, key=operator.itemgetter(1), reverse=True)\n",
        "sort_train_IMDB = sorted(sortit_IMDB, key=operator.itemgetter(1), reverse=True)\n",
        "\n",
        "\n",
        "# only consider the training set\n",
        "for i in range(10000):\n",
        "  top_train_Yelp.append(sort_train_Yelp[i][0])\n",
        "  top_train_IMDB.append(sort_train_IMDB[i][0])\n",
        "\n",
        "\n"
      ],
      "execution_count": 10,
      "outputs": []
    },
    {
      "cell_type": "code",
      "metadata": {
        "id": "Kmzt0rszYf3h"
      },
      "source": [
        "\n",
        "\n",
        "def vector_bin_bag(data_set, n, Yelp = True):\n",
        "  vector = np.zeros(shape=(data_set.shape[0], n), dtype=int)\n",
        "  top_train = top_train_Yelp if Yelp else top_train_IMDB\n",
        "  for col in range(data_set.shape[0]):\n",
        "    mot = data_set[col][0].split(' ')\n",
        "    for counter in range(n):\n",
        "      if top_train[counter] in mot:\n",
        "        vector[col][counter] = 1\n",
        "      else:\n",
        "        vector[col][counter] = 0\n",
        "  return vector\n"
      ],
      "execution_count": 11,
      "outputs": []
    },
    {
      "cell_type": "code",
      "metadata": {
        "id": "5uGhbJHs1B4L",
        "outputId": "f6585406-4bf6-48d9-82be-8d39be670b64",
        "colab": {
          "base_uri": "https://localhost:8080/"
        }
      },
      "source": [
        "# takes time, be patient please\n",
        "%%time\n",
        "\n",
        "\n",
        "Yelp_train_vec = vector_bin_bag(Yelp_train, 10000, True)\n",
        "Yelp_test_vec = vector_bin_bag(Yelp_test, 10000, True)\n",
        "Yelp_valid_vec = vector_bin_bag(Yelp_valid, 10000, True)\n"
      ],
      "execution_count": 12,
      "outputs": [
        {
          "output_type": "stream",
          "text": [
            "CPU times: user 3min 9s, sys: 544 ms, total: 3min 10s\n",
            "Wall time: 3min 10s\n"
          ],
          "name": "stdout"
        }
      ]
    },
    {
      "cell_type": "code",
      "metadata": {
        "id": "rdYd3mpZmYcm"
      },
      "source": [
        "class_Yelp_train = Yelp_train[:,1].astype(str)\n",
        "class_Yelp_test = Yelp_test[:,1].astype(str)\n",
        "class_Yelp_valid = Yelp_valid[:,1].astype(str)\n"
      ],
      "execution_count": 13,
      "outputs": []
    },
    {
      "cell_type": "code",
      "metadata": {
        "id": "9qvfABuCXaNW"
      },
      "source": [
        "# count the frequency\n",
        "# sort based on frequency\n",
        "# descending order\n",
        "# pick top 10,000 words, ignore the rest\n",
        "\n",
        "\n",
        "f = open(data_path + '#1-Yelp_mot.txt', 'w+', encoding='utf-8')\n",
        "for counter in range(10000):\n",
        "  f.write(sort_train_Yelp[counter][0] + '\\t' + str(counter+1) + '\\t' + \n",
        "          str(sort_train_Yelp[counter][1]) + '\\n')\n",
        "f.close()"
      ],
      "execution_count": 14,
      "outputs": []
    },
    {
      "cell_type": "code",
      "metadata": {
        "id": "RTZCbPCe6hYu",
        "outputId": "8ea69bdf-abf3-455f-d994-8dde07dde723",
        "colab": {
          "base_uri": "https://localhost:8080/"
        }
      },
      "source": [
        "# takes time, be patient please\n",
        "%%time\n",
        "\n",
        "IMDB_train_vec = vector_bin_bag(IMDB_train, 10000, False)\n",
        "IMDB_test_vec = vector_bin_bag(IMDB_test, 10000, False)\n",
        "IMDB_valid_vec = vector_bin_bag(IMDB_valid, 10000, False)"
      ],
      "execution_count": 15,
      "outputs": [
        {
          "output_type": "stream",
          "text": [
            "CPU times: user 25min 44s, sys: 2.75 s, total: 25min 47s\n",
            "Wall time: 25min 48s\n"
          ],
          "name": "stdout"
        }
      ]
    },
    {
      "cell_type": "code",
      "metadata": {
        "id": "QlR9wn0F7mWo"
      },
      "source": [
        "class_IMDB_train = IMDB_train[:,1].astype(str)\n",
        "class_IMDB_test = IMDB_test[:,1].astype(str)\n",
        "class_IMDB_valid = IMDB_valid[:,1].astype(str)"
      ],
      "execution_count": 16,
      "outputs": []
    },
    {
      "cell_type": "code",
      "metadata": {
        "id": "AKLVLp3q8QFp"
      },
      "source": [
        "# count the frequency\n",
        "# sort based on frequency\n",
        "# descending order\n",
        "# pick top 10,000 words, ignore the rest\n",
        "\n",
        "g = open(data_path + '#1-IMDB_mot.txt', 'w+', encoding='utf-8')\n",
        "for counter in range(10000):\n",
        "  g.write(sort_train_IMDB[counter][0] + '\\t' + str(counter+1) + '\\t' + \n",
        "          str(sort_train_IMDB[counter][1]) + '\\n')\n",
        "g.close()"
      ],
      "execution_count": 17,
      "outputs": []
    },
    {
      "cell_type": "code",
      "metadata": {
        "id": "zpUzH8zg-7jZ"
      },
      "source": [
        "# generate dataset Yelp train\n",
        "\n",
        "with open('#1-Yelp_train.txt', 'w', encoding='utf-8') as f:\n",
        "  for col in range(Yelp_train.shape[0]):\n",
        "    mot = Yelp_train[col][0].split(' ')\n",
        "    temp_Yelp = [(top_train_Yelp.index(verb)+1) if verb in top_train_Yelp else verb for verb in mot]\n",
        "    for item in temp_Yelp:\n",
        "      f.write(\"%s \" %item)\n",
        "    f.write('\\t' + class_Yelp_train[col] + '\\n')\n",
        "f.close()\n"
      ],
      "execution_count": 18,
      "outputs": []
    },
    {
      "cell_type": "code",
      "metadata": {
        "id": "uaDFG-Z5IUol",
        "outputId": "dc434a10-c16f-4313-d607-227d53285761",
        "colab": {
          "base_uri": "https://localhost:8080/"
        }
      },
      "source": [
        "%%time\n",
        "# generate dataset Yelp valid\n",
        "\n",
        "with open('#1-Yelp_valid.txt', 'w', encoding='utf-8') as g:\n",
        "  for col in range(Yelp_valid.shape[0]):\n",
        "    mot = Yelp_valid[col][0].split(' ')\n",
        "    temp_Yelp = [(top_train_Yelp.index(verb)+1) if verb in top_train_Yelp else verb for verb in mot]\n",
        "    for item in temp_Yelp:\n",
        "      if item == temp_Yelp[-1]:\n",
        "        g.write(\"%s\" %item)\n",
        "      g.write(\"%s \" %item)\n",
        "    g.write('\\t' + class_Yelp_valid[col] + '\\n')\n",
        "g.close()"
      ],
      "execution_count": 19,
      "outputs": [
        {
          "output_type": "stream",
          "text": [
            "CPU times: user 3.77 s, sys: 7.99 ms, total: 3.78 s\n",
            "Wall time: 3.79 s\n"
          ],
          "name": "stdout"
        }
      ]
    },
    {
      "cell_type": "code",
      "metadata": {
        "id": "z2JF27aNIXlD",
        "outputId": "0da011ad-eacf-4bb4-b31b-abf17de509a1",
        "colab": {
          "base_uri": "https://localhost:8080/"
        }
      },
      "source": [
        "%%time\n",
        "# generate dataset Yelp test\n",
        "\n",
        "with open('#1-Yelp_test.txt', 'w', encoding='utf-8') as h:\n",
        "  for col in range(Yelp_test.shape[0]):\n",
        "    mot = Yelp_test[col][0].split(' ')\n",
        "    temp_Yelp = [(top_train_Yelp.index(verb)+1) if verb in top_train_Yelp else verb for verb in mot]\n",
        "    for item in temp_Yelp:\n",
        "      if item == temp_Yelp[-1]:\n",
        "        h.write(\"%s\" %item)\n",
        "      h.write(\"%s \" %item)\n",
        "      h.write('\\t' + class_Yelp_test[col] + '\\n')\n",
        "h.close()"
      ],
      "execution_count": 20,
      "outputs": [
        {
          "output_type": "stream",
          "text": [
            "CPU times: user 7.38 s, sys: 29 ms, total: 7.41 s\n",
            "Wall time: 7.42 s\n"
          ],
          "name": "stdout"
        }
      ]
    },
    {
      "cell_type": "code",
      "metadata": {
        "id": "-MZpc0aeIb2g",
        "outputId": "d6afee10-809f-4627-f227-6cc8d8f38c2b",
        "colab": {
          "base_uri": "https://localhost:8080/"
        }
      },
      "source": [
        "# generate dataset IMDB train\n",
        "%%time\n",
        "\n",
        "\n",
        "with open('#1-IMDB_train.txt', 'w', encoding='utf-8') as m:\n",
        "  for col in range(IMDB_train.shape[0]):\n",
        "    mot = IMDB_train[col][0].split(' ')\n",
        "    temp_IMDB = [(top_train_IMDB.index(verb)+1) if verb in top_train_IMDB else verb for verb in mot]\n",
        "    for item in temp_IMDB:\n",
        "      m.write(\"%s \" %item)\n",
        "    m.write('\\t' + class_IMDB_train[col] + '\\n')\n",
        "m.close()"
      ],
      "execution_count": 21,
      "outputs": [
        {
          "output_type": "stream",
          "text": [
            "CPU times: user 1min 57s, sys: 123 ms, total: 1min 57s\n",
            "Wall time: 1min 57s\n"
          ],
          "name": "stdout"
        }
      ]
    },
    {
      "cell_type": "code",
      "metadata": {
        "id": "jB9i7r8AIdur",
        "outputId": "068e1333-9753-43d2-d3d0-ae1e95c0e658",
        "colab": {
          "base_uri": "https://localhost:8080/"
        }
      },
      "source": [
        "%%time\n",
        "# generate dataset IMDB valid\n",
        "\n",
        "with open('#1-IMDB_valid.txt', 'w', encoding='utf-8') as n:\n",
        "  for col in range(IMDB_valid.shape[0]):\n",
        "    mot = IMDB_valid[col][0].split(' ')\n",
        "    temp_IMDB = [(top_train_IMDB.index(verb)+1) if verb in top_train_IMDB else verb for verb in mot]\n",
        "    for item in temp_IMDB:\n",
        "      if item == temp_IMDB[-1]:\n",
        "        n.write(\"%s\" %item)\n",
        "      n.write(\"%s \" %item)\n",
        "      n.write('\\t' + class_IMDB_valid[col] + '\\n')\n",
        "n.close()"
      ],
      "execution_count": 22,
      "outputs": [
        {
          "output_type": "stream",
          "text": [
            "CPU times: user 1min 20s, sys: 127 ms, total: 1min 20s\n",
            "Wall time: 1min 20s\n"
          ],
          "name": "stdout"
        }
      ]
    },
    {
      "cell_type": "code",
      "metadata": {
        "id": "Zlm-syphIfx3",
        "outputId": "b07b70d4-c4a7-4122-e929-2d015bd98545",
        "colab": {
          "base_uri": "https://localhost:8080/"
        }
      },
      "source": [
        "%%time\n",
        "# generate dataset IMDB test\n",
        "\n",
        "with open('#1-IMDB_test.txt', 'w', encoding='utf-8') as k:\n",
        "  for col in range(IMDB_test.shape[0]):\n",
        "    mot = IMDB_test[col][0].split(' ')\n",
        "    temp_IMDB = [(top_train_IMDB.index(verb)+1) if verb in top_train_IMDB else verb for verb in mot]\n",
        "    for item in temp_IMDB:\n",
        "      if item == temp_IMDB[-1]:\n",
        "        k.write(\"%s\" %item)\n",
        "      k.write(\"%s \" %item)\n",
        "      k.write('\\t' + class_IMDB_test[col] + '\\n')\n",
        "k.close()"
      ],
      "execution_count": 23,
      "outputs": [
        {
          "output_type": "stream",
          "text": [
            "CPU times: user 3min 14s, sys: 297 ms, total: 3min 14s\n",
            "Wall time: 3min 14s\n"
          ],
          "name": "stdout"
        }
      ]
    },
    {
      "cell_type": "markdown",
      "metadata": {
        "id": "UCiTlthzL1BV"
      },
      "source": [
        "># **2.**\n",
        "For this question, we will focus on the Yelp dataset with binary bag-of-words (BBoW)\n",
        "representation. We will use the F1-measure as the evaluation metric for the entire\n",
        "assignment.\n",
        "\n",
        "\n",
        "\n",
        "\n"
      ]
    },
    {
      "cell_type": "markdown",
      "metadata": {
        "id": "FHz6oJQBecXN"
      },
      "source": [
        "\n",
        ">> # **2.(a)** \n",
        "As a baseline, report the performance of the random classifier (a classifier which\n",
        "classifies a review into an uniformly random class) and the majority-class classifier\n",
        "(a classifier which computes the majority class in the training set and classifies all\n",
        "test instances as that majority class)."
      ]
    },
    {
      "cell_type": "code",
      "metadata": {
        "id": "8-p6xdpYHrRI"
      },
      "source": [
        "# print('Question #2.a', '\\n')\n",
        "# performance of the random classifier\n",
        "\n",
        "def uniform_rand_classifier(data_set, data_class, file_name):\n",
        "  rand = np.empty(shape = (data_class.shape[0]), dtype=int)\n",
        "  for col in range(data_set.shape[0]):\n",
        "    if 'Yelp' in file_name:\n",
        "      rand[col] = np.random.randint(1, 6)\n",
        "    else:\n",
        "      rand[col] = np.random.randint(0, 2)\n",
        "  rand = rand.astype(str)\n",
        "  f1_random = metrics.f1_score(data_class, rand, average='macro')\n",
        "  print ('BBoW F1 for random classifier on {} = {}'.format(file_name, f1_random))\n",
        "  if 'Yelp' in file_name:\n",
        "    f = open(\"#2_a-Ranadclass_perf.txt\", 'a+')\n",
        "    f.write('BBoW F1 for random classifier on {} = {} \\n'.format(file_name, f1_random))\n",
        "    f.close()\n",
        "  else:\n",
        "    f = open(\"#4_a-Randclass_perf.txt\", 'a+')\n",
        "    f.write('BBoW F1 for random classifier on {} = {} \\n'.format(file_name, f1_random))\n",
        "    f.close()\n",
        "  return f1_random, rand\n"
      ],
      "execution_count": 24,
      "outputs": []
    },
    {
      "cell_type": "code",
      "metadata": {
        "id": "q3LuU-e_XgqB",
        "outputId": "25270c9e-e24b-4b91-afd1-5b6472e680b3",
        "colab": {
          "base_uri": "https://localhost:8080/"
        }
      },
      "source": [
        "%%time\n",
        "\n",
        "\n",
        "f1_Yelp_train, rand_Yelp_train = uniform_rand_classifier(Yelp_train, class_Yelp_train, 'Yelp_train')\n",
        "f1_Yelp_test, rand_Yelp_test = uniform_rand_classifier(Yelp_test, class_Yelp_test, 'Yelp_test')\n",
        "f1_Yelp_valid, rand_Yelp_valid = uniform_rand_classifier(Yelp_valid, class_Yelp_valid, 'Yelp_valid')"
      ],
      "execution_count": 25,
      "outputs": [
        {
          "output_type": "stream",
          "text": [
            "BBoW F1 for random classifier on Yelp_train = 0.18241916362346142\n",
            "BBoW F1 for random classifier on Yelp_test = 0.18057797685118898\n",
            "BBoW F1 for random classifier on Yelp_valid = 0.17749389657271505\n",
            "CPU times: user 73.1 ms, sys: 1 ms, total: 74.1 ms\n",
            "Wall time: 75 ms\n"
          ],
          "name": "stdout"
        }
      ]
    },
    {
      "cell_type": "code",
      "metadata": {
        "id": "EZ8bU215Y5CF"
      },
      "source": [
        "# np.savetxt('#2-a-BBoW_Yelp_train_rand_classifier.csv', rand_Yelp_train, fmt='%s')\n",
        "# np.savetxt('#2-a-BBoW_Yelp_valid_rand_classifier.csv', rand_Yelp_valid, fmt='%s')\n",
        "# np.savetxt('#2-a-BBoW_Yelp_test_rand_classifier.csv', rand_Yelp_test, fmt='%s')"
      ],
      "execution_count": 26,
      "outputs": []
    },
    {
      "cell_type": "code",
      "metadata": {
        "id": "VU4wiJKo-1wN"
      },
      "source": [
        "# performance of the majority-class classifier\n",
        "# IMDB is balanced, so majority doesn't make sense\n",
        "\n",
        "def majority_classifier(data_set, data_class, file_name):\n",
        "  list_major = {}\n",
        "  for col in range(Yelp_train.shape[0]):\n",
        "    if Yelp_train[col][1] in list_major:\n",
        "      list_major[Yelp_train[col][1]] += 1\n",
        "    else:\n",
        "      list_major[data_set[col][1]] = 1\n",
        "  majority = max(list_major.items(), key = operator.itemgetter(1))[0]\n",
        "  majority_out = np.full((data_set.shape[0], 1), majority)\n",
        "  majority_out = np.squeeze(majority_out).astype(str)\n",
        "  f1_majority = metrics.f1_score(data_class, majority_out, average='micro')\n",
        "  print('BBoW majority class for {} is {} \\n'.format(file_name[0:4], majority))\n",
        "  print('BBoW F1 for majority classifier on {} = {}'.format(file_name, f1_majority))\n",
        "  f = open(\"#2_a-Majority_Perf.txt\", 'a+')\n",
        "  f.write('BBoW majority class for {} is {}. \\n F1 for majority classifier on {} = {}.\\n'.\n",
        "          format(file_name[0:4], majority, file_name, f1_majority))\n",
        "  f.close()\n",
        "  return f1_majority"
      ],
      "execution_count": 27,
      "outputs": []
    },
    {
      "cell_type": "code",
      "metadata": {
        "id": "-I9qyzV2ISFN",
        "outputId": "582b4548-9b75-4e35-cae1-bf1dee3147e6",
        "colab": {
          "base_uri": "https://localhost:8080/"
        }
      },
      "source": [
        "%%time\n",
        "\n",
        "\n",
        "f1_Yelp_train_majority = majority_classifier(Yelp_train, class_Yelp_train, 'Yelp_train')\n",
        "f1_Yelp_test_majority = majority_classifier(Yelp_test, class_Yelp_test, 'Yelp_test')\n",
        "f1_Yelp_valid_majority = majority_classifier(Yelp_valid, class_Yelp_valid, 'Yelp_valid')\n"
      ],
      "execution_count": 28,
      "outputs": [
        {
          "output_type": "stream",
          "text": [
            "BBoW majority class for Yelp is 4 \n",
            "\n",
            "BBoW F1 for majority classifier on Yelp_train = 0.3525714285714286\n",
            "BBoW majority class for Yelp is 4 \n",
            "\n",
            "BBoW F1 for majority classifier on Yelp_test = 0.351\n",
            "BBoW majority class for Yelp is 4 \n",
            "\n",
            "BBoW F1 for majority classifier on Yelp_valid = 0.356\n",
            "CPU times: user 49.8 ms, sys: 1.99 ms, total: 51.8 ms\n",
            "Wall time: 52.3 ms\n"
          ],
          "name": "stdout"
        }
      ]
    },
    {
      "cell_type": "markdown",
      "metadata": {
        "id": "kXW5ekTML_V8"
      },
      "source": [
        ">> # **2.(b)**\n",
        "Now train Naive Bayes, Decision Trees, and Linear SVM for this task. [Note: You\n",
        "should do a thorough hyper-parameter tuning by using the given validation set.\n",
        "Also, note that you should use the appropriate naive Bayes classifier for binary\n",
        "input features (also called Bernoulli naive Bayes).]\n"
      ]
    },
    {
      "cell_type": "code",
      "metadata": {
        "id": "ufUKeww9MY5T",
        "outputId": "551383d2-a1a9-4b0d-cdf1-27d756b7eb65",
        "colab": {
          "base_uri": "https://localhost:8080/"
        }
      },
      "source": [
        "# print('Question #2.b', '\\n')\n",
        "#  naive Bayes classifier or Bernoulli naive Bayes\n",
        "%%time\n",
        "\n",
        "from sklearn.naive_bayes import BernoulliNB\n",
        "import numpy as np\n",
        "\n",
        "def NB_BBoW(train_vec, ctrain, cvalid, valid_vec, Yelp = True):\n",
        "  alphas = [0.0001, 0.001, 0.002, 0.003, 0.004, 0.005, 0.006, \n",
        "            0.007, 0.008, 0.009, 0.01, 0.02, 0.05, 0.1]\n",
        "  pred_NB = []\n",
        "  f1_NB = []\n",
        "  f = open(\"#2_c-NB_perform.txt\", 'a+')\n",
        "  g = open(\"#4_c-NB_perform.txt\", 'a+')\n",
        "  for i in range(len(alphas)):\n",
        "    NB_Class = BernoulliNB(alpha=alphas[i],binarize=None)\n",
        "    NB_Class.fit(train_vec, ctrain)\n",
        "    test = NB_Class.predict(train_vec)\n",
        "    pred_NB.append(NB_Class.predict(valid_vec))\n",
        "    F1_train = metrics.f1_score(ctrain, test, average='macro')\n",
        "    F1_valid = metrics.f1_score(cvalid, pred_NB[i], average='macro')\n",
        "    print(\"BBoW----alpha:{},  F1_train: {},  F1_valid: {}\".\n",
        "          format(alphas[i], F1_train, F1_valid))\n",
        "    f1_NB.append(metrics.f1_score(cvalid, pred_NB[i], average='macro'))\n",
        "    if Yelp:\n",
        "      f.write(\"BBoW----alpha:{},  F1_train: {},  F1_valid: {} \\n\".\n",
        "              format(alphas[i], F1_train, F1_valid))\n",
        "    else:\n",
        "      g.write(\"BBoW----alpha:{},  F1_train: {},  F1_valid: {} \\n\".\n",
        "              format(alphas[i], F1_train, F1_valid))\n",
        "  alpha_optimum = alphas[f1_NB.index(max(f1_NB))]\n",
        "  f.close()\n",
        "  g.close()\n",
        "  return f1_NB"
      ],
      "execution_count": 29,
      "outputs": [
        {
          "output_type": "stream",
          "text": [
            "CPU times: user 14 µs, sys: 0 ns, total: 14 µs\n",
            "Wall time: 16.9 µs\n"
          ],
          "name": "stdout"
        }
      ]
    },
    {
      "cell_type": "code",
      "metadata": {
        "id": "qR0T398Zs-oa",
        "outputId": "a751481d-2662-432c-9641-a0e8a460457d",
        "colab": {
          "base_uri": "https://localhost:8080/"
        }
      },
      "source": [
        "nb_bbow_Y = NB_BBoW(Yelp_train_vec, class_Yelp_train, class_Yelp_valid, Yelp_valid_vec, True)"
      ],
      "execution_count": 30,
      "outputs": [
        {
          "output_type": "stream",
          "text": [
            "BBoW----alpha:0.0001,  F1_train: 0.7913623590092731,  F1_valid: 0.3342684884698385\n",
            "BBoW----alpha:0.001,  F1_train: 0.7848232083669805,  F1_valid: 0.3577699545850232\n",
            "BBoW----alpha:0.002,  F1_train: 0.7816064001267711,  F1_valid: 0.36014365009756233\n",
            "BBoW----alpha:0.003,  F1_train: 0.779424995491092,  F1_valid: 0.36328782357848977\n",
            "BBoW----alpha:0.004,  F1_train: 0.7780436311699405,  F1_valid: 0.37185227307442653\n",
            "BBoW----alpha:0.005,  F1_train: 0.7770036545680943,  F1_valid: 0.3752693102868807\n",
            "BBoW----alpha:0.006,  F1_train: 0.7756761352138442,  F1_valid: 0.376461283228757\n",
            "BBoW----alpha:0.007,  F1_train: 0.7734679454609646,  F1_valid: 0.37804555182992194\n",
            "BBoW----alpha:0.008,  F1_train: 0.772313747740285,  F1_valid: 0.37819556762594175\n",
            "BBoW----alpha:0.009,  F1_train: 0.7713498093412052,  F1_valid: 0.3769282700440043\n",
            "BBoW----alpha:0.01,  F1_train: 0.7703866381707726,  F1_valid: 0.37643923150496417\n",
            "BBoW----alpha:0.02,  F1_train: 0.761571272639455,  F1_valid: 0.3766558313116145\n",
            "BBoW----alpha:0.05,  F1_train: 0.7418579576730264,  F1_valid: 0.37381791226147915\n",
            "BBoW----alpha:0.1,  F1_train: 0.7240268979662136,  F1_valid: 0.3712865662824939\n"
          ],
          "name": "stdout"
        }
      ]
    },
    {
      "cell_type": "code",
      "metadata": {
        "id": "iSBHlKvTyPMG",
        "outputId": "e775a0a8-3740-4d77-8495-08708e36919f",
        "colab": {
          "base_uri": "https://localhost:8080/"
        }
      },
      "source": [
        "# decision trees classifier \n",
        "%%time\n",
        "\n",
        "from sklearn import tree\n",
        "\n",
        "def DecisiontreeBBoW(train_vec, valid_vec, ctrain, cvalid, Yelp = True):\n",
        "  depth = [8,9,10,11,12, 15, 20, 25, 30, 40, 50]\n",
        "  criterias =  ['gini', 'entropy']\n",
        "  pred_tree = []\n",
        "  f1_tree = []\n",
        "  f = open(\"#2_c-tree_perform.txt\", 'a+')\n",
        "  g = open(\"#4_c-tree_perform.txt\", 'a+')\n",
        "  for crit in criterias:\n",
        "    for i in range(len(depth)):\n",
        "      tree_Class = tree.DecisionTreeClassifier(criterion = crit, max_depth=depth[i])\n",
        "      tree_Class.fit(train_vec, ctrain)\n",
        "      test = tree_Class.predict(train_vec)\n",
        "      pred_tree.append(tree_Class.predict(valid_vec))\n",
        "      F1_train = metrics.f1_score(ctrain, test, average='macro')\n",
        "      F1_valid = metrics.f1_score(cvalid, pred_tree[i], average='macro')\n",
        "      print(\"Depth:{}, criterion:{}, F1_train: {},  F1_valid: {}\".\n",
        "            format(depth[i], crit, F1_train, F1_valid))\n",
        "      f1_tree.append(metrics.f1_score(cvalid, pred_tree[i], average='macro'))\n",
        "      if Yelp:\n",
        "        f.write(\"Depth:{}, criterion:{}, F1_train: {},  F1_valid: {} \\n\".\n",
        "                format(depth[i], crit, F1_train, F1_valid))\n",
        "      else:\n",
        "        g.write(\"Depth:{}, criterion:{}, F1_train: {},  F1_valid: {} \\n\".\n",
        "                format(depth[i], crit, F1_train, F1_valid))        \n",
        "  f.close()\n",
        "  g.close()"
      ],
      "execution_count": 31,
      "outputs": [
        {
          "output_type": "stream",
          "text": [
            "CPU times: user 35 µs, sys: 0 ns, total: 35 µs\n",
            "Wall time: 22.9 µs\n"
          ],
          "name": "stdout"
        }
      ]
    },
    {
      "cell_type": "code",
      "metadata": {
        "id": "qM43AnZDy8va",
        "outputId": "ebfda513-ed3b-45cb-ab1f-392b48eebb27",
        "colab": {
          "base_uri": "https://localhost:8080/"
        }
      },
      "source": [
        "DecisiontreeBBoW(Yelp_train_vec, Yelp_valid_vec, class_Yelp_train, class_Yelp_valid, True)"
      ],
      "execution_count": 32,
      "outputs": [
        {
          "output_type": "stream",
          "text": [
            "Depth:8, criterion:gini, F1_train: 0.3572480170206753,  F1_valid: 0.2769670002521454\n",
            "Depth:9, criterion:gini, F1_train: 0.39538205028665196,  F1_valid: 0.28102294301858377\n",
            "Depth:10, criterion:gini, F1_train: 0.4239427588506867,  F1_valid: 0.2836796920981451\n",
            "Depth:11, criterion:gini, F1_train: 0.46048886104435277,  F1_valid: 0.2748731312927169\n",
            "Depth:12, criterion:gini, F1_train: 0.5095300168038713,  F1_valid: 0.2622851792710646\n",
            "Depth:15, criterion:gini, F1_train: 0.6180853795730803,  F1_valid: 0.2686567345330662\n",
            "Depth:20, criterion:gini, F1_train: 0.7481147741456773,  F1_valid: 0.27425524554464586\n",
            "Depth:25, criterion:gini, F1_train: 0.85275844868159,  F1_valid: 0.2917560154190291\n",
            "Depth:30, criterion:gini, F1_train: 0.9112112771666594,  F1_valid: 0.28057014295808547\n",
            "Depth:40, criterion:gini, F1_train: 0.9669765629956526,  F1_valid: 0.2636514784789812\n",
            "Depth:50, criterion:gini, F1_train: 0.992782033304796,  F1_valid: 0.2768311187089814\n",
            "Depth:8, criterion:entropy, F1_train: 0.3641577880277424,  F1_valid: 0.2769670002521454\n",
            "Depth:9, criterion:entropy, F1_train: 0.4083352254363458,  F1_valid: 0.28102294301858377\n",
            "Depth:10, criterion:entropy, F1_train: 0.4620666595857522,  F1_valid: 0.2836796920981451\n",
            "Depth:11, criterion:entropy, F1_train: 0.49978430368852234,  F1_valid: 0.2748731312927169\n",
            "Depth:12, criterion:entropy, F1_train: 0.5330486384745692,  F1_valid: 0.2622851792710646\n",
            "Depth:15, criterion:entropy, F1_train: 0.6237568329350724,  F1_valid: 0.2686567345330662\n",
            "Depth:20, criterion:entropy, F1_train: 0.7889824580355327,  F1_valid: 0.27425524554464586\n",
            "Depth:25, criterion:entropy, F1_train: 0.894065479208221,  F1_valid: 0.2917560154190291\n",
            "Depth:30, criterion:entropy, F1_train: 0.9453400574022774,  F1_valid: 0.28057014295808547\n",
            "Depth:40, criterion:entropy, F1_train: 0.9879775333012526,  F1_valid: 0.2636514784789812\n",
            "Depth:50, criterion:entropy, F1_train: 0.9964568871547602,  F1_valid: 0.2768311187089814\n"
          ],
          "name": "stdout"
        }
      ]
    },
    {
      "cell_type": "code",
      "metadata": {
        "id": "QsTqCf-Ljlna",
        "outputId": "f8371cd5-fba5-42d4-e9a6-20cd1fc4a51f",
        "colab": {
          "base_uri": "https://localhost:8080/"
        }
      },
      "source": [
        "# Linear SVM for Yelp\n",
        "%%time\n",
        "\n",
        "from warnings import filterwarnings\n",
        "from sklearn.svm import LinearSVC\n",
        "filterwarnings('ignore')\n",
        "\n",
        "\n",
        "def svm_BBoW(train_vec, ctrain, valid_vec, cvalid, Yelp = True):\n",
        "  C_svm = [2**-4, 2**-3, 2**-2, 0.5, 1, 1.5, 2, 4,10.0, 2**4, 2**5]\n",
        "  pred_svm = []\n",
        "  f1_svm = []\n",
        "  f = open(\"#2_c-svm_perform.txt\", 'a+')\n",
        "  g = open(\"#4_c-svm_perform.txt\", 'a+')\n",
        "  for i in range(len(C_svm)):\n",
        "    svm_Class = LinearSVC(C = C_svm[i], multi_class=\"ovr\", loss='hinge')\n",
        "    svm_Class.fit(train_vec, ctrain)\n",
        "    test = svm_Class.predict(train_vec)\n",
        "    pred_svm.append(svm_Class.predict(valid_vec))\n",
        "    F1_train = metrics.f1_score(ctrain, test, average='macro')\n",
        "    F1_valid = metrics.f1_score(cvalid, pred_svm[i], average='macro')\n",
        "    print(\"C = {}, F1_train = {},  F1_valid = {}\".\n",
        "          format(C_svm[i], F1_train, F1_valid))\n",
        "    f1_svm.append(F1_valid)\n",
        "    if Yelp:\n",
        "      f.write(\"Depth C = {}, F1_train = {},  F1_valid = {} \\n\".\n",
        "              format(C_svm[i], F1_train, F1_valid))\n",
        "    else:\n",
        "      g.write(\"Depth C = {}, F1_train = {},  F1_valid = {} \\n\".\n",
        "              format(C_svm[i], F1_train, F1_valid))\n",
        "  f.close()\n",
        "  g.close()"
      ],
      "execution_count": 33,
      "outputs": [
        {
          "output_type": "stream",
          "text": [
            "CPU times: user 49 µs, sys: 0 ns, total: 49 µs\n",
            "Wall time: 59.1 µs\n"
          ],
          "name": "stdout"
        }
      ]
    },
    {
      "cell_type": "code",
      "metadata": {
        "id": "LWvsBTrSDpZ-",
        "outputId": "061c32d5-78e5-43d4-cc56-8286dff5be3b",
        "colab": {
          "base_uri": "https://localhost:8080/"
        }
      },
      "source": [
        "svm_BBoW(Yelp_train_vec, class_Yelp_train, Yelp_valid_vec, class_Yelp_valid,  True)"
      ],
      "execution_count": 34,
      "outputs": [
        {
          "output_type": "stream",
          "text": [
            "C = 0.0625, F1_train = 0.8891018180003357,  F1_valid = 0.44214202372104605\n",
            "C = 0.125, F1_train = 0.9330357708601534,  F1_valid = 0.4327375108805448\n",
            "C = 0.25, F1_train = 0.9643105259111024,  F1_valid = 0.42830463326490326\n",
            "C = 0.5, F1_train = 0.9821937373467182,  F1_valid = 0.4258720518688831\n",
            "C = 1, F1_train = 0.9915682725894561,  F1_valid = 0.41895827342783587\n",
            "C = 1.5, F1_train = 0.995078383919996,  F1_valid = 0.41437499937449845\n",
            "C = 2, F1_train = 0.9968351781610512,  F1_valid = 0.4104237697675691\n",
            "C = 4, F1_train = 0.9986588053911886,  F1_valid = 0.4116521116510574\n",
            "C = 10.0, F1_train = 0.9987566871494623,  F1_valid = 0.4084241077910953\n",
            "C = 16, F1_train = 0.9991048062789718,  F1_valid = 0.4070251582429811\n",
            "C = 32, F1_train = 0.9993756543056056,  F1_valid = 0.40179086412858284\n"
          ],
          "name": "stdout"
        }
      ]
    },
    {
      "cell_type": "markdown",
      "metadata": {
        "id": "wbXIZGn3MT_T"
      },
      "source": [
        ">> # **2.(c)**\n",
        " Report the list of hyper-parameters you considered for each classifier, the range\n",
        "of the individual hyper-parameters and the best value for these hyper-parameters\n",
        "chosen based on the validation set performance.\n",
        "\n",
        "\n"
      ]
    },
    {
      "cell_type": "code",
      "metadata": {
        "id": "Ur9JWjJBqNag",
        "outputId": "51d16737-4945-4560-fa5f-444ae87a6ab9",
        "colab": {
          "base_uri": "https://localhost:8080/"
        }
      },
      "source": [
        "# F1 score for the optimal NB-BBoW hyperparameter \n",
        "\n",
        "alphas = [0.0001, 0.001, 0.002, 0.003, 0.004, 0.005, 0.006, 0.007, 0.008, 0.009, 0.01, 0.02, 0.05, 0.1]\n",
        "alpha_optimum = alphas[nb_bbow_Y.index(max(nb_bbow_Y))]\n",
        "print('The optimal alpha for the NB classifier is {}'.format(alpha_optimum))\n",
        "f = open(\"#2_c-NB_parameters.txt\", 'a+')\n",
        "f.write(\"The optimal alpha from the set {} w.r.t NB_classifier is {} \\n\".\n",
        "        format(alphas, alpha_optimum))\n",
        "f.close()\n",
        "\n",
        "\n",
        "def Yelp_optimal_f1(vector, data_class, file_name):\n",
        "  NB_Class = BernoulliNB(alpha = alpha_optimum)\n",
        "  NB_Class.fit(Yelp_train_vec, class_Yelp_train)\n",
        "  predicted_result = (NB_Class.predict(vector))\n",
        "  f1_result = metrics.f1_score(data_class, predicted_result, average='macro')\n",
        "  print('NB_BBoW best values for {} with optimal hyperparameters is {}'.\n",
        "        format(file_name, f1_result))\n",
        "  f = open(\"#2_c-NB_parameters.txt\", 'a+')\n",
        "  f.write('{} \\n NB_BBoW best values for {} with optimal hyperparameters is {}. \\n'.\n",
        "        format(seperator, file_name, f1_result))\n",
        "\n"
      ],
      "execution_count": 35,
      "outputs": [
        {
          "output_type": "stream",
          "text": [
            "The optimal alpha for the NB classifier is 0.008\n"
          ],
          "name": "stdout"
        }
      ]
    },
    {
      "cell_type": "code",
      "metadata": {
        "id": "AZQ3DGwcojDr"
      },
      "source": [
        "from sklearn.dummy import DummyClassifier as DC\n",
        "from sklearn.model_selection import ParameterGrid\n",
        "from sklearn.tree import DecisionTreeClassifier as DTC\n",
        "from sklearn import svm, metrics\n",
        "from sklearn.metrics import f1_score"
      ],
      "execution_count": 36,
      "outputs": []
    },
    {
      "cell_type": "code",
      "metadata": {
        "id": "eAmyWaHmwm08"
      },
      "source": [
        "\n",
        "\n",
        "seperator = '#'*100\n",
        "NB_params = ParameterGrid({'alpha':[0.001, 0.002, 0.003, 0.004, 0.005, \n",
        "                                    0.006, 0.007, 0.008, 0.009, 0.01, 0.02, 0.05, 0.1]})\n",
        "tree_params = ParameterGrid({'criterion':['gini','entropy'],\n",
        "                             'max_features': [None, \"sqrt\", \"log2\"],\n",
        "                             'max_depth':[8, 9, 10, 15, 20, 30, 50, 100],\n",
        "                             'min_samples_leaf': [0.2, 0.49],\n",
        "                             'min_samples_split':[2, 3, 5, 10, 20]})\n",
        "svm_params = ParameterGrid({'loss':['hinge','squared_hinge'],\n",
        "                            'C':[0.25, 0.5, 1.5, 2, 5, 10, 100]})\n",
        "\n",
        "classifiers = [(BernoulliNB, NB_params), (DTC, tree_params), (svm.LinearSVC, svm_params)]"
      ],
      "execution_count": 37,
      "outputs": []
    },
    {
      "cell_type": "code",
      "metadata": {
        "id": "nkooc8iAQDJ8"
      },
      "source": [
        "def model_validation(model):\n",
        "  model.fit(Yelp_train_vec, class_Yelp_train)\n",
        "  valid = model.predict(Yelp_valid_vec)\n",
        "  f1_valid = f1_score(class_Yelp_valid, valid, average = 'micro')\n",
        "  return f1_valid\n",
        "\n",
        "###########################################################################\n",
        "\n",
        "def optimize_parameters(classifier, grid, Yelp = True):\n",
        "  if Yelp:\n",
        "    f = open(\"#2_c-All Parameters.txt\", 'a+')\n",
        "    best_f1 = 0.0\n",
        "    optimal_params = None\n",
        "    for params in grid:\n",
        "      f1 = model_validation(classifier(**params))\n",
        "      f.write(\"{}-----> F1 = {}\\n\".format(params, f1))\n",
        "      print(\"{}-----> F1 = {}\".format(params, f1))\n",
        "      if f1 > best_f1:\n",
        "          best_f1 = f1\n",
        "          optimal_params = params       \n",
        "    print(\"Best params: {}\".format(optimal_params))\n",
        "    print(\"Best F1 Score: {}\\n {}\".format(best_f1, seperator))\n",
        "    f.write(\"Best params: {}\\n Best F1 Score = {}\\n{}\\n\".\n",
        "            format(optimal_params, best_f1, seperator))\n",
        "    f.close()\n",
        "  else:\n",
        "    g = open(\"#4_c-All Parameters.txt\", 'a+')\n",
        "    best_f1 = 0.0\n",
        "    optimal_params = None\n",
        "    for params in grid:\n",
        "      f1 = model_validation_4(classifier(**params))\n",
        "      g.write(\"{} --------> F1 = {}\\n\".format(params, f1))\n",
        "      print(\"{} --------> F1 = {}\".format(params, f1))\n",
        "      if f1 > best_f1:\n",
        "          best_f1 = f1\n",
        "          optimal_params = params       \n",
        "    print(\"Best params: {}\".format(optimal_params))\n",
        "    print(\"Best F1 Score: {}\\n {} \\n\".format(best_f1, seperator))\n",
        "    g.write(\"Best params: {}\\n Best F1 Score = {}\\n{}\\n\".\n",
        "            format(optimal_params, best_f1, seperator))\n",
        "    g.close()    \n",
        "  return classifier(**optimal_params)\n",
        "\n",
        "###########################################################################\n",
        "\n",
        "def model_train_valid_test(model):\n",
        "  model.fit(Yelp_train_vec, class_Yelp_train)\n",
        "  train = model.predict(Yelp_train_vec)\n",
        "  valid = model.predict(Yelp_valid_vec)\n",
        "  test = model.predict(Yelp_test_vec)\n",
        "  f1_train = f1_score(class_Yelp_train, train, average='micro')\n",
        "  f1_valid = f1_score(class_Yelp_valid, valid, average='micro')\n",
        "  f1_test = f1_score(class_Yelp_test, test, average='micro')\n",
        "  return f1_train, f1_valid, f1_test\n"
      ],
      "execution_count": 38,
      "outputs": []
    },
    {
      "cell_type": "code",
      "metadata": {
        "id": "GanhQzl6QMq8",
        "outputId": "1b461d12-c25b-4e60-f24b-a8b8e267a61e",
        "colab": {
          "base_uri": "https://localhost:8080/"
        }
      },
      "source": [
        "%%time\n",
        "\n",
        "\n",
        "uni_random = DC(strategy = 'uniform')\n",
        "majority_c = DC(strategy = 'most_frequent')\n",
        "\n",
        "print('Random Classifier = {:<25}'.format(model_validation(uni_random)))\n",
        "print('Majority Classifier = {:<25}'.format(model_validation(majority_c)))\n",
        "\n",
        "for param in classifiers:\n",
        "    clf = param[0]\n",
        "    param_grid = param[1]\n",
        "    print(clf)    \n",
        "    best_clf = optimize_parameters(clf, param_grid)"
      ],
      "execution_count": 39,
      "outputs": [
        {
          "output_type": "stream",
          "text": [
            "Random Classifier = 0.202                    \n",
            "Majority Classifier = 0.356                    \n",
            "<class 'sklearn.naive_bayes.BernoulliNB'>\n",
            "{'alpha': 0.001}-----> F1 = 0.416\n",
            "{'alpha': 0.002}-----> F1 = 0.414\n",
            "{'alpha': 0.003}-----> F1 = 0.415\n",
            "{'alpha': 0.004}-----> F1 = 0.41999999999999993\n",
            "{'alpha': 0.005}-----> F1 = 0.421\n",
            "{'alpha': 0.006}-----> F1 = 0.421\n",
            "{'alpha': 0.007}-----> F1 = 0.421\n",
            "{'alpha': 0.008}-----> F1 = 0.421\n",
            "{'alpha': 0.009}-----> F1 = 0.419\n",
            "{'alpha': 0.01}-----> F1 = 0.419\n",
            "{'alpha': 0.02}-----> F1 = 0.421\n",
            "{'alpha': 0.05}-----> F1 = 0.413\n",
            "{'alpha': 0.1}-----> F1 = 0.40700000000000003\n",
            "Best params: {'alpha': 0.005}\n",
            "Best F1 Score: 0.421\n",
            " ####################################################################################################\n",
            "<class 'sklearn.tree._classes.DecisionTreeClassifier'>\n",
            "{'criterion': 'gini', 'max_depth': 8, 'max_features': None, 'min_samples_leaf': 0.2, 'min_samples_split': 2}-----> F1 = 0.38499999999999995\n",
            "{'criterion': 'gini', 'max_depth': 8, 'max_features': None, 'min_samples_leaf': 0.2, 'min_samples_split': 3}-----> F1 = 0.38499999999999995\n",
            "{'criterion': 'gini', 'max_depth': 8, 'max_features': None, 'min_samples_leaf': 0.2, 'min_samples_split': 5}-----> F1 = 0.38499999999999995\n",
            "{'criterion': 'gini', 'max_depth': 8, 'max_features': None, 'min_samples_leaf': 0.2, 'min_samples_split': 10}-----> F1 = 0.38499999999999995\n",
            "{'criterion': 'gini', 'max_depth': 8, 'max_features': None, 'min_samples_leaf': 0.2, 'min_samples_split': 20}-----> F1 = 0.38499999999999995\n",
            "{'criterion': 'gini', 'max_depth': 8, 'max_features': None, 'min_samples_leaf': 0.49, 'min_samples_split': 2}-----> F1 = 0.356\n",
            "{'criterion': 'gini', 'max_depth': 8, 'max_features': None, 'min_samples_leaf': 0.49, 'min_samples_split': 3}-----> F1 = 0.356\n",
            "{'criterion': 'gini', 'max_depth': 8, 'max_features': None, 'min_samples_leaf': 0.49, 'min_samples_split': 5}-----> F1 = 0.356\n",
            "{'criterion': 'gini', 'max_depth': 8, 'max_features': None, 'min_samples_leaf': 0.49, 'min_samples_split': 10}-----> F1 = 0.356\n",
            "{'criterion': 'gini', 'max_depth': 8, 'max_features': None, 'min_samples_leaf': 0.49, 'min_samples_split': 20}-----> F1 = 0.356\n",
            "{'criterion': 'gini', 'max_depth': 8, 'max_features': 'sqrt', 'min_samples_leaf': 0.2, 'min_samples_split': 2}-----> F1 = 0.356\n",
            "{'criterion': 'gini', 'max_depth': 8, 'max_features': 'sqrt', 'min_samples_leaf': 0.2, 'min_samples_split': 3}-----> F1 = 0.356\n",
            "{'criterion': 'gini', 'max_depth': 8, 'max_features': 'sqrt', 'min_samples_leaf': 0.2, 'min_samples_split': 5}-----> F1 = 0.356\n",
            "{'criterion': 'gini', 'max_depth': 8, 'max_features': 'sqrt', 'min_samples_leaf': 0.2, 'min_samples_split': 10}-----> F1 = 0.336\n",
            "{'criterion': 'gini', 'max_depth': 8, 'max_features': 'sqrt', 'min_samples_leaf': 0.2, 'min_samples_split': 20}-----> F1 = 0.356\n",
            "{'criterion': 'gini', 'max_depth': 8, 'max_features': 'sqrt', 'min_samples_leaf': 0.49, 'min_samples_split': 2}-----> F1 = 0.356\n",
            "{'criterion': 'gini', 'max_depth': 8, 'max_features': 'sqrt', 'min_samples_leaf': 0.49, 'min_samples_split': 3}-----> F1 = 0.356\n",
            "{'criterion': 'gini', 'max_depth': 8, 'max_features': 'sqrt', 'min_samples_leaf': 0.49, 'min_samples_split': 5}-----> F1 = 0.356\n",
            "{'criterion': 'gini', 'max_depth': 8, 'max_features': 'sqrt', 'min_samples_leaf': 0.49, 'min_samples_split': 10}-----> F1 = 0.356\n",
            "{'criterion': 'gini', 'max_depth': 8, 'max_features': 'sqrt', 'min_samples_leaf': 0.49, 'min_samples_split': 20}-----> F1 = 0.356\n",
            "{'criterion': 'gini', 'max_depth': 8, 'max_features': 'log2', 'min_samples_leaf': 0.2, 'min_samples_split': 2}-----> F1 = 0.356\n",
            "{'criterion': 'gini', 'max_depth': 8, 'max_features': 'log2', 'min_samples_leaf': 0.2, 'min_samples_split': 3}-----> F1 = 0.356\n",
            "{'criterion': 'gini', 'max_depth': 8, 'max_features': 'log2', 'min_samples_leaf': 0.2, 'min_samples_split': 5}-----> F1 = 0.356\n",
            "{'criterion': 'gini', 'max_depth': 8, 'max_features': 'log2', 'min_samples_leaf': 0.2, 'min_samples_split': 10}-----> F1 = 0.356\n",
            "{'criterion': 'gini', 'max_depth': 8, 'max_features': 'log2', 'min_samples_leaf': 0.2, 'min_samples_split': 20}-----> F1 = 0.328\n",
            "{'criterion': 'gini', 'max_depth': 8, 'max_features': 'log2', 'min_samples_leaf': 0.49, 'min_samples_split': 2}-----> F1 = 0.356\n",
            "{'criterion': 'gini', 'max_depth': 8, 'max_features': 'log2', 'min_samples_leaf': 0.49, 'min_samples_split': 3}-----> F1 = 0.356\n",
            "{'criterion': 'gini', 'max_depth': 8, 'max_features': 'log2', 'min_samples_leaf': 0.49, 'min_samples_split': 5}-----> F1 = 0.356\n",
            "{'criterion': 'gini', 'max_depth': 8, 'max_features': 'log2', 'min_samples_leaf': 0.49, 'min_samples_split': 10}-----> F1 = 0.356\n",
            "{'criterion': 'gini', 'max_depth': 8, 'max_features': 'log2', 'min_samples_leaf': 0.49, 'min_samples_split': 20}-----> F1 = 0.356\n",
            "{'criterion': 'gini', 'max_depth': 9, 'max_features': None, 'min_samples_leaf': 0.2, 'min_samples_split': 2}-----> F1 = 0.38499999999999995\n",
            "{'criterion': 'gini', 'max_depth': 9, 'max_features': None, 'min_samples_leaf': 0.2, 'min_samples_split': 3}-----> F1 = 0.38499999999999995\n",
            "{'criterion': 'gini', 'max_depth': 9, 'max_features': None, 'min_samples_leaf': 0.2, 'min_samples_split': 5}-----> F1 = 0.38499999999999995\n",
            "{'criterion': 'gini', 'max_depth': 9, 'max_features': None, 'min_samples_leaf': 0.2, 'min_samples_split': 10}-----> F1 = 0.38499999999999995\n",
            "{'criterion': 'gini', 'max_depth': 9, 'max_features': None, 'min_samples_leaf': 0.2, 'min_samples_split': 20}-----> F1 = 0.38499999999999995\n",
            "{'criterion': 'gini', 'max_depth': 9, 'max_features': None, 'min_samples_leaf': 0.49, 'min_samples_split': 2}-----> F1 = 0.356\n",
            "{'criterion': 'gini', 'max_depth': 9, 'max_features': None, 'min_samples_leaf': 0.49, 'min_samples_split': 3}-----> F1 = 0.356\n",
            "{'criterion': 'gini', 'max_depth': 9, 'max_features': None, 'min_samples_leaf': 0.49, 'min_samples_split': 5}-----> F1 = 0.356\n",
            "{'criterion': 'gini', 'max_depth': 9, 'max_features': None, 'min_samples_leaf': 0.49, 'min_samples_split': 10}-----> F1 = 0.356\n",
            "{'criterion': 'gini', 'max_depth': 9, 'max_features': None, 'min_samples_leaf': 0.49, 'min_samples_split': 20}-----> F1 = 0.356\n",
            "{'criterion': 'gini', 'max_depth': 9, 'max_features': 'sqrt', 'min_samples_leaf': 0.2, 'min_samples_split': 2}-----> F1 = 0.356\n",
            "{'criterion': 'gini', 'max_depth': 9, 'max_features': 'sqrt', 'min_samples_leaf': 0.2, 'min_samples_split': 3}-----> F1 = 0.356\n",
            "{'criterion': 'gini', 'max_depth': 9, 'max_features': 'sqrt', 'min_samples_leaf': 0.2, 'min_samples_split': 5}-----> F1 = 0.342\n",
            "{'criterion': 'gini', 'max_depth': 9, 'max_features': 'sqrt', 'min_samples_leaf': 0.2, 'min_samples_split': 10}-----> F1 = 0.356\n",
            "{'criterion': 'gini', 'max_depth': 9, 'max_features': 'sqrt', 'min_samples_leaf': 0.2, 'min_samples_split': 20}-----> F1 = 0.356\n",
            "{'criterion': 'gini', 'max_depth': 9, 'max_features': 'sqrt', 'min_samples_leaf': 0.49, 'min_samples_split': 2}-----> F1 = 0.356\n",
            "{'criterion': 'gini', 'max_depth': 9, 'max_features': 'sqrt', 'min_samples_leaf': 0.49, 'min_samples_split': 3}-----> F1 = 0.356\n",
            "{'criterion': 'gini', 'max_depth': 9, 'max_features': 'sqrt', 'min_samples_leaf': 0.49, 'min_samples_split': 5}-----> F1 = 0.356\n",
            "{'criterion': 'gini', 'max_depth': 9, 'max_features': 'sqrt', 'min_samples_leaf': 0.49, 'min_samples_split': 10}-----> F1 = 0.356\n",
            "{'criterion': 'gini', 'max_depth': 9, 'max_features': 'sqrt', 'min_samples_leaf': 0.49, 'min_samples_split': 20}-----> F1 = 0.356\n",
            "{'criterion': 'gini', 'max_depth': 9, 'max_features': 'log2', 'min_samples_leaf': 0.2, 'min_samples_split': 2}-----> F1 = 0.356\n",
            "{'criterion': 'gini', 'max_depth': 9, 'max_features': 'log2', 'min_samples_leaf': 0.2, 'min_samples_split': 3}-----> F1 = 0.356\n",
            "{'criterion': 'gini', 'max_depth': 9, 'max_features': 'log2', 'min_samples_leaf': 0.2, 'min_samples_split': 5}-----> F1 = 0.334\n",
            "{'criterion': 'gini', 'max_depth': 9, 'max_features': 'log2', 'min_samples_leaf': 0.2, 'min_samples_split': 10}-----> F1 = 0.356\n",
            "{'criterion': 'gini', 'max_depth': 9, 'max_features': 'log2', 'min_samples_leaf': 0.2, 'min_samples_split': 20}-----> F1 = 0.356\n",
            "{'criterion': 'gini', 'max_depth': 9, 'max_features': 'log2', 'min_samples_leaf': 0.49, 'min_samples_split': 2}-----> F1 = 0.356\n",
            "{'criterion': 'gini', 'max_depth': 9, 'max_features': 'log2', 'min_samples_leaf': 0.49, 'min_samples_split': 3}-----> F1 = 0.356\n",
            "{'criterion': 'gini', 'max_depth': 9, 'max_features': 'log2', 'min_samples_leaf': 0.49, 'min_samples_split': 5}-----> F1 = 0.356\n",
            "{'criterion': 'gini', 'max_depth': 9, 'max_features': 'log2', 'min_samples_leaf': 0.49, 'min_samples_split': 10}-----> F1 = 0.356\n",
            "{'criterion': 'gini', 'max_depth': 9, 'max_features': 'log2', 'min_samples_leaf': 0.49, 'min_samples_split': 20}-----> F1 = 0.356\n",
            "{'criterion': 'gini', 'max_depth': 10, 'max_features': None, 'min_samples_leaf': 0.2, 'min_samples_split': 2}-----> F1 = 0.38499999999999995\n",
            "{'criterion': 'gini', 'max_depth': 10, 'max_features': None, 'min_samples_leaf': 0.2, 'min_samples_split': 3}-----> F1 = 0.38499999999999995\n",
            "{'criterion': 'gini', 'max_depth': 10, 'max_features': None, 'min_samples_leaf': 0.2, 'min_samples_split': 5}-----> F1 = 0.38499999999999995\n",
            "{'criterion': 'gini', 'max_depth': 10, 'max_features': None, 'min_samples_leaf': 0.2, 'min_samples_split': 10}-----> F1 = 0.38499999999999995\n",
            "{'criterion': 'gini', 'max_depth': 10, 'max_features': None, 'min_samples_leaf': 0.2, 'min_samples_split': 20}-----> F1 = 0.38499999999999995\n",
            "{'criterion': 'gini', 'max_depth': 10, 'max_features': None, 'min_samples_leaf': 0.49, 'min_samples_split': 2}-----> F1 = 0.356\n",
            "{'criterion': 'gini', 'max_depth': 10, 'max_features': None, 'min_samples_leaf': 0.49, 'min_samples_split': 3}-----> F1 = 0.356\n",
            "{'criterion': 'gini', 'max_depth': 10, 'max_features': None, 'min_samples_leaf': 0.49, 'min_samples_split': 5}-----> F1 = 0.356\n",
            "{'criterion': 'gini', 'max_depth': 10, 'max_features': None, 'min_samples_leaf': 0.49, 'min_samples_split': 10}-----> F1 = 0.356\n",
            "{'criterion': 'gini', 'max_depth': 10, 'max_features': None, 'min_samples_leaf': 0.49, 'min_samples_split': 20}-----> F1 = 0.356\n",
            "{'criterion': 'gini', 'max_depth': 10, 'max_features': 'sqrt', 'min_samples_leaf': 0.2, 'min_samples_split': 2}-----> F1 = 0.357\n",
            "{'criterion': 'gini', 'max_depth': 10, 'max_features': 'sqrt', 'min_samples_leaf': 0.2, 'min_samples_split': 3}-----> F1 = 0.356\n",
            "{'criterion': 'gini', 'max_depth': 10, 'max_features': 'sqrt', 'min_samples_leaf': 0.2, 'min_samples_split': 5}-----> F1 = 0.321\n",
            "{'criterion': 'gini', 'max_depth': 10, 'max_features': 'sqrt', 'min_samples_leaf': 0.2, 'min_samples_split': 10}-----> F1 = 0.343\n",
            "{'criterion': 'gini', 'max_depth': 10, 'max_features': 'sqrt', 'min_samples_leaf': 0.2, 'min_samples_split': 20}-----> F1 = 0.356\n",
            "{'criterion': 'gini', 'max_depth': 10, 'max_features': 'sqrt', 'min_samples_leaf': 0.49, 'min_samples_split': 2}-----> F1 = 0.356\n",
            "{'criterion': 'gini', 'max_depth': 10, 'max_features': 'sqrt', 'min_samples_leaf': 0.49, 'min_samples_split': 3}-----> F1 = 0.356\n",
            "{'criterion': 'gini', 'max_depth': 10, 'max_features': 'sqrt', 'min_samples_leaf': 0.49, 'min_samples_split': 5}-----> F1 = 0.356\n",
            "{'criterion': 'gini', 'max_depth': 10, 'max_features': 'sqrt', 'min_samples_leaf': 0.49, 'min_samples_split': 10}-----> F1 = 0.356\n",
            "{'criterion': 'gini', 'max_depth': 10, 'max_features': 'sqrt', 'min_samples_leaf': 0.49, 'min_samples_split': 20}-----> F1 = 0.356\n",
            "{'criterion': 'gini', 'max_depth': 10, 'max_features': 'log2', 'min_samples_leaf': 0.2, 'min_samples_split': 2}-----> F1 = 0.356\n",
            "{'criterion': 'gini', 'max_depth': 10, 'max_features': 'log2', 'min_samples_leaf': 0.2, 'min_samples_split': 3}-----> F1 = 0.356\n",
            "{'criterion': 'gini', 'max_depth': 10, 'max_features': 'log2', 'min_samples_leaf': 0.2, 'min_samples_split': 5}-----> F1 = 0.356\n",
            "{'criterion': 'gini', 'max_depth': 10, 'max_features': 'log2', 'min_samples_leaf': 0.2, 'min_samples_split': 10}-----> F1 = 0.356\n",
            "{'criterion': 'gini', 'max_depth': 10, 'max_features': 'log2', 'min_samples_leaf': 0.2, 'min_samples_split': 20}-----> F1 = 0.356\n",
            "{'criterion': 'gini', 'max_depth': 10, 'max_features': 'log2', 'min_samples_leaf': 0.49, 'min_samples_split': 2}-----> F1 = 0.356\n",
            "{'criterion': 'gini', 'max_depth': 10, 'max_features': 'log2', 'min_samples_leaf': 0.49, 'min_samples_split': 3}-----> F1 = 0.356\n",
            "{'criterion': 'gini', 'max_depth': 10, 'max_features': 'log2', 'min_samples_leaf': 0.49, 'min_samples_split': 5}-----> F1 = 0.356\n",
            "{'criterion': 'gini', 'max_depth': 10, 'max_features': 'log2', 'min_samples_leaf': 0.49, 'min_samples_split': 10}-----> F1 = 0.356\n",
            "{'criterion': 'gini', 'max_depth': 10, 'max_features': 'log2', 'min_samples_leaf': 0.49, 'min_samples_split': 20}-----> F1 = 0.356\n",
            "{'criterion': 'gini', 'max_depth': 15, 'max_features': None, 'min_samples_leaf': 0.2, 'min_samples_split': 2}-----> F1 = 0.38499999999999995\n",
            "{'criterion': 'gini', 'max_depth': 15, 'max_features': None, 'min_samples_leaf': 0.2, 'min_samples_split': 3}-----> F1 = 0.38499999999999995\n",
            "{'criterion': 'gini', 'max_depth': 15, 'max_features': None, 'min_samples_leaf': 0.2, 'min_samples_split': 5}-----> F1 = 0.38499999999999995\n",
            "{'criterion': 'gini', 'max_depth': 15, 'max_features': None, 'min_samples_leaf': 0.2, 'min_samples_split': 10}-----> F1 = 0.38499999999999995\n",
            "{'criterion': 'gini', 'max_depth': 15, 'max_features': None, 'min_samples_leaf': 0.2, 'min_samples_split': 20}-----> F1 = 0.38499999999999995\n",
            "{'criterion': 'gini', 'max_depth': 15, 'max_features': None, 'min_samples_leaf': 0.49, 'min_samples_split': 2}-----> F1 = 0.356\n",
            "{'criterion': 'gini', 'max_depth': 15, 'max_features': None, 'min_samples_leaf': 0.49, 'min_samples_split': 3}-----> F1 = 0.356\n",
            "{'criterion': 'gini', 'max_depth': 15, 'max_features': None, 'min_samples_leaf': 0.49, 'min_samples_split': 5}-----> F1 = 0.356\n",
            "{'criterion': 'gini', 'max_depth': 15, 'max_features': None, 'min_samples_leaf': 0.49, 'min_samples_split': 10}-----> F1 = 0.356\n",
            "{'criterion': 'gini', 'max_depth': 15, 'max_features': None, 'min_samples_leaf': 0.49, 'min_samples_split': 20}-----> F1 = 0.356\n",
            "{'criterion': 'gini', 'max_depth': 15, 'max_features': 'sqrt', 'min_samples_leaf': 0.2, 'min_samples_split': 2}-----> F1 = 0.338\n",
            "{'criterion': 'gini', 'max_depth': 15, 'max_features': 'sqrt', 'min_samples_leaf': 0.2, 'min_samples_split': 3}-----> F1 = 0.356\n",
            "{'criterion': 'gini', 'max_depth': 15, 'max_features': 'sqrt', 'min_samples_leaf': 0.2, 'min_samples_split': 5}-----> F1 = 0.356\n",
            "{'criterion': 'gini', 'max_depth': 15, 'max_features': 'sqrt', 'min_samples_leaf': 0.2, 'min_samples_split': 10}-----> F1 = 0.356\n",
            "{'criterion': 'gini', 'max_depth': 15, 'max_features': 'sqrt', 'min_samples_leaf': 0.2, 'min_samples_split': 20}-----> F1 = 0.356\n",
            "{'criterion': 'gini', 'max_depth': 15, 'max_features': 'sqrt', 'min_samples_leaf': 0.49, 'min_samples_split': 2}-----> F1 = 0.356\n",
            "{'criterion': 'gini', 'max_depth': 15, 'max_features': 'sqrt', 'min_samples_leaf': 0.49, 'min_samples_split': 3}-----> F1 = 0.356\n",
            "{'criterion': 'gini', 'max_depth': 15, 'max_features': 'sqrt', 'min_samples_leaf': 0.49, 'min_samples_split': 5}-----> F1 = 0.356\n",
            "{'criterion': 'gini', 'max_depth': 15, 'max_features': 'sqrt', 'min_samples_leaf': 0.49, 'min_samples_split': 10}-----> F1 = 0.356\n",
            "{'criterion': 'gini', 'max_depth': 15, 'max_features': 'sqrt', 'min_samples_leaf': 0.49, 'min_samples_split': 20}-----> F1 = 0.356\n",
            "{'criterion': 'gini', 'max_depth': 15, 'max_features': 'log2', 'min_samples_leaf': 0.2, 'min_samples_split': 2}-----> F1 = 0.356\n",
            "{'criterion': 'gini', 'max_depth': 15, 'max_features': 'log2', 'min_samples_leaf': 0.2, 'min_samples_split': 3}-----> F1 = 0.356\n",
            "{'criterion': 'gini', 'max_depth': 15, 'max_features': 'log2', 'min_samples_leaf': 0.2, 'min_samples_split': 5}-----> F1 = 0.356\n",
            "{'criterion': 'gini', 'max_depth': 15, 'max_features': 'log2', 'min_samples_leaf': 0.2, 'min_samples_split': 10}-----> F1 = 0.356\n",
            "{'criterion': 'gini', 'max_depth': 15, 'max_features': 'log2', 'min_samples_leaf': 0.2, 'min_samples_split': 20}-----> F1 = 0.356\n",
            "{'criterion': 'gini', 'max_depth': 15, 'max_features': 'log2', 'min_samples_leaf': 0.49, 'min_samples_split': 2}-----> F1 = 0.356\n",
            "{'criterion': 'gini', 'max_depth': 15, 'max_features': 'log2', 'min_samples_leaf': 0.49, 'min_samples_split': 3}-----> F1 = 0.356\n",
            "{'criterion': 'gini', 'max_depth': 15, 'max_features': 'log2', 'min_samples_leaf': 0.49, 'min_samples_split': 5}-----> F1 = 0.356\n",
            "{'criterion': 'gini', 'max_depth': 15, 'max_features': 'log2', 'min_samples_leaf': 0.49, 'min_samples_split': 10}-----> F1 = 0.356\n",
            "{'criterion': 'gini', 'max_depth': 15, 'max_features': 'log2', 'min_samples_leaf': 0.49, 'min_samples_split': 20}-----> F1 = 0.356\n",
            "{'criterion': 'gini', 'max_depth': 20, 'max_features': None, 'min_samples_leaf': 0.2, 'min_samples_split': 2}-----> F1 = 0.38499999999999995\n",
            "{'criterion': 'gini', 'max_depth': 20, 'max_features': None, 'min_samples_leaf': 0.2, 'min_samples_split': 3}-----> F1 = 0.38499999999999995\n",
            "{'criterion': 'gini', 'max_depth': 20, 'max_features': None, 'min_samples_leaf': 0.2, 'min_samples_split': 5}-----> F1 = 0.38499999999999995\n",
            "{'criterion': 'gini', 'max_depth': 20, 'max_features': None, 'min_samples_leaf': 0.2, 'min_samples_split': 10}-----> F1 = 0.38499999999999995\n",
            "{'criterion': 'gini', 'max_depth': 20, 'max_features': None, 'min_samples_leaf': 0.2, 'min_samples_split': 20}-----> F1 = 0.38499999999999995\n",
            "{'criterion': 'gini', 'max_depth': 20, 'max_features': None, 'min_samples_leaf': 0.49, 'min_samples_split': 2}-----> F1 = 0.356\n",
            "{'criterion': 'gini', 'max_depth': 20, 'max_features': None, 'min_samples_leaf': 0.49, 'min_samples_split': 3}-----> F1 = 0.356\n",
            "{'criterion': 'gini', 'max_depth': 20, 'max_features': None, 'min_samples_leaf': 0.49, 'min_samples_split': 5}-----> F1 = 0.356\n",
            "{'criterion': 'gini', 'max_depth': 20, 'max_features': None, 'min_samples_leaf': 0.49, 'min_samples_split': 10}-----> F1 = 0.356\n",
            "{'criterion': 'gini', 'max_depth': 20, 'max_features': None, 'min_samples_leaf': 0.49, 'min_samples_split': 20}-----> F1 = 0.356\n",
            "{'criterion': 'gini', 'max_depth': 20, 'max_features': 'sqrt', 'min_samples_leaf': 0.2, 'min_samples_split': 2}-----> F1 = 0.356\n",
            "{'criterion': 'gini', 'max_depth': 20, 'max_features': 'sqrt', 'min_samples_leaf': 0.2, 'min_samples_split': 3}-----> F1 = 0.325\n",
            "{'criterion': 'gini', 'max_depth': 20, 'max_features': 'sqrt', 'min_samples_leaf': 0.2, 'min_samples_split': 5}-----> F1 = 0.302\n",
            "{'criterion': 'gini', 'max_depth': 20, 'max_features': 'sqrt', 'min_samples_leaf': 0.2, 'min_samples_split': 10}-----> F1 = 0.336\n",
            "{'criterion': 'gini', 'max_depth': 20, 'max_features': 'sqrt', 'min_samples_leaf': 0.2, 'min_samples_split': 20}-----> F1 = 0.337\n",
            "{'criterion': 'gini', 'max_depth': 20, 'max_features': 'sqrt', 'min_samples_leaf': 0.49, 'min_samples_split': 2}-----> F1 = 0.356\n",
            "{'criterion': 'gini', 'max_depth': 20, 'max_features': 'sqrt', 'min_samples_leaf': 0.49, 'min_samples_split': 3}-----> F1 = 0.356\n",
            "{'criterion': 'gini', 'max_depth': 20, 'max_features': 'sqrt', 'min_samples_leaf': 0.49, 'min_samples_split': 5}-----> F1 = 0.356\n",
            "{'criterion': 'gini', 'max_depth': 20, 'max_features': 'sqrt', 'min_samples_leaf': 0.49, 'min_samples_split': 10}-----> F1 = 0.356\n",
            "{'criterion': 'gini', 'max_depth': 20, 'max_features': 'sqrt', 'min_samples_leaf': 0.49, 'min_samples_split': 20}-----> F1 = 0.356\n",
            "{'criterion': 'gini', 'max_depth': 20, 'max_features': 'log2', 'min_samples_leaf': 0.2, 'min_samples_split': 2}-----> F1 = 0.356\n",
            "{'criterion': 'gini', 'max_depth': 20, 'max_features': 'log2', 'min_samples_leaf': 0.2, 'min_samples_split': 3}-----> F1 = 0.356\n",
            "{'criterion': 'gini', 'max_depth': 20, 'max_features': 'log2', 'min_samples_leaf': 0.2, 'min_samples_split': 5}-----> F1 = 0.356\n",
            "{'criterion': 'gini', 'max_depth': 20, 'max_features': 'log2', 'min_samples_leaf': 0.2, 'min_samples_split': 10}-----> F1 = 0.356\n",
            "{'criterion': 'gini', 'max_depth': 20, 'max_features': 'log2', 'min_samples_leaf': 0.2, 'min_samples_split': 20}-----> F1 = 0.356\n",
            "{'criterion': 'gini', 'max_depth': 20, 'max_features': 'log2', 'min_samples_leaf': 0.49, 'min_samples_split': 2}-----> F1 = 0.356\n",
            "{'criterion': 'gini', 'max_depth': 20, 'max_features': 'log2', 'min_samples_leaf': 0.49, 'min_samples_split': 3}-----> F1 = 0.356\n",
            "{'criterion': 'gini', 'max_depth': 20, 'max_features': 'log2', 'min_samples_leaf': 0.49, 'min_samples_split': 5}-----> F1 = 0.356\n",
            "{'criterion': 'gini', 'max_depth': 20, 'max_features': 'log2', 'min_samples_leaf': 0.49, 'min_samples_split': 10}-----> F1 = 0.356\n",
            "{'criterion': 'gini', 'max_depth': 20, 'max_features': 'log2', 'min_samples_leaf': 0.49, 'min_samples_split': 20}-----> F1 = 0.356\n",
            "{'criterion': 'gini', 'max_depth': 30, 'max_features': None, 'min_samples_leaf': 0.2, 'min_samples_split': 2}-----> F1 = 0.38499999999999995\n",
            "{'criterion': 'gini', 'max_depth': 30, 'max_features': None, 'min_samples_leaf': 0.2, 'min_samples_split': 3}-----> F1 = 0.38499999999999995\n",
            "{'criterion': 'gini', 'max_depth': 30, 'max_features': None, 'min_samples_leaf': 0.2, 'min_samples_split': 5}-----> F1 = 0.38499999999999995\n",
            "{'criterion': 'gini', 'max_depth': 30, 'max_features': None, 'min_samples_leaf': 0.2, 'min_samples_split': 10}-----> F1 = 0.38499999999999995\n",
            "{'criterion': 'gini', 'max_depth': 30, 'max_features': None, 'min_samples_leaf': 0.2, 'min_samples_split': 20}-----> F1 = 0.38499999999999995\n",
            "{'criterion': 'gini', 'max_depth': 30, 'max_features': None, 'min_samples_leaf': 0.49, 'min_samples_split': 2}-----> F1 = 0.356\n",
            "{'criterion': 'gini', 'max_depth': 30, 'max_features': None, 'min_samples_leaf': 0.49, 'min_samples_split': 3}-----> F1 = 0.356\n",
            "{'criterion': 'gini', 'max_depth': 30, 'max_features': None, 'min_samples_leaf': 0.49, 'min_samples_split': 5}-----> F1 = 0.356\n",
            "{'criterion': 'gini', 'max_depth': 30, 'max_features': None, 'min_samples_leaf': 0.49, 'min_samples_split': 10}-----> F1 = 0.356\n",
            "{'criterion': 'gini', 'max_depth': 30, 'max_features': None, 'min_samples_leaf': 0.49, 'min_samples_split': 20}-----> F1 = 0.356\n",
            "{'criterion': 'gini', 'max_depth': 30, 'max_features': 'sqrt', 'min_samples_leaf': 0.2, 'min_samples_split': 2}-----> F1 = 0.356\n",
            "{'criterion': 'gini', 'max_depth': 30, 'max_features': 'sqrt', 'min_samples_leaf': 0.2, 'min_samples_split': 3}-----> F1 = 0.356\n",
            "{'criterion': 'gini', 'max_depth': 30, 'max_features': 'sqrt', 'min_samples_leaf': 0.2, 'min_samples_split': 5}-----> F1 = 0.356\n",
            "{'criterion': 'gini', 'max_depth': 30, 'max_features': 'sqrt', 'min_samples_leaf': 0.2, 'min_samples_split': 10}-----> F1 = 0.338\n",
            "{'criterion': 'gini', 'max_depth': 30, 'max_features': 'sqrt', 'min_samples_leaf': 0.2, 'min_samples_split': 20}-----> F1 = 0.384\n",
            "{'criterion': 'gini', 'max_depth': 30, 'max_features': 'sqrt', 'min_samples_leaf': 0.49, 'min_samples_split': 2}-----> F1 = 0.356\n",
            "{'criterion': 'gini', 'max_depth': 30, 'max_features': 'sqrt', 'min_samples_leaf': 0.49, 'min_samples_split': 3}-----> F1 = 0.356\n",
            "{'criterion': 'gini', 'max_depth': 30, 'max_features': 'sqrt', 'min_samples_leaf': 0.49, 'min_samples_split': 5}-----> F1 = 0.356\n",
            "{'criterion': 'gini', 'max_depth': 30, 'max_features': 'sqrt', 'min_samples_leaf': 0.49, 'min_samples_split': 10}-----> F1 = 0.356\n",
            "{'criterion': 'gini', 'max_depth': 30, 'max_features': 'sqrt', 'min_samples_leaf': 0.49, 'min_samples_split': 20}-----> F1 = 0.356\n",
            "{'criterion': 'gini', 'max_depth': 30, 'max_features': 'log2', 'min_samples_leaf': 0.2, 'min_samples_split': 2}-----> F1 = 0.356\n",
            "{'criterion': 'gini', 'max_depth': 30, 'max_features': 'log2', 'min_samples_leaf': 0.2, 'min_samples_split': 3}-----> F1 = 0.356\n",
            "{'criterion': 'gini', 'max_depth': 30, 'max_features': 'log2', 'min_samples_leaf': 0.2, 'min_samples_split': 5}-----> F1 = 0.356\n",
            "{'criterion': 'gini', 'max_depth': 30, 'max_features': 'log2', 'min_samples_leaf': 0.2, 'min_samples_split': 10}-----> F1 = 0.356\n",
            "{'criterion': 'gini', 'max_depth': 30, 'max_features': 'log2', 'min_samples_leaf': 0.2, 'min_samples_split': 20}-----> F1 = 0.356\n",
            "{'criterion': 'gini', 'max_depth': 30, 'max_features': 'log2', 'min_samples_leaf': 0.49, 'min_samples_split': 2}-----> F1 = 0.356\n",
            "{'criterion': 'gini', 'max_depth': 30, 'max_features': 'log2', 'min_samples_leaf': 0.49, 'min_samples_split': 3}-----> F1 = 0.356\n",
            "{'criterion': 'gini', 'max_depth': 30, 'max_features': 'log2', 'min_samples_leaf': 0.49, 'min_samples_split': 5}-----> F1 = 0.356\n",
            "{'criterion': 'gini', 'max_depth': 30, 'max_features': 'log2', 'min_samples_leaf': 0.49, 'min_samples_split': 10}-----> F1 = 0.356\n",
            "{'criterion': 'gini', 'max_depth': 30, 'max_features': 'log2', 'min_samples_leaf': 0.49, 'min_samples_split': 20}-----> F1 = 0.356\n",
            "{'criterion': 'gini', 'max_depth': 50, 'max_features': None, 'min_samples_leaf': 0.2, 'min_samples_split': 2}-----> F1 = 0.38499999999999995\n",
            "{'criterion': 'gini', 'max_depth': 50, 'max_features': None, 'min_samples_leaf': 0.2, 'min_samples_split': 3}-----> F1 = 0.38499999999999995\n",
            "{'criterion': 'gini', 'max_depth': 50, 'max_features': None, 'min_samples_leaf': 0.2, 'min_samples_split': 5}-----> F1 = 0.38499999999999995\n",
            "{'criterion': 'gini', 'max_depth': 50, 'max_features': None, 'min_samples_leaf': 0.2, 'min_samples_split': 10}-----> F1 = 0.38499999999999995\n",
            "{'criterion': 'gini', 'max_depth': 50, 'max_features': None, 'min_samples_leaf': 0.2, 'min_samples_split': 20}-----> F1 = 0.38499999999999995\n",
            "{'criterion': 'gini', 'max_depth': 50, 'max_features': None, 'min_samples_leaf': 0.49, 'min_samples_split': 2}-----> F1 = 0.356\n",
            "{'criterion': 'gini', 'max_depth': 50, 'max_features': None, 'min_samples_leaf': 0.49, 'min_samples_split': 3}-----> F1 = 0.356\n",
            "{'criterion': 'gini', 'max_depth': 50, 'max_features': None, 'min_samples_leaf': 0.49, 'min_samples_split': 5}-----> F1 = 0.356\n",
            "{'criterion': 'gini', 'max_depth': 50, 'max_features': None, 'min_samples_leaf': 0.49, 'min_samples_split': 10}-----> F1 = 0.356\n",
            "{'criterion': 'gini', 'max_depth': 50, 'max_features': None, 'min_samples_leaf': 0.49, 'min_samples_split': 20}-----> F1 = 0.356\n",
            "{'criterion': 'gini', 'max_depth': 50, 'max_features': 'sqrt', 'min_samples_leaf': 0.2, 'min_samples_split': 2}-----> F1 = 0.338\n",
            "{'criterion': 'gini', 'max_depth': 50, 'max_features': 'sqrt', 'min_samples_leaf': 0.2, 'min_samples_split': 3}-----> F1 = 0.356\n",
            "{'criterion': 'gini', 'max_depth': 50, 'max_features': 'sqrt', 'min_samples_leaf': 0.2, 'min_samples_split': 5}-----> F1 = 0.356\n",
            "{'criterion': 'gini', 'max_depth': 50, 'max_features': 'sqrt', 'min_samples_leaf': 0.2, 'min_samples_split': 10}-----> F1 = 0.319\n",
            "{'criterion': 'gini', 'max_depth': 50, 'max_features': 'sqrt', 'min_samples_leaf': 0.2, 'min_samples_split': 20}-----> F1 = 0.321\n",
            "{'criterion': 'gini', 'max_depth': 50, 'max_features': 'sqrt', 'min_samples_leaf': 0.49, 'min_samples_split': 2}-----> F1 = 0.356\n",
            "{'criterion': 'gini', 'max_depth': 50, 'max_features': 'sqrt', 'min_samples_leaf': 0.49, 'min_samples_split': 3}-----> F1 = 0.356\n",
            "{'criterion': 'gini', 'max_depth': 50, 'max_features': 'sqrt', 'min_samples_leaf': 0.49, 'min_samples_split': 5}-----> F1 = 0.356\n",
            "{'criterion': 'gini', 'max_depth': 50, 'max_features': 'sqrt', 'min_samples_leaf': 0.49, 'min_samples_split': 10}-----> F1 = 0.356\n",
            "{'criterion': 'gini', 'max_depth': 50, 'max_features': 'sqrt', 'min_samples_leaf': 0.49, 'min_samples_split': 20}-----> F1 = 0.356\n",
            "{'criterion': 'gini', 'max_depth': 50, 'max_features': 'log2', 'min_samples_leaf': 0.2, 'min_samples_split': 2}-----> F1 = 0.356\n",
            "{'criterion': 'gini', 'max_depth': 50, 'max_features': 'log2', 'min_samples_leaf': 0.2, 'min_samples_split': 3}-----> F1 = 0.356\n",
            "{'criterion': 'gini', 'max_depth': 50, 'max_features': 'log2', 'min_samples_leaf': 0.2, 'min_samples_split': 5}-----> F1 = 0.356\n",
            "{'criterion': 'gini', 'max_depth': 50, 'max_features': 'log2', 'min_samples_leaf': 0.2, 'min_samples_split': 10}-----> F1 = 0.356\n",
            "{'criterion': 'gini', 'max_depth': 50, 'max_features': 'log2', 'min_samples_leaf': 0.2, 'min_samples_split': 20}-----> F1 = 0.356\n",
            "{'criterion': 'gini', 'max_depth': 50, 'max_features': 'log2', 'min_samples_leaf': 0.49, 'min_samples_split': 2}-----> F1 = 0.356\n",
            "{'criterion': 'gini', 'max_depth': 50, 'max_features': 'log2', 'min_samples_leaf': 0.49, 'min_samples_split': 3}-----> F1 = 0.356\n",
            "{'criterion': 'gini', 'max_depth': 50, 'max_features': 'log2', 'min_samples_leaf': 0.49, 'min_samples_split': 5}-----> F1 = 0.356\n",
            "{'criterion': 'gini', 'max_depth': 50, 'max_features': 'log2', 'min_samples_leaf': 0.49, 'min_samples_split': 10}-----> F1 = 0.356\n",
            "{'criterion': 'gini', 'max_depth': 50, 'max_features': 'log2', 'min_samples_leaf': 0.49, 'min_samples_split': 20}-----> F1 = 0.356\n",
            "{'criterion': 'gini', 'max_depth': 100, 'max_features': None, 'min_samples_leaf': 0.2, 'min_samples_split': 2}-----> F1 = 0.38499999999999995\n",
            "{'criterion': 'gini', 'max_depth': 100, 'max_features': None, 'min_samples_leaf': 0.2, 'min_samples_split': 3}-----> F1 = 0.38499999999999995\n",
            "{'criterion': 'gini', 'max_depth': 100, 'max_features': None, 'min_samples_leaf': 0.2, 'min_samples_split': 5}-----> F1 = 0.38499999999999995\n",
            "{'criterion': 'gini', 'max_depth': 100, 'max_features': None, 'min_samples_leaf': 0.2, 'min_samples_split': 10}-----> F1 = 0.38499999999999995\n",
            "{'criterion': 'gini', 'max_depth': 100, 'max_features': None, 'min_samples_leaf': 0.2, 'min_samples_split': 20}-----> F1 = 0.38499999999999995\n",
            "{'criterion': 'gini', 'max_depth': 100, 'max_features': None, 'min_samples_leaf': 0.49, 'min_samples_split': 2}-----> F1 = 0.356\n",
            "{'criterion': 'gini', 'max_depth': 100, 'max_features': None, 'min_samples_leaf': 0.49, 'min_samples_split': 3}-----> F1 = 0.356\n",
            "{'criterion': 'gini', 'max_depth': 100, 'max_features': None, 'min_samples_leaf': 0.49, 'min_samples_split': 5}-----> F1 = 0.356\n",
            "{'criterion': 'gini', 'max_depth': 100, 'max_features': None, 'min_samples_leaf': 0.49, 'min_samples_split': 10}-----> F1 = 0.356\n",
            "{'criterion': 'gini', 'max_depth': 100, 'max_features': None, 'min_samples_leaf': 0.49, 'min_samples_split': 20}-----> F1 = 0.356\n",
            "{'criterion': 'gini', 'max_depth': 100, 'max_features': 'sqrt', 'min_samples_leaf': 0.2, 'min_samples_split': 2}-----> F1 = 0.356\n",
            "{'criterion': 'gini', 'max_depth': 100, 'max_features': 'sqrt', 'min_samples_leaf': 0.2, 'min_samples_split': 3}-----> F1 = 0.356\n",
            "{'criterion': 'gini', 'max_depth': 100, 'max_features': 'sqrt', 'min_samples_leaf': 0.2, 'min_samples_split': 5}-----> F1 = 0.3\n",
            "{'criterion': 'gini', 'max_depth': 100, 'max_features': 'sqrt', 'min_samples_leaf': 0.2, 'min_samples_split': 10}-----> F1 = 0.356\n",
            "{'criterion': 'gini', 'max_depth': 100, 'max_features': 'sqrt', 'min_samples_leaf': 0.2, 'min_samples_split': 20}-----> F1 = 0.356\n",
            "{'criterion': 'gini', 'max_depth': 100, 'max_features': 'sqrt', 'min_samples_leaf': 0.49, 'min_samples_split': 2}-----> F1 = 0.356\n",
            "{'criterion': 'gini', 'max_depth': 100, 'max_features': 'sqrt', 'min_samples_leaf': 0.49, 'min_samples_split': 3}-----> F1 = 0.356\n",
            "{'criterion': 'gini', 'max_depth': 100, 'max_features': 'sqrt', 'min_samples_leaf': 0.49, 'min_samples_split': 5}-----> F1 = 0.356\n",
            "{'criterion': 'gini', 'max_depth': 100, 'max_features': 'sqrt', 'min_samples_leaf': 0.49, 'min_samples_split': 10}-----> F1 = 0.356\n",
            "{'criterion': 'gini', 'max_depth': 100, 'max_features': 'sqrt', 'min_samples_leaf': 0.49, 'min_samples_split': 20}-----> F1 = 0.356\n",
            "{'criterion': 'gini', 'max_depth': 100, 'max_features': 'log2', 'min_samples_leaf': 0.2, 'min_samples_split': 2}-----> F1 = 0.356\n",
            "{'criterion': 'gini', 'max_depth': 100, 'max_features': 'log2', 'min_samples_leaf': 0.2, 'min_samples_split': 3}-----> F1 = 0.356\n",
            "{'criterion': 'gini', 'max_depth': 100, 'max_features': 'log2', 'min_samples_leaf': 0.2, 'min_samples_split': 5}-----> F1 = 0.356\n",
            "{'criterion': 'gini', 'max_depth': 100, 'max_features': 'log2', 'min_samples_leaf': 0.2, 'min_samples_split': 10}-----> F1 = 0.356\n",
            "{'criterion': 'gini', 'max_depth': 100, 'max_features': 'log2', 'min_samples_leaf': 0.2, 'min_samples_split': 20}-----> F1 = 0.356\n",
            "{'criterion': 'gini', 'max_depth': 100, 'max_features': 'log2', 'min_samples_leaf': 0.49, 'min_samples_split': 2}-----> F1 = 0.356\n",
            "{'criterion': 'gini', 'max_depth': 100, 'max_features': 'log2', 'min_samples_leaf': 0.49, 'min_samples_split': 3}-----> F1 = 0.356\n",
            "{'criterion': 'gini', 'max_depth': 100, 'max_features': 'log2', 'min_samples_leaf': 0.49, 'min_samples_split': 5}-----> F1 = 0.356\n",
            "{'criterion': 'gini', 'max_depth': 100, 'max_features': 'log2', 'min_samples_leaf': 0.49, 'min_samples_split': 10}-----> F1 = 0.356\n",
            "{'criterion': 'gini', 'max_depth': 100, 'max_features': 'log2', 'min_samples_leaf': 0.49, 'min_samples_split': 20}-----> F1 = 0.356\n",
            "{'criterion': 'entropy', 'max_depth': 8, 'max_features': None, 'min_samples_leaf': 0.2, 'min_samples_split': 2}-----> F1 = 0.363\n",
            "{'criterion': 'entropy', 'max_depth': 8, 'max_features': None, 'min_samples_leaf': 0.2, 'min_samples_split': 3}-----> F1 = 0.363\n",
            "{'criterion': 'entropy', 'max_depth': 8, 'max_features': None, 'min_samples_leaf': 0.2, 'min_samples_split': 5}-----> F1 = 0.363\n",
            "{'criterion': 'entropy', 'max_depth': 8, 'max_features': None, 'min_samples_leaf': 0.2, 'min_samples_split': 10}-----> F1 = 0.363\n",
            "{'criterion': 'entropy', 'max_depth': 8, 'max_features': None, 'min_samples_leaf': 0.2, 'min_samples_split': 20}-----> F1 = 0.363\n",
            "{'criterion': 'entropy', 'max_depth': 8, 'max_features': None, 'min_samples_leaf': 0.49, 'min_samples_split': 2}-----> F1 = 0.356\n",
            "{'criterion': 'entropy', 'max_depth': 8, 'max_features': None, 'min_samples_leaf': 0.49, 'min_samples_split': 3}-----> F1 = 0.356\n",
            "{'criterion': 'entropy', 'max_depth': 8, 'max_features': None, 'min_samples_leaf': 0.49, 'min_samples_split': 5}-----> F1 = 0.356\n",
            "{'criterion': 'entropy', 'max_depth': 8, 'max_features': None, 'min_samples_leaf': 0.49, 'min_samples_split': 10}-----> F1 = 0.356\n",
            "{'criterion': 'entropy', 'max_depth': 8, 'max_features': None, 'min_samples_leaf': 0.49, 'min_samples_split': 20}-----> F1 = 0.356\n",
            "{'criterion': 'entropy', 'max_depth': 8, 'max_features': 'sqrt', 'min_samples_leaf': 0.2, 'min_samples_split': 2}-----> F1 = 0.317\n",
            "{'criterion': 'entropy', 'max_depth': 8, 'max_features': 'sqrt', 'min_samples_leaf': 0.2, 'min_samples_split': 3}-----> F1 = 0.37899999999999995\n",
            "{'criterion': 'entropy', 'max_depth': 8, 'max_features': 'sqrt', 'min_samples_leaf': 0.2, 'min_samples_split': 5}-----> F1 = 0.356\n",
            "{'criterion': 'entropy', 'max_depth': 8, 'max_features': 'sqrt', 'min_samples_leaf': 0.2, 'min_samples_split': 10}-----> F1 = 0.356\n",
            "{'criterion': 'entropy', 'max_depth': 8, 'max_features': 'sqrt', 'min_samples_leaf': 0.2, 'min_samples_split': 20}-----> F1 = 0.356\n",
            "{'criterion': 'entropy', 'max_depth': 8, 'max_features': 'sqrt', 'min_samples_leaf': 0.49, 'min_samples_split': 2}-----> F1 = 0.356\n",
            "{'criterion': 'entropy', 'max_depth': 8, 'max_features': 'sqrt', 'min_samples_leaf': 0.49, 'min_samples_split': 3}-----> F1 = 0.356\n",
            "{'criterion': 'entropy', 'max_depth': 8, 'max_features': 'sqrt', 'min_samples_leaf': 0.49, 'min_samples_split': 5}-----> F1 = 0.356\n",
            "{'criterion': 'entropy', 'max_depth': 8, 'max_features': 'sqrt', 'min_samples_leaf': 0.49, 'min_samples_split': 10}-----> F1 = 0.356\n",
            "{'criterion': 'entropy', 'max_depth': 8, 'max_features': 'sqrt', 'min_samples_leaf': 0.49, 'min_samples_split': 20}-----> F1 = 0.356\n",
            "{'criterion': 'entropy', 'max_depth': 8, 'max_features': 'log2', 'min_samples_leaf': 0.2, 'min_samples_split': 2}-----> F1 = 0.356\n",
            "{'criterion': 'entropy', 'max_depth': 8, 'max_features': 'log2', 'min_samples_leaf': 0.2, 'min_samples_split': 3}-----> F1 = 0.356\n",
            "{'criterion': 'entropy', 'max_depth': 8, 'max_features': 'log2', 'min_samples_leaf': 0.2, 'min_samples_split': 5}-----> F1 = 0.356\n",
            "{'criterion': 'entropy', 'max_depth': 8, 'max_features': 'log2', 'min_samples_leaf': 0.2, 'min_samples_split': 10}-----> F1 = 0.356\n",
            "{'criterion': 'entropy', 'max_depth': 8, 'max_features': 'log2', 'min_samples_leaf': 0.2, 'min_samples_split': 20}-----> F1 = 0.356\n",
            "{'criterion': 'entropy', 'max_depth': 8, 'max_features': 'log2', 'min_samples_leaf': 0.49, 'min_samples_split': 2}-----> F1 = 0.356\n",
            "{'criterion': 'entropy', 'max_depth': 8, 'max_features': 'log2', 'min_samples_leaf': 0.49, 'min_samples_split': 3}-----> F1 = 0.356\n",
            "{'criterion': 'entropy', 'max_depth': 8, 'max_features': 'log2', 'min_samples_leaf': 0.49, 'min_samples_split': 5}-----> F1 = 0.356\n",
            "{'criterion': 'entropy', 'max_depth': 8, 'max_features': 'log2', 'min_samples_leaf': 0.49, 'min_samples_split': 10}-----> F1 = 0.356\n",
            "{'criterion': 'entropy', 'max_depth': 8, 'max_features': 'log2', 'min_samples_leaf': 0.49, 'min_samples_split': 20}-----> F1 = 0.356\n",
            "{'criterion': 'entropy', 'max_depth': 9, 'max_features': None, 'min_samples_leaf': 0.2, 'min_samples_split': 2}-----> F1 = 0.363\n",
            "{'criterion': 'entropy', 'max_depth': 9, 'max_features': None, 'min_samples_leaf': 0.2, 'min_samples_split': 3}-----> F1 = 0.363\n",
            "{'criterion': 'entropy', 'max_depth': 9, 'max_features': None, 'min_samples_leaf': 0.2, 'min_samples_split': 5}-----> F1 = 0.363\n",
            "{'criterion': 'entropy', 'max_depth': 9, 'max_features': None, 'min_samples_leaf': 0.2, 'min_samples_split': 10}-----> F1 = 0.363\n",
            "{'criterion': 'entropy', 'max_depth': 9, 'max_features': None, 'min_samples_leaf': 0.2, 'min_samples_split': 20}-----> F1 = 0.363\n",
            "{'criterion': 'entropy', 'max_depth': 9, 'max_features': None, 'min_samples_leaf': 0.49, 'min_samples_split': 2}-----> F1 = 0.356\n",
            "{'criterion': 'entropy', 'max_depth': 9, 'max_features': None, 'min_samples_leaf': 0.49, 'min_samples_split': 3}-----> F1 = 0.356\n",
            "{'criterion': 'entropy', 'max_depth': 9, 'max_features': None, 'min_samples_leaf': 0.49, 'min_samples_split': 5}-----> F1 = 0.356\n",
            "{'criterion': 'entropy', 'max_depth': 9, 'max_features': None, 'min_samples_leaf': 0.49, 'min_samples_split': 10}-----> F1 = 0.356\n",
            "{'criterion': 'entropy', 'max_depth': 9, 'max_features': None, 'min_samples_leaf': 0.49, 'min_samples_split': 20}-----> F1 = 0.356\n",
            "{'criterion': 'entropy', 'max_depth': 9, 'max_features': 'sqrt', 'min_samples_leaf': 0.2, 'min_samples_split': 2}-----> F1 = 0.338\n",
            "{'criterion': 'entropy', 'max_depth': 9, 'max_features': 'sqrt', 'min_samples_leaf': 0.2, 'min_samples_split': 3}-----> F1 = 0.356\n",
            "{'criterion': 'entropy', 'max_depth': 9, 'max_features': 'sqrt', 'min_samples_leaf': 0.2, 'min_samples_split': 5}-----> F1 = 0.356\n",
            "{'criterion': 'entropy', 'max_depth': 9, 'max_features': 'sqrt', 'min_samples_leaf': 0.2, 'min_samples_split': 10}-----> F1 = 0.356\n",
            "{'criterion': 'entropy', 'max_depth': 9, 'max_features': 'sqrt', 'min_samples_leaf': 0.2, 'min_samples_split': 20}-----> F1 = 0.356\n",
            "{'criterion': 'entropy', 'max_depth': 9, 'max_features': 'sqrt', 'min_samples_leaf': 0.49, 'min_samples_split': 2}-----> F1 = 0.356\n",
            "{'criterion': 'entropy', 'max_depth': 9, 'max_features': 'sqrt', 'min_samples_leaf': 0.49, 'min_samples_split': 3}-----> F1 = 0.356\n",
            "{'criterion': 'entropy', 'max_depth': 9, 'max_features': 'sqrt', 'min_samples_leaf': 0.49, 'min_samples_split': 5}-----> F1 = 0.356\n",
            "{'criterion': 'entropy', 'max_depth': 9, 'max_features': 'sqrt', 'min_samples_leaf': 0.49, 'min_samples_split': 10}-----> F1 = 0.356\n",
            "{'criterion': 'entropy', 'max_depth': 9, 'max_features': 'sqrt', 'min_samples_leaf': 0.49, 'min_samples_split': 20}-----> F1 = 0.356\n",
            "{'criterion': 'entropy', 'max_depth': 9, 'max_features': 'log2', 'min_samples_leaf': 0.2, 'min_samples_split': 2}-----> F1 = 0.356\n",
            "{'criterion': 'entropy', 'max_depth': 9, 'max_features': 'log2', 'min_samples_leaf': 0.2, 'min_samples_split': 3}-----> F1 = 0.356\n",
            "{'criterion': 'entropy', 'max_depth': 9, 'max_features': 'log2', 'min_samples_leaf': 0.2, 'min_samples_split': 5}-----> F1 = 0.356\n",
            "{'criterion': 'entropy', 'max_depth': 9, 'max_features': 'log2', 'min_samples_leaf': 0.2, 'min_samples_split': 10}-----> F1 = 0.356\n",
            "{'criterion': 'entropy', 'max_depth': 9, 'max_features': 'log2', 'min_samples_leaf': 0.2, 'min_samples_split': 20}-----> F1 = 0.356\n",
            "{'criterion': 'entropy', 'max_depth': 9, 'max_features': 'log2', 'min_samples_leaf': 0.49, 'min_samples_split': 2}-----> F1 = 0.356\n",
            "{'criterion': 'entropy', 'max_depth': 9, 'max_features': 'log2', 'min_samples_leaf': 0.49, 'min_samples_split': 3}-----> F1 = 0.356\n",
            "{'criterion': 'entropy', 'max_depth': 9, 'max_features': 'log2', 'min_samples_leaf': 0.49, 'min_samples_split': 5}-----> F1 = 0.356\n",
            "{'criterion': 'entropy', 'max_depth': 9, 'max_features': 'log2', 'min_samples_leaf': 0.49, 'min_samples_split': 10}-----> F1 = 0.356\n",
            "{'criterion': 'entropy', 'max_depth': 9, 'max_features': 'log2', 'min_samples_leaf': 0.49, 'min_samples_split': 20}-----> F1 = 0.356\n",
            "{'criterion': 'entropy', 'max_depth': 10, 'max_features': None, 'min_samples_leaf': 0.2, 'min_samples_split': 2}-----> F1 = 0.363\n",
            "{'criterion': 'entropy', 'max_depth': 10, 'max_features': None, 'min_samples_leaf': 0.2, 'min_samples_split': 3}-----> F1 = 0.363\n",
            "{'criterion': 'entropy', 'max_depth': 10, 'max_features': None, 'min_samples_leaf': 0.2, 'min_samples_split': 5}-----> F1 = 0.363\n",
            "{'criterion': 'entropy', 'max_depth': 10, 'max_features': None, 'min_samples_leaf': 0.2, 'min_samples_split': 10}-----> F1 = 0.363\n",
            "{'criterion': 'entropy', 'max_depth': 10, 'max_features': None, 'min_samples_leaf': 0.2, 'min_samples_split': 20}-----> F1 = 0.363\n",
            "{'criterion': 'entropy', 'max_depth': 10, 'max_features': None, 'min_samples_leaf': 0.49, 'min_samples_split': 2}-----> F1 = 0.356\n",
            "{'criterion': 'entropy', 'max_depth': 10, 'max_features': None, 'min_samples_leaf': 0.49, 'min_samples_split': 3}-----> F1 = 0.356\n",
            "{'criterion': 'entropy', 'max_depth': 10, 'max_features': None, 'min_samples_leaf': 0.49, 'min_samples_split': 5}-----> F1 = 0.356\n",
            "{'criterion': 'entropy', 'max_depth': 10, 'max_features': None, 'min_samples_leaf': 0.49, 'min_samples_split': 10}-----> F1 = 0.356\n",
            "{'criterion': 'entropy', 'max_depth': 10, 'max_features': None, 'min_samples_leaf': 0.49, 'min_samples_split': 20}-----> F1 = 0.356\n",
            "{'criterion': 'entropy', 'max_depth': 10, 'max_features': 'sqrt', 'min_samples_leaf': 0.2, 'min_samples_split': 2}-----> F1 = 0.356\n",
            "{'criterion': 'entropy', 'max_depth': 10, 'max_features': 'sqrt', 'min_samples_leaf': 0.2, 'min_samples_split': 3}-----> F1 = 0.356\n",
            "{'criterion': 'entropy', 'max_depth': 10, 'max_features': 'sqrt', 'min_samples_leaf': 0.2, 'min_samples_split': 5}-----> F1 = 0.356\n",
            "{'criterion': 'entropy', 'max_depth': 10, 'max_features': 'sqrt', 'min_samples_leaf': 0.2, 'min_samples_split': 10}-----> F1 = 0.356\n",
            "{'criterion': 'entropy', 'max_depth': 10, 'max_features': 'sqrt', 'min_samples_leaf': 0.2, 'min_samples_split': 20}-----> F1 = 0.352\n",
            "{'criterion': 'entropy', 'max_depth': 10, 'max_features': 'sqrt', 'min_samples_leaf': 0.49, 'min_samples_split': 2}-----> F1 = 0.356\n",
            "{'criterion': 'entropy', 'max_depth': 10, 'max_features': 'sqrt', 'min_samples_leaf': 0.49, 'min_samples_split': 3}-----> F1 = 0.356\n",
            "{'criterion': 'entropy', 'max_depth': 10, 'max_features': 'sqrt', 'min_samples_leaf': 0.49, 'min_samples_split': 5}-----> F1 = 0.356\n",
            "{'criterion': 'entropy', 'max_depth': 10, 'max_features': 'sqrt', 'min_samples_leaf': 0.49, 'min_samples_split': 10}-----> F1 = 0.356\n",
            "{'criterion': 'entropy', 'max_depth': 10, 'max_features': 'sqrt', 'min_samples_leaf': 0.49, 'min_samples_split': 20}-----> F1 = 0.356\n",
            "{'criterion': 'entropy', 'max_depth': 10, 'max_features': 'log2', 'min_samples_leaf': 0.2, 'min_samples_split': 2}-----> F1 = 0.356\n",
            "{'criterion': 'entropy', 'max_depth': 10, 'max_features': 'log2', 'min_samples_leaf': 0.2, 'min_samples_split': 3}-----> F1 = 0.356\n",
            "{'criterion': 'entropy', 'max_depth': 10, 'max_features': 'log2', 'min_samples_leaf': 0.2, 'min_samples_split': 5}-----> F1 = 0.356\n",
            "{'criterion': 'entropy', 'max_depth': 10, 'max_features': 'log2', 'min_samples_leaf': 0.2, 'min_samples_split': 10}-----> F1 = 0.356\n",
            "{'criterion': 'entropy', 'max_depth': 10, 'max_features': 'log2', 'min_samples_leaf': 0.2, 'min_samples_split': 20}-----> F1 = 0.356\n",
            "{'criterion': 'entropy', 'max_depth': 10, 'max_features': 'log2', 'min_samples_leaf': 0.49, 'min_samples_split': 2}-----> F1 = 0.356\n",
            "{'criterion': 'entropy', 'max_depth': 10, 'max_features': 'log2', 'min_samples_leaf': 0.49, 'min_samples_split': 3}-----> F1 = 0.356\n",
            "{'criterion': 'entropy', 'max_depth': 10, 'max_features': 'log2', 'min_samples_leaf': 0.49, 'min_samples_split': 5}-----> F1 = 0.356\n",
            "{'criterion': 'entropy', 'max_depth': 10, 'max_features': 'log2', 'min_samples_leaf': 0.49, 'min_samples_split': 10}-----> F1 = 0.356\n",
            "{'criterion': 'entropy', 'max_depth': 10, 'max_features': 'log2', 'min_samples_leaf': 0.49, 'min_samples_split': 20}-----> F1 = 0.356\n",
            "{'criterion': 'entropy', 'max_depth': 15, 'max_features': None, 'min_samples_leaf': 0.2, 'min_samples_split': 2}-----> F1 = 0.363\n",
            "{'criterion': 'entropy', 'max_depth': 15, 'max_features': None, 'min_samples_leaf': 0.2, 'min_samples_split': 3}-----> F1 = 0.363\n",
            "{'criterion': 'entropy', 'max_depth': 15, 'max_features': None, 'min_samples_leaf': 0.2, 'min_samples_split': 5}-----> F1 = 0.363\n",
            "{'criterion': 'entropy', 'max_depth': 15, 'max_features': None, 'min_samples_leaf': 0.2, 'min_samples_split': 10}-----> F1 = 0.363\n",
            "{'criterion': 'entropy', 'max_depth': 15, 'max_features': None, 'min_samples_leaf': 0.2, 'min_samples_split': 20}-----> F1 = 0.363\n",
            "{'criterion': 'entropy', 'max_depth': 15, 'max_features': None, 'min_samples_leaf': 0.49, 'min_samples_split': 2}-----> F1 = 0.356\n",
            "{'criterion': 'entropy', 'max_depth': 15, 'max_features': None, 'min_samples_leaf': 0.49, 'min_samples_split': 3}-----> F1 = 0.356\n",
            "{'criterion': 'entropy', 'max_depth': 15, 'max_features': None, 'min_samples_leaf': 0.49, 'min_samples_split': 5}-----> F1 = 0.356\n",
            "{'criterion': 'entropy', 'max_depth': 15, 'max_features': None, 'min_samples_leaf': 0.49, 'min_samples_split': 10}-----> F1 = 0.356\n",
            "{'criterion': 'entropy', 'max_depth': 15, 'max_features': None, 'min_samples_leaf': 0.49, 'min_samples_split': 20}-----> F1 = 0.356\n",
            "{'criterion': 'entropy', 'max_depth': 15, 'max_features': 'sqrt', 'min_samples_leaf': 0.2, 'min_samples_split': 2}-----> F1 = 0.356\n",
            "{'criterion': 'entropy', 'max_depth': 15, 'max_features': 'sqrt', 'min_samples_leaf': 0.2, 'min_samples_split': 3}-----> F1 = 0.356\n",
            "{'criterion': 'entropy', 'max_depth': 15, 'max_features': 'sqrt', 'min_samples_leaf': 0.2, 'min_samples_split': 5}-----> F1 = 0.319\n",
            "{'criterion': 'entropy', 'max_depth': 15, 'max_features': 'sqrt', 'min_samples_leaf': 0.2, 'min_samples_split': 10}-----> F1 = 0.356\n",
            "{'criterion': 'entropy', 'max_depth': 15, 'max_features': 'sqrt', 'min_samples_leaf': 0.2, 'min_samples_split': 20}-----> F1 = 0.356\n",
            "{'criterion': 'entropy', 'max_depth': 15, 'max_features': 'sqrt', 'min_samples_leaf': 0.49, 'min_samples_split': 2}-----> F1 = 0.356\n",
            "{'criterion': 'entropy', 'max_depth': 15, 'max_features': 'sqrt', 'min_samples_leaf': 0.49, 'min_samples_split': 3}-----> F1 = 0.356\n",
            "{'criterion': 'entropy', 'max_depth': 15, 'max_features': 'sqrt', 'min_samples_leaf': 0.49, 'min_samples_split': 5}-----> F1 = 0.356\n",
            "{'criterion': 'entropy', 'max_depth': 15, 'max_features': 'sqrt', 'min_samples_leaf': 0.49, 'min_samples_split': 10}-----> F1 = 0.356\n",
            "{'criterion': 'entropy', 'max_depth': 15, 'max_features': 'sqrt', 'min_samples_leaf': 0.49, 'min_samples_split': 20}-----> F1 = 0.356\n",
            "{'criterion': 'entropy', 'max_depth': 15, 'max_features': 'log2', 'min_samples_leaf': 0.2, 'min_samples_split': 2}-----> F1 = 0.356\n",
            "{'criterion': 'entropy', 'max_depth': 15, 'max_features': 'log2', 'min_samples_leaf': 0.2, 'min_samples_split': 3}-----> F1 = 0.356\n",
            "{'criterion': 'entropy', 'max_depth': 15, 'max_features': 'log2', 'min_samples_leaf': 0.2, 'min_samples_split': 5}-----> F1 = 0.356\n",
            "{'criterion': 'entropy', 'max_depth': 15, 'max_features': 'log2', 'min_samples_leaf': 0.2, 'min_samples_split': 10}-----> F1 = 0.356\n",
            "{'criterion': 'entropy', 'max_depth': 15, 'max_features': 'log2', 'min_samples_leaf': 0.2, 'min_samples_split': 20}-----> F1 = 0.356\n",
            "{'criterion': 'entropy', 'max_depth': 15, 'max_features': 'log2', 'min_samples_leaf': 0.49, 'min_samples_split': 2}-----> F1 = 0.356\n",
            "{'criterion': 'entropy', 'max_depth': 15, 'max_features': 'log2', 'min_samples_leaf': 0.49, 'min_samples_split': 3}-----> F1 = 0.356\n",
            "{'criterion': 'entropy', 'max_depth': 15, 'max_features': 'log2', 'min_samples_leaf': 0.49, 'min_samples_split': 5}-----> F1 = 0.356\n",
            "{'criterion': 'entropy', 'max_depth': 15, 'max_features': 'log2', 'min_samples_leaf': 0.49, 'min_samples_split': 10}-----> F1 = 0.356\n",
            "{'criterion': 'entropy', 'max_depth': 15, 'max_features': 'log2', 'min_samples_leaf': 0.49, 'min_samples_split': 20}-----> F1 = 0.356\n",
            "{'criterion': 'entropy', 'max_depth': 20, 'max_features': None, 'min_samples_leaf': 0.2, 'min_samples_split': 2}-----> F1 = 0.363\n",
            "{'criterion': 'entropy', 'max_depth': 20, 'max_features': None, 'min_samples_leaf': 0.2, 'min_samples_split': 3}-----> F1 = 0.363\n",
            "{'criterion': 'entropy', 'max_depth': 20, 'max_features': None, 'min_samples_leaf': 0.2, 'min_samples_split': 5}-----> F1 = 0.363\n",
            "{'criterion': 'entropy', 'max_depth': 20, 'max_features': None, 'min_samples_leaf': 0.2, 'min_samples_split': 10}-----> F1 = 0.363\n",
            "{'criterion': 'entropy', 'max_depth': 20, 'max_features': None, 'min_samples_leaf': 0.2, 'min_samples_split': 20}-----> F1 = 0.363\n",
            "{'criterion': 'entropy', 'max_depth': 20, 'max_features': None, 'min_samples_leaf': 0.49, 'min_samples_split': 2}-----> F1 = 0.356\n",
            "{'criterion': 'entropy', 'max_depth': 20, 'max_features': None, 'min_samples_leaf': 0.49, 'min_samples_split': 3}-----> F1 = 0.356\n",
            "{'criterion': 'entropy', 'max_depth': 20, 'max_features': None, 'min_samples_leaf': 0.49, 'min_samples_split': 5}-----> F1 = 0.356\n",
            "{'criterion': 'entropy', 'max_depth': 20, 'max_features': None, 'min_samples_leaf': 0.49, 'min_samples_split': 10}-----> F1 = 0.356\n",
            "{'criterion': 'entropy', 'max_depth': 20, 'max_features': None, 'min_samples_leaf': 0.49, 'min_samples_split': 20}-----> F1 = 0.356\n",
            "{'criterion': 'entropy', 'max_depth': 20, 'max_features': 'sqrt', 'min_samples_leaf': 0.2, 'min_samples_split': 2}-----> F1 = 0.356\n",
            "{'criterion': 'entropy', 'max_depth': 20, 'max_features': 'sqrt', 'min_samples_leaf': 0.2, 'min_samples_split': 3}-----> F1 = 0.341\n",
            "{'criterion': 'entropy', 'max_depth': 20, 'max_features': 'sqrt', 'min_samples_leaf': 0.2, 'min_samples_split': 5}-----> F1 = 0.331\n",
            "{'criterion': 'entropy', 'max_depth': 20, 'max_features': 'sqrt', 'min_samples_leaf': 0.2, 'min_samples_split': 10}-----> F1 = 0.356\n",
            "{'criterion': 'entropy', 'max_depth': 20, 'max_features': 'sqrt', 'min_samples_leaf': 0.2, 'min_samples_split': 20}-----> F1 = 0.335\n",
            "{'criterion': 'entropy', 'max_depth': 20, 'max_features': 'sqrt', 'min_samples_leaf': 0.49, 'min_samples_split': 2}-----> F1 = 0.356\n",
            "{'criterion': 'entropy', 'max_depth': 20, 'max_features': 'sqrt', 'min_samples_leaf': 0.49, 'min_samples_split': 3}-----> F1 = 0.356\n",
            "{'criterion': 'entropy', 'max_depth': 20, 'max_features': 'sqrt', 'min_samples_leaf': 0.49, 'min_samples_split': 5}-----> F1 = 0.356\n",
            "{'criterion': 'entropy', 'max_depth': 20, 'max_features': 'sqrt', 'min_samples_leaf': 0.49, 'min_samples_split': 10}-----> F1 = 0.356\n",
            "{'criterion': 'entropy', 'max_depth': 20, 'max_features': 'sqrt', 'min_samples_leaf': 0.49, 'min_samples_split': 20}-----> F1 = 0.356\n",
            "{'criterion': 'entropy', 'max_depth': 20, 'max_features': 'log2', 'min_samples_leaf': 0.2, 'min_samples_split': 2}-----> F1 = 0.356\n",
            "{'criterion': 'entropy', 'max_depth': 20, 'max_features': 'log2', 'min_samples_leaf': 0.2, 'min_samples_split': 3}-----> F1 = 0.356\n",
            "{'criterion': 'entropy', 'max_depth': 20, 'max_features': 'log2', 'min_samples_leaf': 0.2, 'min_samples_split': 5}-----> F1 = 0.356\n",
            "{'criterion': 'entropy', 'max_depth': 20, 'max_features': 'log2', 'min_samples_leaf': 0.2, 'min_samples_split': 10}-----> F1 = 0.356\n",
            "{'criterion': 'entropy', 'max_depth': 20, 'max_features': 'log2', 'min_samples_leaf': 0.2, 'min_samples_split': 20}-----> F1 = 0.356\n",
            "{'criterion': 'entropy', 'max_depth': 20, 'max_features': 'log2', 'min_samples_leaf': 0.49, 'min_samples_split': 2}-----> F1 = 0.356\n",
            "{'criterion': 'entropy', 'max_depth': 20, 'max_features': 'log2', 'min_samples_leaf': 0.49, 'min_samples_split': 3}-----> F1 = 0.356\n",
            "{'criterion': 'entropy', 'max_depth': 20, 'max_features': 'log2', 'min_samples_leaf': 0.49, 'min_samples_split': 5}-----> F1 = 0.356\n",
            "{'criterion': 'entropy', 'max_depth': 20, 'max_features': 'log2', 'min_samples_leaf': 0.49, 'min_samples_split': 10}-----> F1 = 0.356\n",
            "{'criterion': 'entropy', 'max_depth': 20, 'max_features': 'log2', 'min_samples_leaf': 0.49, 'min_samples_split': 20}-----> F1 = 0.356\n",
            "{'criterion': 'entropy', 'max_depth': 30, 'max_features': None, 'min_samples_leaf': 0.2, 'min_samples_split': 2}-----> F1 = 0.363\n",
            "{'criterion': 'entropy', 'max_depth': 30, 'max_features': None, 'min_samples_leaf': 0.2, 'min_samples_split': 3}-----> F1 = 0.363\n",
            "{'criterion': 'entropy', 'max_depth': 30, 'max_features': None, 'min_samples_leaf': 0.2, 'min_samples_split': 5}-----> F1 = 0.363\n",
            "{'criterion': 'entropy', 'max_depth': 30, 'max_features': None, 'min_samples_leaf': 0.2, 'min_samples_split': 10}-----> F1 = 0.363\n",
            "{'criterion': 'entropy', 'max_depth': 30, 'max_features': None, 'min_samples_leaf': 0.2, 'min_samples_split': 20}-----> F1 = 0.363\n",
            "{'criterion': 'entropy', 'max_depth': 30, 'max_features': None, 'min_samples_leaf': 0.49, 'min_samples_split': 2}-----> F1 = 0.356\n",
            "{'criterion': 'entropy', 'max_depth': 30, 'max_features': None, 'min_samples_leaf': 0.49, 'min_samples_split': 3}-----> F1 = 0.356\n",
            "{'criterion': 'entropy', 'max_depth': 30, 'max_features': None, 'min_samples_leaf': 0.49, 'min_samples_split': 5}-----> F1 = 0.356\n",
            "{'criterion': 'entropy', 'max_depth': 30, 'max_features': None, 'min_samples_leaf': 0.49, 'min_samples_split': 10}-----> F1 = 0.356\n",
            "{'criterion': 'entropy', 'max_depth': 30, 'max_features': None, 'min_samples_leaf': 0.49, 'min_samples_split': 20}-----> F1 = 0.356\n",
            "{'criterion': 'entropy', 'max_depth': 30, 'max_features': 'sqrt', 'min_samples_leaf': 0.2, 'min_samples_split': 2}-----> F1 = 0.356\n",
            "{'criterion': 'entropy', 'max_depth': 30, 'max_features': 'sqrt', 'min_samples_leaf': 0.2, 'min_samples_split': 3}-----> F1 = 0.356\n",
            "{'criterion': 'entropy', 'max_depth': 30, 'max_features': 'sqrt', 'min_samples_leaf': 0.2, 'min_samples_split': 5}-----> F1 = 0.356\n",
            "{'criterion': 'entropy', 'max_depth': 30, 'max_features': 'sqrt', 'min_samples_leaf': 0.2, 'min_samples_split': 10}-----> F1 = 0.363\n",
            "{'criterion': 'entropy', 'max_depth': 30, 'max_features': 'sqrt', 'min_samples_leaf': 0.2, 'min_samples_split': 20}-----> F1 = 0.356\n",
            "{'criterion': 'entropy', 'max_depth': 30, 'max_features': 'sqrt', 'min_samples_leaf': 0.49, 'min_samples_split': 2}-----> F1 = 0.356\n",
            "{'criterion': 'entropy', 'max_depth': 30, 'max_features': 'sqrt', 'min_samples_leaf': 0.49, 'min_samples_split': 3}-----> F1 = 0.356\n",
            "{'criterion': 'entropy', 'max_depth': 30, 'max_features': 'sqrt', 'min_samples_leaf': 0.49, 'min_samples_split': 5}-----> F1 = 0.356\n",
            "{'criterion': 'entropy', 'max_depth': 30, 'max_features': 'sqrt', 'min_samples_leaf': 0.49, 'min_samples_split': 10}-----> F1 = 0.356\n",
            "{'criterion': 'entropy', 'max_depth': 30, 'max_features': 'sqrt', 'min_samples_leaf': 0.49, 'min_samples_split': 20}-----> F1 = 0.356\n",
            "{'criterion': 'entropy', 'max_depth': 30, 'max_features': 'log2', 'min_samples_leaf': 0.2, 'min_samples_split': 2}-----> F1 = 0.356\n",
            "{'criterion': 'entropy', 'max_depth': 30, 'max_features': 'log2', 'min_samples_leaf': 0.2, 'min_samples_split': 3}-----> F1 = 0.356\n",
            "{'criterion': 'entropy', 'max_depth': 30, 'max_features': 'log2', 'min_samples_leaf': 0.2, 'min_samples_split': 5}-----> F1 = 0.356\n",
            "{'criterion': 'entropy', 'max_depth': 30, 'max_features': 'log2', 'min_samples_leaf': 0.2, 'min_samples_split': 10}-----> F1 = 0.314\n",
            "{'criterion': 'entropy', 'max_depth': 30, 'max_features': 'log2', 'min_samples_leaf': 0.2, 'min_samples_split': 20}-----> F1 = 0.356\n",
            "{'criterion': 'entropy', 'max_depth': 30, 'max_features': 'log2', 'min_samples_leaf': 0.49, 'min_samples_split': 2}-----> F1 = 0.356\n",
            "{'criterion': 'entropy', 'max_depth': 30, 'max_features': 'log2', 'min_samples_leaf': 0.49, 'min_samples_split': 3}-----> F1 = 0.356\n",
            "{'criterion': 'entropy', 'max_depth': 30, 'max_features': 'log2', 'min_samples_leaf': 0.49, 'min_samples_split': 5}-----> F1 = 0.356\n",
            "{'criterion': 'entropy', 'max_depth': 30, 'max_features': 'log2', 'min_samples_leaf': 0.49, 'min_samples_split': 10}-----> F1 = 0.356\n",
            "{'criterion': 'entropy', 'max_depth': 30, 'max_features': 'log2', 'min_samples_leaf': 0.49, 'min_samples_split': 20}-----> F1 = 0.356\n",
            "{'criterion': 'entropy', 'max_depth': 50, 'max_features': None, 'min_samples_leaf': 0.2, 'min_samples_split': 2}-----> F1 = 0.363\n",
            "{'criterion': 'entropy', 'max_depth': 50, 'max_features': None, 'min_samples_leaf': 0.2, 'min_samples_split': 3}-----> F1 = 0.363\n",
            "{'criterion': 'entropy', 'max_depth': 50, 'max_features': None, 'min_samples_leaf': 0.2, 'min_samples_split': 5}-----> F1 = 0.363\n",
            "{'criterion': 'entropy', 'max_depth': 50, 'max_features': None, 'min_samples_leaf': 0.2, 'min_samples_split': 10}-----> F1 = 0.363\n",
            "{'criterion': 'entropy', 'max_depth': 50, 'max_features': None, 'min_samples_leaf': 0.2, 'min_samples_split': 20}-----> F1 = 0.363\n",
            "{'criterion': 'entropy', 'max_depth': 50, 'max_features': None, 'min_samples_leaf': 0.49, 'min_samples_split': 2}-----> F1 = 0.356\n",
            "{'criterion': 'entropy', 'max_depth': 50, 'max_features': None, 'min_samples_leaf': 0.49, 'min_samples_split': 3}-----> F1 = 0.356\n",
            "{'criterion': 'entropy', 'max_depth': 50, 'max_features': None, 'min_samples_leaf': 0.49, 'min_samples_split': 5}-----> F1 = 0.356\n",
            "{'criterion': 'entropy', 'max_depth': 50, 'max_features': None, 'min_samples_leaf': 0.49, 'min_samples_split': 10}-----> F1 = 0.356\n",
            "{'criterion': 'entropy', 'max_depth': 50, 'max_features': None, 'min_samples_leaf': 0.49, 'min_samples_split': 20}-----> F1 = 0.356\n",
            "{'criterion': 'entropy', 'max_depth': 50, 'max_features': 'sqrt', 'min_samples_leaf': 0.2, 'min_samples_split': 2}-----> F1 = 0.356\n",
            "{'criterion': 'entropy', 'max_depth': 50, 'max_features': 'sqrt', 'min_samples_leaf': 0.2, 'min_samples_split': 3}-----> F1 = 0.356\n",
            "{'criterion': 'entropy', 'max_depth': 50, 'max_features': 'sqrt', 'min_samples_leaf': 0.2, 'min_samples_split': 5}-----> F1 = 0.314\n",
            "{'criterion': 'entropy', 'max_depth': 50, 'max_features': 'sqrt', 'min_samples_leaf': 0.2, 'min_samples_split': 10}-----> F1 = 0.317\n",
            "{'criterion': 'entropy', 'max_depth': 50, 'max_features': 'sqrt', 'min_samples_leaf': 0.2, 'min_samples_split': 20}-----> F1 = 0.356\n",
            "{'criterion': 'entropy', 'max_depth': 50, 'max_features': 'sqrt', 'min_samples_leaf': 0.49, 'min_samples_split': 2}-----> F1 = 0.356\n",
            "{'criterion': 'entropy', 'max_depth': 50, 'max_features': 'sqrt', 'min_samples_leaf': 0.49, 'min_samples_split': 3}-----> F1 = 0.356\n",
            "{'criterion': 'entropy', 'max_depth': 50, 'max_features': 'sqrt', 'min_samples_leaf': 0.49, 'min_samples_split': 5}-----> F1 = 0.356\n",
            "{'criterion': 'entropy', 'max_depth': 50, 'max_features': 'sqrt', 'min_samples_leaf': 0.49, 'min_samples_split': 10}-----> F1 = 0.356\n",
            "{'criterion': 'entropy', 'max_depth': 50, 'max_features': 'sqrt', 'min_samples_leaf': 0.49, 'min_samples_split': 20}-----> F1 = 0.356\n",
            "{'criterion': 'entropy', 'max_depth': 50, 'max_features': 'log2', 'min_samples_leaf': 0.2, 'min_samples_split': 2}-----> F1 = 0.356\n",
            "{'criterion': 'entropy', 'max_depth': 50, 'max_features': 'log2', 'min_samples_leaf': 0.2, 'min_samples_split': 3}-----> F1 = 0.356\n",
            "{'criterion': 'entropy', 'max_depth': 50, 'max_features': 'log2', 'min_samples_leaf': 0.2, 'min_samples_split': 5}-----> F1 = 0.356\n",
            "{'criterion': 'entropy', 'max_depth': 50, 'max_features': 'log2', 'min_samples_leaf': 0.2, 'min_samples_split': 10}-----> F1 = 0.356\n",
            "{'criterion': 'entropy', 'max_depth': 50, 'max_features': 'log2', 'min_samples_leaf': 0.2, 'min_samples_split': 20}-----> F1 = 0.356\n",
            "{'criterion': 'entropy', 'max_depth': 50, 'max_features': 'log2', 'min_samples_leaf': 0.49, 'min_samples_split': 2}-----> F1 = 0.356\n",
            "{'criterion': 'entropy', 'max_depth': 50, 'max_features': 'log2', 'min_samples_leaf': 0.49, 'min_samples_split': 3}-----> F1 = 0.356\n",
            "{'criterion': 'entropy', 'max_depth': 50, 'max_features': 'log2', 'min_samples_leaf': 0.49, 'min_samples_split': 5}-----> F1 = 0.356\n",
            "{'criterion': 'entropy', 'max_depth': 50, 'max_features': 'log2', 'min_samples_leaf': 0.49, 'min_samples_split': 10}-----> F1 = 0.356\n",
            "{'criterion': 'entropy', 'max_depth': 50, 'max_features': 'log2', 'min_samples_leaf': 0.49, 'min_samples_split': 20}-----> F1 = 0.356\n",
            "{'criterion': 'entropy', 'max_depth': 100, 'max_features': None, 'min_samples_leaf': 0.2, 'min_samples_split': 2}-----> F1 = 0.363\n",
            "{'criterion': 'entropy', 'max_depth': 100, 'max_features': None, 'min_samples_leaf': 0.2, 'min_samples_split': 3}-----> F1 = 0.363\n",
            "{'criterion': 'entropy', 'max_depth': 100, 'max_features': None, 'min_samples_leaf': 0.2, 'min_samples_split': 5}-----> F1 = 0.363\n",
            "{'criterion': 'entropy', 'max_depth': 100, 'max_features': None, 'min_samples_leaf': 0.2, 'min_samples_split': 10}-----> F1 = 0.363\n",
            "{'criterion': 'entropy', 'max_depth': 100, 'max_features': None, 'min_samples_leaf': 0.2, 'min_samples_split': 20}-----> F1 = 0.363\n",
            "{'criterion': 'entropy', 'max_depth': 100, 'max_features': None, 'min_samples_leaf': 0.49, 'min_samples_split': 2}-----> F1 = 0.356\n",
            "{'criterion': 'entropy', 'max_depth': 100, 'max_features': None, 'min_samples_leaf': 0.49, 'min_samples_split': 3}-----> F1 = 0.356\n",
            "{'criterion': 'entropy', 'max_depth': 100, 'max_features': None, 'min_samples_leaf': 0.49, 'min_samples_split': 5}-----> F1 = 0.356\n",
            "{'criterion': 'entropy', 'max_depth': 100, 'max_features': None, 'min_samples_leaf': 0.49, 'min_samples_split': 10}-----> F1 = 0.356\n",
            "{'criterion': 'entropy', 'max_depth': 100, 'max_features': None, 'min_samples_leaf': 0.49, 'min_samples_split': 20}-----> F1 = 0.356\n",
            "{'criterion': 'entropy', 'max_depth': 100, 'max_features': 'sqrt', 'min_samples_leaf': 0.2, 'min_samples_split': 2}-----> F1 = 0.356\n",
            "{'criterion': 'entropy', 'max_depth': 100, 'max_features': 'sqrt', 'min_samples_leaf': 0.2, 'min_samples_split': 3}-----> F1 = 0.338\n",
            "{'criterion': 'entropy', 'max_depth': 100, 'max_features': 'sqrt', 'min_samples_leaf': 0.2, 'min_samples_split': 5}-----> F1 = 0.356\n",
            "{'criterion': 'entropy', 'max_depth': 100, 'max_features': 'sqrt', 'min_samples_leaf': 0.2, 'min_samples_split': 10}-----> F1 = 0.356\n",
            "{'criterion': 'entropy', 'max_depth': 100, 'max_features': 'sqrt', 'min_samples_leaf': 0.2, 'min_samples_split': 20}-----> F1 = 0.356\n",
            "{'criterion': 'entropy', 'max_depth': 100, 'max_features': 'sqrt', 'min_samples_leaf': 0.49, 'min_samples_split': 2}-----> F1 = 0.356\n",
            "{'criterion': 'entropy', 'max_depth': 100, 'max_features': 'sqrt', 'min_samples_leaf': 0.49, 'min_samples_split': 3}-----> F1 = 0.356\n",
            "{'criterion': 'entropy', 'max_depth': 100, 'max_features': 'sqrt', 'min_samples_leaf': 0.49, 'min_samples_split': 5}-----> F1 = 0.356\n",
            "{'criterion': 'entropy', 'max_depth': 100, 'max_features': 'sqrt', 'min_samples_leaf': 0.49, 'min_samples_split': 10}-----> F1 = 0.356\n",
            "{'criterion': 'entropy', 'max_depth': 100, 'max_features': 'sqrt', 'min_samples_leaf': 0.49, 'min_samples_split': 20}-----> F1 = 0.356\n",
            "{'criterion': 'entropy', 'max_depth': 100, 'max_features': 'log2', 'min_samples_leaf': 0.2, 'min_samples_split': 2}-----> F1 = 0.3\n",
            "{'criterion': 'entropy', 'max_depth': 100, 'max_features': 'log2', 'min_samples_leaf': 0.2, 'min_samples_split': 3}-----> F1 = 0.356\n",
            "{'criterion': 'entropy', 'max_depth': 100, 'max_features': 'log2', 'min_samples_leaf': 0.2, 'min_samples_split': 5}-----> F1 = 0.356\n",
            "{'criterion': 'entropy', 'max_depth': 100, 'max_features': 'log2', 'min_samples_leaf': 0.2, 'min_samples_split': 10}-----> F1 = 0.356\n",
            "{'criterion': 'entropy', 'max_depth': 100, 'max_features': 'log2', 'min_samples_leaf': 0.2, 'min_samples_split': 20}-----> F1 = 0.356\n",
            "{'criterion': 'entropy', 'max_depth': 100, 'max_features': 'log2', 'min_samples_leaf': 0.49, 'min_samples_split': 2}-----> F1 = 0.356\n",
            "{'criterion': 'entropy', 'max_depth': 100, 'max_features': 'log2', 'min_samples_leaf': 0.49, 'min_samples_split': 3}-----> F1 = 0.356\n",
            "{'criterion': 'entropy', 'max_depth': 100, 'max_features': 'log2', 'min_samples_leaf': 0.49, 'min_samples_split': 5}-----> F1 = 0.356\n",
            "{'criterion': 'entropy', 'max_depth': 100, 'max_features': 'log2', 'min_samples_leaf': 0.49, 'min_samples_split': 10}-----> F1 = 0.356\n",
            "{'criterion': 'entropy', 'max_depth': 100, 'max_features': 'log2', 'min_samples_leaf': 0.49, 'min_samples_split': 20}-----> F1 = 0.356\n",
            "Best params: {'criterion': 'gini', 'max_depth': 8, 'max_features': None, 'min_samples_leaf': 0.2, 'min_samples_split': 2}\n",
            "Best F1 Score: 0.38499999999999995\n",
            " ####################################################################################################\n",
            "<class 'sklearn.svm._classes.LinearSVC'>\n",
            "{'C': 0.25, 'loss': 'hinge'}-----> F1 = 0.462\n",
            "{'C': 0.25, 'loss': 'squared_hinge'}-----> F1 = 0.466\n",
            "{'C': 0.5, 'loss': 'hinge'}-----> F1 = 0.458\n",
            "{'C': 0.5, 'loss': 'squared_hinge'}-----> F1 = 0.461\n",
            "{'C': 1.5, 'loss': 'hinge'}-----> F1 = 0.449\n",
            "{'C': 1.5, 'loss': 'squared_hinge'}-----> F1 = 0.45\n",
            "{'C': 2, 'loss': 'hinge'}-----> F1 = 0.44\n",
            "{'C': 2, 'loss': 'squared_hinge'}-----> F1 = 0.44800000000000006\n",
            "{'C': 5, 'loss': 'hinge'}-----> F1 = 0.439\n",
            "{'C': 5, 'loss': 'squared_hinge'}-----> F1 = 0.446\n",
            "{'C': 10, 'loss': 'hinge'}-----> F1 = 0.43799999999999994\n",
            "{'C': 10, 'loss': 'squared_hinge'}-----> F1 = 0.453\n",
            "{'C': 100, 'loss': 'hinge'}-----> F1 = 0.42299999999999993\n",
            "{'C': 100, 'loss': 'squared_hinge'}-----> F1 = 0.428\n",
            "Best params: {'C': 0.25, 'loss': 'squared_hinge'}\n",
            "Best F1 Score: 0.466\n",
            " ####################################################################################################\n",
            "CPU times: user 6min 18s, sys: 3.02 s, total: 6min 21s\n",
            "Wall time: 6min 18s\n"
          ],
          "name": "stdout"
        }
      ]
    },
    {
      "cell_type": "markdown",
      "metadata": {
        "id": "7m0CHH88Mupk"
      },
      "source": [
        ">> # **2.(d)**\n",
        "Report training, validation, and test F1-measure for all the classifiers (with best\n",
        "hyper-parameter configuration)."
      ]
    },
    {
      "cell_type": "code",
      "metadata": {
        "id": "KcWCQk45W5x6",
        "outputId": "d78158a1-4fa3-4cef-fb1e-b0bf869aba42",
        "colab": {
          "base_uri": "https://localhost:8080/"
        }
      },
      "source": [
        "%%time\n",
        "\n",
        "Yelp_train_F1_NB_optparam = Yelp_optimal_f1(Yelp_train_vec, class_Yelp_train, 'Yelp_train')\n",
        "Yelp_test_F1_NB_optparam = Yelp_optimal_f1(Yelp_test_vec, class_Yelp_test, 'Yelp_test')\n",
        "Yelp_valid_F1_NB_optparam = Yelp_optimal_f1(Yelp_valid_vec, class_Yelp_valid, 'Yelp_valid')"
      ],
      "execution_count": 40,
      "outputs": [
        {
          "output_type": "stream",
          "text": [
            "NB_BBoW best values for Yelp_train with optimal hyperparameters is 0.772313747740285\n",
            "NB_BBoW best values for Yelp_test with optimal hyperparameters is 0.35768974964514666\n",
            "NB_BBoW best values for Yelp_valid with optimal hyperparameters is 0.37819556762594175\n",
            "CPU times: user 7 s, sys: 334 ms, total: 7.34 s\n",
            "Wall time: 6.88 s\n"
          ],
          "name": "stdout"
        }
      ]
    },
    {
      "cell_type": "code",
      "metadata": {
        "id": "3M_wFb-r6NRw",
        "outputId": "de8d4e7b-8ced-427d-f3ad-6aa146a3ea4c",
        "colab": {
          "base_uri": "https://localhost:8080/"
        }
      },
      "source": [
        "import re\n",
        "from sklearn.tree import DecisionTreeClassifier\n",
        "\n",
        "params = []\n",
        "with open(\"#2_c-All Parameters.txt\") as f:\n",
        "  for line in f:\n",
        "    if 'Best params:' in line:\n",
        "      params.append(line)\n",
        "temp1 = repr(params[0])\n",
        "temp1 = re.sub('Best params: ', '', temp1)\n",
        "NB_best_param = float(temp1.split()[1][:-4])\n",
        "with open(\"#2_d-Best_Results.txt\", 'a+') as g:\n",
        "  g.write('NB_best alpha = {}\\n'.format(NB_best_param))\n",
        "print('NB_best alpha = {}'.format(NB_best_param))\n",
        "#################################################\n"
      ],
      "execution_count": 41,
      "outputs": [
        {
          "output_type": "stream",
          "text": [
            "NB_best alpha = 0.005\n"
          ],
          "name": "stdout"
        }
      ]
    },
    {
      "cell_type": "code",
      "metadata": {
        "id": "zzHzT9Hi3QPC",
        "outputId": "04989a6c-806c-49a9-b1ac-901beaba9d06",
        "colab": {
          "base_uri": "https://localhost:8080/"
        }
      },
      "source": [
        "temp2 = repr(params[1])\n",
        "temp2 = re.sub('Best params: ', '', temp2)\n",
        "criterion = temp2.split()[1][:-1]\n",
        "criterion = criterion.replace(\"'\",'')\n",
        "max_dep = [int(s) for s in temp2.split()[3] if s.isdigit()][0]\n",
        "max_feat = temp2.split()[5][:-1]\n",
        "if max_feat==str(None):\n",
        "  max_feat = None\n",
        "else:\n",
        "  max_feat = max_feat.replace(\"'\", '')\n",
        "min_leaf = float(temp2.split()[7][:-1])\n",
        "mss = int(temp2.split()[9][:-4])\n",
        "tree_best_params = [criterion, max_dep, max_feat, min_leaf, mss]\n",
        "with open(\"#2_d-Best_Results.txt\", 'a+') as g:\n",
        "  g.write('[criterion, max_depth, max_features, min_samples_leaf, min_samples_split] = {}\\n'.\n",
        "          format(tree_best_params))\n",
        "print('criterion, max_depth, max_features, min_samples_leaf, min_samples_split =', tree_best_params)\n",
        "##################################################\n"
      ],
      "execution_count": 42,
      "outputs": [
        {
          "output_type": "stream",
          "text": [
            "criterion, max_depth, max_features, min_samples_leaf, min_samples_split = ['gini', 8, None, 0.2, 2]\n"
          ],
          "name": "stdout"
        }
      ]
    },
    {
      "cell_type": "code",
      "metadata": {
        "id": "Hwlq0lmp3R4A",
        "outputId": "2585ada2-6305-424d-9098-576fab876d17",
        "colab": {
          "base_uri": "https://localhost:8080/"
        }
      },
      "source": [
        "temp3 = repr(params[2])\n",
        "temp3 = re.sub('Best params: ', '', temp3)\n",
        "c = float(temp3.split()[1][:-1])\n",
        "temp3_loss = temp3.split()[3][:-4]\n",
        "temp3_loss = temp3_loss.replace(\"'\",\"\" )\n",
        "svm_best_params = [c, temp3_loss]\n",
        "with open(\"#2_d-Best_Results.txt\", 'a+') as g:\n",
        "  g.write('[C, loss] = {}\\n {}'.\n",
        "          format(svm_best_params, seperator))\n",
        "print('[C, loss] = ', svm_best_params)"
      ],
      "execution_count": 43,
      "outputs": [
        {
          "output_type": "stream",
          "text": [
            "[C, loss] =  [0.25, 'squared_hinge']\n"
          ],
          "name": "stdout"
        }
      ]
    },
    {
      "cell_type": "code",
      "metadata": {
        "id": "14YORgc0w_ZU",
        "outputId": "97de7566-83f2-41f8-e9ad-92b26da6ac46",
        "colab": {
          "base_uri": "https://localhost:8080/"
        }
      },
      "source": [
        "print('NB_best_params are {},\\n tree_best_params are {},\\n svm_best_params are {}.'.\n",
        "      format(NB_best_param, tree_best_params, svm_best_params))\n",
        "\n"
      ],
      "execution_count": 44,
      "outputs": [
        {
          "output_type": "stream",
          "text": [
            "NB_best_params are 0.005,\n",
            " tree_best_params are ['gini', 8, None, 0.2, 2],\n",
            " svm_best_params are [0.25, 'squared_hinge'].\n"
          ],
          "name": "stdout"
        }
      ]
    },
    {
      "cell_type": "code",
      "metadata": {
        "id": "mDw4ReVLBW-G"
      },
      "source": [
        "optimized_bayes = BernoulliNB(alpha = NB_best_param)\n",
        "optimized_tree = DecisionTreeClassifier(criterion = tree_best_params[0],\n",
        "                                        max_features = tree_best_params[2],\n",
        "                                        max_depth = float(tree_best_params[1]),\n",
        "                                        min_samples_leaf = tree_best_params[3],\n",
        "                                        min_samples_split = tree_best_params[4], \n",
        "                                        random_state = 42)\n",
        "optimized_svm = svm.LinearSVC(C = svm_best_params[0], loss = svm_best_params[1], random_state = 42)\n"
      ],
      "execution_count": 45,
      "outputs": []
    },
    {
      "cell_type": "code",
      "metadata": {
        "id": "dbYHg6KiwMkf",
        "outputId": "b129efe2-8d29-429f-ef24-9d9a9c657dcf",
        "colab": {
          "base_uri": "https://localhost:8080/"
        }
      },
      "source": [
        "%%time\n",
        "\n",
        "print('Optimal NB f1 for train, valid, test = {}'.format(model_train_valid_test(optimized_bayes)))\n",
        "print('Optimal Tree f1 for train, valid, test = {}'.format(model_train_valid_test(optimized_tree)))\n",
        "print('Optimal SVM f1 for train, valid, test = {}'.format(model_train_valid_test(optimized_svm)))\n",
        "\n",
        "f = open(\"#2_d-Best_Results.txt\", 'a+')\n",
        "f.write('\\n NB_best_params are {}, \\n tree_best_params are {}, \\n svm_best_params are {} \\n {}\\n'.\n",
        "        format(NB_best_param, tree_best_params, svm_best_params, seperator))\n",
        "f.write('Optimal NB f1 for the (train, valid, test) = {},\\n Optimal Tree f1 for train, valid, test = {}, \\n Optimal SVM f1 for train, valid, test = {}\\n {}'.\n",
        "        format(model_train_valid_test(optimized_bayes), model_train_valid_test(optimized_tree), model_train_valid_test(optimized_svm), seperator))\n",
        "f.close()"
      ],
      "execution_count": 46,
      "outputs": [
        {
          "output_type": "stream",
          "text": [
            "Optimal NB f1 for train, valid, test = (0.7544285714285714, 0.421, 0.432)\n",
            "Optimal Tree f1 for train, valid, test = (0.39614285714285713, 0.38499999999999995, 0.38499999999999995)\n",
            "Optimal SVM f1 for train, valid, test = (0.9857142857142858, 0.466, 0.4595)\n",
            "CPU times: user 16.4 s, sys: 774 ms, total: 17.1 s\n",
            "Wall time: 15.5 s\n"
          ],
          "name": "stdout"
        }
      ]
    },
    {
      "cell_type": "markdown",
      "metadata": {
        "id": "i6XkzaUVM23i"
      },
      "source": [
        ">>**2.(e)**\n",
        "Comment about the performance of different classifiers. Why did a particular\n",
        "classifier performed better than the others? What was the role of that hyperparameter that fetched you the best results.\n"
      ]
    },
    {
      "cell_type": "markdown",
      "metadata": {
        "id": "xUl1QxXMM9jy"
      },
      "source": [
        "> # **3**\n",
        "Now we will repeat question 2 but with frequency bag-of-words (FBoW) representation.\n",
        "\n"
      ]
    },
    {
      "cell_type": "markdown",
      "metadata": {
        "id": "h6IVQji0gdP9"
      },
      "source": [
        ">> # **3.(a)**\n",
        "\n",
        "Train Naive Bayes, Decision Trees, and Linear SVM for this task. [Note: You should do a thorough hyper-parameter tuning by using the given validation set. Also, note that you should use the appropriate naive Bayes classifier for real valued input features (also called Gaussian naive Bayes).]"
      ]
    },
    {
      "cell_type": "code",
      "metadata": {
        "id": "9kyrmVsw16DT",
        "outputId": "9997e526-6ffe-46fa-a6a5-6a9bb96fc843",
        "colab": {
          "base_uri": "https://localhost:8080/"
        }
      },
      "source": [
        " print('Question #3.a', '\\n')\n",
        "# random classifier\n",
        "\n",
        "import numpy as np\n",
        "import pandas as pd\n",
        "import matplotlib.pyplot as plt\n",
        "import random\n",
        "import string\n",
        "import operator\n",
        "from sklearn import preprocessing\n",
        "from sklearn.naive_bayes import BernoulliNB\n",
        "from sklearn import metrics\n",
        "from sklearn import tree\n",
        "from sklearn.svm import LinearSVC\n",
        "\n",
        "\n",
        "data_path = '/content/'\n",
        "out = set(string.punctuation)\n",
        "df_train_3 = pd.read_csv(data_path + 'yelp-train.txt', sep='\\t', header=None)\n",
        "df_test_3 = pd.read_csv(data_path + 'yelp-test.txt', sep='\\t', header=None)\n",
        "df_valid_3 = pd.read_csv(data_path + 'yelp-valid.txt', sep='\\t', header=None)\n",
        "\n",
        "def bin_bag_of_words(data_set):\n",
        "  counti = data_set[0].count()\n",
        "  for counter in range(counti):\n",
        "    senti = data_set[0][counter]\n",
        "    senti = ''.join(char for char in senti if char not in out)\n",
        "    senti = senti.lower()\n",
        "    data_set[0][counter] = senti\n",
        "  return data_set\n",
        "\n",
        "\n",
        "def top_myriad(data_set):\n",
        "  pre_data = {}\n",
        "  for col in range(data_set.shape[0]):\n",
        "    sep = data_set[col][0].split()\n",
        "    for idems in range(len(sep)):\n",
        "      if sep[idems] in pre_data:\n",
        "        pre_data[sep[idems]] += 1\n",
        "      else:\n",
        "        pre_data[sep[idems]] = 1\n",
        "  return pre_data\n",
        "\n"
      ],
      "execution_count": 47,
      "outputs": [
        {
          "output_type": "stream",
          "text": [
            "Question #3.a \n",
            "\n"
          ],
          "name": "stdout"
        }
      ]
    },
    {
      "cell_type": "code",
      "metadata": {
        "id": "w0qCrWMPXkQk",
        "outputId": "40290c1b-c2fd-4914-968c-ad61c632de2d",
        "colab": {
          "base_uri": "https://localhost:8080/"
        }
      },
      "source": [
        "%%time\n",
        "\n",
        "FBoW_freq_Yelp_train = bin_bag_of_words (df_train_3)\n",
        "FBoW_freq_Yelp_test = bin_bag_of_words (df_test_3)\n",
        "FBoW_freq_Yelp_valid = bin_bag_of_words (df_valid_3)"
      ],
      "execution_count": 48,
      "outputs": [
        {
          "output_type": "stream",
          "text": [
            "CPU times: user 2.07 s, sys: 3.98 ms, total: 2.07 s\n",
            "Wall time: 2.08 s\n"
          ],
          "name": "stdout"
        }
      ]
    },
    {
      "cell_type": "code",
      "metadata": {
        "id": "NVOZ3NjbXmJy",
        "outputId": "620c2014-cfa5-4bac-d5d1-e1a65304174c",
        "colab": {
          "base_uri": "https://localhost:8080/"
        }
      },
      "source": [
        "%%time\n",
        "\n",
        "FBoW_freq_Yelp_train = df_train_3.values\n",
        "FBoW_freq_Yelp_test = df_test_3.values\n",
        "FBoW_freq_Yelp_valid = df_valid_3.values"
      ],
      "execution_count": 49,
      "outputs": [
        {
          "output_type": "stream",
          "text": [
            "CPU times: user 1.76 ms, sys: 0 ns, total: 1.76 ms\n",
            "Wall time: 1.92 ms\n"
          ],
          "name": "stdout"
        }
      ]
    },
    {
      "cell_type": "code",
      "metadata": {
        "id": "58Xk6B1aXnZ4"
      },
      "source": [
        "\n",
        "top_train_Yelp_FBoW = []\n",
        "sortit_Yelp_FBoW = top_myriad(FBoW_freq_Yelp_train).items()\n",
        "sort_train_Yelp_FBoW = sorted(sortit_Yelp_FBoW, key=operator.itemgetter(1), reverse=True)\n",
        "for i in range(10000):\n",
        "  top_train_Yelp_FBoW.append(sort_train_Yelp_FBoW[i][0])"
      ],
      "execution_count": 50,
      "outputs": []
    },
    {
      "cell_type": "code",
      "metadata": {
        "id": "3gdSSRvlDnfy",
        "outputId": "1687f6b3-ea7a-4a21-e3e3-aa259b859514",
        "colab": {
          "base_uri": "https://localhost:8080/"
        }
      },
      "source": [
        "# frequency bag-of-words for train, validation, test\n",
        "%%time\n",
        "\n",
        "\n",
        "def frequency_classifier(data_set, file_name, n, top):\n",
        "  rand = np.zeros(shape = (data_set.shape[0], n))\n",
        "  for col in range(data_set.shape[0]):\n",
        "    mot = data_set[col][0].split(' ')\n",
        "    for counter in range(n):\n",
        "      rand[col][counter] = mot.count(top[counter])\n",
        "    if (np.sum(rand[col]) == 0):\n",
        "      continue\n",
        "    rand[col] = rand[col]/(np.sum(rand[col]))\n",
        "  return rand"
      ],
      "execution_count": 51,
      "outputs": [
        {
          "output_type": "stream",
          "text": [
            "CPU times: user 7 µs, sys: 0 ns, total: 7 µs\n",
            "Wall time: 12.4 µs\n"
          ],
          "name": "stdout"
        }
      ]
    },
    {
      "cell_type": "code",
      "metadata": {
        "id": "72o-I16U0Y6y",
        "outputId": "e76402cb-6923-4793-b320-cc276e0a4d1d",
        "colab": {
          "base_uri": "https://localhost:8080/"
        }
      },
      "source": [
        "%%time\n",
        "\n",
        "freq_Yelp_train_vec = frequency_classifier(FBoW_freq_Yelp_train, 'FBoW_Yelp_train', \n",
        "                                           10000, top_train_Yelp_FBoW)\n",
        "freq_Yelp_test_vec = frequency_classifier(FBoW_freq_Yelp_test, 'FBoW_Yelp_test', \n",
        "                                          10000, top_train_Yelp_FBoW)\n",
        "freq_Yelp_valid_vec = frequency_classifier(FBoW_freq_Yelp_valid, 'FBoW_Yelp_valid', \n",
        "                                           10000, top_train_Yelp_FBoW)\n"
      ],
      "execution_count": 52,
      "outputs": [
        {
          "output_type": "stream",
          "text": [
            "CPU times: user 3min 56s, sys: 42.9 ms, total: 3min 56s\n",
            "Wall time: 3min 57s\n"
          ],
          "name": "stdout"
        }
      ]
    },
    {
      "cell_type": "code",
      "metadata": {
        "id": "REGVF1vNZJxJ",
        "outputId": "c947e2b8-77bf-49a3-f98f-653715344f9d",
        "colab": {
          "base_uri": "https://localhost:8080/"
        }
      },
      "source": [
        "%%time \n",
        "\n",
        "class_Yelp_train_freq = FBoW_freq_Yelp_train[:,1].astype(str)\n",
        "class_Yelp_valid_freq = FBoW_freq_Yelp_valid[:,1].astype(str)\n",
        "class_Yelp_test_freq = FBoW_freq_Yelp_test[:,1].astype(str)\n"
      ],
      "execution_count": 53,
      "outputs": [
        {
          "output_type": "stream",
          "text": [
            "CPU times: user 3.36 ms, sys: 0 ns, total: 3.36 ms\n",
            "Wall time: 3.68 ms\n"
          ],
          "name": "stdout"
        }
      ]
    },
    {
      "cell_type": "code",
      "metadata": {
        "id": "FnrjNhTkKuGp",
        "outputId": "29528c7c-cf1c-415e-fb20-4e65bcd6dcb8",
        "colab": {
          "base_uri": "https://localhost:8080/"
        }
      },
      "source": [
        "# random classifier\n",
        "%%time\n",
        "\n",
        "def FBoW_rand_classifier(data_set, data_class, file_name, n):\n",
        "  rand = np.empty(shape=(data_class.shape[0]), dtype=int)\n",
        "  for col in range(data_set.shape[0]):\n",
        "    rand[col] = np.random.randint(1, 6)\n",
        "  rand = rand.astype(str)\n",
        "  f1_random = metrics.f1_score(data_class, rand, average='macro')\n",
        "  print ('FBoW F1 for random classifier on {} = {}'.format(file_name, f1_random))\n",
        "  f = open(\"#3_b-Parameters.txt\", 'a+')\n",
        "  f.write('FBoW F1 for random classifier on {} = {} \\n'.format(file_name, f1_random))\n",
        "  f.close()\n",
        "  return f1_random, rand"
      ],
      "execution_count": 54,
      "outputs": [
        {
          "output_type": "stream",
          "text": [
            "CPU times: user 4 µs, sys: 0 ns, total: 4 µs\n",
            "Wall time: 6.91 µs\n"
          ],
          "name": "stdout"
        }
      ]
    },
    {
      "cell_type": "code",
      "metadata": {
        "id": "MhqeUGnnHLKw",
        "outputId": "f850f5c0-ff90-4ba3-8091-f3f7dd58f13d",
        "colab": {
          "base_uri": "https://localhost:8080/"
        }
      },
      "source": [
        "%%time\n",
        "rand_Yelp_train_FBoW = FBoW_rand_classifier(FBoW_freq_Yelp_train, class_Yelp_train_freq, \n",
        "                                            'Yelp_train', 10000)\n",
        "rand_Yelp_test_FBoW = FBoW_rand_classifier(FBoW_freq_Yelp_test, class_Yelp_test_freq, \n",
        "                                           'Yelp_test', 10000)\n",
        "rand_Yelp_valid_FBoW = FBoW_rand_classifier(FBoW_freq_Yelp_valid, class_Yelp_valid_freq, \n",
        "                                            'Yelp_valid', 10000)\n",
        "\n"
      ],
      "execution_count": 55,
      "outputs": [
        {
          "output_type": "stream",
          "text": [
            "FBoW F1 for random classifier on Yelp_train = 0.1748819994496678\n",
            "FBoW F1 for random classifier on Yelp_test = 0.1868315195588058\n",
            "FBoW F1 for random classifier on Yelp_valid = 0.16450123957211815\n",
            "CPU times: user 71.6 ms, sys: 999 µs, total: 72.6 ms\n",
            "Wall time: 72.6 ms\n"
          ],
          "name": "stdout"
        }
      ]
    },
    {
      "cell_type": "code",
      "metadata": {
        "id": "QzLwSApryYXF",
        "outputId": "00722aac-1fbf-497c-bc7f-227c8ec9d740",
        "colab": {
          "base_uri": "https://localhost:8080/"
        }
      },
      "source": [
        "# majority classifier\n",
        "%%time\n",
        "\n",
        "\n",
        "def majority_freq_class(data_set, data_class, file_name):\n",
        "  list_major = {}\n",
        "  for col in range(FBoW_freq_Yelp_train.shape[0]):\n",
        "    if FBoW_freq_Yelp_train[col][1] in list_major:\n",
        "      list_major[FBoW_freq_Yelp_train[col][1]] += 1\n",
        "    else:\n",
        "      list_major[data_set[col][1]] = 1\n",
        "  majority = max(list_major.items(), key = operator.itemgetter(1))[0]\n",
        "  majority_out = np.full((data_set.shape[0], 1), majority)\n",
        "  majority_out = np.squeeze(majority_out).astype(str)\n",
        "  f1_majority = metrics.f1_score(data_class, majority_out, average='micro')\n",
        "  print('FBoW majority class for {} is {} \\n'.format(file_name[0:4], majority))\n",
        "  print('FBoW F1 for majority classifier on {} = {}'.format(file_name, f1_majority))\n",
        "  f = open(\"#3_b-Parameters.txt\", 'a+')\n",
        "  f.write('BBoW majority class for {} is {}. \\n F1 for majority classifier on {} = {}.\\n'.\n",
        "          format(file_name[0:4], majority, file_name, f1_majority))\n",
        "  f.close()\n",
        "  return f1_majority\n",
        "\n"
      ],
      "execution_count": 56,
      "outputs": [
        {
          "output_type": "stream",
          "text": [
            "CPU times: user 4 µs, sys: 0 ns, total: 4 µs\n",
            "Wall time: 6.91 µs\n"
          ],
          "name": "stdout"
        }
      ]
    },
    {
      "cell_type": "code",
      "metadata": {
        "id": "cseiWDWthk_R",
        "outputId": "866c2b9b-024f-489a-9c61-e01ab85524a1",
        "colab": {
          "base_uri": "https://localhost:8080/"
        }
      },
      "source": [
        "f1_Y_train_major_FBoW = majority_freq_class(FBoW_freq_Yelp_train, class_Yelp_train_freq, 'Yelp_train')\n",
        "f1_Y_test_major_FBoW = majority_freq_class(FBoW_freq_Yelp_test, class_Yelp_test_freq, 'Yelp_test')\n",
        "f1_Y_valid_major_FBoW = majority_freq_class(FBoW_freq_Yelp_valid, class_Yelp_valid_freq, 'Yelp_valid')"
      ],
      "execution_count": 57,
      "outputs": [
        {
          "output_type": "stream",
          "text": [
            "FBoW majority class for Yelp is 4 \n",
            "\n",
            "FBoW F1 for majority classifier on Yelp_train = 0.3525714285714286\n",
            "FBoW majority class for Yelp is 4 \n",
            "\n",
            "FBoW F1 for majority classifier on Yelp_test = 0.351\n",
            "FBoW majority class for Yelp is 4 \n",
            "\n",
            "FBoW F1 for majority classifier on Yelp_valid = 0.356\n"
          ],
          "name": "stdout"
        }
      ]
    },
    {
      "cell_type": "code",
      "metadata": {
        "id": "lpJPJbyChzNL",
        "outputId": "0a8e1382-37df-4174-8445-5800ac169b9d",
        "colab": {
          "base_uri": "https://localhost:8080/"
        }
      },
      "source": [
        "# NB classifier\n",
        "## Gaussian Bayes multiclass classifier\n",
        "\n",
        "%%time\n",
        "\n",
        "from sklearn.naive_bayes import GaussianNB\n",
        "\n",
        "def NB_FBoW(vec, cfreq, file_name, Yelp = True):\n",
        "  f1_NB = []\n",
        "  g = open(\"#5_b-NB_perform.txt\", 'a+')\n",
        "  f = open(\"#3_b-Parameters.txt\", 'a+')\n",
        "  gs_clf = GaussianNB()\n",
        "  gs_clf.fit(freq_Yelp_train_vec,class_Yelp_train_freq)\n",
        "  y_pred = (gs_clf.predict(vec))\n",
        "  f1_NB_FBoW = metrics.f1_score(cfreq, y_pred, average='macro')\n",
        "  print('F1 score FBoW for Gaussian NB with optimal hyperparameter on {} = {}'.\n",
        "        format(file_name, f1_NB_FBoW))\n",
        "  if Yelp:\n",
        "    f.write('FBoW NB F1 with optimal params for {} = {}\\n'.format(file_name, f1_NB_FBoW))\n",
        "    f.close()\n",
        "  else:\n",
        "    g.write('FBoW NB F1 with optimal params for {} = {}\\n'.format(file_name, f1_NB_FBoW))\n",
        "    g.close()\n",
        "  return f1_NB_FBoW"
      ],
      "execution_count": 58,
      "outputs": [
        {
          "output_type": "stream",
          "text": [
            "CPU times: user 13 µs, sys: 0 ns, total: 13 µs\n",
            "Wall time: 16.7 µs\n"
          ],
          "name": "stdout"
        }
      ]
    },
    {
      "cell_type": "code",
      "metadata": {
        "id": "jVm87l7Hnxuq",
        "outputId": "e7f18bb0-a94d-44e8-cfaf-d2be52dc17ac",
        "colab": {
          "base_uri": "https://localhost:8080/"
        }
      },
      "source": [
        "freq_Yelp_train_f1NB = NB_FBoW(freq_Yelp_train_vec, class_Yelp_train_freq, 'training', True)\n",
        "freq_Yelp_test_f1NB = NB_FBoW(freq_Yelp_test_vec, class_Yelp_test_freq, 'test set', True)\n",
        "freq_Yelp_valid_f1NB = NB_FBoW(freq_Yelp_valid_vec, class_Yelp_valid_freq, 'validation', True)\n",
        "\n",
        "NB_FBoW_opt = max"
      ],
      "execution_count": 59,
      "outputs": [
        {
          "output_type": "stream",
          "text": [
            "F1 score FBoW for Gaussian NB with optimal hyperparameter on training = 0.7878899542894812\n",
            "F1 score FBoW for Gaussian NB with optimal hyperparameter on test set = 0.2477846680185553\n",
            "F1 score FBoW for Gaussian NB with optimal hyperparameter on validation = 0.24561901520780366\n"
          ],
          "name": "stdout"
        }
      ]
    },
    {
      "cell_type": "code",
      "metadata": {
        "id": "Oz2-VMG9uk_B",
        "outputId": "f67a9f59-350f-4998-e65c-9fe174430e44",
        "colab": {
          "base_uri": "https://localhost:8080/"
        }
      },
      "source": [
        "%%time\n",
        "# decision trees classifier \n",
        "\n",
        "from sklearn import tree\n",
        "\n",
        "\n",
        "def Decisiontree_FBoW(train_vec, valid_vec, ctrain, cvalid, Yelp = True):\n",
        "  depth_FBoW = [8,9,10,11,12, 15, 20, 25, 30, 40, 50]\n",
        "  criterias =  ['gini', 'entropy']\n",
        "  pred_tree = []\n",
        "  f1_tree = []\n",
        "  f = open(\"#3_b-tree_perform.txt\", 'a+')\n",
        "  g = open(\"#5_b-tree_perform.txt\", 'a+')\n",
        "  for crit in criterias:\n",
        "    for i in range(len(depth_FBoW)):\n",
        "      tree_Class = tree.DecisionTreeClassifier(criterion = crit, max_depth=depth_FBoW[i])\n",
        "      tree_Class.fit(train_vec, ctrain)\n",
        "      test = tree_Class.predict(train_vec)\n",
        "      pred_tree.append(tree_Class.predict(valid_vec))\n",
        "      F1_train = metrics.f1_score(ctrain, test, average='macro')\n",
        "      F1_valid = metrics.f1_score(cvalid, pred_tree[i], average='macro')\n",
        "      print(\"Depth:{:<4}, criterion:{:<10}, F1_train: {:<22},  F1_valid: {:<22}\".\n",
        "            format(depth_FBoW[i], crit, F1_train, F1_valid))\n",
        "      f1_tree.append(metrics.f1_score(cvalid, pred_tree[i], average='macro'))\n",
        "      if Yelp:\n",
        "        f.write(\"Depth:{:<4}, criterion:{:<10}, F1_train: {:<22},  F1_valid: {:>22} \\n\".\n",
        "                format(depth_FBoW[i], crit, F1_train, F1_valid))\n",
        "      else:\n",
        "        g.write(\"Depth:{:<4}, criterion:{:<10}, F1_train: {:<22},  F1_valid: {:>22} \\n\".\n",
        "                format(depth_FBoW[i], crit, F1_train, F1_valid))        \n",
        "  f.close()\n",
        "  g.close()"
      ],
      "execution_count": 60,
      "outputs": [
        {
          "output_type": "stream",
          "text": [
            "CPU times: user 13 µs, sys: 0 ns, total: 13 µs\n",
            "Wall time: 16 µs\n"
          ],
          "name": "stdout"
        }
      ]
    },
    {
      "cell_type": "code",
      "metadata": {
        "id": "S-vH4XZ_rj_V",
        "outputId": "0d2f2047-70c8-43fa-d2fa-95fa924b2d5d",
        "colab": {
          "base_uri": "https://localhost:8080/"
        }
      },
      "source": [
        "Decisiontree_FBoW(freq_Yelp_train_vec, freq_Yelp_valid_vec, \n",
        "                 class_Yelp_train_freq, class_Yelp_valid_freq, True)"
      ],
      "execution_count": 61,
      "outputs": [
        {
          "output_type": "stream",
          "text": [
            "Depth:8   , criterion:gini      , F1_train: 0.3766426025958901    ,  F1_valid: 0.3043314347780416    \n",
            "Depth:9   , criterion:gini      , F1_train: 0.4088290500488256    ,  F1_valid: 0.30171444240828793   \n",
            "Depth:10  , criterion:gini      , F1_train: 0.4365026211186314    ,  F1_valid: 0.30651721623382205   \n",
            "Depth:11  , criterion:gini      , F1_train: 0.47368042334067245   ,  F1_valid: 0.30755745695537295   \n",
            "Depth:12  , criterion:gini      , F1_train: 0.5129415340358963    ,  F1_valid: 0.31050664358228447   \n",
            "Depth:15  , criterion:gini      , F1_train: 0.6199766949086325    ,  F1_valid: 0.301878831600186     \n",
            "Depth:20  , criterion:gini      , F1_train: 0.7716368837726384    ,  F1_valid: 0.30850546789608146   \n",
            "Depth:25  , criterion:gini      , F1_train: 0.8841168871746234    ,  F1_valid: 0.2865171715358428    \n",
            "Depth:30  , criterion:gini      , F1_train: 0.9461279984061545    ,  F1_valid: 0.30184595818391574   \n",
            "Depth:40  , criterion:gini      , F1_train: 0.9953622704579057    ,  F1_valid: 0.28877869611129736   \n",
            "Depth:50  , criterion:gini      , F1_train: 0.9991874584929097    ,  F1_valid: 0.3031242693789781    \n",
            "Depth:8   , criterion:entropy   , F1_train: 0.36451430206976676   ,  F1_valid: 0.3043314347780416    \n",
            "Depth:9   , criterion:entropy   , F1_train: 0.4256403677344223    ,  F1_valid: 0.30171444240828793   \n",
            "Depth:10  , criterion:entropy   , F1_train: 0.479668681254007     ,  F1_valid: 0.30651721623382205   \n",
            "Depth:11  , criterion:entropy   , F1_train: 0.5247350501468482    ,  F1_valid: 0.30755745695537295   \n",
            "Depth:12  , criterion:entropy   , F1_train: 0.5826907749245648    ,  F1_valid: 0.31050664358228447   \n",
            "Depth:15  , criterion:entropy   , F1_train: 0.6997380608775225    ,  F1_valid: 0.301878831600186     \n",
            "Depth:20  , criterion:entropy   , F1_train: 0.8663895056844352    ,  F1_valid: 0.30850546789608146   \n",
            "Depth:25  , criterion:entropy   , F1_train: 0.9518380734174139    ,  F1_valid: 0.2865171715358428    \n",
            "Depth:30  , criterion:entropy   , F1_train: 0.9806156451986074    ,  F1_valid: 0.30184595818391574   \n",
            "Depth:40  , criterion:entropy   , F1_train: 0.9975837794269143    ,  F1_valid: 0.28877869611129736   \n",
            "Depth:50  , criterion:entropy   , F1_train: 0.9997660958146387    ,  F1_valid: 0.3031242693789781    \n"
          ],
          "name": "stdout"
        }
      ]
    },
    {
      "cell_type": "code",
      "metadata": {
        "id": "IJyum0BzvqiN",
        "outputId": "9a81c293-0e23-4718-dc06-3ab148d1a8ec",
        "colab": {
          "base_uri": "https://localhost:8080/"
        }
      },
      "source": [
        "%%time\n",
        "# Linear SVM for Yelp\n",
        "\n",
        "from warnings import filterwarnings\n",
        "from sklearn.svm import LinearSVC\n",
        "filterwarnings('ignore')\n",
        "\n",
        "\n",
        "def svm_FBoW(train_vec, ctrain, valid_vec, cvalid, Yelp = True):\n",
        "  C_svm = [2**-4, 2**-3, 2**-2, 0.5, 1, 1.5, 2, 4,10.0, 2**4, 2**5]\n",
        "  pred_svm = []\n",
        "  f1_svm = []\n",
        "  f = open(\"#3_b-svm_perform.txt\", 'a+')\n",
        "  g = open(\"#5_b-svm_perform.txt\", 'a+')\n",
        "  for i in range(len(C_svm)):\n",
        "    svm_Class = LinearSVC(C = C_svm[i], multi_class=\"ovr\", loss='hinge')\n",
        "    svm_Class.fit(train_vec, ctrain)\n",
        "    test = svm_Class.predict(train_vec)\n",
        "    pred_svm.append(svm_Class.predict(valid_vec))\n",
        "    F1_train = metrics.f1_score(ctrain, test, average='macro')\n",
        "    F1_valid = metrics.f1_score(cvalid, pred_svm[i], average='macro')\n",
        "    print(\"C = {:<8}, F1_train = {:<24},  F1_valid = {:<24}\".\n",
        "          format(C_svm[i], F1_train, F1_valid))\n",
        "    f1_svm.append(F1_valid)\n",
        "    if Yelp:\n",
        "      f.write(\"C = {:<8}, F1_train = {:<24},  F1_valid = {:>24}\\n\".\n",
        "              format(C_svm[i], F1_train, F1_valid))\n",
        "    else:\n",
        "      g.write(\"C = {:<8}, F1_train = {:<24},  F1_valid = {:>24}\\n\".\n",
        "              format(C_svm[i], F1_train, F1_valid))\n",
        "  f.close()\n",
        "  g.close()\n"
      ],
      "execution_count": 62,
      "outputs": [
        {
          "output_type": "stream",
          "text": [
            "CPU times: user 31 µs, sys: 0 ns, total: 31 µs\n",
            "Wall time: 35.3 µs\n"
          ],
          "name": "stdout"
        }
      ]
    },
    {
      "cell_type": "code",
      "metadata": {
        "id": "K_iLba4_uXro",
        "outputId": "f7cfba3d-5e01-4a20-cc92-21daea360e5f",
        "colab": {
          "base_uri": "https://localhost:8080/"
        }
      },
      "source": [
        "%%time\n",
        "# Linear SVM for Yelp\n",
        "\n",
        "svm_FBoW(freq_Yelp_train_vec, class_Yelp_train_freq, \n",
        "         freq_Yelp_valid_vec, class_Yelp_valid_freq, True)\n"
      ],
      "execution_count": 63,
      "outputs": [
        {
          "output_type": "stream",
          "text": [
            "C = 0.0625  , F1_train = 0.5444620790011439      ,  F1_valid = 0.35848994413293744     \n",
            "C = 0.125   , F1_train = 0.5491658629030052      ,  F1_valid = 0.3549529140485509      \n",
            "C = 0.25    , F1_train = 0.547133320386162       ,  F1_valid = 0.3615700781245077      \n",
            "C = 0.5     , F1_train = 0.5459753414041526      ,  F1_valid = 0.3663504810961493      \n",
            "C = 1       , F1_train = 0.5521687521017751      ,  F1_valid = 0.3676354237434708      \n",
            "C = 1.5     , F1_train = 0.5586678140598245      ,  F1_valid = 0.36643100878089935     \n",
            "C = 2       , F1_train = 0.5594202175760417      ,  F1_valid = 0.37191927886177323     \n",
            "C = 4       , F1_train = 0.5797286096482276      ,  F1_valid = 0.3682813210657655      \n",
            "C = 10.0    , F1_train = 0.6137305441700811      ,  F1_valid = 0.37581455735267627     \n",
            "C = 16      , F1_train = 0.6418141849034367      ,  F1_valid = 0.3824881629439889      \n",
            "C = 32      , F1_train = 0.6891221663226335      ,  F1_valid = 0.40858366832874704     \n",
            "CPU times: user 35.2 s, sys: 1.09 s, total: 36.2 s\n",
            "Wall time: 33.4 s\n"
          ],
          "name": "stdout"
        }
      ]
    },
    {
      "cell_type": "markdown",
      "metadata": {
        "id": "JxEVf7GbNU-N"
      },
      "source": [
        ">> # **3.(b)**\n",
        " Report the list of hyper-parameters you considered for each classifier, the range\n",
        "of the individual hyper-parameters and the best value for these hyper-parameters\n",
        "chosen based on the validation set performance.\n"
      ]
    },
    {
      "cell_type": "code",
      "metadata": {
        "id": "T7z9sG9QzjJ-"
      },
      "source": [
        "from sklearn.dummy import DummyClassifier as DC\n",
        "from sklearn.model_selection import ParameterGrid\n",
        "from sklearn.tree import DecisionTreeClassifier as DTC\n",
        "from sklearn import svm, metrics\n",
        "from sklearn.metrics import f1_score"
      ],
      "execution_count": 64,
      "outputs": []
    },
    {
      "cell_type": "code",
      "metadata": {
        "id": "JGZ_RpHzzjKC"
      },
      "source": [
        "\n",
        "\n",
        "seperator = '#'*100\n",
        "NB_params = ParameterGrid({'alpha':[0.001, 0.002, 0.003, 0.004, 0.005, \n",
        "                                    0.006, 0.007, 0.008, 0.009, 0.01, 0.02, 0.05, 0.1]})\n",
        "tree_params = ParameterGrid({'criterion':['gini','entropy'],\n",
        "                             'max_features': [None, \"sqrt\", \"log2\"],\n",
        "                             'max_depth':[8, 9, 10, 15, 20, 30, 50, 100],\n",
        "                             'min_samples_leaf': [0.2, 0.49],\n",
        "                             'min_samples_split':[2, 3, 5, 10, 20]})\n",
        "svm_params = ParameterGrid({'loss':['hinge','squared_hinge'],\n",
        "                            'C':[0.25, 0.5, 1.5, 2, 5, 10, 100]})\n",
        "\n",
        "classifiers = [(BernoulliNB, NB_params), (DTC, tree_params), (svm.LinearSVC, svm_params)]"
      ],
      "execution_count": 65,
      "outputs": []
    },
    {
      "cell_type": "code",
      "metadata": {
        "id": "vh4LgM7DzjKG"
      },
      "source": [
        "def model_validation_FBoW_3(model):\n",
        "  model.fit(freq_Yelp_train_vec, class_Yelp_train_freq)\n",
        "  valid = model.predict(freq_Yelp_valid_vec)\n",
        "  f1_valid = f1_score(class_Yelp_valid_freq, valid, average = 'micro')\n",
        "  return f1_valid\n",
        "\n",
        "###########################################################################\n",
        "\n",
        "def optimize_parameters_FBoW(classifier, grid, Yelp = True):\n",
        "  if Yelp:\n",
        "    f = open(\"#3_b-All Parameters.txt\", 'a+')\n",
        "    best_f1 = 0.0\n",
        "    optimal_params = None\n",
        "    for params in grid:\n",
        "      f1 = model_validation_FBoW_3(classifier(**params))\n",
        "      f.write(\"{}-----> F1 = {}\\n\".format(params, f1))\n",
        "      print(\"{}-----> F1 = {}\".format(params, f1))\n",
        "      if f1 > best_f1:\n",
        "          best_f1 = f1\n",
        "          optimal_params = params       \n",
        "    print(\"Best params: {}\".format(optimal_params))\n",
        "    print(\"Best F1 Score: {}\\n {}\".format(best_f1, seperator))\n",
        "    f.write(\"Best params: {}\\n Best F1 Score = {}\\n{}\\n\".format(optimal_params, best_f1, seperator))\n",
        "    f.close()\n",
        "  else:\n",
        "    g = open(\"#5_b-All Parameters.txt\", 'a+')\n",
        "    best_f1 = 0.0\n",
        "    optimal_params = None\n",
        "    for params in grid:\n",
        "      f1 = model_validation_FBoW_5(classifier(**params))\n",
        "      g.write(\"{} --------> F1 = {}\\n\".format(params, f1))\n",
        "      print(\"{} --------> F1 = {}\".format(params, f1))\n",
        "      if f1 > best_f1:\n",
        "          best_f1 = f1\n",
        "          optimal_params = params       \n",
        "    print(\"Best params: {}\".format(optimal_params))\n",
        "    print(\"Best F1 Score: {}\\n {} \\n\".format(best_f1, seperator))\n",
        "    g.write(\"Best params: {}\\n Best F1 Score = {}\\n{}\\n\".format(optimal_params, best_f1, seperator))\n",
        "    g.close()    \n",
        "  return classifier(**optimal_params)\n",
        "\n",
        "###########################################################################\n",
        "\n",
        "def model_train_valid_test_FBoW_3(model):\n",
        "  model.fit(freq_Yelp_train_vec, class_Yelp_train_freq)\n",
        "  train = model.predict(freq_Yelp_train_vec)\n",
        "  valid = model.predict(freq_Yelp_valid_vec)\n",
        "  test = model.predict(freq_Yelp_test_vec)\n",
        "  f1_train = f1_score(class_Yelp_train_freq, train, average='micro')\n",
        "  f1_valid = f1_score(class_Yelp_valid_freq, valid, average='micro')\n",
        "  f1_test = f1_score(class_Yelp_test_freq, test, average='micro')\n",
        "  return f1_train, f1_valid, f1_test\n"
      ],
      "execution_count": 66,
      "outputs": []
    },
    {
      "cell_type": "code",
      "metadata": {
        "id": "ynorHY1LzjKK",
        "outputId": "0bf99ccf-e719-436f-82db-c34e483d46f7",
        "colab": {
          "base_uri": "https://localhost:8080/"
        }
      },
      "source": [
        "%%time\n",
        "\n",
        "\n",
        "uni_random = DC(strategy = 'uniform')\n",
        "majority_c = DC(strategy = 'most_frequent')\n",
        "\n",
        "print('Random Classifier = {}'.format(model_validation_FBoW_3(uni_random)))\n",
        "print('Majority Classifier = {}'.format(model_validation_FBoW_3(majority_c)))\n",
        "\n",
        "for param in classifiers:\n",
        "    clf = param[0]\n",
        "    param_grid = param[1]\n",
        "    print(clf)    \n",
        "    best_clf = optimize_parameters_FBoW(clf, param_grid)"
      ],
      "execution_count": 67,
      "outputs": [
        {
          "output_type": "stream",
          "text": [
            "Random Classifier = 0.213\n",
            "Majority Classifier = 0.356\n",
            "<class 'sklearn.naive_bayes.BernoulliNB'>\n",
            "{'alpha': 0.001}-----> F1 = 0.416\n",
            "{'alpha': 0.002}-----> F1 = 0.414\n",
            "{'alpha': 0.003}-----> F1 = 0.415\n",
            "{'alpha': 0.004}-----> F1 = 0.41999999999999993\n",
            "{'alpha': 0.005}-----> F1 = 0.421\n",
            "{'alpha': 0.006}-----> F1 = 0.421\n",
            "{'alpha': 0.007}-----> F1 = 0.421\n",
            "{'alpha': 0.008}-----> F1 = 0.421\n",
            "{'alpha': 0.009}-----> F1 = 0.419\n",
            "{'alpha': 0.01}-----> F1 = 0.419\n",
            "{'alpha': 0.02}-----> F1 = 0.421\n",
            "{'alpha': 0.05}-----> F1 = 0.413\n",
            "{'alpha': 0.1}-----> F1 = 0.40700000000000003\n",
            "Best params: {'alpha': 0.005}\n",
            "Best F1 Score: 0.421\n",
            " ####################################################################################################\n",
            "<class 'sklearn.tree._classes.DecisionTreeClassifier'>\n",
            "{'criterion': 'gini', 'max_depth': 8, 'max_features': None, 'min_samples_leaf': 0.2, 'min_samples_split': 2}-----> F1 = 0.38499999999999995\n",
            "{'criterion': 'gini', 'max_depth': 8, 'max_features': None, 'min_samples_leaf': 0.2, 'min_samples_split': 3}-----> F1 = 0.38499999999999995\n",
            "{'criterion': 'gini', 'max_depth': 8, 'max_features': None, 'min_samples_leaf': 0.2, 'min_samples_split': 5}-----> F1 = 0.38499999999999995\n",
            "{'criterion': 'gini', 'max_depth': 8, 'max_features': None, 'min_samples_leaf': 0.2, 'min_samples_split': 10}-----> F1 = 0.38499999999999995\n",
            "{'criterion': 'gini', 'max_depth': 8, 'max_features': None, 'min_samples_leaf': 0.2, 'min_samples_split': 20}-----> F1 = 0.38499999999999995\n",
            "{'criterion': 'gini', 'max_depth': 8, 'max_features': None, 'min_samples_leaf': 0.49, 'min_samples_split': 2}-----> F1 = 0.39\n",
            "{'criterion': 'gini', 'max_depth': 8, 'max_features': None, 'min_samples_leaf': 0.49, 'min_samples_split': 3}-----> F1 = 0.39\n",
            "{'criterion': 'gini', 'max_depth': 8, 'max_features': None, 'min_samples_leaf': 0.49, 'min_samples_split': 5}-----> F1 = 0.39\n",
            "{'criterion': 'gini', 'max_depth': 8, 'max_features': None, 'min_samples_leaf': 0.49, 'min_samples_split': 10}-----> F1 = 0.39\n",
            "{'criterion': 'gini', 'max_depth': 8, 'max_features': None, 'min_samples_leaf': 0.49, 'min_samples_split': 20}-----> F1 = 0.39\n",
            "{'criterion': 'gini', 'max_depth': 8, 'max_features': 'sqrt', 'min_samples_leaf': 0.2, 'min_samples_split': 2}-----> F1 = 0.36\n",
            "{'criterion': 'gini', 'max_depth': 8, 'max_features': 'sqrt', 'min_samples_leaf': 0.2, 'min_samples_split': 3}-----> F1 = 0.356\n",
            "{'criterion': 'gini', 'max_depth': 8, 'max_features': 'sqrt', 'min_samples_leaf': 0.2, 'min_samples_split': 5}-----> F1 = 0.356\n",
            "{'criterion': 'gini', 'max_depth': 8, 'max_features': 'sqrt', 'min_samples_leaf': 0.2, 'min_samples_split': 10}-----> F1 = 0.326\n",
            "{'criterion': 'gini', 'max_depth': 8, 'max_features': 'sqrt', 'min_samples_leaf': 0.2, 'min_samples_split': 20}-----> F1 = 0.356\n",
            "{'criterion': 'gini', 'max_depth': 8, 'max_features': 'sqrt', 'min_samples_leaf': 0.49, 'min_samples_split': 2}-----> F1 = 0.356\n",
            "{'criterion': 'gini', 'max_depth': 8, 'max_features': 'sqrt', 'min_samples_leaf': 0.49, 'min_samples_split': 3}-----> F1 = 0.356\n",
            "{'criterion': 'gini', 'max_depth': 8, 'max_features': 'sqrt', 'min_samples_leaf': 0.49, 'min_samples_split': 5}-----> F1 = 0.356\n",
            "{'criterion': 'gini', 'max_depth': 8, 'max_features': 'sqrt', 'min_samples_leaf': 0.49, 'min_samples_split': 10}-----> F1 = 0.356\n",
            "{'criterion': 'gini', 'max_depth': 8, 'max_features': 'sqrt', 'min_samples_leaf': 0.49, 'min_samples_split': 20}-----> F1 = 0.356\n",
            "{'criterion': 'gini', 'max_depth': 8, 'max_features': 'log2', 'min_samples_leaf': 0.2, 'min_samples_split': 2}-----> F1 = 0.356\n",
            "{'criterion': 'gini', 'max_depth': 8, 'max_features': 'log2', 'min_samples_leaf': 0.2, 'min_samples_split': 3}-----> F1 = 0.356\n",
            "{'criterion': 'gini', 'max_depth': 8, 'max_features': 'log2', 'min_samples_leaf': 0.2, 'min_samples_split': 5}-----> F1 = 0.356\n",
            "{'criterion': 'gini', 'max_depth': 8, 'max_features': 'log2', 'min_samples_leaf': 0.2, 'min_samples_split': 10}-----> F1 = 0.356\n",
            "{'criterion': 'gini', 'max_depth': 8, 'max_features': 'log2', 'min_samples_leaf': 0.2, 'min_samples_split': 20}-----> F1 = 0.356\n",
            "{'criterion': 'gini', 'max_depth': 8, 'max_features': 'log2', 'min_samples_leaf': 0.49, 'min_samples_split': 2}-----> F1 = 0.356\n",
            "{'criterion': 'gini', 'max_depth': 8, 'max_features': 'log2', 'min_samples_leaf': 0.49, 'min_samples_split': 3}-----> F1 = 0.356\n",
            "{'criterion': 'gini', 'max_depth': 8, 'max_features': 'log2', 'min_samples_leaf': 0.49, 'min_samples_split': 5}-----> F1 = 0.356\n",
            "{'criterion': 'gini', 'max_depth': 8, 'max_features': 'log2', 'min_samples_leaf': 0.49, 'min_samples_split': 10}-----> F1 = 0.356\n",
            "{'criterion': 'gini', 'max_depth': 8, 'max_features': 'log2', 'min_samples_leaf': 0.49, 'min_samples_split': 20}-----> F1 = 0.356\n",
            "{'criterion': 'gini', 'max_depth': 9, 'max_features': None, 'min_samples_leaf': 0.2, 'min_samples_split': 2}-----> F1 = 0.38499999999999995\n",
            "{'criterion': 'gini', 'max_depth': 9, 'max_features': None, 'min_samples_leaf': 0.2, 'min_samples_split': 3}-----> F1 = 0.38499999999999995\n",
            "{'criterion': 'gini', 'max_depth': 9, 'max_features': None, 'min_samples_leaf': 0.2, 'min_samples_split': 5}-----> F1 = 0.38499999999999995\n",
            "{'criterion': 'gini', 'max_depth': 9, 'max_features': None, 'min_samples_leaf': 0.2, 'min_samples_split': 10}-----> F1 = 0.38499999999999995\n",
            "{'criterion': 'gini', 'max_depth': 9, 'max_features': None, 'min_samples_leaf': 0.2, 'min_samples_split': 20}-----> F1 = 0.38499999999999995\n",
            "{'criterion': 'gini', 'max_depth': 9, 'max_features': None, 'min_samples_leaf': 0.49, 'min_samples_split': 2}-----> F1 = 0.39\n",
            "{'criterion': 'gini', 'max_depth': 9, 'max_features': None, 'min_samples_leaf': 0.49, 'min_samples_split': 3}-----> F1 = 0.39\n",
            "{'criterion': 'gini', 'max_depth': 9, 'max_features': None, 'min_samples_leaf': 0.49, 'min_samples_split': 5}-----> F1 = 0.39\n",
            "{'criterion': 'gini', 'max_depth': 9, 'max_features': None, 'min_samples_leaf': 0.49, 'min_samples_split': 10}-----> F1 = 0.39\n",
            "{'criterion': 'gini', 'max_depth': 9, 'max_features': None, 'min_samples_leaf': 0.49, 'min_samples_split': 20}-----> F1 = 0.39\n",
            "{'criterion': 'gini', 'max_depth': 9, 'max_features': 'sqrt', 'min_samples_leaf': 0.2, 'min_samples_split': 2}-----> F1 = 0.356\n",
            "{'criterion': 'gini', 'max_depth': 9, 'max_features': 'sqrt', 'min_samples_leaf': 0.2, 'min_samples_split': 3}-----> F1 = 0.338\n",
            "{'criterion': 'gini', 'max_depth': 9, 'max_features': 'sqrt', 'min_samples_leaf': 0.2, 'min_samples_split': 5}-----> F1 = 0.356\n",
            "{'criterion': 'gini', 'max_depth': 9, 'max_features': 'sqrt', 'min_samples_leaf': 0.2, 'min_samples_split': 10}-----> F1 = 0.347\n",
            "{'criterion': 'gini', 'max_depth': 9, 'max_features': 'sqrt', 'min_samples_leaf': 0.2, 'min_samples_split': 20}-----> F1 = 0.356\n",
            "{'criterion': 'gini', 'max_depth': 9, 'max_features': 'sqrt', 'min_samples_leaf': 0.49, 'min_samples_split': 2}-----> F1 = 0.356\n",
            "{'criterion': 'gini', 'max_depth': 9, 'max_features': 'sqrt', 'min_samples_leaf': 0.49, 'min_samples_split': 3}-----> F1 = 0.356\n",
            "{'criterion': 'gini', 'max_depth': 9, 'max_features': 'sqrt', 'min_samples_leaf': 0.49, 'min_samples_split': 5}-----> F1 = 0.356\n",
            "{'criterion': 'gini', 'max_depth': 9, 'max_features': 'sqrt', 'min_samples_leaf': 0.49, 'min_samples_split': 10}-----> F1 = 0.356\n",
            "{'criterion': 'gini', 'max_depth': 9, 'max_features': 'sqrt', 'min_samples_leaf': 0.49, 'min_samples_split': 20}-----> F1 = 0.356\n",
            "{'criterion': 'gini', 'max_depth': 9, 'max_features': 'log2', 'min_samples_leaf': 0.2, 'min_samples_split': 2}-----> F1 = 0.356\n",
            "{'criterion': 'gini', 'max_depth': 9, 'max_features': 'log2', 'min_samples_leaf': 0.2, 'min_samples_split': 3}-----> F1 = 0.356\n",
            "{'criterion': 'gini', 'max_depth': 9, 'max_features': 'log2', 'min_samples_leaf': 0.2, 'min_samples_split': 5}-----> F1 = 0.356\n",
            "{'criterion': 'gini', 'max_depth': 9, 'max_features': 'log2', 'min_samples_leaf': 0.2, 'min_samples_split': 10}-----> F1 = 0.356\n",
            "{'criterion': 'gini', 'max_depth': 9, 'max_features': 'log2', 'min_samples_leaf': 0.2, 'min_samples_split': 20}-----> F1 = 0.356\n",
            "{'criterion': 'gini', 'max_depth': 9, 'max_features': 'log2', 'min_samples_leaf': 0.49, 'min_samples_split': 2}-----> F1 = 0.356\n",
            "{'criterion': 'gini', 'max_depth': 9, 'max_features': 'log2', 'min_samples_leaf': 0.49, 'min_samples_split': 3}-----> F1 = 0.356\n",
            "{'criterion': 'gini', 'max_depth': 9, 'max_features': 'log2', 'min_samples_leaf': 0.49, 'min_samples_split': 5}-----> F1 = 0.356\n",
            "{'criterion': 'gini', 'max_depth': 9, 'max_features': 'log2', 'min_samples_leaf': 0.49, 'min_samples_split': 10}-----> F1 = 0.356\n",
            "{'criterion': 'gini', 'max_depth': 9, 'max_features': 'log2', 'min_samples_leaf': 0.49, 'min_samples_split': 20}-----> F1 = 0.356\n",
            "{'criterion': 'gini', 'max_depth': 10, 'max_features': None, 'min_samples_leaf': 0.2, 'min_samples_split': 2}-----> F1 = 0.38499999999999995\n",
            "{'criterion': 'gini', 'max_depth': 10, 'max_features': None, 'min_samples_leaf': 0.2, 'min_samples_split': 3}-----> F1 = 0.38499999999999995\n",
            "{'criterion': 'gini', 'max_depth': 10, 'max_features': None, 'min_samples_leaf': 0.2, 'min_samples_split': 5}-----> F1 = 0.38499999999999995\n",
            "{'criterion': 'gini', 'max_depth': 10, 'max_features': None, 'min_samples_leaf': 0.2, 'min_samples_split': 10}-----> F1 = 0.38499999999999995\n",
            "{'criterion': 'gini', 'max_depth': 10, 'max_features': None, 'min_samples_leaf': 0.2, 'min_samples_split': 20}-----> F1 = 0.38499999999999995\n",
            "{'criterion': 'gini', 'max_depth': 10, 'max_features': None, 'min_samples_leaf': 0.49, 'min_samples_split': 2}-----> F1 = 0.39\n",
            "{'criterion': 'gini', 'max_depth': 10, 'max_features': None, 'min_samples_leaf': 0.49, 'min_samples_split': 3}-----> F1 = 0.39\n",
            "{'criterion': 'gini', 'max_depth': 10, 'max_features': None, 'min_samples_leaf': 0.49, 'min_samples_split': 5}-----> F1 = 0.39\n",
            "{'criterion': 'gini', 'max_depth': 10, 'max_features': None, 'min_samples_leaf': 0.49, 'min_samples_split': 10}-----> F1 = 0.39\n",
            "{'criterion': 'gini', 'max_depth': 10, 'max_features': None, 'min_samples_leaf': 0.49, 'min_samples_split': 20}-----> F1 = 0.39\n",
            "{'criterion': 'gini', 'max_depth': 10, 'max_features': 'sqrt', 'min_samples_leaf': 0.2, 'min_samples_split': 2}-----> F1 = 0.32\n",
            "{'criterion': 'gini', 'max_depth': 10, 'max_features': 'sqrt', 'min_samples_leaf': 0.2, 'min_samples_split': 3}-----> F1 = 0.327\n",
            "{'criterion': 'gini', 'max_depth': 10, 'max_features': 'sqrt', 'min_samples_leaf': 0.2, 'min_samples_split': 5}-----> F1 = 0.317\n",
            "{'criterion': 'gini', 'max_depth': 10, 'max_features': 'sqrt', 'min_samples_leaf': 0.2, 'min_samples_split': 10}-----> F1 = 0.333\n",
            "{'criterion': 'gini', 'max_depth': 10, 'max_features': 'sqrt', 'min_samples_leaf': 0.2, 'min_samples_split': 20}-----> F1 = 0.347\n",
            "{'criterion': 'gini', 'max_depth': 10, 'max_features': 'sqrt', 'min_samples_leaf': 0.49, 'min_samples_split': 2}-----> F1 = 0.356\n",
            "{'criterion': 'gini', 'max_depth': 10, 'max_features': 'sqrt', 'min_samples_leaf': 0.49, 'min_samples_split': 3}-----> F1 = 0.356\n",
            "{'criterion': 'gini', 'max_depth': 10, 'max_features': 'sqrt', 'min_samples_leaf': 0.49, 'min_samples_split': 5}-----> F1 = 0.356\n",
            "{'criterion': 'gini', 'max_depth': 10, 'max_features': 'sqrt', 'min_samples_leaf': 0.49, 'min_samples_split': 10}-----> F1 = 0.356\n",
            "{'criterion': 'gini', 'max_depth': 10, 'max_features': 'sqrt', 'min_samples_leaf': 0.49, 'min_samples_split': 20}-----> F1 = 0.346\n",
            "{'criterion': 'gini', 'max_depth': 10, 'max_features': 'log2', 'min_samples_leaf': 0.2, 'min_samples_split': 2}-----> F1 = 0.356\n",
            "{'criterion': 'gini', 'max_depth': 10, 'max_features': 'log2', 'min_samples_leaf': 0.2, 'min_samples_split': 3}-----> F1 = 0.356\n",
            "{'criterion': 'gini', 'max_depth': 10, 'max_features': 'log2', 'min_samples_leaf': 0.2, 'min_samples_split': 5}-----> F1 = 0.321\n",
            "{'criterion': 'gini', 'max_depth': 10, 'max_features': 'log2', 'min_samples_leaf': 0.2, 'min_samples_split': 10}-----> F1 = 0.356\n",
            "{'criterion': 'gini', 'max_depth': 10, 'max_features': 'log2', 'min_samples_leaf': 0.2, 'min_samples_split': 20}-----> F1 = 0.356\n",
            "{'criterion': 'gini', 'max_depth': 10, 'max_features': 'log2', 'min_samples_leaf': 0.49, 'min_samples_split': 2}-----> F1 = 0.356\n",
            "{'criterion': 'gini', 'max_depth': 10, 'max_features': 'log2', 'min_samples_leaf': 0.49, 'min_samples_split': 3}-----> F1 = 0.356\n",
            "{'criterion': 'gini', 'max_depth': 10, 'max_features': 'log2', 'min_samples_leaf': 0.49, 'min_samples_split': 5}-----> F1 = 0.356\n",
            "{'criterion': 'gini', 'max_depth': 10, 'max_features': 'log2', 'min_samples_leaf': 0.49, 'min_samples_split': 10}-----> F1 = 0.356\n",
            "{'criterion': 'gini', 'max_depth': 10, 'max_features': 'log2', 'min_samples_leaf': 0.49, 'min_samples_split': 20}-----> F1 = 0.356\n",
            "{'criterion': 'gini', 'max_depth': 15, 'max_features': None, 'min_samples_leaf': 0.2, 'min_samples_split': 2}-----> F1 = 0.38499999999999995\n",
            "{'criterion': 'gini', 'max_depth': 15, 'max_features': None, 'min_samples_leaf': 0.2, 'min_samples_split': 3}-----> F1 = 0.38499999999999995\n",
            "{'criterion': 'gini', 'max_depth': 15, 'max_features': None, 'min_samples_leaf': 0.2, 'min_samples_split': 5}-----> F1 = 0.38499999999999995\n",
            "{'criterion': 'gini', 'max_depth': 15, 'max_features': None, 'min_samples_leaf': 0.2, 'min_samples_split': 10}-----> F1 = 0.38499999999999995\n",
            "{'criterion': 'gini', 'max_depth': 15, 'max_features': None, 'min_samples_leaf': 0.2, 'min_samples_split': 20}-----> F1 = 0.38499999999999995\n",
            "{'criterion': 'gini', 'max_depth': 15, 'max_features': None, 'min_samples_leaf': 0.49, 'min_samples_split': 2}-----> F1 = 0.39\n",
            "{'criterion': 'gini', 'max_depth': 15, 'max_features': None, 'min_samples_leaf': 0.49, 'min_samples_split': 3}-----> F1 = 0.39\n",
            "{'criterion': 'gini', 'max_depth': 15, 'max_features': None, 'min_samples_leaf': 0.49, 'min_samples_split': 5}-----> F1 = 0.39\n",
            "{'criterion': 'gini', 'max_depth': 15, 'max_features': None, 'min_samples_leaf': 0.49, 'min_samples_split': 10}-----> F1 = 0.39\n",
            "{'criterion': 'gini', 'max_depth': 15, 'max_features': None, 'min_samples_leaf': 0.49, 'min_samples_split': 20}-----> F1 = 0.39\n",
            "{'criterion': 'gini', 'max_depth': 15, 'max_features': 'sqrt', 'min_samples_leaf': 0.2, 'min_samples_split': 2}-----> F1 = 0.356\n",
            "{'criterion': 'gini', 'max_depth': 15, 'max_features': 'sqrt', 'min_samples_leaf': 0.2, 'min_samples_split': 3}-----> F1 = 0.356\n",
            "{'criterion': 'gini', 'max_depth': 15, 'max_features': 'sqrt', 'min_samples_leaf': 0.2, 'min_samples_split': 5}-----> F1 = 0.321\n",
            "{'criterion': 'gini', 'max_depth': 15, 'max_features': 'sqrt', 'min_samples_leaf': 0.2, 'min_samples_split': 10}-----> F1 = 0.37\n",
            "{'criterion': 'gini', 'max_depth': 15, 'max_features': 'sqrt', 'min_samples_leaf': 0.2, 'min_samples_split': 20}-----> F1 = 0.338\n",
            "{'criterion': 'gini', 'max_depth': 15, 'max_features': 'sqrt', 'min_samples_leaf': 0.49, 'min_samples_split': 2}-----> F1 = 0.332\n",
            "{'criterion': 'gini', 'max_depth': 15, 'max_features': 'sqrt', 'min_samples_leaf': 0.49, 'min_samples_split': 3}-----> F1 = 0.356\n",
            "{'criterion': 'gini', 'max_depth': 15, 'max_features': 'sqrt', 'min_samples_leaf': 0.49, 'min_samples_split': 5}-----> F1 = 0.356\n",
            "{'criterion': 'gini', 'max_depth': 15, 'max_features': 'sqrt', 'min_samples_leaf': 0.49, 'min_samples_split': 10}-----> F1 = 0.356\n",
            "{'criterion': 'gini', 'max_depth': 15, 'max_features': 'sqrt', 'min_samples_leaf': 0.49, 'min_samples_split': 20}-----> F1 = 0.356\n",
            "{'criterion': 'gini', 'max_depth': 15, 'max_features': 'log2', 'min_samples_leaf': 0.2, 'min_samples_split': 2}-----> F1 = 0.356\n",
            "{'criterion': 'gini', 'max_depth': 15, 'max_features': 'log2', 'min_samples_leaf': 0.2, 'min_samples_split': 3}-----> F1 = 0.356\n",
            "{'criterion': 'gini', 'max_depth': 15, 'max_features': 'log2', 'min_samples_leaf': 0.2, 'min_samples_split': 5}-----> F1 = 0.356\n",
            "{'criterion': 'gini', 'max_depth': 15, 'max_features': 'log2', 'min_samples_leaf': 0.2, 'min_samples_split': 10}-----> F1 = 0.356\n",
            "{'criterion': 'gini', 'max_depth': 15, 'max_features': 'log2', 'min_samples_leaf': 0.2, 'min_samples_split': 20}-----> F1 = 0.356\n",
            "{'criterion': 'gini', 'max_depth': 15, 'max_features': 'log2', 'min_samples_leaf': 0.49, 'min_samples_split': 2}-----> F1 = 0.356\n",
            "{'criterion': 'gini', 'max_depth': 15, 'max_features': 'log2', 'min_samples_leaf': 0.49, 'min_samples_split': 3}-----> F1 = 0.356\n",
            "{'criterion': 'gini', 'max_depth': 15, 'max_features': 'log2', 'min_samples_leaf': 0.49, 'min_samples_split': 5}-----> F1 = 0.356\n",
            "{'criterion': 'gini', 'max_depth': 15, 'max_features': 'log2', 'min_samples_leaf': 0.49, 'min_samples_split': 10}-----> F1 = 0.356\n",
            "{'criterion': 'gini', 'max_depth': 15, 'max_features': 'log2', 'min_samples_leaf': 0.49, 'min_samples_split': 20}-----> F1 = 0.356\n",
            "{'criterion': 'gini', 'max_depth': 20, 'max_features': None, 'min_samples_leaf': 0.2, 'min_samples_split': 2}-----> F1 = 0.38499999999999995\n",
            "{'criterion': 'gini', 'max_depth': 20, 'max_features': None, 'min_samples_leaf': 0.2, 'min_samples_split': 3}-----> F1 = 0.38499999999999995\n",
            "{'criterion': 'gini', 'max_depth': 20, 'max_features': None, 'min_samples_leaf': 0.2, 'min_samples_split': 5}-----> F1 = 0.38499999999999995\n",
            "{'criterion': 'gini', 'max_depth': 20, 'max_features': None, 'min_samples_leaf': 0.2, 'min_samples_split': 10}-----> F1 = 0.38499999999999995\n",
            "{'criterion': 'gini', 'max_depth': 20, 'max_features': None, 'min_samples_leaf': 0.2, 'min_samples_split': 20}-----> F1 = 0.38499999999999995\n",
            "{'criterion': 'gini', 'max_depth': 20, 'max_features': None, 'min_samples_leaf': 0.49, 'min_samples_split': 2}-----> F1 = 0.39\n",
            "{'criterion': 'gini', 'max_depth': 20, 'max_features': None, 'min_samples_leaf': 0.49, 'min_samples_split': 3}-----> F1 = 0.39\n",
            "{'criterion': 'gini', 'max_depth': 20, 'max_features': None, 'min_samples_leaf': 0.49, 'min_samples_split': 5}-----> F1 = 0.39\n",
            "{'criterion': 'gini', 'max_depth': 20, 'max_features': None, 'min_samples_leaf': 0.49, 'min_samples_split': 10}-----> F1 = 0.39\n",
            "{'criterion': 'gini', 'max_depth': 20, 'max_features': None, 'min_samples_leaf': 0.49, 'min_samples_split': 20}-----> F1 = 0.39\n",
            "{'criterion': 'gini', 'max_depth': 20, 'max_features': 'sqrt', 'min_samples_leaf': 0.2, 'min_samples_split': 2}-----> F1 = 0.318\n",
            "{'criterion': 'gini', 'max_depth': 20, 'max_features': 'sqrt', 'min_samples_leaf': 0.2, 'min_samples_split': 3}-----> F1 = 0.32\n",
            "{'criterion': 'gini', 'max_depth': 20, 'max_features': 'sqrt', 'min_samples_leaf': 0.2, 'min_samples_split': 5}-----> F1 = 0.347\n",
            "{'criterion': 'gini', 'max_depth': 20, 'max_features': 'sqrt', 'min_samples_leaf': 0.2, 'min_samples_split': 10}-----> F1 = 0.323\n",
            "{'criterion': 'gini', 'max_depth': 20, 'max_features': 'sqrt', 'min_samples_leaf': 0.2, 'min_samples_split': 20}-----> F1 = 0.298\n",
            "{'criterion': 'gini', 'max_depth': 20, 'max_features': 'sqrt', 'min_samples_leaf': 0.49, 'min_samples_split': 2}-----> F1 = 0.356\n",
            "{'criterion': 'gini', 'max_depth': 20, 'max_features': 'sqrt', 'min_samples_leaf': 0.49, 'min_samples_split': 3}-----> F1 = 0.356\n",
            "{'criterion': 'gini', 'max_depth': 20, 'max_features': 'sqrt', 'min_samples_leaf': 0.49, 'min_samples_split': 5}-----> F1 = 0.356\n",
            "{'criterion': 'gini', 'max_depth': 20, 'max_features': 'sqrt', 'min_samples_leaf': 0.49, 'min_samples_split': 10}-----> F1 = 0.356\n",
            "{'criterion': 'gini', 'max_depth': 20, 'max_features': 'sqrt', 'min_samples_leaf': 0.49, 'min_samples_split': 20}-----> F1 = 0.356\n",
            "{'criterion': 'gini', 'max_depth': 20, 'max_features': 'log2', 'min_samples_leaf': 0.2, 'min_samples_split': 2}-----> F1 = 0.356\n",
            "{'criterion': 'gini', 'max_depth': 20, 'max_features': 'log2', 'min_samples_leaf': 0.2, 'min_samples_split': 3}-----> F1 = 0.337\n",
            "{'criterion': 'gini', 'max_depth': 20, 'max_features': 'log2', 'min_samples_leaf': 0.2, 'min_samples_split': 5}-----> F1 = 0.356\n",
            "{'criterion': 'gini', 'max_depth': 20, 'max_features': 'log2', 'min_samples_leaf': 0.2, 'min_samples_split': 10}-----> F1 = 0.356\n",
            "{'criterion': 'gini', 'max_depth': 20, 'max_features': 'log2', 'min_samples_leaf': 0.2, 'min_samples_split': 20}-----> F1 = 0.356\n",
            "{'criterion': 'gini', 'max_depth': 20, 'max_features': 'log2', 'min_samples_leaf': 0.49, 'min_samples_split': 2}-----> F1 = 0.356\n",
            "{'criterion': 'gini', 'max_depth': 20, 'max_features': 'log2', 'min_samples_leaf': 0.49, 'min_samples_split': 3}-----> F1 = 0.356\n",
            "{'criterion': 'gini', 'max_depth': 20, 'max_features': 'log2', 'min_samples_leaf': 0.49, 'min_samples_split': 5}-----> F1 = 0.356\n",
            "{'criterion': 'gini', 'max_depth': 20, 'max_features': 'log2', 'min_samples_leaf': 0.49, 'min_samples_split': 10}-----> F1 = 0.356\n",
            "{'criterion': 'gini', 'max_depth': 20, 'max_features': 'log2', 'min_samples_leaf': 0.49, 'min_samples_split': 20}-----> F1 = 0.356\n",
            "{'criterion': 'gini', 'max_depth': 30, 'max_features': None, 'min_samples_leaf': 0.2, 'min_samples_split': 2}-----> F1 = 0.38499999999999995\n",
            "{'criterion': 'gini', 'max_depth': 30, 'max_features': None, 'min_samples_leaf': 0.2, 'min_samples_split': 3}-----> F1 = 0.38499999999999995\n",
            "{'criterion': 'gini', 'max_depth': 30, 'max_features': None, 'min_samples_leaf': 0.2, 'min_samples_split': 5}-----> F1 = 0.38499999999999995\n",
            "{'criterion': 'gini', 'max_depth': 30, 'max_features': None, 'min_samples_leaf': 0.2, 'min_samples_split': 10}-----> F1 = 0.38499999999999995\n",
            "{'criterion': 'gini', 'max_depth': 30, 'max_features': None, 'min_samples_leaf': 0.2, 'min_samples_split': 20}-----> F1 = 0.38499999999999995\n",
            "{'criterion': 'gini', 'max_depth': 30, 'max_features': None, 'min_samples_leaf': 0.49, 'min_samples_split': 2}-----> F1 = 0.39\n",
            "{'criterion': 'gini', 'max_depth': 30, 'max_features': None, 'min_samples_leaf': 0.49, 'min_samples_split': 3}-----> F1 = 0.39\n",
            "{'criterion': 'gini', 'max_depth': 30, 'max_features': None, 'min_samples_leaf': 0.49, 'min_samples_split': 5}-----> F1 = 0.39\n",
            "{'criterion': 'gini', 'max_depth': 30, 'max_features': None, 'min_samples_leaf': 0.49, 'min_samples_split': 10}-----> F1 = 0.39\n",
            "{'criterion': 'gini', 'max_depth': 30, 'max_features': None, 'min_samples_leaf': 0.49, 'min_samples_split': 20}-----> F1 = 0.39\n",
            "{'criterion': 'gini', 'max_depth': 30, 'max_features': 'sqrt', 'min_samples_leaf': 0.2, 'min_samples_split': 2}-----> F1 = 0.356\n",
            "{'criterion': 'gini', 'max_depth': 30, 'max_features': 'sqrt', 'min_samples_leaf': 0.2, 'min_samples_split': 3}-----> F1 = 0.356\n",
            "{'criterion': 'gini', 'max_depth': 30, 'max_features': 'sqrt', 'min_samples_leaf': 0.2, 'min_samples_split': 5}-----> F1 = 0.356\n",
            "{'criterion': 'gini', 'max_depth': 30, 'max_features': 'sqrt', 'min_samples_leaf': 0.2, 'min_samples_split': 10}-----> F1 = 0.356\n",
            "{'criterion': 'gini', 'max_depth': 30, 'max_features': 'sqrt', 'min_samples_leaf': 0.2, 'min_samples_split': 20}-----> F1 = 0.356\n",
            "{'criterion': 'gini', 'max_depth': 30, 'max_features': 'sqrt', 'min_samples_leaf': 0.49, 'min_samples_split': 2}-----> F1 = 0.356\n",
            "{'criterion': 'gini', 'max_depth': 30, 'max_features': 'sqrt', 'min_samples_leaf': 0.49, 'min_samples_split': 3}-----> F1 = 0.356\n",
            "{'criterion': 'gini', 'max_depth': 30, 'max_features': 'sqrt', 'min_samples_leaf': 0.49, 'min_samples_split': 5}-----> F1 = 0.356\n",
            "{'criterion': 'gini', 'max_depth': 30, 'max_features': 'sqrt', 'min_samples_leaf': 0.49, 'min_samples_split': 10}-----> F1 = 0.356\n",
            "{'criterion': 'gini', 'max_depth': 30, 'max_features': 'sqrt', 'min_samples_leaf': 0.49, 'min_samples_split': 20}-----> F1 = 0.356\n",
            "{'criterion': 'gini', 'max_depth': 30, 'max_features': 'log2', 'min_samples_leaf': 0.2, 'min_samples_split': 2}-----> F1 = 0.356\n",
            "{'criterion': 'gini', 'max_depth': 30, 'max_features': 'log2', 'min_samples_leaf': 0.2, 'min_samples_split': 3}-----> F1 = 0.356\n",
            "{'criterion': 'gini', 'max_depth': 30, 'max_features': 'log2', 'min_samples_leaf': 0.2, 'min_samples_split': 5}-----> F1 = 0.356\n",
            "{'criterion': 'gini', 'max_depth': 30, 'max_features': 'log2', 'min_samples_leaf': 0.2, 'min_samples_split': 10}-----> F1 = 0.356\n",
            "{'criterion': 'gini', 'max_depth': 30, 'max_features': 'log2', 'min_samples_leaf': 0.2, 'min_samples_split': 20}-----> F1 = 0.356\n",
            "{'criterion': 'gini', 'max_depth': 30, 'max_features': 'log2', 'min_samples_leaf': 0.49, 'min_samples_split': 2}-----> F1 = 0.356\n",
            "{'criterion': 'gini', 'max_depth': 30, 'max_features': 'log2', 'min_samples_leaf': 0.49, 'min_samples_split': 3}-----> F1 = 0.356\n",
            "{'criterion': 'gini', 'max_depth': 30, 'max_features': 'log2', 'min_samples_leaf': 0.49, 'min_samples_split': 5}-----> F1 = 0.356\n",
            "{'criterion': 'gini', 'max_depth': 30, 'max_features': 'log2', 'min_samples_leaf': 0.49, 'min_samples_split': 10}-----> F1 = 0.326\n",
            "{'criterion': 'gini', 'max_depth': 30, 'max_features': 'log2', 'min_samples_leaf': 0.49, 'min_samples_split': 20}-----> F1 = 0.356\n",
            "{'criterion': 'gini', 'max_depth': 50, 'max_features': None, 'min_samples_leaf': 0.2, 'min_samples_split': 2}-----> F1 = 0.38499999999999995\n",
            "{'criterion': 'gini', 'max_depth': 50, 'max_features': None, 'min_samples_leaf': 0.2, 'min_samples_split': 3}-----> F1 = 0.38499999999999995\n",
            "{'criterion': 'gini', 'max_depth': 50, 'max_features': None, 'min_samples_leaf': 0.2, 'min_samples_split': 5}-----> F1 = 0.38499999999999995\n",
            "{'criterion': 'gini', 'max_depth': 50, 'max_features': None, 'min_samples_leaf': 0.2, 'min_samples_split': 10}-----> F1 = 0.38499999999999995\n",
            "{'criterion': 'gini', 'max_depth': 50, 'max_features': None, 'min_samples_leaf': 0.2, 'min_samples_split': 20}-----> F1 = 0.38499999999999995\n",
            "{'criterion': 'gini', 'max_depth': 50, 'max_features': None, 'min_samples_leaf': 0.49, 'min_samples_split': 2}-----> F1 = 0.39\n",
            "{'criterion': 'gini', 'max_depth': 50, 'max_features': None, 'min_samples_leaf': 0.49, 'min_samples_split': 3}-----> F1 = 0.39\n",
            "{'criterion': 'gini', 'max_depth': 50, 'max_features': None, 'min_samples_leaf': 0.49, 'min_samples_split': 5}-----> F1 = 0.39\n",
            "{'criterion': 'gini', 'max_depth': 50, 'max_features': None, 'min_samples_leaf': 0.49, 'min_samples_split': 10}-----> F1 = 0.39\n",
            "{'criterion': 'gini', 'max_depth': 50, 'max_features': None, 'min_samples_leaf': 0.49, 'min_samples_split': 20}-----> F1 = 0.39\n",
            "{'criterion': 'gini', 'max_depth': 50, 'max_features': 'sqrt', 'min_samples_leaf': 0.2, 'min_samples_split': 2}-----> F1 = 0.356\n",
            "{'criterion': 'gini', 'max_depth': 50, 'max_features': 'sqrt', 'min_samples_leaf': 0.2, 'min_samples_split': 3}-----> F1 = 0.345\n",
            "{'criterion': 'gini', 'max_depth': 50, 'max_features': 'sqrt', 'min_samples_leaf': 0.2, 'min_samples_split': 5}-----> F1 = 0.356\n",
            "{'criterion': 'gini', 'max_depth': 50, 'max_features': 'sqrt', 'min_samples_leaf': 0.2, 'min_samples_split': 10}-----> F1 = 0.356\n",
            "{'criterion': 'gini', 'max_depth': 50, 'max_features': 'sqrt', 'min_samples_leaf': 0.2, 'min_samples_split': 20}-----> F1 = 0.356\n",
            "{'criterion': 'gini', 'max_depth': 50, 'max_features': 'sqrt', 'min_samples_leaf': 0.49, 'min_samples_split': 2}-----> F1 = 0.326\n",
            "{'criterion': 'gini', 'max_depth': 50, 'max_features': 'sqrt', 'min_samples_leaf': 0.49, 'min_samples_split': 3}-----> F1 = 0.356\n",
            "{'criterion': 'gini', 'max_depth': 50, 'max_features': 'sqrt', 'min_samples_leaf': 0.49, 'min_samples_split': 5}-----> F1 = 0.356\n",
            "{'criterion': 'gini', 'max_depth': 50, 'max_features': 'sqrt', 'min_samples_leaf': 0.49, 'min_samples_split': 10}-----> F1 = 0.356\n",
            "{'criterion': 'gini', 'max_depth': 50, 'max_features': 'sqrt', 'min_samples_leaf': 0.49, 'min_samples_split': 20}-----> F1 = 0.356\n",
            "{'criterion': 'gini', 'max_depth': 50, 'max_features': 'log2', 'min_samples_leaf': 0.2, 'min_samples_split': 2}-----> F1 = 0.356\n",
            "{'criterion': 'gini', 'max_depth': 50, 'max_features': 'log2', 'min_samples_leaf': 0.2, 'min_samples_split': 3}-----> F1 = 0.356\n",
            "{'criterion': 'gini', 'max_depth': 50, 'max_features': 'log2', 'min_samples_leaf': 0.2, 'min_samples_split': 5}-----> F1 = 0.356\n",
            "{'criterion': 'gini', 'max_depth': 50, 'max_features': 'log2', 'min_samples_leaf': 0.2, 'min_samples_split': 10}-----> F1 = 0.356\n",
            "{'criterion': 'gini', 'max_depth': 50, 'max_features': 'log2', 'min_samples_leaf': 0.2, 'min_samples_split': 20}-----> F1 = 0.356\n",
            "{'criterion': 'gini', 'max_depth': 50, 'max_features': 'log2', 'min_samples_leaf': 0.49, 'min_samples_split': 2}-----> F1 = 0.356\n",
            "{'criterion': 'gini', 'max_depth': 50, 'max_features': 'log2', 'min_samples_leaf': 0.49, 'min_samples_split': 3}-----> F1 = 0.356\n",
            "{'criterion': 'gini', 'max_depth': 50, 'max_features': 'log2', 'min_samples_leaf': 0.49, 'min_samples_split': 5}-----> F1 = 0.356\n",
            "{'criterion': 'gini', 'max_depth': 50, 'max_features': 'log2', 'min_samples_leaf': 0.49, 'min_samples_split': 10}-----> F1 = 0.356\n",
            "{'criterion': 'gini', 'max_depth': 50, 'max_features': 'log2', 'min_samples_leaf': 0.49, 'min_samples_split': 20}-----> F1 = 0.356\n",
            "{'criterion': 'gini', 'max_depth': 100, 'max_features': None, 'min_samples_leaf': 0.2, 'min_samples_split': 2}-----> F1 = 0.38499999999999995\n",
            "{'criterion': 'gini', 'max_depth': 100, 'max_features': None, 'min_samples_leaf': 0.2, 'min_samples_split': 3}-----> F1 = 0.38499999999999995\n",
            "{'criterion': 'gini', 'max_depth': 100, 'max_features': None, 'min_samples_leaf': 0.2, 'min_samples_split': 5}-----> F1 = 0.38499999999999995\n",
            "{'criterion': 'gini', 'max_depth': 100, 'max_features': None, 'min_samples_leaf': 0.2, 'min_samples_split': 10}-----> F1 = 0.38499999999999995\n",
            "{'criterion': 'gini', 'max_depth': 100, 'max_features': None, 'min_samples_leaf': 0.2, 'min_samples_split': 20}-----> F1 = 0.38499999999999995\n",
            "{'criterion': 'gini', 'max_depth': 100, 'max_features': None, 'min_samples_leaf': 0.49, 'min_samples_split': 2}-----> F1 = 0.39\n",
            "{'criterion': 'gini', 'max_depth': 100, 'max_features': None, 'min_samples_leaf': 0.49, 'min_samples_split': 3}-----> F1 = 0.39\n",
            "{'criterion': 'gini', 'max_depth': 100, 'max_features': None, 'min_samples_leaf': 0.49, 'min_samples_split': 5}-----> F1 = 0.39\n",
            "{'criterion': 'gini', 'max_depth': 100, 'max_features': None, 'min_samples_leaf': 0.49, 'min_samples_split': 10}-----> F1 = 0.39\n",
            "{'criterion': 'gini', 'max_depth': 100, 'max_features': None, 'min_samples_leaf': 0.49, 'min_samples_split': 20}-----> F1 = 0.39\n",
            "{'criterion': 'gini', 'max_depth': 100, 'max_features': 'sqrt', 'min_samples_leaf': 0.2, 'min_samples_split': 2}-----> F1 = 0.356\n",
            "{'criterion': 'gini', 'max_depth': 100, 'max_features': 'sqrt', 'min_samples_leaf': 0.2, 'min_samples_split': 3}-----> F1 = 0.38499999999999995\n",
            "{'criterion': 'gini', 'max_depth': 100, 'max_features': 'sqrt', 'min_samples_leaf': 0.2, 'min_samples_split': 5}-----> F1 = 0.356\n",
            "{'criterion': 'gini', 'max_depth': 100, 'max_features': 'sqrt', 'min_samples_leaf': 0.2, 'min_samples_split': 10}-----> F1 = 0.356\n",
            "{'criterion': 'gini', 'max_depth': 100, 'max_features': 'sqrt', 'min_samples_leaf': 0.2, 'min_samples_split': 20}-----> F1 = 0.362\n",
            "{'criterion': 'gini', 'max_depth': 100, 'max_features': 'sqrt', 'min_samples_leaf': 0.49, 'min_samples_split': 2}-----> F1 = 0.356\n",
            "{'criterion': 'gini', 'max_depth': 100, 'max_features': 'sqrt', 'min_samples_leaf': 0.49, 'min_samples_split': 3}-----> F1 = 0.356\n",
            "{'criterion': 'gini', 'max_depth': 100, 'max_features': 'sqrt', 'min_samples_leaf': 0.49, 'min_samples_split': 5}-----> F1 = 0.356\n",
            "{'criterion': 'gini', 'max_depth': 100, 'max_features': 'sqrt', 'min_samples_leaf': 0.49, 'min_samples_split': 10}-----> F1 = 0.356\n",
            "{'criterion': 'gini', 'max_depth': 100, 'max_features': 'sqrt', 'min_samples_leaf': 0.49, 'min_samples_split': 20}-----> F1 = 0.356\n",
            "{'criterion': 'gini', 'max_depth': 100, 'max_features': 'log2', 'min_samples_leaf': 0.2, 'min_samples_split': 2}-----> F1 = 0.356\n",
            "{'criterion': 'gini', 'max_depth': 100, 'max_features': 'log2', 'min_samples_leaf': 0.2, 'min_samples_split': 3}-----> F1 = 0.356\n",
            "{'criterion': 'gini', 'max_depth': 100, 'max_features': 'log2', 'min_samples_leaf': 0.2, 'min_samples_split': 5}-----> F1 = 0.356\n",
            "{'criterion': 'gini', 'max_depth': 100, 'max_features': 'log2', 'min_samples_leaf': 0.2, 'min_samples_split': 10}-----> F1 = 0.356\n",
            "{'criterion': 'gini', 'max_depth': 100, 'max_features': 'log2', 'min_samples_leaf': 0.2, 'min_samples_split': 20}-----> F1 = 0.356\n",
            "{'criterion': 'gini', 'max_depth': 100, 'max_features': 'log2', 'min_samples_leaf': 0.49, 'min_samples_split': 2}-----> F1 = 0.356\n",
            "{'criterion': 'gini', 'max_depth': 100, 'max_features': 'log2', 'min_samples_leaf': 0.49, 'min_samples_split': 3}-----> F1 = 0.356\n",
            "{'criterion': 'gini', 'max_depth': 100, 'max_features': 'log2', 'min_samples_leaf': 0.49, 'min_samples_split': 5}-----> F1 = 0.356\n",
            "{'criterion': 'gini', 'max_depth': 100, 'max_features': 'log2', 'min_samples_leaf': 0.49, 'min_samples_split': 10}-----> F1 = 0.356\n",
            "{'criterion': 'gini', 'max_depth': 100, 'max_features': 'log2', 'min_samples_leaf': 0.49, 'min_samples_split': 20}-----> F1 = 0.356\n",
            "{'criterion': 'entropy', 'max_depth': 8, 'max_features': None, 'min_samples_leaf': 0.2, 'min_samples_split': 2}-----> F1 = 0.389\n",
            "{'criterion': 'entropy', 'max_depth': 8, 'max_features': None, 'min_samples_leaf': 0.2, 'min_samples_split': 3}-----> F1 = 0.389\n",
            "{'criterion': 'entropy', 'max_depth': 8, 'max_features': None, 'min_samples_leaf': 0.2, 'min_samples_split': 5}-----> F1 = 0.389\n",
            "{'criterion': 'entropy', 'max_depth': 8, 'max_features': None, 'min_samples_leaf': 0.2, 'min_samples_split': 10}-----> F1 = 0.389\n",
            "{'criterion': 'entropy', 'max_depth': 8, 'max_features': None, 'min_samples_leaf': 0.2, 'min_samples_split': 20}-----> F1 = 0.389\n",
            "{'criterion': 'entropy', 'max_depth': 8, 'max_features': None, 'min_samples_leaf': 0.49, 'min_samples_split': 2}-----> F1 = 0.389\n",
            "{'criterion': 'entropy', 'max_depth': 8, 'max_features': None, 'min_samples_leaf': 0.49, 'min_samples_split': 3}-----> F1 = 0.389\n",
            "{'criterion': 'entropy', 'max_depth': 8, 'max_features': None, 'min_samples_leaf': 0.49, 'min_samples_split': 5}-----> F1 = 0.389\n",
            "{'criterion': 'entropy', 'max_depth': 8, 'max_features': None, 'min_samples_leaf': 0.49, 'min_samples_split': 10}-----> F1 = 0.389\n",
            "{'criterion': 'entropy', 'max_depth': 8, 'max_features': None, 'min_samples_leaf': 0.49, 'min_samples_split': 20}-----> F1 = 0.389\n",
            "{'criterion': 'entropy', 'max_depth': 8, 'max_features': 'sqrt', 'min_samples_leaf': 0.2, 'min_samples_split': 2}-----> F1 = 0.323\n",
            "{'criterion': 'entropy', 'max_depth': 8, 'max_features': 'sqrt', 'min_samples_leaf': 0.2, 'min_samples_split': 3}-----> F1 = 0.348\n",
            "{'criterion': 'entropy', 'max_depth': 8, 'max_features': 'sqrt', 'min_samples_leaf': 0.2, 'min_samples_split': 5}-----> F1 = 0.337\n",
            "{'criterion': 'entropy', 'max_depth': 8, 'max_features': 'sqrt', 'min_samples_leaf': 0.2, 'min_samples_split': 10}-----> F1 = 0.335\n",
            "{'criterion': 'entropy', 'max_depth': 8, 'max_features': 'sqrt', 'min_samples_leaf': 0.2, 'min_samples_split': 20}-----> F1 = 0.347\n",
            "{'criterion': 'entropy', 'max_depth': 8, 'max_features': 'sqrt', 'min_samples_leaf': 0.49, 'min_samples_split': 2}-----> F1 = 0.356\n",
            "{'criterion': 'entropy', 'max_depth': 8, 'max_features': 'sqrt', 'min_samples_leaf': 0.49, 'min_samples_split': 3}-----> F1 = 0.356\n",
            "{'criterion': 'entropy', 'max_depth': 8, 'max_features': 'sqrt', 'min_samples_leaf': 0.49, 'min_samples_split': 5}-----> F1 = 0.356\n",
            "{'criterion': 'entropy', 'max_depth': 8, 'max_features': 'sqrt', 'min_samples_leaf': 0.49, 'min_samples_split': 10}-----> F1 = 0.356\n",
            "{'criterion': 'entropy', 'max_depth': 8, 'max_features': 'sqrt', 'min_samples_leaf': 0.49, 'min_samples_split': 20}-----> F1 = 0.356\n",
            "{'criterion': 'entropy', 'max_depth': 8, 'max_features': 'log2', 'min_samples_leaf': 0.2, 'min_samples_split': 2}-----> F1 = 0.356\n",
            "{'criterion': 'entropy', 'max_depth': 8, 'max_features': 'log2', 'min_samples_leaf': 0.2, 'min_samples_split': 3}-----> F1 = 0.298\n",
            "{'criterion': 'entropy', 'max_depth': 8, 'max_features': 'log2', 'min_samples_leaf': 0.2, 'min_samples_split': 5}-----> F1 = 0.356\n",
            "{'criterion': 'entropy', 'max_depth': 8, 'max_features': 'log2', 'min_samples_leaf': 0.2, 'min_samples_split': 10}-----> F1 = 0.321\n",
            "{'criterion': 'entropy', 'max_depth': 8, 'max_features': 'log2', 'min_samples_leaf': 0.2, 'min_samples_split': 20}-----> F1 = 0.356\n",
            "{'criterion': 'entropy', 'max_depth': 8, 'max_features': 'log2', 'min_samples_leaf': 0.49, 'min_samples_split': 2}-----> F1 = 0.356\n",
            "{'criterion': 'entropy', 'max_depth': 8, 'max_features': 'log2', 'min_samples_leaf': 0.49, 'min_samples_split': 3}-----> F1 = 0.356\n",
            "{'criterion': 'entropy', 'max_depth': 8, 'max_features': 'log2', 'min_samples_leaf': 0.49, 'min_samples_split': 5}-----> F1 = 0.356\n",
            "{'criterion': 'entropy', 'max_depth': 8, 'max_features': 'log2', 'min_samples_leaf': 0.49, 'min_samples_split': 10}-----> F1 = 0.356\n",
            "{'criterion': 'entropy', 'max_depth': 8, 'max_features': 'log2', 'min_samples_leaf': 0.49, 'min_samples_split': 20}-----> F1 = 0.356\n",
            "{'criterion': 'entropy', 'max_depth': 9, 'max_features': None, 'min_samples_leaf': 0.2, 'min_samples_split': 2}-----> F1 = 0.389\n",
            "{'criterion': 'entropy', 'max_depth': 9, 'max_features': None, 'min_samples_leaf': 0.2, 'min_samples_split': 3}-----> F1 = 0.389\n",
            "{'criterion': 'entropy', 'max_depth': 9, 'max_features': None, 'min_samples_leaf': 0.2, 'min_samples_split': 5}-----> F1 = 0.389\n",
            "{'criterion': 'entropy', 'max_depth': 9, 'max_features': None, 'min_samples_leaf': 0.2, 'min_samples_split': 10}-----> F1 = 0.389\n",
            "{'criterion': 'entropy', 'max_depth': 9, 'max_features': None, 'min_samples_leaf': 0.2, 'min_samples_split': 20}-----> F1 = 0.389\n",
            "{'criterion': 'entropy', 'max_depth': 9, 'max_features': None, 'min_samples_leaf': 0.49, 'min_samples_split': 2}-----> F1 = 0.389\n",
            "{'criterion': 'entropy', 'max_depth': 9, 'max_features': None, 'min_samples_leaf': 0.49, 'min_samples_split': 3}-----> F1 = 0.389\n",
            "{'criterion': 'entropy', 'max_depth': 9, 'max_features': None, 'min_samples_leaf': 0.49, 'min_samples_split': 5}-----> F1 = 0.389\n",
            "{'criterion': 'entropy', 'max_depth': 9, 'max_features': None, 'min_samples_leaf': 0.49, 'min_samples_split': 10}-----> F1 = 0.389\n",
            "{'criterion': 'entropy', 'max_depth': 9, 'max_features': None, 'min_samples_leaf': 0.49, 'min_samples_split': 20}-----> F1 = 0.389\n",
            "{'criterion': 'entropy', 'max_depth': 9, 'max_features': 'sqrt', 'min_samples_leaf': 0.2, 'min_samples_split': 2}-----> F1 = 0.356\n",
            "{'criterion': 'entropy', 'max_depth': 9, 'max_features': 'sqrt', 'min_samples_leaf': 0.2, 'min_samples_split': 3}-----> F1 = 0.33\n",
            "{'criterion': 'entropy', 'max_depth': 9, 'max_features': 'sqrt', 'min_samples_leaf': 0.2, 'min_samples_split': 5}-----> F1 = 0.356\n",
            "{'criterion': 'entropy', 'max_depth': 9, 'max_features': 'sqrt', 'min_samples_leaf': 0.2, 'min_samples_split': 10}-----> F1 = 0.343\n",
            "{'criterion': 'entropy', 'max_depth': 9, 'max_features': 'sqrt', 'min_samples_leaf': 0.2, 'min_samples_split': 20}-----> F1 = 0.356\n",
            "{'criterion': 'entropy', 'max_depth': 9, 'max_features': 'sqrt', 'min_samples_leaf': 0.49, 'min_samples_split': 2}-----> F1 = 0.356\n",
            "{'criterion': 'entropy', 'max_depth': 9, 'max_features': 'sqrt', 'min_samples_leaf': 0.49, 'min_samples_split': 3}-----> F1 = 0.356\n",
            "{'criterion': 'entropy', 'max_depth': 9, 'max_features': 'sqrt', 'min_samples_leaf': 0.49, 'min_samples_split': 5}-----> F1 = 0.356\n",
            "{'criterion': 'entropy', 'max_depth': 9, 'max_features': 'sqrt', 'min_samples_leaf': 0.49, 'min_samples_split': 10}-----> F1 = 0.356\n",
            "{'criterion': 'entropy', 'max_depth': 9, 'max_features': 'sqrt', 'min_samples_leaf': 0.49, 'min_samples_split': 20}-----> F1 = 0.356\n",
            "{'criterion': 'entropy', 'max_depth': 9, 'max_features': 'log2', 'min_samples_leaf': 0.2, 'min_samples_split': 2}-----> F1 = 0.319\n",
            "{'criterion': 'entropy', 'max_depth': 9, 'max_features': 'log2', 'min_samples_leaf': 0.2, 'min_samples_split': 3}-----> F1 = 0.356\n",
            "{'criterion': 'entropy', 'max_depth': 9, 'max_features': 'log2', 'min_samples_leaf': 0.2, 'min_samples_split': 5}-----> F1 = 0.356\n",
            "{'criterion': 'entropy', 'max_depth': 9, 'max_features': 'log2', 'min_samples_leaf': 0.2, 'min_samples_split': 10}-----> F1 = 0.356\n",
            "{'criterion': 'entropy', 'max_depth': 9, 'max_features': 'log2', 'min_samples_leaf': 0.2, 'min_samples_split': 20}-----> F1 = 0.356\n",
            "{'criterion': 'entropy', 'max_depth': 9, 'max_features': 'log2', 'min_samples_leaf': 0.49, 'min_samples_split': 2}-----> F1 = 0.356\n",
            "{'criterion': 'entropy', 'max_depth': 9, 'max_features': 'log2', 'min_samples_leaf': 0.49, 'min_samples_split': 3}-----> F1 = 0.356\n",
            "{'criterion': 'entropy', 'max_depth': 9, 'max_features': 'log2', 'min_samples_leaf': 0.49, 'min_samples_split': 5}-----> F1 = 0.356\n",
            "{'criterion': 'entropy', 'max_depth': 9, 'max_features': 'log2', 'min_samples_leaf': 0.49, 'min_samples_split': 10}-----> F1 = 0.356\n",
            "{'criterion': 'entropy', 'max_depth': 9, 'max_features': 'log2', 'min_samples_leaf': 0.49, 'min_samples_split': 20}-----> F1 = 0.356\n",
            "{'criterion': 'entropy', 'max_depth': 10, 'max_features': None, 'min_samples_leaf': 0.2, 'min_samples_split': 2}-----> F1 = 0.389\n",
            "{'criterion': 'entropy', 'max_depth': 10, 'max_features': None, 'min_samples_leaf': 0.2, 'min_samples_split': 3}-----> F1 = 0.389\n",
            "{'criterion': 'entropy', 'max_depth': 10, 'max_features': None, 'min_samples_leaf': 0.2, 'min_samples_split': 5}-----> F1 = 0.389\n",
            "{'criterion': 'entropy', 'max_depth': 10, 'max_features': None, 'min_samples_leaf': 0.2, 'min_samples_split': 10}-----> F1 = 0.389\n",
            "{'criterion': 'entropy', 'max_depth': 10, 'max_features': None, 'min_samples_leaf': 0.2, 'min_samples_split': 20}-----> F1 = 0.389\n",
            "{'criterion': 'entropy', 'max_depth': 10, 'max_features': None, 'min_samples_leaf': 0.49, 'min_samples_split': 2}-----> F1 = 0.389\n",
            "{'criterion': 'entropy', 'max_depth': 10, 'max_features': None, 'min_samples_leaf': 0.49, 'min_samples_split': 3}-----> F1 = 0.389\n",
            "{'criterion': 'entropy', 'max_depth': 10, 'max_features': None, 'min_samples_leaf': 0.49, 'min_samples_split': 5}-----> F1 = 0.389\n",
            "{'criterion': 'entropy', 'max_depth': 10, 'max_features': None, 'min_samples_leaf': 0.49, 'min_samples_split': 10}-----> F1 = 0.389\n",
            "{'criterion': 'entropy', 'max_depth': 10, 'max_features': None, 'min_samples_leaf': 0.49, 'min_samples_split': 20}-----> F1 = 0.389\n",
            "{'criterion': 'entropy', 'max_depth': 10, 'max_features': 'sqrt', 'min_samples_leaf': 0.2, 'min_samples_split': 2}-----> F1 = 0.356\n",
            "{'criterion': 'entropy', 'max_depth': 10, 'max_features': 'sqrt', 'min_samples_leaf': 0.2, 'min_samples_split': 3}-----> F1 = 0.35\n",
            "{'criterion': 'entropy', 'max_depth': 10, 'max_features': 'sqrt', 'min_samples_leaf': 0.2, 'min_samples_split': 5}-----> F1 = 0.356\n",
            "{'criterion': 'entropy', 'max_depth': 10, 'max_features': 'sqrt', 'min_samples_leaf': 0.2, 'min_samples_split': 10}-----> F1 = 0.356\n",
            "{'criterion': 'entropy', 'max_depth': 10, 'max_features': 'sqrt', 'min_samples_leaf': 0.2, 'min_samples_split': 20}-----> F1 = 0.3\n",
            "{'criterion': 'entropy', 'max_depth': 10, 'max_features': 'sqrt', 'min_samples_leaf': 0.49, 'min_samples_split': 2}-----> F1 = 0.356\n",
            "{'criterion': 'entropy', 'max_depth': 10, 'max_features': 'sqrt', 'min_samples_leaf': 0.49, 'min_samples_split': 3}-----> F1 = 0.356\n",
            "{'criterion': 'entropy', 'max_depth': 10, 'max_features': 'sqrt', 'min_samples_leaf': 0.49, 'min_samples_split': 5}-----> F1 = 0.356\n",
            "{'criterion': 'entropy', 'max_depth': 10, 'max_features': 'sqrt', 'min_samples_leaf': 0.49, 'min_samples_split': 10}-----> F1 = 0.356\n",
            "{'criterion': 'entropy', 'max_depth': 10, 'max_features': 'sqrt', 'min_samples_leaf': 0.49, 'min_samples_split': 20}-----> F1 = 0.356\n",
            "{'criterion': 'entropy', 'max_depth': 10, 'max_features': 'log2', 'min_samples_leaf': 0.2, 'min_samples_split': 2}-----> F1 = 0.356\n",
            "{'criterion': 'entropy', 'max_depth': 10, 'max_features': 'log2', 'min_samples_leaf': 0.2, 'min_samples_split': 3}-----> F1 = 0.356\n",
            "{'criterion': 'entropy', 'max_depth': 10, 'max_features': 'log2', 'min_samples_leaf': 0.2, 'min_samples_split': 5}-----> F1 = 0.356\n",
            "{'criterion': 'entropy', 'max_depth': 10, 'max_features': 'log2', 'min_samples_leaf': 0.2, 'min_samples_split': 10}-----> F1 = 0.356\n",
            "{'criterion': 'entropy', 'max_depth': 10, 'max_features': 'log2', 'min_samples_leaf': 0.2, 'min_samples_split': 20}-----> F1 = 0.356\n",
            "{'criterion': 'entropy', 'max_depth': 10, 'max_features': 'log2', 'min_samples_leaf': 0.49, 'min_samples_split': 2}-----> F1 = 0.356\n",
            "{'criterion': 'entropy', 'max_depth': 10, 'max_features': 'log2', 'min_samples_leaf': 0.49, 'min_samples_split': 3}-----> F1 = 0.356\n",
            "{'criterion': 'entropy', 'max_depth': 10, 'max_features': 'log2', 'min_samples_leaf': 0.49, 'min_samples_split': 5}-----> F1 = 0.356\n",
            "{'criterion': 'entropy', 'max_depth': 10, 'max_features': 'log2', 'min_samples_leaf': 0.49, 'min_samples_split': 10}-----> F1 = 0.356\n",
            "{'criterion': 'entropy', 'max_depth': 10, 'max_features': 'log2', 'min_samples_leaf': 0.49, 'min_samples_split': 20}-----> F1 = 0.356\n",
            "{'criterion': 'entropy', 'max_depth': 15, 'max_features': None, 'min_samples_leaf': 0.2, 'min_samples_split': 2}-----> F1 = 0.389\n",
            "{'criterion': 'entropy', 'max_depth': 15, 'max_features': None, 'min_samples_leaf': 0.2, 'min_samples_split': 3}-----> F1 = 0.389\n",
            "{'criterion': 'entropy', 'max_depth': 15, 'max_features': None, 'min_samples_leaf': 0.2, 'min_samples_split': 5}-----> F1 = 0.389\n",
            "{'criterion': 'entropy', 'max_depth': 15, 'max_features': None, 'min_samples_leaf': 0.2, 'min_samples_split': 10}-----> F1 = 0.389\n",
            "{'criterion': 'entropy', 'max_depth': 15, 'max_features': None, 'min_samples_leaf': 0.2, 'min_samples_split': 20}-----> F1 = 0.389\n",
            "{'criterion': 'entropy', 'max_depth': 15, 'max_features': None, 'min_samples_leaf': 0.49, 'min_samples_split': 2}-----> F1 = 0.389\n",
            "{'criterion': 'entropy', 'max_depth': 15, 'max_features': None, 'min_samples_leaf': 0.49, 'min_samples_split': 3}-----> F1 = 0.389\n",
            "{'criterion': 'entropy', 'max_depth': 15, 'max_features': None, 'min_samples_leaf': 0.49, 'min_samples_split': 5}-----> F1 = 0.389\n",
            "{'criterion': 'entropy', 'max_depth': 15, 'max_features': None, 'min_samples_leaf': 0.49, 'min_samples_split': 10}-----> F1 = 0.389\n",
            "{'criterion': 'entropy', 'max_depth': 15, 'max_features': None, 'min_samples_leaf': 0.49, 'min_samples_split': 20}-----> F1 = 0.389\n",
            "{'criterion': 'entropy', 'max_depth': 15, 'max_features': 'sqrt', 'min_samples_leaf': 0.2, 'min_samples_split': 2}-----> F1 = 0.356\n",
            "{'criterion': 'entropy', 'max_depth': 15, 'max_features': 'sqrt', 'min_samples_leaf': 0.2, 'min_samples_split': 3}-----> F1 = 0.356\n",
            "{'criterion': 'entropy', 'max_depth': 15, 'max_features': 'sqrt', 'min_samples_leaf': 0.2, 'min_samples_split': 5}-----> F1 = 0.356\n",
            "{'criterion': 'entropy', 'max_depth': 15, 'max_features': 'sqrt', 'min_samples_leaf': 0.2, 'min_samples_split': 10}-----> F1 = 0.356\n",
            "{'criterion': 'entropy', 'max_depth': 15, 'max_features': 'sqrt', 'min_samples_leaf': 0.2, 'min_samples_split': 20}-----> F1 = 0.356\n",
            "{'criterion': 'entropy', 'max_depth': 15, 'max_features': 'sqrt', 'min_samples_leaf': 0.49, 'min_samples_split': 2}-----> F1 = 0.356\n",
            "{'criterion': 'entropy', 'max_depth': 15, 'max_features': 'sqrt', 'min_samples_leaf': 0.49, 'min_samples_split': 3}-----> F1 = 0.356\n",
            "{'criterion': 'entropy', 'max_depth': 15, 'max_features': 'sqrt', 'min_samples_leaf': 0.49, 'min_samples_split': 5}-----> F1 = 0.356\n",
            "{'criterion': 'entropy', 'max_depth': 15, 'max_features': 'sqrt', 'min_samples_leaf': 0.49, 'min_samples_split': 10}-----> F1 = 0.356\n",
            "{'criterion': 'entropy', 'max_depth': 15, 'max_features': 'sqrt', 'min_samples_leaf': 0.49, 'min_samples_split': 20}-----> F1 = 0.356\n",
            "{'criterion': 'entropy', 'max_depth': 15, 'max_features': 'log2', 'min_samples_leaf': 0.2, 'min_samples_split': 2}-----> F1 = 0.356\n",
            "{'criterion': 'entropy', 'max_depth': 15, 'max_features': 'log2', 'min_samples_leaf': 0.2, 'min_samples_split': 3}-----> F1 = 0.356\n",
            "{'criterion': 'entropy', 'max_depth': 15, 'max_features': 'log2', 'min_samples_leaf': 0.2, 'min_samples_split': 5}-----> F1 = 0.356\n",
            "{'criterion': 'entropy', 'max_depth': 15, 'max_features': 'log2', 'min_samples_leaf': 0.2, 'min_samples_split': 10}-----> F1 = 0.356\n",
            "{'criterion': 'entropy', 'max_depth': 15, 'max_features': 'log2', 'min_samples_leaf': 0.2, 'min_samples_split': 20}-----> F1 = 0.356\n",
            "{'criterion': 'entropy', 'max_depth': 15, 'max_features': 'log2', 'min_samples_leaf': 0.49, 'min_samples_split': 2}-----> F1 = 0.356\n",
            "{'criterion': 'entropy', 'max_depth': 15, 'max_features': 'log2', 'min_samples_leaf': 0.49, 'min_samples_split': 3}-----> F1 = 0.356\n",
            "{'criterion': 'entropy', 'max_depth': 15, 'max_features': 'log2', 'min_samples_leaf': 0.49, 'min_samples_split': 5}-----> F1 = 0.356\n",
            "{'criterion': 'entropy', 'max_depth': 15, 'max_features': 'log2', 'min_samples_leaf': 0.49, 'min_samples_split': 10}-----> F1 = 0.356\n",
            "{'criterion': 'entropy', 'max_depth': 15, 'max_features': 'log2', 'min_samples_leaf': 0.49, 'min_samples_split': 20}-----> F1 = 0.356\n",
            "{'criterion': 'entropy', 'max_depth': 20, 'max_features': None, 'min_samples_leaf': 0.2, 'min_samples_split': 2}-----> F1 = 0.389\n",
            "{'criterion': 'entropy', 'max_depth': 20, 'max_features': None, 'min_samples_leaf': 0.2, 'min_samples_split': 3}-----> F1 = 0.389\n",
            "{'criterion': 'entropy', 'max_depth': 20, 'max_features': None, 'min_samples_leaf': 0.2, 'min_samples_split': 5}-----> F1 = 0.389\n",
            "{'criterion': 'entropy', 'max_depth': 20, 'max_features': None, 'min_samples_leaf': 0.2, 'min_samples_split': 10}-----> F1 = 0.389\n",
            "{'criterion': 'entropy', 'max_depth': 20, 'max_features': None, 'min_samples_leaf': 0.2, 'min_samples_split': 20}-----> F1 = 0.389\n",
            "{'criterion': 'entropy', 'max_depth': 20, 'max_features': None, 'min_samples_leaf': 0.49, 'min_samples_split': 2}-----> F1 = 0.389\n",
            "{'criterion': 'entropy', 'max_depth': 20, 'max_features': None, 'min_samples_leaf': 0.49, 'min_samples_split': 3}-----> F1 = 0.389\n",
            "{'criterion': 'entropy', 'max_depth': 20, 'max_features': None, 'min_samples_leaf': 0.49, 'min_samples_split': 5}-----> F1 = 0.389\n",
            "{'criterion': 'entropy', 'max_depth': 20, 'max_features': None, 'min_samples_leaf': 0.49, 'min_samples_split': 10}-----> F1 = 0.389\n",
            "{'criterion': 'entropy', 'max_depth': 20, 'max_features': None, 'min_samples_leaf': 0.49, 'min_samples_split': 20}-----> F1 = 0.389\n",
            "{'criterion': 'entropy', 'max_depth': 20, 'max_features': 'sqrt', 'min_samples_leaf': 0.2, 'min_samples_split': 2}-----> F1 = 0.356\n",
            "{'criterion': 'entropy', 'max_depth': 20, 'max_features': 'sqrt', 'min_samples_leaf': 0.2, 'min_samples_split': 3}-----> F1 = 0.369\n",
            "{'criterion': 'entropy', 'max_depth': 20, 'max_features': 'sqrt', 'min_samples_leaf': 0.2, 'min_samples_split': 5}-----> F1 = 0.356\n",
            "{'criterion': 'entropy', 'max_depth': 20, 'max_features': 'sqrt', 'min_samples_leaf': 0.2, 'min_samples_split': 10}-----> F1 = 0.307\n",
            "{'criterion': 'entropy', 'max_depth': 20, 'max_features': 'sqrt', 'min_samples_leaf': 0.2, 'min_samples_split': 20}-----> F1 = 0.35500000000000004\n",
            "{'criterion': 'entropy', 'max_depth': 20, 'max_features': 'sqrt', 'min_samples_leaf': 0.49, 'min_samples_split': 2}-----> F1 = 0.356\n",
            "{'criterion': 'entropy', 'max_depth': 20, 'max_features': 'sqrt', 'min_samples_leaf': 0.49, 'min_samples_split': 3}-----> F1 = 0.356\n",
            "{'criterion': 'entropy', 'max_depth': 20, 'max_features': 'sqrt', 'min_samples_leaf': 0.49, 'min_samples_split': 5}-----> F1 = 0.356\n",
            "{'criterion': 'entropy', 'max_depth': 20, 'max_features': 'sqrt', 'min_samples_leaf': 0.49, 'min_samples_split': 10}-----> F1 = 0.356\n",
            "{'criterion': 'entropy', 'max_depth': 20, 'max_features': 'sqrt', 'min_samples_leaf': 0.49, 'min_samples_split': 20}-----> F1 = 0.356\n",
            "{'criterion': 'entropy', 'max_depth': 20, 'max_features': 'log2', 'min_samples_leaf': 0.2, 'min_samples_split': 2}-----> F1 = 0.356\n",
            "{'criterion': 'entropy', 'max_depth': 20, 'max_features': 'log2', 'min_samples_leaf': 0.2, 'min_samples_split': 3}-----> F1 = 0.356\n",
            "{'criterion': 'entropy', 'max_depth': 20, 'max_features': 'log2', 'min_samples_leaf': 0.2, 'min_samples_split': 5}-----> F1 = 0.356\n",
            "{'criterion': 'entropy', 'max_depth': 20, 'max_features': 'log2', 'min_samples_leaf': 0.2, 'min_samples_split': 10}-----> F1 = 0.356\n",
            "{'criterion': 'entropy', 'max_depth': 20, 'max_features': 'log2', 'min_samples_leaf': 0.2, 'min_samples_split': 20}-----> F1 = 0.37899999999999995\n",
            "{'criterion': 'entropy', 'max_depth': 20, 'max_features': 'log2', 'min_samples_leaf': 0.49, 'min_samples_split': 2}-----> F1 = 0.356\n",
            "{'criterion': 'entropy', 'max_depth': 20, 'max_features': 'log2', 'min_samples_leaf': 0.49, 'min_samples_split': 3}-----> F1 = 0.356\n",
            "{'criterion': 'entropy', 'max_depth': 20, 'max_features': 'log2', 'min_samples_leaf': 0.49, 'min_samples_split': 5}-----> F1 = 0.356\n",
            "{'criterion': 'entropy', 'max_depth': 20, 'max_features': 'log2', 'min_samples_leaf': 0.49, 'min_samples_split': 10}-----> F1 = 0.356\n",
            "{'criterion': 'entropy', 'max_depth': 20, 'max_features': 'log2', 'min_samples_leaf': 0.49, 'min_samples_split': 20}-----> F1 = 0.356\n",
            "{'criterion': 'entropy', 'max_depth': 30, 'max_features': None, 'min_samples_leaf': 0.2, 'min_samples_split': 2}-----> F1 = 0.389\n",
            "{'criterion': 'entropy', 'max_depth': 30, 'max_features': None, 'min_samples_leaf': 0.2, 'min_samples_split': 3}-----> F1 = 0.389\n",
            "{'criterion': 'entropy', 'max_depth': 30, 'max_features': None, 'min_samples_leaf': 0.2, 'min_samples_split': 5}-----> F1 = 0.389\n",
            "{'criterion': 'entropy', 'max_depth': 30, 'max_features': None, 'min_samples_leaf': 0.2, 'min_samples_split': 10}-----> F1 = 0.389\n",
            "{'criterion': 'entropy', 'max_depth': 30, 'max_features': None, 'min_samples_leaf': 0.2, 'min_samples_split': 20}-----> F1 = 0.389\n",
            "{'criterion': 'entropy', 'max_depth': 30, 'max_features': None, 'min_samples_leaf': 0.49, 'min_samples_split': 2}-----> F1 = 0.389\n",
            "{'criterion': 'entropy', 'max_depth': 30, 'max_features': None, 'min_samples_leaf': 0.49, 'min_samples_split': 3}-----> F1 = 0.389\n",
            "{'criterion': 'entropy', 'max_depth': 30, 'max_features': None, 'min_samples_leaf': 0.49, 'min_samples_split': 5}-----> F1 = 0.389\n",
            "{'criterion': 'entropy', 'max_depth': 30, 'max_features': None, 'min_samples_leaf': 0.49, 'min_samples_split': 10}-----> F1 = 0.389\n",
            "{'criterion': 'entropy', 'max_depth': 30, 'max_features': None, 'min_samples_leaf': 0.49, 'min_samples_split': 20}-----> F1 = 0.389\n",
            "{'criterion': 'entropy', 'max_depth': 30, 'max_features': 'sqrt', 'min_samples_leaf': 0.2, 'min_samples_split': 2}-----> F1 = 0.356\n",
            "{'criterion': 'entropy', 'max_depth': 30, 'max_features': 'sqrt', 'min_samples_leaf': 0.2, 'min_samples_split': 3}-----> F1 = 0.356\n",
            "{'criterion': 'entropy', 'max_depth': 30, 'max_features': 'sqrt', 'min_samples_leaf': 0.2, 'min_samples_split': 5}-----> F1 = 0.319\n",
            "{'criterion': 'entropy', 'max_depth': 30, 'max_features': 'sqrt', 'min_samples_leaf': 0.2, 'min_samples_split': 10}-----> F1 = 0.356\n",
            "{'criterion': 'entropy', 'max_depth': 30, 'max_features': 'sqrt', 'min_samples_leaf': 0.2, 'min_samples_split': 20}-----> F1 = 0.363\n",
            "{'criterion': 'entropy', 'max_depth': 30, 'max_features': 'sqrt', 'min_samples_leaf': 0.49, 'min_samples_split': 2}-----> F1 = 0.356\n",
            "{'criterion': 'entropy', 'max_depth': 30, 'max_features': 'sqrt', 'min_samples_leaf': 0.49, 'min_samples_split': 3}-----> F1 = 0.356\n",
            "{'criterion': 'entropy', 'max_depth': 30, 'max_features': 'sqrt', 'min_samples_leaf': 0.49, 'min_samples_split': 5}-----> F1 = 0.356\n",
            "{'criterion': 'entropy', 'max_depth': 30, 'max_features': 'sqrt', 'min_samples_leaf': 0.49, 'min_samples_split': 10}-----> F1 = 0.359\n",
            "{'criterion': 'entropy', 'max_depth': 30, 'max_features': 'sqrt', 'min_samples_leaf': 0.49, 'min_samples_split': 20}-----> F1 = 0.356\n",
            "{'criterion': 'entropy', 'max_depth': 30, 'max_features': 'log2', 'min_samples_leaf': 0.2, 'min_samples_split': 2}-----> F1 = 0.356\n",
            "{'criterion': 'entropy', 'max_depth': 30, 'max_features': 'log2', 'min_samples_leaf': 0.2, 'min_samples_split': 3}-----> F1 = 0.356\n",
            "{'criterion': 'entropy', 'max_depth': 30, 'max_features': 'log2', 'min_samples_leaf': 0.2, 'min_samples_split': 5}-----> F1 = 0.356\n",
            "{'criterion': 'entropy', 'max_depth': 30, 'max_features': 'log2', 'min_samples_leaf': 0.2, 'min_samples_split': 10}-----> F1 = 0.356\n",
            "{'criterion': 'entropy', 'max_depth': 30, 'max_features': 'log2', 'min_samples_leaf': 0.2, 'min_samples_split': 20}-----> F1 = 0.356\n",
            "{'criterion': 'entropy', 'max_depth': 30, 'max_features': 'log2', 'min_samples_leaf': 0.49, 'min_samples_split': 2}-----> F1 = 0.356\n",
            "{'criterion': 'entropy', 'max_depth': 30, 'max_features': 'log2', 'min_samples_leaf': 0.49, 'min_samples_split': 3}-----> F1 = 0.356\n",
            "{'criterion': 'entropy', 'max_depth': 30, 'max_features': 'log2', 'min_samples_leaf': 0.49, 'min_samples_split': 5}-----> F1 = 0.356\n",
            "{'criterion': 'entropy', 'max_depth': 30, 'max_features': 'log2', 'min_samples_leaf': 0.49, 'min_samples_split': 10}-----> F1 = 0.356\n",
            "{'criterion': 'entropy', 'max_depth': 30, 'max_features': 'log2', 'min_samples_leaf': 0.49, 'min_samples_split': 20}-----> F1 = 0.356\n",
            "{'criterion': 'entropy', 'max_depth': 50, 'max_features': None, 'min_samples_leaf': 0.2, 'min_samples_split': 2}-----> F1 = 0.389\n",
            "{'criterion': 'entropy', 'max_depth': 50, 'max_features': None, 'min_samples_leaf': 0.2, 'min_samples_split': 3}-----> F1 = 0.389\n",
            "{'criterion': 'entropy', 'max_depth': 50, 'max_features': None, 'min_samples_leaf': 0.2, 'min_samples_split': 5}-----> F1 = 0.389\n",
            "{'criterion': 'entropy', 'max_depth': 50, 'max_features': None, 'min_samples_leaf': 0.2, 'min_samples_split': 10}-----> F1 = 0.389\n",
            "{'criterion': 'entropy', 'max_depth': 50, 'max_features': None, 'min_samples_leaf': 0.2, 'min_samples_split': 20}-----> F1 = 0.389\n",
            "{'criterion': 'entropy', 'max_depth': 50, 'max_features': None, 'min_samples_leaf': 0.49, 'min_samples_split': 2}-----> F1 = 0.389\n",
            "{'criterion': 'entropy', 'max_depth': 50, 'max_features': None, 'min_samples_leaf': 0.49, 'min_samples_split': 3}-----> F1 = 0.389\n",
            "{'criterion': 'entropy', 'max_depth': 50, 'max_features': None, 'min_samples_leaf': 0.49, 'min_samples_split': 5}-----> F1 = 0.389\n",
            "{'criterion': 'entropy', 'max_depth': 50, 'max_features': None, 'min_samples_leaf': 0.49, 'min_samples_split': 10}-----> F1 = 0.389\n",
            "{'criterion': 'entropy', 'max_depth': 50, 'max_features': None, 'min_samples_leaf': 0.49, 'min_samples_split': 20}-----> F1 = 0.389\n",
            "{'criterion': 'entropy', 'max_depth': 50, 'max_features': 'sqrt', 'min_samples_leaf': 0.2, 'min_samples_split': 2}-----> F1 = 0.356\n",
            "{'criterion': 'entropy', 'max_depth': 50, 'max_features': 'sqrt', 'min_samples_leaf': 0.2, 'min_samples_split': 3}-----> F1 = 0.363\n",
            "{'criterion': 'entropy', 'max_depth': 50, 'max_features': 'sqrt', 'min_samples_leaf': 0.2, 'min_samples_split': 5}-----> F1 = 0.326\n",
            "{'criterion': 'entropy', 'max_depth': 50, 'max_features': 'sqrt', 'min_samples_leaf': 0.2, 'min_samples_split': 10}-----> F1 = 0.356\n",
            "{'criterion': 'entropy', 'max_depth': 50, 'max_features': 'sqrt', 'min_samples_leaf': 0.2, 'min_samples_split': 20}-----> F1 = 0.346\n",
            "{'criterion': 'entropy', 'max_depth': 50, 'max_features': 'sqrt', 'min_samples_leaf': 0.49, 'min_samples_split': 2}-----> F1 = 0.356\n",
            "{'criterion': 'entropy', 'max_depth': 50, 'max_features': 'sqrt', 'min_samples_leaf': 0.49, 'min_samples_split': 3}-----> F1 = 0.356\n",
            "{'criterion': 'entropy', 'max_depth': 50, 'max_features': 'sqrt', 'min_samples_leaf': 0.49, 'min_samples_split': 5}-----> F1 = 0.326\n",
            "{'criterion': 'entropy', 'max_depth': 50, 'max_features': 'sqrt', 'min_samples_leaf': 0.49, 'min_samples_split': 10}-----> F1 = 0.356\n",
            "{'criterion': 'entropy', 'max_depth': 50, 'max_features': 'sqrt', 'min_samples_leaf': 0.49, 'min_samples_split': 20}-----> F1 = 0.356\n",
            "{'criterion': 'entropy', 'max_depth': 50, 'max_features': 'log2', 'min_samples_leaf': 0.2, 'min_samples_split': 2}-----> F1 = 0.356\n",
            "{'criterion': 'entropy', 'max_depth': 50, 'max_features': 'log2', 'min_samples_leaf': 0.2, 'min_samples_split': 3}-----> F1 = 0.356\n",
            "{'criterion': 'entropy', 'max_depth': 50, 'max_features': 'log2', 'min_samples_leaf': 0.2, 'min_samples_split': 5}-----> F1 = 0.356\n",
            "{'criterion': 'entropy', 'max_depth': 50, 'max_features': 'log2', 'min_samples_leaf': 0.2, 'min_samples_split': 10}-----> F1 = 0.356\n",
            "{'criterion': 'entropy', 'max_depth': 50, 'max_features': 'log2', 'min_samples_leaf': 0.2, 'min_samples_split': 20}-----> F1 = 0.356\n",
            "{'criterion': 'entropy', 'max_depth': 50, 'max_features': 'log2', 'min_samples_leaf': 0.49, 'min_samples_split': 2}-----> F1 = 0.356\n",
            "{'criterion': 'entropy', 'max_depth': 50, 'max_features': 'log2', 'min_samples_leaf': 0.49, 'min_samples_split': 3}-----> F1 = 0.356\n",
            "{'criterion': 'entropy', 'max_depth': 50, 'max_features': 'log2', 'min_samples_leaf': 0.49, 'min_samples_split': 5}-----> F1 = 0.356\n",
            "{'criterion': 'entropy', 'max_depth': 50, 'max_features': 'log2', 'min_samples_leaf': 0.49, 'min_samples_split': 10}-----> F1 = 0.356\n",
            "{'criterion': 'entropy', 'max_depth': 50, 'max_features': 'log2', 'min_samples_leaf': 0.49, 'min_samples_split': 20}-----> F1 = 0.356\n",
            "{'criterion': 'entropy', 'max_depth': 100, 'max_features': None, 'min_samples_leaf': 0.2, 'min_samples_split': 2}-----> F1 = 0.389\n",
            "{'criterion': 'entropy', 'max_depth': 100, 'max_features': None, 'min_samples_leaf': 0.2, 'min_samples_split': 3}-----> F1 = 0.389\n",
            "{'criterion': 'entropy', 'max_depth': 100, 'max_features': None, 'min_samples_leaf': 0.2, 'min_samples_split': 5}-----> F1 = 0.389\n",
            "{'criterion': 'entropy', 'max_depth': 100, 'max_features': None, 'min_samples_leaf': 0.2, 'min_samples_split': 10}-----> F1 = 0.389\n",
            "{'criterion': 'entropy', 'max_depth': 100, 'max_features': None, 'min_samples_leaf': 0.2, 'min_samples_split': 20}-----> F1 = 0.389\n",
            "{'criterion': 'entropy', 'max_depth': 100, 'max_features': None, 'min_samples_leaf': 0.49, 'min_samples_split': 2}-----> F1 = 0.389\n",
            "{'criterion': 'entropy', 'max_depth': 100, 'max_features': None, 'min_samples_leaf': 0.49, 'min_samples_split': 3}-----> F1 = 0.389\n",
            "{'criterion': 'entropy', 'max_depth': 100, 'max_features': None, 'min_samples_leaf': 0.49, 'min_samples_split': 5}-----> F1 = 0.389\n",
            "{'criterion': 'entropy', 'max_depth': 100, 'max_features': None, 'min_samples_leaf': 0.49, 'min_samples_split': 10}-----> F1 = 0.389\n",
            "{'criterion': 'entropy', 'max_depth': 100, 'max_features': None, 'min_samples_leaf': 0.49, 'min_samples_split': 20}-----> F1 = 0.389\n",
            "{'criterion': 'entropy', 'max_depth': 100, 'max_features': 'sqrt', 'min_samples_leaf': 0.2, 'min_samples_split': 2}-----> F1 = 0.356\n",
            "{'criterion': 'entropy', 'max_depth': 100, 'max_features': 'sqrt', 'min_samples_leaf': 0.2, 'min_samples_split': 3}-----> F1 = 0.336\n",
            "{'criterion': 'entropy', 'max_depth': 100, 'max_features': 'sqrt', 'min_samples_leaf': 0.2, 'min_samples_split': 5}-----> F1 = 0.356\n",
            "{'criterion': 'entropy', 'max_depth': 100, 'max_features': 'sqrt', 'min_samples_leaf': 0.2, 'min_samples_split': 10}-----> F1 = 0.356\n",
            "{'criterion': 'entropy', 'max_depth': 100, 'max_features': 'sqrt', 'min_samples_leaf': 0.2, 'min_samples_split': 20}-----> F1 = 0.356\n",
            "{'criterion': 'entropy', 'max_depth': 100, 'max_features': 'sqrt', 'min_samples_leaf': 0.49, 'min_samples_split': 2}-----> F1 = 0.356\n",
            "{'criterion': 'entropy', 'max_depth': 100, 'max_features': 'sqrt', 'min_samples_leaf': 0.49, 'min_samples_split': 3}-----> F1 = 0.359\n",
            "{'criterion': 'entropy', 'max_depth': 100, 'max_features': 'sqrt', 'min_samples_leaf': 0.49, 'min_samples_split': 5}-----> F1 = 0.356\n",
            "{'criterion': 'entropy', 'max_depth': 100, 'max_features': 'sqrt', 'min_samples_leaf': 0.49, 'min_samples_split': 10}-----> F1 = 0.356\n",
            "{'criterion': 'entropy', 'max_depth': 100, 'max_features': 'sqrt', 'min_samples_leaf': 0.49, 'min_samples_split': 20}-----> F1 = 0.356\n",
            "{'criterion': 'entropy', 'max_depth': 100, 'max_features': 'log2', 'min_samples_leaf': 0.2, 'min_samples_split': 2}-----> F1 = 0.356\n",
            "{'criterion': 'entropy', 'max_depth': 100, 'max_features': 'log2', 'min_samples_leaf': 0.2, 'min_samples_split': 3}-----> F1 = 0.356\n",
            "{'criterion': 'entropy', 'max_depth': 100, 'max_features': 'log2', 'min_samples_leaf': 0.2, 'min_samples_split': 5}-----> F1 = 0.356\n",
            "{'criterion': 'entropy', 'max_depth': 100, 'max_features': 'log2', 'min_samples_leaf': 0.2, 'min_samples_split': 10}-----> F1 = 0.356\n",
            "{'criterion': 'entropy', 'max_depth': 100, 'max_features': 'log2', 'min_samples_leaf': 0.2, 'min_samples_split': 20}-----> F1 = 0.356\n",
            "{'criterion': 'entropy', 'max_depth': 100, 'max_features': 'log2', 'min_samples_leaf': 0.49, 'min_samples_split': 2}-----> F1 = 0.356\n",
            "{'criterion': 'entropy', 'max_depth': 100, 'max_features': 'log2', 'min_samples_leaf': 0.49, 'min_samples_split': 3}-----> F1 = 0.356\n",
            "{'criterion': 'entropy', 'max_depth': 100, 'max_features': 'log2', 'min_samples_leaf': 0.49, 'min_samples_split': 5}-----> F1 = 0.356\n",
            "{'criterion': 'entropy', 'max_depth': 100, 'max_features': 'log2', 'min_samples_leaf': 0.49, 'min_samples_split': 10}-----> F1 = 0.356\n",
            "{'criterion': 'entropy', 'max_depth': 100, 'max_features': 'log2', 'min_samples_leaf': 0.49, 'min_samples_split': 20}-----> F1 = 0.356\n",
            "Best params: {'criterion': 'gini', 'max_depth': 8, 'max_features': None, 'min_samples_leaf': 0.49, 'min_samples_split': 2}\n",
            "Best F1 Score: 0.39\n",
            " ####################################################################################################\n",
            "<class 'sklearn.svm._classes.LinearSVC'>\n",
            "{'C': 0.25, 'loss': 'hinge'}-----> F1 = 0.452\n",
            "{'C': 0.25, 'loss': 'squared_hinge'}-----> F1 = 0.421\n",
            "{'C': 0.5, 'loss': 'hinge'}-----> F1 = 0.451\n",
            "{'C': 0.5, 'loss': 'squared_hinge'}-----> F1 = 0.42999999999999994\n",
            "{'C': 1.5, 'loss': 'hinge'}-----> F1 = 0.457\n",
            "{'C': 1.5, 'loss': 'squared_hinge'}-----> F1 = 0.456\n",
            "{'C': 2, 'loss': 'hinge'}-----> F1 = 0.459\n",
            "{'C': 2, 'loss': 'squared_hinge'}-----> F1 = 0.46\n",
            "{'C': 5, 'loss': 'hinge'}-----> F1 = 0.463\n",
            "{'C': 5, 'loss': 'squared_hinge'}-----> F1 = 0.492\n",
            "{'C': 10, 'loss': 'hinge'}-----> F1 = 0.47500000000000003\n",
            "{'C': 10, 'loss': 'squared_hinge'}-----> F1 = 0.498\n",
            "{'C': 100, 'loss': 'hinge'}-----> F1 = 0.496\n",
            "{'C': 100, 'loss': 'squared_hinge'}-----> F1 = 0.499\n",
            "Best params: {'C': 100, 'loss': 'squared_hinge'}\n",
            "Best F1 Score: 0.499\n",
            " ####################################################################################################\n",
            "CPU times: user 6min 19s, sys: 3.92 s, total: 6min 23s\n",
            "Wall time: 6min 17s\n"
          ],
          "name": "stdout"
        }
      ]
    },
    {
      "cell_type": "markdown",
      "metadata": {
        "id": "pB8hCyIYNYjZ"
      },
      "source": [
        ">> # **3.(c)**\n",
        " Report training, validation, and test F1-measure for all the classifiers (with best\n",
        "hyper-parameter configuration)."
      ]
    },
    {
      "cell_type": "code",
      "metadata": {
        "id": "JdRvP2PyOfrX",
        "outputId": "d4fc8661-c5ee-4750-f23d-6f2a6a4d348c",
        "colab": {
          "base_uri": "https://localhost:8080/"
        }
      },
      "source": [
        "import re\n",
        "from sklearn.tree import DecisionTreeClassifier\n",
        "\n",
        "params_3 = []\n",
        "with open(\"#3_b-All Parameters.txt\") as f:\n",
        "  for line in f:\n",
        "    if 'Best params:' in line:\n",
        "      params_3.append(line)\n",
        "temp1_3 = repr(params_3[0])\n",
        "temp1_3 = re.sub('Best params: ', '', temp1_3)\n",
        "NB_best_param_3 = float(temp1_3.split()[1][:-4])\n",
        "with open(\"#3_c-Best_Results.txt\", 'a+') as g:\n",
        "  g.write('NB_best alpha = {}\\n'.format(NB_best_param_3))\n",
        "print('NB_best alpha = {}'.format(NB_best_param_3))\n",
        "#################################################\n"
      ],
      "execution_count": 68,
      "outputs": [
        {
          "output_type": "stream",
          "text": [
            "NB_best alpha = 0.005\n"
          ],
          "name": "stdout"
        }
      ]
    },
    {
      "cell_type": "code",
      "metadata": {
        "id": "Jz0ShVR4Ofrq",
        "outputId": "bbabf5de-9065-4924-8e17-1ab63097bc8e",
        "colab": {
          "base_uri": "https://localhost:8080/"
        }
      },
      "source": [
        "temp2_3 = repr(params_3[1])\n",
        "temp2_3 = re.sub('Best params: ', '', temp2_3)\n",
        "criterion_3 = temp2_3.split()[1][:-1]\n",
        "criterion_3 = criterion_3.replace(\"'\",'')\n",
        "max_dep_3 = [int(s) for s in temp2_3.split()[3] if s.isdigit()][0]\n",
        "max_feat_3 = temp2_3.split()[5][:-1]\n",
        "if max_feat_3 == str(None):\n",
        "  max_feat_3 = None\n",
        "else:\n",
        "  max_feat_3 = max_feat_3.replace(\"'\", '')\n",
        "min_leaf_3 = float(temp2.split()[7][:-1])\n",
        "mss_3 = int(temp2_3.split()[9][:-4])\n",
        "tree_best_params_3 = [criterion_3, max_dep_3, max_feat_3, min_leaf_3, mss_3]\n",
        "with open(\"#2_d-Best_Results.txt\", 'a+') as g:\n",
        "  g.write('[criterion, max_depth, max_features, min_samples_leaf, min_samples_split] = {}\\n'.\n",
        "          format(tree_best_params_3))\n",
        "print('criterion, max_depth, max_features, min_samples_leaf, min_samples_split =', tree_best_params)\n",
        "##################################################\n"
      ],
      "execution_count": 69,
      "outputs": [
        {
          "output_type": "stream",
          "text": [
            "criterion, max_depth, max_features, min_samples_leaf, min_samples_split = ['gini', 8, None, 0.2, 2]\n"
          ],
          "name": "stdout"
        }
      ]
    },
    {
      "cell_type": "code",
      "metadata": {
        "id": "gaKpaXzdOfrt",
        "outputId": "7422a278-867c-472f-c7fe-341e1d29b594",
        "colab": {
          "base_uri": "https://localhost:8080/"
        }
      },
      "source": [
        "temp3_3 = repr(params_3[2])\n",
        "temp3_3 = re.sub('Best params: ', '', temp3_3)\n",
        "c_3 = float(temp3_3.split()[1][:-1])\n",
        "temp3_loss_3 = temp3_3.split()[3][:-4]\n",
        "temp3_loss_3 = temp3_loss_3.replace(\"'\",\"\" )\n",
        "svm_best_params_3 = [c_3, temp3_loss_3]\n",
        "with open(\"#2_d-Best_Results.txt\", 'a+') as g:\n",
        "  g.write('[C, loss] = {}\\n {}'.\n",
        "          format(svm_best_params_3, seperator))\n",
        "print('[C, loss] = ', svm_best_params_3)"
      ],
      "execution_count": 70,
      "outputs": [
        {
          "output_type": "stream",
          "text": [
            "[C, loss] =  [100.0, 'squared_hinge']\n"
          ],
          "name": "stdout"
        }
      ]
    },
    {
      "cell_type": "code",
      "metadata": {
        "id": "9vn8Ifd2Ofrx",
        "outputId": "bba6b6d8-1dfd-4925-f8a6-aae8d9b021b8",
        "colab": {
          "base_uri": "https://localhost:8080/"
        }
      },
      "source": [
        "print('NB_best_params are {},\\n tree_best_params are {},\\n svm_best_params are {}.'.\n",
        "      format(NB_best_param_3, tree_best_params_3, svm_best_params_3))\n",
        "\n"
      ],
      "execution_count": 71,
      "outputs": [
        {
          "output_type": "stream",
          "text": [
            "NB_best_params are 0.005,\n",
            " tree_best_params are ['gini', 8, None, 0.2, 2],\n",
            " svm_best_params are [100.0, 'squared_hinge'].\n"
          ],
          "name": "stdout"
        }
      ]
    },
    {
      "cell_type": "code",
      "metadata": {
        "id": "hRE8g1zBOfr0"
      },
      "source": [
        "optimized_bayes_3 = BernoulliNB(alpha = NB_best_param_3)\n",
        "optimized_tree_3 = DecisionTreeClassifier(criterion = tree_best_params_3[0],\n",
        "                                        max_features = tree_best_params_3[2],\n",
        "                                        max_depth = float(tree_best_params_3[1]),\n",
        "                                        min_samples_leaf = tree_best_params_3[3],\n",
        "                                        min_samples_split = tree_best_params_3[4], \n",
        "                                        random_state = 42)\n",
        "optimized_svm_3 = svm.LinearSVC(C = svm_best_params_3[0], loss = svm_best_params_3[1], random_state = 42)\n"
      ],
      "execution_count": 72,
      "outputs": []
    },
    {
      "cell_type": "code",
      "metadata": {
        "id": "-AhVlGa9Ofr3",
        "outputId": "0f8bf76f-a45f-4753-978d-583b90875fdf",
        "colab": {
          "base_uri": "https://localhost:8080/"
        }
      },
      "source": [
        "%%time\n",
        "\n",
        "print('Optimal NB f1 for train, valid, test = {}'.\n",
        "      format(model_train_valid_test_FBoW_3(optimized_bayes_3)))\n",
        "print('Optimal Tree f1 for train, valid, test = {}'.\n",
        "      format(model_train_valid_test_FBoW_3(optimized_tree_3)))\n",
        "print('Optimal SVM f1 for train, valid, test = {}'.\n",
        "      format(model_train_valid_test_FBoW_3(optimized_svm_3)))\n",
        "\n",
        "f = open(\"#3_c-Best_Results.txt\", 'a+')\n",
        "f.write('\\n NB_best_params are {}, \\n tree_best_params are {}, \\n svm_best_params are {} \\n {}\\n'.\n",
        "        format(NB_best_param_3, tree_best_params_3, svm_best_params_3, seperator))\n",
        "f.write('Optimal NB f1 for the (train, valid, test) = {},\\n Optimal Tree f1 for train, valid, test = {}, \\n Optimal SVM f1 for train, valid, test = {}\\n {}'.\n",
        "        format(model_train_valid_test_FBoW_3(optimized_bayes_3), \n",
        "               model_train_valid_test_FBoW_3(optimized_tree_3), \n",
        "               model_train_valid_test_FBoW_3(optimized_svm_3), \n",
        "               seperator))\n",
        "f.close()"
      ],
      "execution_count": 73,
      "outputs": [
        {
          "output_type": "stream",
          "text": [
            "Optimal NB f1 for train, valid, test = (0.7544285714285714, 0.421, 0.432)\n",
            "Optimal Tree f1 for train, valid, test = (0.39628571428571424, 0.38499999999999995, 0.38499999999999995)\n",
            "Optimal SVM f1 for train, valid, test = (0.882, 0.499, 0.5095)\n",
            "CPU times: user 29.9 s, sys: 915 ms, total: 30.8 s\n",
            "Wall time: 28.7 s\n"
          ],
          "name": "stdout"
        }
      ]
    },
    {
      "cell_type": "markdown",
      "metadata": {
        "id": "vvBaOaP6Naz6"
      },
      "source": [
        ">> # **3.(d)**\n",
        "Comment about the performance of different classifiers. Why did a particular\n",
        "classifier performed better than the others? What was the role of that hyperparameter that fetched you the best results."
      ]
    },
    {
      "cell_type": "markdown",
      "metadata": {
        "id": "v7Fi8qesNcQa"
      },
      "source": [
        ">> # **3.(e)**\n",
        "Compare the performance with the binary bag-of-words based classifiers. Why the\n",
        "difference in performance? Give a brief explanation comparing BBoW Naive Bayes\n",
        "and FBoW Naive Bayes and similarly for Decision Trees and Linear SVM.\n"
      ]
    },
    {
      "cell_type": "markdown",
      "metadata": {
        "id": "P_tHUvXFNd7a"
      },
      "source": [
        ">> # **3.(f)**\n",
        "Which representation is better? Why?"
      ]
    },
    {
      "cell_type": "markdown",
      "metadata": {
        "id": "DB-OWwEyOvP7"
      },
      "source": [
        "> # **4**\n",
        " Now we will repeat questions 2 and 3 but with IMDB dataset. For this question we will\n",
        "use IMDB dataset with BBoW representation.\n"
      ]
    },
    {
      "cell_type": "markdown",
      "metadata": {
        "id": "1HH1GD9FfqNa"
      },
      "source": [
        "\n",
        ">> # **4.(a)**\n",
        "As a baseline, report the performance of the random classifier (a classifier which\n",
        "classifies a review into an uniformly random class). Note that the IMDB dataset\n",
        "is a balanced dataset. Hence majority-class classifier doesn’t make sense for this\n",
        "dataset, and you can omit it for this question."
      ]
    },
    {
      "cell_type": "code",
      "metadata": {
        "id": "sBm2gTX18bdw",
        "outputId": "19da9fe7-af3f-4371-d646-518188ecb85a",
        "colab": {
          "base_uri": "https://localhost:8080/"
        }
      },
      "source": [
        "# was\n",
        "f1_IMDB_train, rand_IMDB_train = uniform_rand_classifier(IMDB_train, class_IMDB_train, 'IMDB_train')\n",
        "f1_IMDB_test, rand_IMDB_test = uniform_rand_classifier(IMDB_test, class_IMDB_test, 'IMDB_test')\n",
        "f1_IMDB_valid, rand_IMDB_valid = uniform_rand_classifier(IMDB_valid, class_IMDB_valid, 'IMDB_valid')"
      ],
      "execution_count": 74,
      "outputs": [
        {
          "output_type": "stream",
          "text": [
            "BBoW F1 for random classifier on IMDB_train = 0.5012238362032857\n",
            "BBoW F1 for random classifier on IMDB_test = 0.49745915782212785\n",
            "BBoW F1 for random classifier on IMDB_valid = 0.49189938519825605\n"
          ],
          "name": "stdout"
        }
      ]
    },
    {
      "cell_type": "code",
      "metadata": {
        "id": "bjr-j5OHckDU"
      },
      "source": [
        "# np.savetxt('#4-a-BBoW_IMDB_train_rand_classifier.csv', rand_IMDB_train, fmt='%s')\n",
        "# np.savetxt('#4-a-BBoW_IMDB_valid_rand_classifier.csv', rand_IMDB_valid, fmt='%s')\n",
        "# np.savetxt('#4-a-BBoW_IMDB_test_rand_classifier.csv', rand_IMDB_test, fmt='%s')"
      ],
      "execution_count": 75,
      "outputs": []
    },
    {
      "cell_type": "markdown",
      "metadata": {
        "id": "Lq49iOijO8ag"
      },
      "source": [
        ">> # **4.(b)**\n",
        " Now train Naive Bayes, Decision Trees, and Linear SVM for this task. [Note: You\n",
        "should do a thorough hyper-parameter tuning by using the given validation set.\n",
        "Also, note that you should use the appropriate naive Bayes classifier for binary\n",
        "input features (also called Bernoulli naive Bayes).]\n"
      ]
    },
    {
      "cell_type": "code",
      "metadata": {
        "id": "IQ8a9vVRwbWY",
        "outputId": "41ee0034-f485-47a2-d450-c855253c6210",
        "colab": {
          "base_uri": "https://localhost:8080/"
        }
      },
      "source": [
        "# print('Question #4.b', '\\n')\n",
        "#  naive Bayes classifier or Bernoulli naive Bayes IMDB\n",
        "%%time\n",
        "\n",
        "nb_bbow_IMDB = NB_BBoW(IMDB_train_vec, class_IMDB_train, class_IMDB_valid, IMDB_valid_vec, False)"
      ],
      "execution_count": 76,
      "outputs": [
        {
          "output_type": "stream",
          "text": [
            "BBoW----alpha:0.0001,  F1_train: 0.8728375442036234,  F1_valid: 0.8426777215921546\n",
            "BBoW----alpha:0.001,  F1_train: 0.8727711184784329,  F1_valid: 0.8430770249072167\n",
            "BBoW----alpha:0.002,  F1_train: 0.8727711184784329,  F1_valid: 0.8430770249072167\n",
            "BBoW----alpha:0.003,  F1_train: 0.8727711184784329,  F1_valid: 0.8431758867243427\n",
            "BBoW----alpha:0.004,  F1_train: 0.8727711184784329,  F1_valid: 0.843075480543835\n",
            "BBoW----alpha:0.005,  F1_train: 0.8727711184784329,  F1_valid: 0.843075480543835\n",
            "BBoW----alpha:0.006,  F1_train: 0.8727711184784329,  F1_valid: 0.8431758867243427\n",
            "BBoW----alpha:0.007,  F1_train: 0.8727711184784329,  F1_valid: 0.8431751024792695\n",
            "BBoW----alpha:0.008,  F1_train: 0.8727711184784329,  F1_valid: 0.843075480543835\n",
            "BBoW----alpha:0.009,  F1_train: 0.8727041803275917,  F1_valid: 0.843075480543835\n",
            "BBoW----alpha:0.01,  F1_train: 0.8727041803275917,  F1_valid: 0.843075480543835\n",
            "BBoW----alpha:0.02,  F1_train: 0.8725038766289896,  F1_valid: 0.8433751342363114\n",
            "BBoW----alpha:0.05,  F1_train: 0.8722376640485732,  F1_valid: 0.843274721779876\n",
            "BBoW----alpha:0.1,  F1_train: 0.8719704200458473,  F1_valid: 0.8429750707222279\n",
            "CPU times: user 2min 2s, sys: 2.83 s, total: 2min 5s\n",
            "Wall time: 1min 55s\n"
          ],
          "name": "stdout"
        }
      ]
    },
    {
      "cell_type": "code",
      "metadata": {
        "id": "hQ-SneSbGBkF",
        "outputId": "9fe7210e-48b3-4467-e361-40a7b0505b70",
        "colab": {
          "base_uri": "https://localhost:8080/"
        }
      },
      "source": [
        "# decision trees classifier \n",
        "%%time\n",
        "\n",
        "svm_BBoW(IMDB_train_vec, class_IMDB_train, IMDB_valid_vec, class_IMDB_valid,  False)"
      ],
      "execution_count": 77,
      "outputs": [
        {
          "output_type": "stream",
          "text": [
            "C = 0.0625, F1_train = 0.9738664989476644,  F1_valid = 0.8687994751979007\n",
            "C = 0.125, F1_train = 0.9868666652074072,  F1_valid = 0.8607999498879819\n",
            "C = 0.25, F1_train = 0.9953999994888888,  F1_valid = 0.8567999942719997\n",
            "C = 0.5, F1_train = 0.9991333332986667,  F1_valid = 0.8463996067829933\n",
            "C = 1, F1_train = 0.9998666666642964,  F1_valid = 0.8442990268689179\n",
            "C = 1.5, F1_train = 1.0,  F1_valid = 0.8422991657625869\n",
            "C = 2, F1_train = 1.0,  F1_valid = 0.8410999221389619\n",
            "C = 4, F1_train = 1.0,  F1_valid = 0.8407998407998408\n",
            "C = 10.0, F1_train = 1.0,  F1_valid = 0.8407998407998408\n",
            "C = 16, F1_train = 1.0,  F1_valid = 0.8407998407998408\n",
            "C = 32, F1_train = 1.0,  F1_valid = 0.8407998407998408\n",
            "CPU times: user 40.9 s, sys: 2.18 s, total: 43.1 s\n",
            "Wall time: 39 s\n"
          ],
          "name": "stdout"
        }
      ]
    },
    {
      "cell_type": "markdown",
      "metadata": {
        "id": "H6G4EI1iPAFY"
      },
      "source": [
        ">> # **4.(c)**\n",
        "Report the list of hyper-parameters you considered for each classifier, the range\n",
        "of the individual hyper-parameters and the best value for these hyper-parameters\n",
        "chosen based on the validation set performance."
      ]
    },
    {
      "cell_type": "code",
      "metadata": {
        "id": "ECCKsTVaORxt",
        "outputId": "b8754547-26cf-4695-802b-c775b6e58e4c",
        "colab": {
          "base_uri": "https://localhost:8080/"
        }
      },
      "source": [
        "# F1 score for the optimal NB-BBoW hyperparameter \n",
        "\n",
        "alphas = [0.0001, 0.001, 0.002, 0.003, 0.004, 0.005, 0.006, 0.007, \n",
        "          0.008, 0.009, 0.01, 0.02, 0.05, 0.1]\n",
        "alpha_optimum = alphas[nb_bbow_IMDB.index(max(nb_bbow_IMDB))]\n",
        "print('The optimal alpha for the NB classifier for IMDB is {}'.format(alpha_optimum))\n",
        "f = open(\"#4_c-NB_parameters.txt\", 'a+')\n",
        "f.write(\"The optimal alpha from the set {} for the IMDB dataset w.r.t NB_classifier is {} \\n\".\n",
        "        format(alphas, alpha_optimum))\n",
        "f.close()\n",
        "\n",
        "\n",
        "def IMDB_optimal_f1(vector, data_class, file_name):\n",
        "  NB_Class = BernoulliNB(alpha = alpha_optimum)\n",
        "  NB_Class.fit(IMDB_train_vec, class_IMDB_train)\n",
        "  predicted_result = (NB_Class.predict(vector))\n",
        "  f1_result = metrics.f1_score(data_class, predicted_result, average='macro')\n",
        "  print('NB_BBoW best values for the IMDB {} with optimal hyperparameters is {}'.\n",
        "        format(file_name, f1_result))\n",
        "  f = open(\"#4_d-NB_performance.txt\", 'a+')\n",
        "  f.write('{} \\n NB_BBoW best values for the {} of IMDB dataset with optimal hyperparameters is {}. \\n'.\n",
        "        format(seperator, file_name, f1_result))"
      ],
      "execution_count": 78,
      "outputs": [
        {
          "output_type": "stream",
          "text": [
            "The optimal alpha for the NB classifier for IMDB is 0.02\n"
          ],
          "name": "stdout"
        }
      ]
    },
    {
      "cell_type": "code",
      "metadata": {
        "id": "2M--zkBpbXDA"
      },
      "source": [
        "from sklearn.dummy import DummyClassifier as DC\n",
        "from sklearn.model_selection import ParameterGrid\n",
        "from sklearn.tree import DecisionTreeClassifier as DTC\n",
        "from sklearn import svm, metrics\n",
        "from sklearn.metrics import f1_score"
      ],
      "execution_count": 79,
      "outputs": []
    },
    {
      "cell_type": "code",
      "metadata": {
        "id": "YLZtTSmEbXDL"
      },
      "source": [
        "\n",
        "\n",
        "seperator = '#'*100\n",
        "NB_params = ParameterGrid({'alpha':[0.001, 0.002, 0.003, 0.004, 0.005, \n",
        "                                    0.006, 0.007, 0.008, 0.009, 0.01, 0.02, 0.05, 0.1]})\n",
        "tree_params = ParameterGrid({'criterion':['gini','entropy'],\n",
        "                             'max_features': [None, \"sqrt\", \"log2\"],\n",
        "                             'max_depth':[8, 9, 10, 15, 20, 30, 50, 100],\n",
        "                             'min_samples_leaf': [0.2, 0.49],\n",
        "                             'min_samples_split':[2, 3, 5, 10, 20]})\n",
        "svm_params = ParameterGrid({'loss':['hinge','squared_hinge'],\n",
        "                            'C':[0.25, 0.5, 1.5, 2, 5, 10, 100]})\n",
        "\n",
        "classifiers = [(BernoulliNB, NB_params), (DTC, tree_params), (svm.LinearSVC, svm_params)]"
      ],
      "execution_count": 80,
      "outputs": []
    },
    {
      "cell_type": "code",
      "metadata": {
        "id": "ajLBcfptbXDU"
      },
      "source": [
        "def model_validation_4(model):\n",
        "  model.fit(IMDB_train_vec, class_IMDB_train)\n",
        "  valid = model.predict(IMDB_valid_vec)\n",
        "  f1_valid = f1_score(class_IMDB_valid, valid, average = 'micro')\n",
        "  return f1_valid\n",
        "\n",
        "###########################################################################\n",
        "\n",
        "def model_train_valid_test_4(model):\n",
        "  model.fit(IMDB_train_vec, class_IMDB_train)\n",
        "  train = model.predict(IMDB_train_vec)\n",
        "  valid = model.predict(IMDB_valid_vec)\n",
        "  test = model.predict(IMDB_test_vec)\n",
        "  f1_train = f1_score(class_IMDB_train, train, average='micro')\n",
        "  f1_valid = f1_score(class_IMDB_valid, valid, average='micro')\n",
        "  f1_test = f1_score(class_IMDB_test, test, average='micro')\n",
        "  return f1_train, f1_valid, f1_test\n"
      ],
      "execution_count": 81,
      "outputs": []
    },
    {
      "cell_type": "code",
      "metadata": {
        "id": "41ABkXvgWmPK",
        "outputId": "00b57dd5-11ed-4b81-8b51-f0c9472ca88e",
        "colab": {
          "base_uri": "https://localhost:8080/"
        }
      },
      "source": [
        "%%time\n",
        "\n",
        "\n",
        "uni_random = DC(strategy = 'uniform')\n",
        "majority_c = DC(strategy = 'most_frequent')\n",
        "\n",
        "print('Random Classifier = {}'.format(model_validation_4(uni_random)))\n",
        "# print('Majority Classifier = {:<25}'.format(model_validation_4(majority_c)))\n",
        "\n",
        "for param in classifiers:\n",
        "    clf = param[0]\n",
        "    param_grid = param[1]\n",
        "    print(clf)    \n",
        "    best_clf = optimize_parameters(clf, param_grid, False)"
      ],
      "execution_count": 82,
      "outputs": [
        {
          "output_type": "stream",
          "text": [
            "Random Classifier = 0.5005\n",
            "<class 'sklearn.naive_bayes.BernoulliNB'>\n",
            "{'alpha': 0.001} --------> F1 = 0.8431000000000001\n",
            "{'alpha': 0.002} --------> F1 = 0.8431000000000001\n",
            "{'alpha': 0.003} --------> F1 = 0.8432\n",
            "{'alpha': 0.004} --------> F1 = 0.8431000000000001\n",
            "{'alpha': 0.005} --------> F1 = 0.8431000000000001\n",
            "{'alpha': 0.006} --------> F1 = 0.8432\n",
            "{'alpha': 0.007} --------> F1 = 0.8432\n",
            "{'alpha': 0.008} --------> F1 = 0.8431000000000001\n",
            "{'alpha': 0.009} --------> F1 = 0.8431000000000001\n",
            "{'alpha': 0.01} --------> F1 = 0.8431000000000001\n",
            "{'alpha': 0.02} --------> F1 = 0.8434\n",
            "{'alpha': 0.05} --------> F1 = 0.8433\n",
            "{'alpha': 0.1} --------> F1 = 0.843\n",
            "Best params: {'alpha': 0.02}\n",
            "Best F1 Score: 0.8434\n",
            " #################################################################################################### \n",
            "\n",
            "<class 'sklearn.tree._classes.DecisionTreeClassifier'>\n",
            "{'criterion': 'gini', 'max_depth': 8, 'max_features': None, 'min_samples_leaf': 0.2, 'min_samples_split': 2} --------> F1 = 0.6311\n",
            "{'criterion': 'gini', 'max_depth': 8, 'max_features': None, 'min_samples_leaf': 0.2, 'min_samples_split': 3} --------> F1 = 0.6311\n",
            "{'criterion': 'gini', 'max_depth': 8, 'max_features': None, 'min_samples_leaf': 0.2, 'min_samples_split': 5} --------> F1 = 0.6311\n",
            "{'criterion': 'gini', 'max_depth': 8, 'max_features': None, 'min_samples_leaf': 0.2, 'min_samples_split': 10} --------> F1 = 0.6311\n",
            "{'criterion': 'gini', 'max_depth': 8, 'max_features': None, 'min_samples_leaf': 0.2, 'min_samples_split': 20} --------> F1 = 0.6311\n",
            "{'criterion': 'gini', 'max_depth': 8, 'max_features': None, 'min_samples_leaf': 0.49, 'min_samples_split': 2} --------> F1 = 0.5\n",
            "{'criterion': 'gini', 'max_depth': 8, 'max_features': None, 'min_samples_leaf': 0.49, 'min_samples_split': 3} --------> F1 = 0.5\n",
            "{'criterion': 'gini', 'max_depth': 8, 'max_features': None, 'min_samples_leaf': 0.49, 'min_samples_split': 5} --------> F1 = 0.5\n",
            "{'criterion': 'gini', 'max_depth': 8, 'max_features': None, 'min_samples_leaf': 0.49, 'min_samples_split': 10} --------> F1 = 0.5\n",
            "{'criterion': 'gini', 'max_depth': 8, 'max_features': None, 'min_samples_leaf': 0.49, 'min_samples_split': 20} --------> F1 = 0.5\n",
            "{'criterion': 'gini', 'max_depth': 8, 'max_features': 'sqrt', 'min_samples_leaf': 0.2, 'min_samples_split': 2} --------> F1 = 0.5532\n",
            "{'criterion': 'gini', 'max_depth': 8, 'max_features': 'sqrt', 'min_samples_leaf': 0.2, 'min_samples_split': 3} --------> F1 = 0.5\n",
            "{'criterion': 'gini', 'max_depth': 8, 'max_features': 'sqrt', 'min_samples_leaf': 0.2, 'min_samples_split': 5} --------> F1 = 0.5\n",
            "{'criterion': 'gini', 'max_depth': 8, 'max_features': 'sqrt', 'min_samples_leaf': 0.2, 'min_samples_split': 10} --------> F1 = 0.5479\n",
            "{'criterion': 'gini', 'max_depth': 8, 'max_features': 'sqrt', 'min_samples_leaf': 0.2, 'min_samples_split': 20} --------> F1 = 0.5263\n",
            "{'criterion': 'gini', 'max_depth': 8, 'max_features': 'sqrt', 'min_samples_leaf': 0.49, 'min_samples_split': 2} --------> F1 = 0.5\n",
            "{'criterion': 'gini', 'max_depth': 8, 'max_features': 'sqrt', 'min_samples_leaf': 0.49, 'min_samples_split': 3} --------> F1 = 0.5\n",
            "{'criterion': 'gini', 'max_depth': 8, 'max_features': 'sqrt', 'min_samples_leaf': 0.49, 'min_samples_split': 5} --------> F1 = 0.5\n",
            "{'criterion': 'gini', 'max_depth': 8, 'max_features': 'sqrt', 'min_samples_leaf': 0.49, 'min_samples_split': 10} --------> F1 = 0.5\n",
            "{'criterion': 'gini', 'max_depth': 8, 'max_features': 'sqrt', 'min_samples_leaf': 0.49, 'min_samples_split': 20} --------> F1 = 0.5\n",
            "{'criterion': 'gini', 'max_depth': 8, 'max_features': 'log2', 'min_samples_leaf': 0.2, 'min_samples_split': 2} --------> F1 = 0.5\n",
            "{'criterion': 'gini', 'max_depth': 8, 'max_features': 'log2', 'min_samples_leaf': 0.2, 'min_samples_split': 3} --------> F1 = 0.5\n",
            "{'criterion': 'gini', 'max_depth': 8, 'max_features': 'log2', 'min_samples_leaf': 0.2, 'min_samples_split': 5} --------> F1 = 0.5\n",
            "{'criterion': 'gini', 'max_depth': 8, 'max_features': 'log2', 'min_samples_leaf': 0.2, 'min_samples_split': 10} --------> F1 = 0.5\n",
            "{'criterion': 'gini', 'max_depth': 8, 'max_features': 'log2', 'min_samples_leaf': 0.2, 'min_samples_split': 20} --------> F1 = 0.5\n",
            "{'criterion': 'gini', 'max_depth': 8, 'max_features': 'log2', 'min_samples_leaf': 0.49, 'min_samples_split': 2} --------> F1 = 0.5\n",
            "{'criterion': 'gini', 'max_depth': 8, 'max_features': 'log2', 'min_samples_leaf': 0.49, 'min_samples_split': 3} --------> F1 = 0.5\n",
            "{'criterion': 'gini', 'max_depth': 8, 'max_features': 'log2', 'min_samples_leaf': 0.49, 'min_samples_split': 5} --------> F1 = 0.5\n",
            "{'criterion': 'gini', 'max_depth': 8, 'max_features': 'log2', 'min_samples_leaf': 0.49, 'min_samples_split': 10} --------> F1 = 0.5\n",
            "{'criterion': 'gini', 'max_depth': 8, 'max_features': 'log2', 'min_samples_leaf': 0.49, 'min_samples_split': 20} --------> F1 = 0.5\n",
            "{'criterion': 'gini', 'max_depth': 9, 'max_features': None, 'min_samples_leaf': 0.2, 'min_samples_split': 2} --------> F1 = 0.6311\n",
            "{'criterion': 'gini', 'max_depth': 9, 'max_features': None, 'min_samples_leaf': 0.2, 'min_samples_split': 3} --------> F1 = 0.6311\n",
            "{'criterion': 'gini', 'max_depth': 9, 'max_features': None, 'min_samples_leaf': 0.2, 'min_samples_split': 5} --------> F1 = 0.6311\n",
            "{'criterion': 'gini', 'max_depth': 9, 'max_features': None, 'min_samples_leaf': 0.2, 'min_samples_split': 10} --------> F1 = 0.6311\n",
            "{'criterion': 'gini', 'max_depth': 9, 'max_features': None, 'min_samples_leaf': 0.2, 'min_samples_split': 20} --------> F1 = 0.6311\n",
            "{'criterion': 'gini', 'max_depth': 9, 'max_features': None, 'min_samples_leaf': 0.49, 'min_samples_split': 2} --------> F1 = 0.5\n",
            "{'criterion': 'gini', 'max_depth': 9, 'max_features': None, 'min_samples_leaf': 0.49, 'min_samples_split': 3} --------> F1 = 0.5\n",
            "{'criterion': 'gini', 'max_depth': 9, 'max_features': None, 'min_samples_leaf': 0.49, 'min_samples_split': 5} --------> F1 = 0.5\n",
            "{'criterion': 'gini', 'max_depth': 9, 'max_features': None, 'min_samples_leaf': 0.49, 'min_samples_split': 10} --------> F1 = 0.5\n",
            "{'criterion': 'gini', 'max_depth': 9, 'max_features': None, 'min_samples_leaf': 0.49, 'min_samples_split': 20} --------> F1 = 0.5\n",
            "{'criterion': 'gini', 'max_depth': 9, 'max_features': 'sqrt', 'min_samples_leaf': 0.2, 'min_samples_split': 2} --------> F1 = 0.5101\n",
            "{'criterion': 'gini', 'max_depth': 9, 'max_features': 'sqrt', 'min_samples_leaf': 0.2, 'min_samples_split': 3} --------> F1 = 0.524\n",
            "{'criterion': 'gini', 'max_depth': 9, 'max_features': 'sqrt', 'min_samples_leaf': 0.2, 'min_samples_split': 5} --------> F1 = 0.5\n",
            "{'criterion': 'gini', 'max_depth': 9, 'max_features': 'sqrt', 'min_samples_leaf': 0.2, 'min_samples_split': 10} --------> F1 = 0.5083\n",
            "{'criterion': 'gini', 'max_depth': 9, 'max_features': 'sqrt', 'min_samples_leaf': 0.2, 'min_samples_split': 20} --------> F1 = 0.515\n",
            "{'criterion': 'gini', 'max_depth': 9, 'max_features': 'sqrt', 'min_samples_leaf': 0.49, 'min_samples_split': 2} --------> F1 = 0.5\n",
            "{'criterion': 'gini', 'max_depth': 9, 'max_features': 'sqrt', 'min_samples_leaf': 0.49, 'min_samples_split': 3} --------> F1 = 0.5\n",
            "{'criterion': 'gini', 'max_depth': 9, 'max_features': 'sqrt', 'min_samples_leaf': 0.49, 'min_samples_split': 5} --------> F1 = 0.5\n",
            "{'criterion': 'gini', 'max_depth': 9, 'max_features': 'sqrt', 'min_samples_leaf': 0.49, 'min_samples_split': 10} --------> F1 = 0.5\n",
            "{'criterion': 'gini', 'max_depth': 9, 'max_features': 'sqrt', 'min_samples_leaf': 0.49, 'min_samples_split': 20} --------> F1 = 0.5\n",
            "{'criterion': 'gini', 'max_depth': 9, 'max_features': 'log2', 'min_samples_leaf': 0.2, 'min_samples_split': 2} --------> F1 = 0.5\n",
            "{'criterion': 'gini', 'max_depth': 9, 'max_features': 'log2', 'min_samples_leaf': 0.2, 'min_samples_split': 3} --------> F1 = 0.5\n",
            "{'criterion': 'gini', 'max_depth': 9, 'max_features': 'log2', 'min_samples_leaf': 0.2, 'min_samples_split': 5} --------> F1 = 0.5407\n",
            "{'criterion': 'gini', 'max_depth': 9, 'max_features': 'log2', 'min_samples_leaf': 0.2, 'min_samples_split': 10} --------> F1 = 0.5\n",
            "{'criterion': 'gini', 'max_depth': 9, 'max_features': 'log2', 'min_samples_leaf': 0.2, 'min_samples_split': 20} --------> F1 = 0.5\n",
            "{'criterion': 'gini', 'max_depth': 9, 'max_features': 'log2', 'min_samples_leaf': 0.49, 'min_samples_split': 2} --------> F1 = 0.5\n",
            "{'criterion': 'gini', 'max_depth': 9, 'max_features': 'log2', 'min_samples_leaf': 0.49, 'min_samples_split': 3} --------> F1 = 0.5\n",
            "{'criterion': 'gini', 'max_depth': 9, 'max_features': 'log2', 'min_samples_leaf': 0.49, 'min_samples_split': 5} --------> F1 = 0.5\n",
            "{'criterion': 'gini', 'max_depth': 9, 'max_features': 'log2', 'min_samples_leaf': 0.49, 'min_samples_split': 10} --------> F1 = 0.5\n",
            "{'criterion': 'gini', 'max_depth': 9, 'max_features': 'log2', 'min_samples_leaf': 0.49, 'min_samples_split': 20} --------> F1 = 0.5\n",
            "{'criterion': 'gini', 'max_depth': 10, 'max_features': None, 'min_samples_leaf': 0.2, 'min_samples_split': 2} --------> F1 = 0.6311\n",
            "{'criterion': 'gini', 'max_depth': 10, 'max_features': None, 'min_samples_leaf': 0.2, 'min_samples_split': 3} --------> F1 = 0.6311\n",
            "{'criterion': 'gini', 'max_depth': 10, 'max_features': None, 'min_samples_leaf': 0.2, 'min_samples_split': 5} --------> F1 = 0.6311\n",
            "{'criterion': 'gini', 'max_depth': 10, 'max_features': None, 'min_samples_leaf': 0.2, 'min_samples_split': 10} --------> F1 = 0.6311\n",
            "{'criterion': 'gini', 'max_depth': 10, 'max_features': None, 'min_samples_leaf': 0.2, 'min_samples_split': 20} --------> F1 = 0.6311\n",
            "{'criterion': 'gini', 'max_depth': 10, 'max_features': None, 'min_samples_leaf': 0.49, 'min_samples_split': 2} --------> F1 = 0.5\n",
            "{'criterion': 'gini', 'max_depth': 10, 'max_features': None, 'min_samples_leaf': 0.49, 'min_samples_split': 3} --------> F1 = 0.5\n",
            "{'criterion': 'gini', 'max_depth': 10, 'max_features': None, 'min_samples_leaf': 0.49, 'min_samples_split': 5} --------> F1 = 0.5\n",
            "{'criterion': 'gini', 'max_depth': 10, 'max_features': None, 'min_samples_leaf': 0.49, 'min_samples_split': 10} --------> F1 = 0.5\n",
            "{'criterion': 'gini', 'max_depth': 10, 'max_features': None, 'min_samples_leaf': 0.49, 'min_samples_split': 20} --------> F1 = 0.5\n",
            "{'criterion': 'gini', 'max_depth': 10, 'max_features': 'sqrt', 'min_samples_leaf': 0.2, 'min_samples_split': 2} --------> F1 = 0.5149\n",
            "{'criterion': 'gini', 'max_depth': 10, 'max_features': 'sqrt', 'min_samples_leaf': 0.2, 'min_samples_split': 3} --------> F1 = 0.5041\n",
            "{'criterion': 'gini', 'max_depth': 10, 'max_features': 'sqrt', 'min_samples_leaf': 0.2, 'min_samples_split': 5} --------> F1 = 0.5719\n",
            "{'criterion': 'gini', 'max_depth': 10, 'max_features': 'sqrt', 'min_samples_leaf': 0.2, 'min_samples_split': 10} --------> F1 = 0.5\n",
            "{'criterion': 'gini', 'max_depth': 10, 'max_features': 'sqrt', 'min_samples_leaf': 0.2, 'min_samples_split': 20} --------> F1 = 0.5141\n",
            "{'criterion': 'gini', 'max_depth': 10, 'max_features': 'sqrt', 'min_samples_leaf': 0.49, 'min_samples_split': 2} --------> F1 = 0.5\n",
            "{'criterion': 'gini', 'max_depth': 10, 'max_features': 'sqrt', 'min_samples_leaf': 0.49, 'min_samples_split': 3} --------> F1 = 0.5\n",
            "{'criterion': 'gini', 'max_depth': 10, 'max_features': 'sqrt', 'min_samples_leaf': 0.49, 'min_samples_split': 5} --------> F1 = 0.5\n",
            "{'criterion': 'gini', 'max_depth': 10, 'max_features': 'sqrt', 'min_samples_leaf': 0.49, 'min_samples_split': 10} --------> F1 = 0.5\n",
            "{'criterion': 'gini', 'max_depth': 10, 'max_features': 'sqrt', 'min_samples_leaf': 0.49, 'min_samples_split': 20} --------> F1 = 0.5\n",
            "{'criterion': 'gini', 'max_depth': 10, 'max_features': 'log2', 'min_samples_leaf': 0.2, 'min_samples_split': 2} --------> F1 = 0.5\n",
            "{'criterion': 'gini', 'max_depth': 10, 'max_features': 'log2', 'min_samples_leaf': 0.2, 'min_samples_split': 3} --------> F1 = 0.5847\n",
            "{'criterion': 'gini', 'max_depth': 10, 'max_features': 'log2', 'min_samples_leaf': 0.2, 'min_samples_split': 5} --------> F1 = 0.5\n",
            "{'criterion': 'gini', 'max_depth': 10, 'max_features': 'log2', 'min_samples_leaf': 0.2, 'min_samples_split': 10} --------> F1 = 0.5\n",
            "{'criterion': 'gini', 'max_depth': 10, 'max_features': 'log2', 'min_samples_leaf': 0.2, 'min_samples_split': 20} --------> F1 = 0.5\n",
            "{'criterion': 'gini', 'max_depth': 10, 'max_features': 'log2', 'min_samples_leaf': 0.49, 'min_samples_split': 2} --------> F1 = 0.5\n",
            "{'criterion': 'gini', 'max_depth': 10, 'max_features': 'log2', 'min_samples_leaf': 0.49, 'min_samples_split': 3} --------> F1 = 0.5\n",
            "{'criterion': 'gini', 'max_depth': 10, 'max_features': 'log2', 'min_samples_leaf': 0.49, 'min_samples_split': 5} --------> F1 = 0.5\n",
            "{'criterion': 'gini', 'max_depth': 10, 'max_features': 'log2', 'min_samples_leaf': 0.49, 'min_samples_split': 10} --------> F1 = 0.5\n",
            "{'criterion': 'gini', 'max_depth': 10, 'max_features': 'log2', 'min_samples_leaf': 0.49, 'min_samples_split': 20} --------> F1 = 0.5\n",
            "{'criterion': 'gini', 'max_depth': 15, 'max_features': None, 'min_samples_leaf': 0.2, 'min_samples_split': 2} --------> F1 = 0.6311\n",
            "{'criterion': 'gini', 'max_depth': 15, 'max_features': None, 'min_samples_leaf': 0.2, 'min_samples_split': 3} --------> F1 = 0.6311\n",
            "{'criterion': 'gini', 'max_depth': 15, 'max_features': None, 'min_samples_leaf': 0.2, 'min_samples_split': 5} --------> F1 = 0.6311\n",
            "{'criterion': 'gini', 'max_depth': 15, 'max_features': None, 'min_samples_leaf': 0.2, 'min_samples_split': 10} --------> F1 = 0.6311\n",
            "{'criterion': 'gini', 'max_depth': 15, 'max_features': None, 'min_samples_leaf': 0.2, 'min_samples_split': 20} --------> F1 = 0.6311\n",
            "{'criterion': 'gini', 'max_depth': 15, 'max_features': None, 'min_samples_leaf': 0.49, 'min_samples_split': 2} --------> F1 = 0.5\n",
            "{'criterion': 'gini', 'max_depth': 15, 'max_features': None, 'min_samples_leaf': 0.49, 'min_samples_split': 3} --------> F1 = 0.5\n",
            "{'criterion': 'gini', 'max_depth': 15, 'max_features': None, 'min_samples_leaf': 0.49, 'min_samples_split': 5} --------> F1 = 0.5\n",
            "{'criterion': 'gini', 'max_depth': 15, 'max_features': None, 'min_samples_leaf': 0.49, 'min_samples_split': 10} --------> F1 = 0.5\n",
            "{'criterion': 'gini', 'max_depth': 15, 'max_features': None, 'min_samples_leaf': 0.49, 'min_samples_split': 20} --------> F1 = 0.5\n",
            "{'criterion': 'gini', 'max_depth': 15, 'max_features': 'sqrt', 'min_samples_leaf': 0.2, 'min_samples_split': 2} --------> F1 = 0.5097\n",
            "{'criterion': 'gini', 'max_depth': 15, 'max_features': 'sqrt', 'min_samples_leaf': 0.2, 'min_samples_split': 3} --------> F1 = 0.5201\n",
            "{'criterion': 'gini', 'max_depth': 15, 'max_features': 'sqrt', 'min_samples_leaf': 0.2, 'min_samples_split': 5} --------> F1 = 0.5389\n",
            "{'criterion': 'gini', 'max_depth': 15, 'max_features': 'sqrt', 'min_samples_leaf': 0.2, 'min_samples_split': 10} --------> F1 = 0.53\n",
            "{'criterion': 'gini', 'max_depth': 15, 'max_features': 'sqrt', 'min_samples_leaf': 0.2, 'min_samples_split': 20} --------> F1 = 0.5\n",
            "{'criterion': 'gini', 'max_depth': 15, 'max_features': 'sqrt', 'min_samples_leaf': 0.49, 'min_samples_split': 2} --------> F1 = 0.5\n",
            "{'criterion': 'gini', 'max_depth': 15, 'max_features': 'sqrt', 'min_samples_leaf': 0.49, 'min_samples_split': 3} --------> F1 = 0.5\n",
            "{'criterion': 'gini', 'max_depth': 15, 'max_features': 'sqrt', 'min_samples_leaf': 0.49, 'min_samples_split': 5} --------> F1 = 0.5\n",
            "{'criterion': 'gini', 'max_depth': 15, 'max_features': 'sqrt', 'min_samples_leaf': 0.49, 'min_samples_split': 10} --------> F1 = 0.5\n",
            "{'criterion': 'gini', 'max_depth': 15, 'max_features': 'sqrt', 'min_samples_leaf': 0.49, 'min_samples_split': 20} --------> F1 = 0.5\n",
            "{'criterion': 'gini', 'max_depth': 15, 'max_features': 'log2', 'min_samples_leaf': 0.2, 'min_samples_split': 2} --------> F1 = 0.5\n",
            "{'criterion': 'gini', 'max_depth': 15, 'max_features': 'log2', 'min_samples_leaf': 0.2, 'min_samples_split': 3} --------> F1 = 0.5\n",
            "{'criterion': 'gini', 'max_depth': 15, 'max_features': 'log2', 'min_samples_leaf': 0.2, 'min_samples_split': 5} --------> F1 = 0.5\n",
            "{'criterion': 'gini', 'max_depth': 15, 'max_features': 'log2', 'min_samples_leaf': 0.2, 'min_samples_split': 10} --------> F1 = 0.5123\n",
            "{'criterion': 'gini', 'max_depth': 15, 'max_features': 'log2', 'min_samples_leaf': 0.2, 'min_samples_split': 20} --------> F1 = 0.5175\n",
            "{'criterion': 'gini', 'max_depth': 15, 'max_features': 'log2', 'min_samples_leaf': 0.49, 'min_samples_split': 2} --------> F1 = 0.5\n",
            "{'criterion': 'gini', 'max_depth': 15, 'max_features': 'log2', 'min_samples_leaf': 0.49, 'min_samples_split': 3} --------> F1 = 0.5\n",
            "{'criterion': 'gini', 'max_depth': 15, 'max_features': 'log2', 'min_samples_leaf': 0.49, 'min_samples_split': 5} --------> F1 = 0.5\n",
            "{'criterion': 'gini', 'max_depth': 15, 'max_features': 'log2', 'min_samples_leaf': 0.49, 'min_samples_split': 10} --------> F1 = 0.5\n",
            "{'criterion': 'gini', 'max_depth': 15, 'max_features': 'log2', 'min_samples_leaf': 0.49, 'min_samples_split': 20} --------> F1 = 0.5\n",
            "{'criterion': 'gini', 'max_depth': 20, 'max_features': None, 'min_samples_leaf': 0.2, 'min_samples_split': 2} --------> F1 = 0.6311\n",
            "{'criterion': 'gini', 'max_depth': 20, 'max_features': None, 'min_samples_leaf': 0.2, 'min_samples_split': 3} --------> F1 = 0.6311\n",
            "{'criterion': 'gini', 'max_depth': 20, 'max_features': None, 'min_samples_leaf': 0.2, 'min_samples_split': 5} --------> F1 = 0.6311\n",
            "{'criterion': 'gini', 'max_depth': 20, 'max_features': None, 'min_samples_leaf': 0.2, 'min_samples_split': 10} --------> F1 = 0.6311\n",
            "{'criterion': 'gini', 'max_depth': 20, 'max_features': None, 'min_samples_leaf': 0.2, 'min_samples_split': 20} --------> F1 = 0.6311\n",
            "{'criterion': 'gini', 'max_depth': 20, 'max_features': None, 'min_samples_leaf': 0.49, 'min_samples_split': 2} --------> F1 = 0.5\n",
            "{'criterion': 'gini', 'max_depth': 20, 'max_features': None, 'min_samples_leaf': 0.49, 'min_samples_split': 3} --------> F1 = 0.5\n",
            "{'criterion': 'gini', 'max_depth': 20, 'max_features': None, 'min_samples_leaf': 0.49, 'min_samples_split': 5} --------> F1 = 0.5\n",
            "{'criterion': 'gini', 'max_depth': 20, 'max_features': None, 'min_samples_leaf': 0.49, 'min_samples_split': 10} --------> F1 = 0.5\n",
            "{'criterion': 'gini', 'max_depth': 20, 'max_features': None, 'min_samples_leaf': 0.49, 'min_samples_split': 20} --------> F1 = 0.5\n",
            "{'criterion': 'gini', 'max_depth': 20, 'max_features': 'sqrt', 'min_samples_leaf': 0.2, 'min_samples_split': 2} --------> F1 = 0.5\n",
            "{'criterion': 'gini', 'max_depth': 20, 'max_features': 'sqrt', 'min_samples_leaf': 0.2, 'min_samples_split': 3} --------> F1 = 0.5\n",
            "{'criterion': 'gini', 'max_depth': 20, 'max_features': 'sqrt', 'min_samples_leaf': 0.2, 'min_samples_split': 5} --------> F1 = 0.5\n",
            "{'criterion': 'gini', 'max_depth': 20, 'max_features': 'sqrt', 'min_samples_leaf': 0.2, 'min_samples_split': 10} --------> F1 = 0.5299\n",
            "{'criterion': 'gini', 'max_depth': 20, 'max_features': 'sqrt', 'min_samples_leaf': 0.2, 'min_samples_split': 20} --------> F1 = 0.5153\n",
            "{'criterion': 'gini', 'max_depth': 20, 'max_features': 'sqrt', 'min_samples_leaf': 0.49, 'min_samples_split': 2} --------> F1 = 0.5\n",
            "{'criterion': 'gini', 'max_depth': 20, 'max_features': 'sqrt', 'min_samples_leaf': 0.49, 'min_samples_split': 3} --------> F1 = 0.5\n",
            "{'criterion': 'gini', 'max_depth': 20, 'max_features': 'sqrt', 'min_samples_leaf': 0.49, 'min_samples_split': 5} --------> F1 = 0.5\n",
            "{'criterion': 'gini', 'max_depth': 20, 'max_features': 'sqrt', 'min_samples_leaf': 0.49, 'min_samples_split': 10} --------> F1 = 0.5\n",
            "{'criterion': 'gini', 'max_depth': 20, 'max_features': 'sqrt', 'min_samples_leaf': 0.49, 'min_samples_split': 20} --------> F1 = 0.5\n",
            "{'criterion': 'gini', 'max_depth': 20, 'max_features': 'log2', 'min_samples_leaf': 0.2, 'min_samples_split': 2} --------> F1 = 0.5\n",
            "{'criterion': 'gini', 'max_depth': 20, 'max_features': 'log2', 'min_samples_leaf': 0.2, 'min_samples_split': 3} --------> F1 = 0.5\n",
            "{'criterion': 'gini', 'max_depth': 20, 'max_features': 'log2', 'min_samples_leaf': 0.2, 'min_samples_split': 5} --------> F1 = 0.5\n",
            "{'criterion': 'gini', 'max_depth': 20, 'max_features': 'log2', 'min_samples_leaf': 0.2, 'min_samples_split': 10} --------> F1 = 0.5\n",
            "{'criterion': 'gini', 'max_depth': 20, 'max_features': 'log2', 'min_samples_leaf': 0.2, 'min_samples_split': 20} --------> F1 = 0.5\n",
            "{'criterion': 'gini', 'max_depth': 20, 'max_features': 'log2', 'min_samples_leaf': 0.49, 'min_samples_split': 2} --------> F1 = 0.5\n",
            "{'criterion': 'gini', 'max_depth': 20, 'max_features': 'log2', 'min_samples_leaf': 0.49, 'min_samples_split': 3} --------> F1 = 0.5\n",
            "{'criterion': 'gini', 'max_depth': 20, 'max_features': 'log2', 'min_samples_leaf': 0.49, 'min_samples_split': 5} --------> F1 = 0.5\n",
            "{'criterion': 'gini', 'max_depth': 20, 'max_features': 'log2', 'min_samples_leaf': 0.49, 'min_samples_split': 10} --------> F1 = 0.5\n",
            "{'criterion': 'gini', 'max_depth': 20, 'max_features': 'log2', 'min_samples_leaf': 0.49, 'min_samples_split': 20} --------> F1 = 0.5\n",
            "{'criterion': 'gini', 'max_depth': 30, 'max_features': None, 'min_samples_leaf': 0.2, 'min_samples_split': 2} --------> F1 = 0.6311\n",
            "{'criterion': 'gini', 'max_depth': 30, 'max_features': None, 'min_samples_leaf': 0.2, 'min_samples_split': 3} --------> F1 = 0.6311\n",
            "{'criterion': 'gini', 'max_depth': 30, 'max_features': None, 'min_samples_leaf': 0.2, 'min_samples_split': 5} --------> F1 = 0.6311\n",
            "{'criterion': 'gini', 'max_depth': 30, 'max_features': None, 'min_samples_leaf': 0.2, 'min_samples_split': 10} --------> F1 = 0.6311\n",
            "{'criterion': 'gini', 'max_depth': 30, 'max_features': None, 'min_samples_leaf': 0.2, 'min_samples_split': 20} --------> F1 = 0.6311\n",
            "{'criterion': 'gini', 'max_depth': 30, 'max_features': None, 'min_samples_leaf': 0.49, 'min_samples_split': 2} --------> F1 = 0.5\n",
            "{'criterion': 'gini', 'max_depth': 30, 'max_features': None, 'min_samples_leaf': 0.49, 'min_samples_split': 3} --------> F1 = 0.5\n",
            "{'criterion': 'gini', 'max_depth': 30, 'max_features': None, 'min_samples_leaf': 0.49, 'min_samples_split': 5} --------> F1 = 0.5\n",
            "{'criterion': 'gini', 'max_depth': 30, 'max_features': None, 'min_samples_leaf': 0.49, 'min_samples_split': 10} --------> F1 = 0.5\n",
            "{'criterion': 'gini', 'max_depth': 30, 'max_features': None, 'min_samples_leaf': 0.49, 'min_samples_split': 20} --------> F1 = 0.5\n",
            "{'criterion': 'gini', 'max_depth': 30, 'max_features': 'sqrt', 'min_samples_leaf': 0.2, 'min_samples_split': 2} --------> F1 = 0.5\n",
            "{'criterion': 'gini', 'max_depth': 30, 'max_features': 'sqrt', 'min_samples_leaf': 0.2, 'min_samples_split': 3} --------> F1 = 0.5653\n",
            "{'criterion': 'gini', 'max_depth': 30, 'max_features': 'sqrt', 'min_samples_leaf': 0.2, 'min_samples_split': 5} --------> F1 = 0.5\n",
            "{'criterion': 'gini', 'max_depth': 30, 'max_features': 'sqrt', 'min_samples_leaf': 0.2, 'min_samples_split': 10} --------> F1 = 0.5\n",
            "{'criterion': 'gini', 'max_depth': 30, 'max_features': 'sqrt', 'min_samples_leaf': 0.2, 'min_samples_split': 20} --------> F1 = 0.5156\n",
            "{'criterion': 'gini', 'max_depth': 30, 'max_features': 'sqrt', 'min_samples_leaf': 0.49, 'min_samples_split': 2} --------> F1 = 0.5\n",
            "{'criterion': 'gini', 'max_depth': 30, 'max_features': 'sqrt', 'min_samples_leaf': 0.49, 'min_samples_split': 3} --------> F1 = 0.5\n",
            "{'criterion': 'gini', 'max_depth': 30, 'max_features': 'sqrt', 'min_samples_leaf': 0.49, 'min_samples_split': 5} --------> F1 = 0.5\n",
            "{'criterion': 'gini', 'max_depth': 30, 'max_features': 'sqrt', 'min_samples_leaf': 0.49, 'min_samples_split': 10} --------> F1 = 0.5\n",
            "{'criterion': 'gini', 'max_depth': 30, 'max_features': 'sqrt', 'min_samples_leaf': 0.49, 'min_samples_split': 20} --------> F1 = 0.5\n",
            "{'criterion': 'gini', 'max_depth': 30, 'max_features': 'log2', 'min_samples_leaf': 0.2, 'min_samples_split': 2} --------> F1 = 0.5635\n",
            "{'criterion': 'gini', 'max_depth': 30, 'max_features': 'log2', 'min_samples_leaf': 0.2, 'min_samples_split': 3} --------> F1 = 0.5\n",
            "{'criterion': 'gini', 'max_depth': 30, 'max_features': 'log2', 'min_samples_leaf': 0.2, 'min_samples_split': 5} --------> F1 = 0.5\n",
            "{'criterion': 'gini', 'max_depth': 30, 'max_features': 'log2', 'min_samples_leaf': 0.2, 'min_samples_split': 10} --------> F1 = 0.5143\n",
            "{'criterion': 'gini', 'max_depth': 30, 'max_features': 'log2', 'min_samples_leaf': 0.2, 'min_samples_split': 20} --------> F1 = 0.5\n",
            "{'criterion': 'gini', 'max_depth': 30, 'max_features': 'log2', 'min_samples_leaf': 0.49, 'min_samples_split': 2} --------> F1 = 0.5\n",
            "{'criterion': 'gini', 'max_depth': 30, 'max_features': 'log2', 'min_samples_leaf': 0.49, 'min_samples_split': 3} --------> F1 = 0.5\n",
            "{'criterion': 'gini', 'max_depth': 30, 'max_features': 'log2', 'min_samples_leaf': 0.49, 'min_samples_split': 5} --------> F1 = 0.5\n",
            "{'criterion': 'gini', 'max_depth': 30, 'max_features': 'log2', 'min_samples_leaf': 0.49, 'min_samples_split': 10} --------> F1 = 0.5\n",
            "{'criterion': 'gini', 'max_depth': 30, 'max_features': 'log2', 'min_samples_leaf': 0.49, 'min_samples_split': 20} --------> F1 = 0.5\n",
            "{'criterion': 'gini', 'max_depth': 50, 'max_features': None, 'min_samples_leaf': 0.2, 'min_samples_split': 2} --------> F1 = 0.6311\n",
            "{'criterion': 'gini', 'max_depth': 50, 'max_features': None, 'min_samples_leaf': 0.2, 'min_samples_split': 3} --------> F1 = 0.6311\n",
            "{'criterion': 'gini', 'max_depth': 50, 'max_features': None, 'min_samples_leaf': 0.2, 'min_samples_split': 5} --------> F1 = 0.6311\n",
            "{'criterion': 'gini', 'max_depth': 50, 'max_features': None, 'min_samples_leaf': 0.2, 'min_samples_split': 10} --------> F1 = 0.6311\n",
            "{'criterion': 'gini', 'max_depth': 50, 'max_features': None, 'min_samples_leaf': 0.2, 'min_samples_split': 20} --------> F1 = 0.6311\n",
            "{'criterion': 'gini', 'max_depth': 50, 'max_features': None, 'min_samples_leaf': 0.49, 'min_samples_split': 2} --------> F1 = 0.5\n",
            "{'criterion': 'gini', 'max_depth': 50, 'max_features': None, 'min_samples_leaf': 0.49, 'min_samples_split': 3} --------> F1 = 0.5\n",
            "{'criterion': 'gini', 'max_depth': 50, 'max_features': None, 'min_samples_leaf': 0.49, 'min_samples_split': 5} --------> F1 = 0.5\n",
            "{'criterion': 'gini', 'max_depth': 50, 'max_features': None, 'min_samples_leaf': 0.49, 'min_samples_split': 10} --------> F1 = 0.5\n",
            "{'criterion': 'gini', 'max_depth': 50, 'max_features': None, 'min_samples_leaf': 0.49, 'min_samples_split': 20} --------> F1 = 0.5\n",
            "{'criterion': 'gini', 'max_depth': 50, 'max_features': 'sqrt', 'min_samples_leaf': 0.2, 'min_samples_split': 2} --------> F1 = 0.5\n",
            "{'criterion': 'gini', 'max_depth': 50, 'max_features': 'sqrt', 'min_samples_leaf': 0.2, 'min_samples_split': 3} --------> F1 = 0.5\n",
            "{'criterion': 'gini', 'max_depth': 50, 'max_features': 'sqrt', 'min_samples_leaf': 0.2, 'min_samples_split': 5} --------> F1 = 0.5\n",
            "{'criterion': 'gini', 'max_depth': 50, 'max_features': 'sqrt', 'min_samples_leaf': 0.2, 'min_samples_split': 10} --------> F1 = 0.5\n",
            "{'criterion': 'gini', 'max_depth': 50, 'max_features': 'sqrt', 'min_samples_leaf': 0.2, 'min_samples_split': 20} --------> F1 = 0.5\n",
            "{'criterion': 'gini', 'max_depth': 50, 'max_features': 'sqrt', 'min_samples_leaf': 0.49, 'min_samples_split': 2} --------> F1 = 0.5\n",
            "{'criterion': 'gini', 'max_depth': 50, 'max_features': 'sqrt', 'min_samples_leaf': 0.49, 'min_samples_split': 3} --------> F1 = 0.5\n",
            "{'criterion': 'gini', 'max_depth': 50, 'max_features': 'sqrt', 'min_samples_leaf': 0.49, 'min_samples_split': 5} --------> F1 = 0.5\n",
            "{'criterion': 'gini', 'max_depth': 50, 'max_features': 'sqrt', 'min_samples_leaf': 0.49, 'min_samples_split': 10} --------> F1 = 0.5\n",
            "{'criterion': 'gini', 'max_depth': 50, 'max_features': 'sqrt', 'min_samples_leaf': 0.49, 'min_samples_split': 20} --------> F1 = 0.5\n",
            "{'criterion': 'gini', 'max_depth': 50, 'max_features': 'log2', 'min_samples_leaf': 0.2, 'min_samples_split': 2} --------> F1 = 0.5\n",
            "{'criterion': 'gini', 'max_depth': 50, 'max_features': 'log2', 'min_samples_leaf': 0.2, 'min_samples_split': 3} --------> F1 = 0.5\n",
            "{'criterion': 'gini', 'max_depth': 50, 'max_features': 'log2', 'min_samples_leaf': 0.2, 'min_samples_split': 5} --------> F1 = 0.5\n",
            "{'criterion': 'gini', 'max_depth': 50, 'max_features': 'log2', 'min_samples_leaf': 0.2, 'min_samples_split': 10} --------> F1 = 0.5273\n",
            "{'criterion': 'gini', 'max_depth': 50, 'max_features': 'log2', 'min_samples_leaf': 0.2, 'min_samples_split': 20} --------> F1 = 0.5\n",
            "{'criterion': 'gini', 'max_depth': 50, 'max_features': 'log2', 'min_samples_leaf': 0.49, 'min_samples_split': 2} --------> F1 = 0.5\n",
            "{'criterion': 'gini', 'max_depth': 50, 'max_features': 'log2', 'min_samples_leaf': 0.49, 'min_samples_split': 3} --------> F1 = 0.5\n",
            "{'criterion': 'gini', 'max_depth': 50, 'max_features': 'log2', 'min_samples_leaf': 0.49, 'min_samples_split': 5} --------> F1 = 0.5\n",
            "{'criterion': 'gini', 'max_depth': 50, 'max_features': 'log2', 'min_samples_leaf': 0.49, 'min_samples_split': 10} --------> F1 = 0.5\n",
            "{'criterion': 'gini', 'max_depth': 50, 'max_features': 'log2', 'min_samples_leaf': 0.49, 'min_samples_split': 20} --------> F1 = 0.5\n",
            "{'criterion': 'gini', 'max_depth': 100, 'max_features': None, 'min_samples_leaf': 0.2, 'min_samples_split': 2} --------> F1 = 0.6311\n",
            "{'criterion': 'gini', 'max_depth': 100, 'max_features': None, 'min_samples_leaf': 0.2, 'min_samples_split': 3} --------> F1 = 0.6311\n",
            "{'criterion': 'gini', 'max_depth': 100, 'max_features': None, 'min_samples_leaf': 0.2, 'min_samples_split': 5} --------> F1 = 0.6311\n",
            "{'criterion': 'gini', 'max_depth': 100, 'max_features': None, 'min_samples_leaf': 0.2, 'min_samples_split': 10} --------> F1 = 0.6311\n",
            "{'criterion': 'gini', 'max_depth': 100, 'max_features': None, 'min_samples_leaf': 0.2, 'min_samples_split': 20} --------> F1 = 0.6311\n",
            "{'criterion': 'gini', 'max_depth': 100, 'max_features': None, 'min_samples_leaf': 0.49, 'min_samples_split': 2} --------> F1 = 0.5\n",
            "{'criterion': 'gini', 'max_depth': 100, 'max_features': None, 'min_samples_leaf': 0.49, 'min_samples_split': 3} --------> F1 = 0.5\n",
            "{'criterion': 'gini', 'max_depth': 100, 'max_features': None, 'min_samples_leaf': 0.49, 'min_samples_split': 5} --------> F1 = 0.5\n",
            "{'criterion': 'gini', 'max_depth': 100, 'max_features': None, 'min_samples_leaf': 0.49, 'min_samples_split': 10} --------> F1 = 0.5\n",
            "{'criterion': 'gini', 'max_depth': 100, 'max_features': None, 'min_samples_leaf': 0.49, 'min_samples_split': 20} --------> F1 = 0.5\n",
            "{'criterion': 'gini', 'max_depth': 100, 'max_features': 'sqrt', 'min_samples_leaf': 0.2, 'min_samples_split': 2} --------> F1 = 0.5025\n",
            "{'criterion': 'gini', 'max_depth': 100, 'max_features': 'sqrt', 'min_samples_leaf': 0.2, 'min_samples_split': 3} --------> F1 = 0.5407\n",
            "{'criterion': 'gini', 'max_depth': 100, 'max_features': 'sqrt', 'min_samples_leaf': 0.2, 'min_samples_split': 5} --------> F1 = 0.5306\n",
            "{'criterion': 'gini', 'max_depth': 100, 'max_features': 'sqrt', 'min_samples_leaf': 0.2, 'min_samples_split': 10} --------> F1 = 0.5\n",
            "{'criterion': 'gini', 'max_depth': 100, 'max_features': 'sqrt', 'min_samples_leaf': 0.2, 'min_samples_split': 20} --------> F1 = 0.5171\n",
            "{'criterion': 'gini', 'max_depth': 100, 'max_features': 'sqrt', 'min_samples_leaf': 0.49, 'min_samples_split': 2} --------> F1 = 0.5\n",
            "{'criterion': 'gini', 'max_depth': 100, 'max_features': 'sqrt', 'min_samples_leaf': 0.49, 'min_samples_split': 3} --------> F1 = 0.5\n",
            "{'criterion': 'gini', 'max_depth': 100, 'max_features': 'sqrt', 'min_samples_leaf': 0.49, 'min_samples_split': 5} --------> F1 = 0.5\n",
            "{'criterion': 'gini', 'max_depth': 100, 'max_features': 'sqrt', 'min_samples_leaf': 0.49, 'min_samples_split': 10} --------> F1 = 0.5\n",
            "{'criterion': 'gini', 'max_depth': 100, 'max_features': 'sqrt', 'min_samples_leaf': 0.49, 'min_samples_split': 20} --------> F1 = 0.5\n",
            "{'criterion': 'gini', 'max_depth': 100, 'max_features': 'log2', 'min_samples_leaf': 0.2, 'min_samples_split': 2} --------> F1 = 0.5\n",
            "{'criterion': 'gini', 'max_depth': 100, 'max_features': 'log2', 'min_samples_leaf': 0.2, 'min_samples_split': 3} --------> F1 = 0.5407\n",
            "{'criterion': 'gini', 'max_depth': 100, 'max_features': 'log2', 'min_samples_leaf': 0.2, 'min_samples_split': 5} --------> F1 = 0.5\n",
            "{'criterion': 'gini', 'max_depth': 100, 'max_features': 'log2', 'min_samples_leaf': 0.2, 'min_samples_split': 10} --------> F1 = 0.5\n",
            "{'criterion': 'gini', 'max_depth': 100, 'max_features': 'log2', 'min_samples_leaf': 0.2, 'min_samples_split': 20} --------> F1 = 0.5\n",
            "{'criterion': 'gini', 'max_depth': 100, 'max_features': 'log2', 'min_samples_leaf': 0.49, 'min_samples_split': 2} --------> F1 = 0.5\n",
            "{'criterion': 'gini', 'max_depth': 100, 'max_features': 'log2', 'min_samples_leaf': 0.49, 'min_samples_split': 3} --------> F1 = 0.5\n",
            "{'criterion': 'gini', 'max_depth': 100, 'max_features': 'log2', 'min_samples_leaf': 0.49, 'min_samples_split': 5} --------> F1 = 0.5\n",
            "{'criterion': 'gini', 'max_depth': 100, 'max_features': 'log2', 'min_samples_leaf': 0.49, 'min_samples_split': 10} --------> F1 = 0.5\n",
            "{'criterion': 'gini', 'max_depth': 100, 'max_features': 'log2', 'min_samples_leaf': 0.49, 'min_samples_split': 20} --------> F1 = 0.5\n",
            "{'criterion': 'entropy', 'max_depth': 8, 'max_features': None, 'min_samples_leaf': 0.2, 'min_samples_split': 2} --------> F1 = 0.6311\n",
            "{'criterion': 'entropy', 'max_depth': 8, 'max_features': None, 'min_samples_leaf': 0.2, 'min_samples_split': 3} --------> F1 = 0.6311\n",
            "{'criterion': 'entropy', 'max_depth': 8, 'max_features': None, 'min_samples_leaf': 0.2, 'min_samples_split': 5} --------> F1 = 0.6311\n",
            "{'criterion': 'entropy', 'max_depth': 8, 'max_features': None, 'min_samples_leaf': 0.2, 'min_samples_split': 10} --------> F1 = 0.6311\n",
            "{'criterion': 'entropy', 'max_depth': 8, 'max_features': None, 'min_samples_leaf': 0.2, 'min_samples_split': 20} --------> F1 = 0.6311\n",
            "{'criterion': 'entropy', 'max_depth': 8, 'max_features': None, 'min_samples_leaf': 0.49, 'min_samples_split': 2} --------> F1 = 0.5\n",
            "{'criterion': 'entropy', 'max_depth': 8, 'max_features': None, 'min_samples_leaf': 0.49, 'min_samples_split': 3} --------> F1 = 0.5\n",
            "{'criterion': 'entropy', 'max_depth': 8, 'max_features': None, 'min_samples_leaf': 0.49, 'min_samples_split': 5} --------> F1 = 0.5\n",
            "{'criterion': 'entropy', 'max_depth': 8, 'max_features': None, 'min_samples_leaf': 0.49, 'min_samples_split': 10} --------> F1 = 0.5\n",
            "{'criterion': 'entropy', 'max_depth': 8, 'max_features': None, 'min_samples_leaf': 0.49, 'min_samples_split': 20} --------> F1 = 0.5\n",
            "{'criterion': 'entropy', 'max_depth': 8, 'max_features': 'sqrt', 'min_samples_leaf': 0.2, 'min_samples_split': 2} --------> F1 = 0.542\n",
            "{'criterion': 'entropy', 'max_depth': 8, 'max_features': 'sqrt', 'min_samples_leaf': 0.2, 'min_samples_split': 3} --------> F1 = 0.5\n",
            "{'criterion': 'entropy', 'max_depth': 8, 'max_features': 'sqrt', 'min_samples_leaf': 0.2, 'min_samples_split': 5} --------> F1 = 0.5\n",
            "{'criterion': 'entropy', 'max_depth': 8, 'max_features': 'sqrt', 'min_samples_leaf': 0.2, 'min_samples_split': 10} --------> F1 = 0.5\n",
            "{'criterion': 'entropy', 'max_depth': 8, 'max_features': 'sqrt', 'min_samples_leaf': 0.2, 'min_samples_split': 20} --------> F1 = 0.542\n",
            "{'criterion': 'entropy', 'max_depth': 8, 'max_features': 'sqrt', 'min_samples_leaf': 0.49, 'min_samples_split': 2} --------> F1 = 0.5\n",
            "{'criterion': 'entropy', 'max_depth': 8, 'max_features': 'sqrt', 'min_samples_leaf': 0.49, 'min_samples_split': 3} --------> F1 = 0.5\n",
            "{'criterion': 'entropy', 'max_depth': 8, 'max_features': 'sqrt', 'min_samples_leaf': 0.49, 'min_samples_split': 5} --------> F1 = 0.5\n",
            "{'criterion': 'entropy', 'max_depth': 8, 'max_features': 'sqrt', 'min_samples_leaf': 0.49, 'min_samples_split': 10} --------> F1 = 0.5\n",
            "{'criterion': 'entropy', 'max_depth': 8, 'max_features': 'sqrt', 'min_samples_leaf': 0.49, 'min_samples_split': 20} --------> F1 = 0.5\n",
            "{'criterion': 'entropy', 'max_depth': 8, 'max_features': 'log2', 'min_samples_leaf': 0.2, 'min_samples_split': 2} --------> F1 = 0.5\n",
            "{'criterion': 'entropy', 'max_depth': 8, 'max_features': 'log2', 'min_samples_leaf': 0.2, 'min_samples_split': 3} --------> F1 = 0.5\n",
            "{'criterion': 'entropy', 'max_depth': 8, 'max_features': 'log2', 'min_samples_leaf': 0.2, 'min_samples_split': 5} --------> F1 = 0.5134\n",
            "{'criterion': 'entropy', 'max_depth': 8, 'max_features': 'log2', 'min_samples_leaf': 0.2, 'min_samples_split': 10} --------> F1 = 0.5\n",
            "{'criterion': 'entropy', 'max_depth': 8, 'max_features': 'log2', 'min_samples_leaf': 0.2, 'min_samples_split': 20} --------> F1 = 0.5\n",
            "{'criterion': 'entropy', 'max_depth': 8, 'max_features': 'log2', 'min_samples_leaf': 0.49, 'min_samples_split': 2} --------> F1 = 0.5\n",
            "{'criterion': 'entropy', 'max_depth': 8, 'max_features': 'log2', 'min_samples_leaf': 0.49, 'min_samples_split': 3} --------> F1 = 0.5\n",
            "{'criterion': 'entropy', 'max_depth': 8, 'max_features': 'log2', 'min_samples_leaf': 0.49, 'min_samples_split': 5} --------> F1 = 0.5\n",
            "{'criterion': 'entropy', 'max_depth': 8, 'max_features': 'log2', 'min_samples_leaf': 0.49, 'min_samples_split': 10} --------> F1 = 0.5\n",
            "{'criterion': 'entropy', 'max_depth': 8, 'max_features': 'log2', 'min_samples_leaf': 0.49, 'min_samples_split': 20} --------> F1 = 0.5\n",
            "{'criterion': 'entropy', 'max_depth': 9, 'max_features': None, 'min_samples_leaf': 0.2, 'min_samples_split': 2} --------> F1 = 0.6311\n",
            "{'criterion': 'entropy', 'max_depth': 9, 'max_features': None, 'min_samples_leaf': 0.2, 'min_samples_split': 3} --------> F1 = 0.6311\n",
            "{'criterion': 'entropy', 'max_depth': 9, 'max_features': None, 'min_samples_leaf': 0.2, 'min_samples_split': 5} --------> F1 = 0.6311\n",
            "{'criterion': 'entropy', 'max_depth': 9, 'max_features': None, 'min_samples_leaf': 0.2, 'min_samples_split': 10} --------> F1 = 0.6311\n",
            "{'criterion': 'entropy', 'max_depth': 9, 'max_features': None, 'min_samples_leaf': 0.2, 'min_samples_split': 20} --------> F1 = 0.6311\n",
            "{'criterion': 'entropy', 'max_depth': 9, 'max_features': None, 'min_samples_leaf': 0.49, 'min_samples_split': 2} --------> F1 = 0.5\n",
            "{'criterion': 'entropy', 'max_depth': 9, 'max_features': None, 'min_samples_leaf': 0.49, 'min_samples_split': 3} --------> F1 = 0.5\n",
            "{'criterion': 'entropy', 'max_depth': 9, 'max_features': None, 'min_samples_leaf': 0.49, 'min_samples_split': 5} --------> F1 = 0.5\n",
            "{'criterion': 'entropy', 'max_depth': 9, 'max_features': None, 'min_samples_leaf': 0.49, 'min_samples_split': 10} --------> F1 = 0.5\n",
            "{'criterion': 'entropy', 'max_depth': 9, 'max_features': None, 'min_samples_leaf': 0.49, 'min_samples_split': 20} --------> F1 = 0.5\n",
            "{'criterion': 'entropy', 'max_depth': 9, 'max_features': 'sqrt', 'min_samples_leaf': 0.2, 'min_samples_split': 2} --------> F1 = 0.5\n",
            "{'criterion': 'entropy', 'max_depth': 9, 'max_features': 'sqrt', 'min_samples_leaf': 0.2, 'min_samples_split': 3} --------> F1 = 0.5236\n",
            "{'criterion': 'entropy', 'max_depth': 9, 'max_features': 'sqrt', 'min_samples_leaf': 0.2, 'min_samples_split': 5} --------> F1 = 0.507\n",
            "{'criterion': 'entropy', 'max_depth': 9, 'max_features': 'sqrt', 'min_samples_leaf': 0.2, 'min_samples_split': 10} --------> F1 = 0.5355\n",
            "{'criterion': 'entropy', 'max_depth': 9, 'max_features': 'sqrt', 'min_samples_leaf': 0.2, 'min_samples_split': 20} --------> F1 = 0.5165\n",
            "{'criterion': 'entropy', 'max_depth': 9, 'max_features': 'sqrt', 'min_samples_leaf': 0.49, 'min_samples_split': 2} --------> F1 = 0.5\n",
            "{'criterion': 'entropy', 'max_depth': 9, 'max_features': 'sqrt', 'min_samples_leaf': 0.49, 'min_samples_split': 3} --------> F1 = 0.5\n",
            "{'criterion': 'entropy', 'max_depth': 9, 'max_features': 'sqrt', 'min_samples_leaf': 0.49, 'min_samples_split': 5} --------> F1 = 0.5\n",
            "{'criterion': 'entropy', 'max_depth': 9, 'max_features': 'sqrt', 'min_samples_leaf': 0.49, 'min_samples_split': 10} --------> F1 = 0.5\n",
            "{'criterion': 'entropy', 'max_depth': 9, 'max_features': 'sqrt', 'min_samples_leaf': 0.49, 'min_samples_split': 20} --------> F1 = 0.5\n",
            "{'criterion': 'entropy', 'max_depth': 9, 'max_features': 'log2', 'min_samples_leaf': 0.2, 'min_samples_split': 2} --------> F1 = 0.5\n",
            "{'criterion': 'entropy', 'max_depth': 9, 'max_features': 'log2', 'min_samples_leaf': 0.2, 'min_samples_split': 3} --------> F1 = 0.5\n",
            "{'criterion': 'entropy', 'max_depth': 9, 'max_features': 'log2', 'min_samples_leaf': 0.2, 'min_samples_split': 5} --------> F1 = 0.5\n",
            "{'criterion': 'entropy', 'max_depth': 9, 'max_features': 'log2', 'min_samples_leaf': 0.2, 'min_samples_split': 10} --------> F1 = 0.5\n",
            "{'criterion': 'entropy', 'max_depth': 9, 'max_features': 'log2', 'min_samples_leaf': 0.2, 'min_samples_split': 20} --------> F1 = 0.5\n",
            "{'criterion': 'entropy', 'max_depth': 9, 'max_features': 'log2', 'min_samples_leaf': 0.49, 'min_samples_split': 2} --------> F1 = 0.5\n",
            "{'criterion': 'entropy', 'max_depth': 9, 'max_features': 'log2', 'min_samples_leaf': 0.49, 'min_samples_split': 3} --------> F1 = 0.5\n",
            "{'criterion': 'entropy', 'max_depth': 9, 'max_features': 'log2', 'min_samples_leaf': 0.49, 'min_samples_split': 5} --------> F1 = 0.5\n",
            "{'criterion': 'entropy', 'max_depth': 9, 'max_features': 'log2', 'min_samples_leaf': 0.49, 'min_samples_split': 10} --------> F1 = 0.5\n",
            "{'criterion': 'entropy', 'max_depth': 9, 'max_features': 'log2', 'min_samples_leaf': 0.49, 'min_samples_split': 20} --------> F1 = 0.5\n",
            "{'criterion': 'entropy', 'max_depth': 10, 'max_features': None, 'min_samples_leaf': 0.2, 'min_samples_split': 2} --------> F1 = 0.6311\n",
            "{'criterion': 'entropy', 'max_depth': 10, 'max_features': None, 'min_samples_leaf': 0.2, 'min_samples_split': 3} --------> F1 = 0.6311\n",
            "{'criterion': 'entropy', 'max_depth': 10, 'max_features': None, 'min_samples_leaf': 0.2, 'min_samples_split': 5} --------> F1 = 0.6311\n",
            "{'criterion': 'entropy', 'max_depth': 10, 'max_features': None, 'min_samples_leaf': 0.2, 'min_samples_split': 10} --------> F1 = 0.6311\n",
            "{'criterion': 'entropy', 'max_depth': 10, 'max_features': None, 'min_samples_leaf': 0.2, 'min_samples_split': 20} --------> F1 = 0.6311\n",
            "{'criterion': 'entropy', 'max_depth': 10, 'max_features': None, 'min_samples_leaf': 0.49, 'min_samples_split': 2} --------> F1 = 0.5\n",
            "{'criterion': 'entropy', 'max_depth': 10, 'max_features': None, 'min_samples_leaf': 0.49, 'min_samples_split': 3} --------> F1 = 0.5\n",
            "{'criterion': 'entropy', 'max_depth': 10, 'max_features': None, 'min_samples_leaf': 0.49, 'min_samples_split': 5} --------> F1 = 0.5\n",
            "{'criterion': 'entropy', 'max_depth': 10, 'max_features': None, 'min_samples_leaf': 0.49, 'min_samples_split': 10} --------> F1 = 0.5\n",
            "{'criterion': 'entropy', 'max_depth': 10, 'max_features': None, 'min_samples_leaf': 0.49, 'min_samples_split': 20} --------> F1 = 0.5\n",
            "{'criterion': 'entropy', 'max_depth': 10, 'max_features': 'sqrt', 'min_samples_leaf': 0.2, 'min_samples_split': 2} --------> F1 = 0.5349\n",
            "{'criterion': 'entropy', 'max_depth': 10, 'max_features': 'sqrt', 'min_samples_leaf': 0.2, 'min_samples_split': 3} --------> F1 = 0.5\n",
            "{'criterion': 'entropy', 'max_depth': 10, 'max_features': 'sqrt', 'min_samples_leaf': 0.2, 'min_samples_split': 5} --------> F1 = 0.5296\n",
            "{'criterion': 'entropy', 'max_depth': 10, 'max_features': 'sqrt', 'min_samples_leaf': 0.2, 'min_samples_split': 10} --------> F1 = 0.5266\n",
            "{'criterion': 'entropy', 'max_depth': 10, 'max_features': 'sqrt', 'min_samples_leaf': 0.2, 'min_samples_split': 20} --------> F1 = 0.5093\n",
            "{'criterion': 'entropy', 'max_depth': 10, 'max_features': 'sqrt', 'min_samples_leaf': 0.49, 'min_samples_split': 2} --------> F1 = 0.5\n",
            "{'criterion': 'entropy', 'max_depth': 10, 'max_features': 'sqrt', 'min_samples_leaf': 0.49, 'min_samples_split': 3} --------> F1 = 0.5\n",
            "{'criterion': 'entropy', 'max_depth': 10, 'max_features': 'sqrt', 'min_samples_leaf': 0.49, 'min_samples_split': 5} --------> F1 = 0.5\n",
            "{'criterion': 'entropy', 'max_depth': 10, 'max_features': 'sqrt', 'min_samples_leaf': 0.49, 'min_samples_split': 10} --------> F1 = 0.5\n",
            "{'criterion': 'entropy', 'max_depth': 10, 'max_features': 'sqrt', 'min_samples_leaf': 0.49, 'min_samples_split': 20} --------> F1 = 0.5\n",
            "{'criterion': 'entropy', 'max_depth': 10, 'max_features': 'log2', 'min_samples_leaf': 0.2, 'min_samples_split': 2} --------> F1 = 0.5\n",
            "{'criterion': 'entropy', 'max_depth': 10, 'max_features': 'log2', 'min_samples_leaf': 0.2, 'min_samples_split': 3} --------> F1 = 0.5\n",
            "{'criterion': 'entropy', 'max_depth': 10, 'max_features': 'log2', 'min_samples_leaf': 0.2, 'min_samples_split': 5} --------> F1 = 0.509\n",
            "{'criterion': 'entropy', 'max_depth': 10, 'max_features': 'log2', 'min_samples_leaf': 0.2, 'min_samples_split': 10} --------> F1 = 0.5\n",
            "{'criterion': 'entropy', 'max_depth': 10, 'max_features': 'log2', 'min_samples_leaf': 0.2, 'min_samples_split': 20} --------> F1 = 0.5\n",
            "{'criterion': 'entropy', 'max_depth': 10, 'max_features': 'log2', 'min_samples_leaf': 0.49, 'min_samples_split': 2} --------> F1 = 0.5\n",
            "{'criterion': 'entropy', 'max_depth': 10, 'max_features': 'log2', 'min_samples_leaf': 0.49, 'min_samples_split': 3} --------> F1 = 0.5\n",
            "{'criterion': 'entropy', 'max_depth': 10, 'max_features': 'log2', 'min_samples_leaf': 0.49, 'min_samples_split': 5} --------> F1 = 0.5\n",
            "{'criterion': 'entropy', 'max_depth': 10, 'max_features': 'log2', 'min_samples_leaf': 0.49, 'min_samples_split': 10} --------> F1 = 0.5\n",
            "{'criterion': 'entropy', 'max_depth': 10, 'max_features': 'log2', 'min_samples_leaf': 0.49, 'min_samples_split': 20} --------> F1 = 0.5\n",
            "{'criterion': 'entropy', 'max_depth': 15, 'max_features': None, 'min_samples_leaf': 0.2, 'min_samples_split': 2} --------> F1 = 0.6311\n",
            "{'criterion': 'entropy', 'max_depth': 15, 'max_features': None, 'min_samples_leaf': 0.2, 'min_samples_split': 3} --------> F1 = 0.6311\n",
            "{'criterion': 'entropy', 'max_depth': 15, 'max_features': None, 'min_samples_leaf': 0.2, 'min_samples_split': 5} --------> F1 = 0.6311\n",
            "{'criterion': 'entropy', 'max_depth': 15, 'max_features': None, 'min_samples_leaf': 0.2, 'min_samples_split': 10} --------> F1 = 0.6311\n",
            "{'criterion': 'entropy', 'max_depth': 15, 'max_features': None, 'min_samples_leaf': 0.2, 'min_samples_split': 20} --------> F1 = 0.6311\n",
            "{'criterion': 'entropy', 'max_depth': 15, 'max_features': None, 'min_samples_leaf': 0.49, 'min_samples_split': 2} --------> F1 = 0.5\n",
            "{'criterion': 'entropy', 'max_depth': 15, 'max_features': None, 'min_samples_leaf': 0.49, 'min_samples_split': 3} --------> F1 = 0.5\n",
            "{'criterion': 'entropy', 'max_depth': 15, 'max_features': None, 'min_samples_leaf': 0.49, 'min_samples_split': 5} --------> F1 = 0.5\n",
            "{'criterion': 'entropy', 'max_depth': 15, 'max_features': None, 'min_samples_leaf': 0.49, 'min_samples_split': 10} --------> F1 = 0.5\n",
            "{'criterion': 'entropy', 'max_depth': 15, 'max_features': None, 'min_samples_leaf': 0.49, 'min_samples_split': 20} --------> F1 = 0.5\n",
            "{'criterion': 'entropy', 'max_depth': 15, 'max_features': 'sqrt', 'min_samples_leaf': 0.2, 'min_samples_split': 2} --------> F1 = 0.5\n",
            "{'criterion': 'entropy', 'max_depth': 15, 'max_features': 'sqrt', 'min_samples_leaf': 0.2, 'min_samples_split': 3} --------> F1 = 0.526\n",
            "{'criterion': 'entropy', 'max_depth': 15, 'max_features': 'sqrt', 'min_samples_leaf': 0.2, 'min_samples_split': 5} --------> F1 = 0.5\n",
            "{'criterion': 'entropy', 'max_depth': 15, 'max_features': 'sqrt', 'min_samples_leaf': 0.2, 'min_samples_split': 10} --------> F1 = 0.5289\n",
            "{'criterion': 'entropy', 'max_depth': 15, 'max_features': 'sqrt', 'min_samples_leaf': 0.2, 'min_samples_split': 20} --------> F1 = 0.5485\n",
            "{'criterion': 'entropy', 'max_depth': 15, 'max_features': 'sqrt', 'min_samples_leaf': 0.49, 'min_samples_split': 2} --------> F1 = 0.5\n",
            "{'criterion': 'entropy', 'max_depth': 15, 'max_features': 'sqrt', 'min_samples_leaf': 0.49, 'min_samples_split': 3} --------> F1 = 0.5\n",
            "{'criterion': 'entropy', 'max_depth': 15, 'max_features': 'sqrt', 'min_samples_leaf': 0.49, 'min_samples_split': 5} --------> F1 = 0.5\n",
            "{'criterion': 'entropy', 'max_depth': 15, 'max_features': 'sqrt', 'min_samples_leaf': 0.49, 'min_samples_split': 10} --------> F1 = 0.5\n",
            "{'criterion': 'entropy', 'max_depth': 15, 'max_features': 'sqrt', 'min_samples_leaf': 0.49, 'min_samples_split': 20} --------> F1 = 0.5\n",
            "{'criterion': 'entropy', 'max_depth': 15, 'max_features': 'log2', 'min_samples_leaf': 0.2, 'min_samples_split': 2} --------> F1 = 0.5\n",
            "{'criterion': 'entropy', 'max_depth': 15, 'max_features': 'log2', 'min_samples_leaf': 0.2, 'min_samples_split': 3} --------> F1 = 0.5\n",
            "{'criterion': 'entropy', 'max_depth': 15, 'max_features': 'log2', 'min_samples_leaf': 0.2, 'min_samples_split': 5} --------> F1 = 0.5\n",
            "{'criterion': 'entropy', 'max_depth': 15, 'max_features': 'log2', 'min_samples_leaf': 0.2, 'min_samples_split': 10} --------> F1 = 0.5\n",
            "{'criterion': 'entropy', 'max_depth': 15, 'max_features': 'log2', 'min_samples_leaf': 0.2, 'min_samples_split': 20} --------> F1 = 0.5\n",
            "{'criterion': 'entropy', 'max_depth': 15, 'max_features': 'log2', 'min_samples_leaf': 0.49, 'min_samples_split': 2} --------> F1 = 0.5\n",
            "{'criterion': 'entropy', 'max_depth': 15, 'max_features': 'log2', 'min_samples_leaf': 0.49, 'min_samples_split': 3} --------> F1 = 0.5\n",
            "{'criterion': 'entropy', 'max_depth': 15, 'max_features': 'log2', 'min_samples_leaf': 0.49, 'min_samples_split': 5} --------> F1 = 0.5\n",
            "{'criterion': 'entropy', 'max_depth': 15, 'max_features': 'log2', 'min_samples_leaf': 0.49, 'min_samples_split': 10} --------> F1 = 0.5\n",
            "{'criterion': 'entropy', 'max_depth': 15, 'max_features': 'log2', 'min_samples_leaf': 0.49, 'min_samples_split': 20} --------> F1 = 0.5\n",
            "{'criterion': 'entropy', 'max_depth': 20, 'max_features': None, 'min_samples_leaf': 0.2, 'min_samples_split': 2} --------> F1 = 0.6311\n",
            "{'criterion': 'entropy', 'max_depth': 20, 'max_features': None, 'min_samples_leaf': 0.2, 'min_samples_split': 3} --------> F1 = 0.6311\n",
            "{'criterion': 'entropy', 'max_depth': 20, 'max_features': None, 'min_samples_leaf': 0.2, 'min_samples_split': 5} --------> F1 = 0.6311\n",
            "{'criterion': 'entropy', 'max_depth': 20, 'max_features': None, 'min_samples_leaf': 0.2, 'min_samples_split': 10} --------> F1 = 0.6311\n",
            "{'criterion': 'entropy', 'max_depth': 20, 'max_features': None, 'min_samples_leaf': 0.2, 'min_samples_split': 20} --------> F1 = 0.6311\n",
            "{'criterion': 'entropy', 'max_depth': 20, 'max_features': None, 'min_samples_leaf': 0.49, 'min_samples_split': 2} --------> F1 = 0.5\n",
            "{'criterion': 'entropy', 'max_depth': 20, 'max_features': None, 'min_samples_leaf': 0.49, 'min_samples_split': 3} --------> F1 = 0.5\n",
            "{'criterion': 'entropy', 'max_depth': 20, 'max_features': None, 'min_samples_leaf': 0.49, 'min_samples_split': 5} --------> F1 = 0.5\n",
            "{'criterion': 'entropy', 'max_depth': 20, 'max_features': None, 'min_samples_leaf': 0.49, 'min_samples_split': 10} --------> F1 = 0.5\n",
            "{'criterion': 'entropy', 'max_depth': 20, 'max_features': None, 'min_samples_leaf': 0.49, 'min_samples_split': 20} --------> F1 = 0.5\n",
            "{'criterion': 'entropy', 'max_depth': 20, 'max_features': 'sqrt', 'min_samples_leaf': 0.2, 'min_samples_split': 2} --------> F1 = 0.5349\n",
            "{'criterion': 'entropy', 'max_depth': 20, 'max_features': 'sqrt', 'min_samples_leaf': 0.2, 'min_samples_split': 3} --------> F1 = 0.5719\n",
            "{'criterion': 'entropy', 'max_depth': 20, 'max_features': 'sqrt', 'min_samples_leaf': 0.2, 'min_samples_split': 5} --------> F1 = 0.5128\n",
            "{'criterion': 'entropy', 'max_depth': 20, 'max_features': 'sqrt', 'min_samples_leaf': 0.2, 'min_samples_split': 10} --------> F1 = 0.5\n",
            "{'criterion': 'entropy', 'max_depth': 20, 'max_features': 'sqrt', 'min_samples_leaf': 0.2, 'min_samples_split': 20} --------> F1 = 0.5\n",
            "{'criterion': 'entropy', 'max_depth': 20, 'max_features': 'sqrt', 'min_samples_leaf': 0.49, 'min_samples_split': 2} --------> F1 = 0.5\n",
            "{'criterion': 'entropy', 'max_depth': 20, 'max_features': 'sqrt', 'min_samples_leaf': 0.49, 'min_samples_split': 3} --------> F1 = 0.5\n",
            "{'criterion': 'entropy', 'max_depth': 20, 'max_features': 'sqrt', 'min_samples_leaf': 0.49, 'min_samples_split': 5} --------> F1 = 0.5\n",
            "{'criterion': 'entropy', 'max_depth': 20, 'max_features': 'sqrt', 'min_samples_leaf': 0.49, 'min_samples_split': 10} --------> F1 = 0.5\n",
            "{'criterion': 'entropy', 'max_depth': 20, 'max_features': 'sqrt', 'min_samples_leaf': 0.49, 'min_samples_split': 20} --------> F1 = 0.5\n",
            "{'criterion': 'entropy', 'max_depth': 20, 'max_features': 'log2', 'min_samples_leaf': 0.2, 'min_samples_split': 2} --------> F1 = 0.5\n",
            "{'criterion': 'entropy', 'max_depth': 20, 'max_features': 'log2', 'min_samples_leaf': 0.2, 'min_samples_split': 3} --------> F1 = 0.5\n",
            "{'criterion': 'entropy', 'max_depth': 20, 'max_features': 'log2', 'min_samples_leaf': 0.2, 'min_samples_split': 5} --------> F1 = 0.5\n",
            "{'criterion': 'entropy', 'max_depth': 20, 'max_features': 'log2', 'min_samples_leaf': 0.2, 'min_samples_split': 10} --------> F1 = 0.5\n",
            "{'criterion': 'entropy', 'max_depth': 20, 'max_features': 'log2', 'min_samples_leaf': 0.2, 'min_samples_split': 20} --------> F1 = 0.5\n",
            "{'criterion': 'entropy', 'max_depth': 20, 'max_features': 'log2', 'min_samples_leaf': 0.49, 'min_samples_split': 2} --------> F1 = 0.5\n",
            "{'criterion': 'entropy', 'max_depth': 20, 'max_features': 'log2', 'min_samples_leaf': 0.49, 'min_samples_split': 3} --------> F1 = 0.5\n",
            "{'criterion': 'entropy', 'max_depth': 20, 'max_features': 'log2', 'min_samples_leaf': 0.49, 'min_samples_split': 5} --------> F1 = 0.5\n",
            "{'criterion': 'entropy', 'max_depth': 20, 'max_features': 'log2', 'min_samples_leaf': 0.49, 'min_samples_split': 10} --------> F1 = 0.5\n",
            "{'criterion': 'entropy', 'max_depth': 20, 'max_features': 'log2', 'min_samples_leaf': 0.49, 'min_samples_split': 20} --------> F1 = 0.5\n",
            "{'criterion': 'entropy', 'max_depth': 30, 'max_features': None, 'min_samples_leaf': 0.2, 'min_samples_split': 2} --------> F1 = 0.6311\n",
            "{'criterion': 'entropy', 'max_depth': 30, 'max_features': None, 'min_samples_leaf': 0.2, 'min_samples_split': 3} --------> F1 = 0.6311\n",
            "{'criterion': 'entropy', 'max_depth': 30, 'max_features': None, 'min_samples_leaf': 0.2, 'min_samples_split': 5} --------> F1 = 0.6311\n",
            "{'criterion': 'entropy', 'max_depth': 30, 'max_features': None, 'min_samples_leaf': 0.2, 'min_samples_split': 10} --------> F1 = 0.6311\n",
            "{'criterion': 'entropy', 'max_depth': 30, 'max_features': None, 'min_samples_leaf': 0.2, 'min_samples_split': 20} --------> F1 = 0.6311\n",
            "{'criterion': 'entropy', 'max_depth': 30, 'max_features': None, 'min_samples_leaf': 0.49, 'min_samples_split': 2} --------> F1 = 0.5\n",
            "{'criterion': 'entropy', 'max_depth': 30, 'max_features': None, 'min_samples_leaf': 0.49, 'min_samples_split': 3} --------> F1 = 0.5\n",
            "{'criterion': 'entropy', 'max_depth': 30, 'max_features': None, 'min_samples_leaf': 0.49, 'min_samples_split': 5} --------> F1 = 0.5\n",
            "{'criterion': 'entropy', 'max_depth': 30, 'max_features': None, 'min_samples_leaf': 0.49, 'min_samples_split': 10} --------> F1 = 0.5\n",
            "{'criterion': 'entropy', 'max_depth': 30, 'max_features': None, 'min_samples_leaf': 0.49, 'min_samples_split': 20} --------> F1 = 0.5\n",
            "{'criterion': 'entropy', 'max_depth': 30, 'max_features': 'sqrt', 'min_samples_leaf': 0.2, 'min_samples_split': 2} --------> F1 = 0.5\n",
            "{'criterion': 'entropy', 'max_depth': 30, 'max_features': 'sqrt', 'min_samples_leaf': 0.2, 'min_samples_split': 3} --------> F1 = 0.5257\n",
            "{'criterion': 'entropy', 'max_depth': 30, 'max_features': 'sqrt', 'min_samples_leaf': 0.2, 'min_samples_split': 5} --------> F1 = 0.5\n",
            "{'criterion': 'entropy', 'max_depth': 30, 'max_features': 'sqrt', 'min_samples_leaf': 0.2, 'min_samples_split': 10} --------> F1 = 0.54\n",
            "{'criterion': 'entropy', 'max_depth': 30, 'max_features': 'sqrt', 'min_samples_leaf': 0.2, 'min_samples_split': 20} --------> F1 = 0.5215\n",
            "{'criterion': 'entropy', 'max_depth': 30, 'max_features': 'sqrt', 'min_samples_leaf': 0.49, 'min_samples_split': 2} --------> F1 = 0.5\n",
            "{'criterion': 'entropy', 'max_depth': 30, 'max_features': 'sqrt', 'min_samples_leaf': 0.49, 'min_samples_split': 3} --------> F1 = 0.5\n",
            "{'criterion': 'entropy', 'max_depth': 30, 'max_features': 'sqrt', 'min_samples_leaf': 0.49, 'min_samples_split': 5} --------> F1 = 0.5\n",
            "{'criterion': 'entropy', 'max_depth': 30, 'max_features': 'sqrt', 'min_samples_leaf': 0.49, 'min_samples_split': 10} --------> F1 = 0.5\n",
            "{'criterion': 'entropy', 'max_depth': 30, 'max_features': 'sqrt', 'min_samples_leaf': 0.49, 'min_samples_split': 20} --------> F1 = 0.5\n",
            "{'criterion': 'entropy', 'max_depth': 30, 'max_features': 'log2', 'min_samples_leaf': 0.2, 'min_samples_split': 2} --------> F1 = 0.5\n",
            "{'criterion': 'entropy', 'max_depth': 30, 'max_features': 'log2', 'min_samples_leaf': 0.2, 'min_samples_split': 3} --------> F1 = 0.5\n",
            "{'criterion': 'entropy', 'max_depth': 30, 'max_features': 'log2', 'min_samples_leaf': 0.2, 'min_samples_split': 5} --------> F1 = 0.5\n",
            "{'criterion': 'entropy', 'max_depth': 30, 'max_features': 'log2', 'min_samples_leaf': 0.2, 'min_samples_split': 10} --------> F1 = 0.5\n",
            "{'criterion': 'entropy', 'max_depth': 30, 'max_features': 'log2', 'min_samples_leaf': 0.2, 'min_samples_split': 20} --------> F1 = 0.5\n",
            "{'criterion': 'entropy', 'max_depth': 30, 'max_features': 'log2', 'min_samples_leaf': 0.49, 'min_samples_split': 2} --------> F1 = 0.5\n",
            "{'criterion': 'entropy', 'max_depth': 30, 'max_features': 'log2', 'min_samples_leaf': 0.49, 'min_samples_split': 3} --------> F1 = 0.5\n",
            "{'criterion': 'entropy', 'max_depth': 30, 'max_features': 'log2', 'min_samples_leaf': 0.49, 'min_samples_split': 5} --------> F1 = 0.5\n",
            "{'criterion': 'entropy', 'max_depth': 30, 'max_features': 'log2', 'min_samples_leaf': 0.49, 'min_samples_split': 10} --------> F1 = 0.5\n",
            "{'criterion': 'entropy', 'max_depth': 30, 'max_features': 'log2', 'min_samples_leaf': 0.49, 'min_samples_split': 20} --------> F1 = 0.5\n",
            "{'criterion': 'entropy', 'max_depth': 50, 'max_features': None, 'min_samples_leaf': 0.2, 'min_samples_split': 2} --------> F1 = 0.6311\n",
            "{'criterion': 'entropy', 'max_depth': 50, 'max_features': None, 'min_samples_leaf': 0.2, 'min_samples_split': 3} --------> F1 = 0.6311\n",
            "{'criterion': 'entropy', 'max_depth': 50, 'max_features': None, 'min_samples_leaf': 0.2, 'min_samples_split': 5} --------> F1 = 0.6311\n",
            "{'criterion': 'entropy', 'max_depth': 50, 'max_features': None, 'min_samples_leaf': 0.2, 'min_samples_split': 10} --------> F1 = 0.6311\n",
            "{'criterion': 'entropy', 'max_depth': 50, 'max_features': None, 'min_samples_leaf': 0.2, 'min_samples_split': 20} --------> F1 = 0.6311\n",
            "{'criterion': 'entropy', 'max_depth': 50, 'max_features': None, 'min_samples_leaf': 0.49, 'min_samples_split': 2} --------> F1 = 0.5\n",
            "{'criterion': 'entropy', 'max_depth': 50, 'max_features': None, 'min_samples_leaf': 0.49, 'min_samples_split': 3} --------> F1 = 0.5\n",
            "{'criterion': 'entropy', 'max_depth': 50, 'max_features': None, 'min_samples_leaf': 0.49, 'min_samples_split': 5} --------> F1 = 0.5\n",
            "{'criterion': 'entropy', 'max_depth': 50, 'max_features': None, 'min_samples_leaf': 0.49, 'min_samples_split': 10} --------> F1 = 0.5\n",
            "{'criterion': 'entropy', 'max_depth': 50, 'max_features': None, 'min_samples_leaf': 0.49, 'min_samples_split': 20} --------> F1 = 0.5\n",
            "{'criterion': 'entropy', 'max_depth': 50, 'max_features': 'sqrt', 'min_samples_leaf': 0.2, 'min_samples_split': 2} --------> F1 = 0.5355\n",
            "{'criterion': 'entropy', 'max_depth': 50, 'max_features': 'sqrt', 'min_samples_leaf': 0.2, 'min_samples_split': 3} --------> F1 = 0.5439\n",
            "{'criterion': 'entropy', 'max_depth': 50, 'max_features': 'sqrt', 'min_samples_leaf': 0.2, 'min_samples_split': 5} --------> F1 = 0.5389\n",
            "{'criterion': 'entropy', 'max_depth': 50, 'max_features': 'sqrt', 'min_samples_leaf': 0.2, 'min_samples_split': 10} --------> F1 = 0.5\n",
            "{'criterion': 'entropy', 'max_depth': 50, 'max_features': 'sqrt', 'min_samples_leaf': 0.2, 'min_samples_split': 20} --------> F1 = 0.5302\n",
            "{'criterion': 'entropy', 'max_depth': 50, 'max_features': 'sqrt', 'min_samples_leaf': 0.49, 'min_samples_split': 2} --------> F1 = 0.5\n",
            "{'criterion': 'entropy', 'max_depth': 50, 'max_features': 'sqrt', 'min_samples_leaf': 0.49, 'min_samples_split': 3} --------> F1 = 0.5\n",
            "{'criterion': 'entropy', 'max_depth': 50, 'max_features': 'sqrt', 'min_samples_leaf': 0.49, 'min_samples_split': 5} --------> F1 = 0.5\n",
            "{'criterion': 'entropy', 'max_depth': 50, 'max_features': 'sqrt', 'min_samples_leaf': 0.49, 'min_samples_split': 10} --------> F1 = 0.5\n",
            "{'criterion': 'entropy', 'max_depth': 50, 'max_features': 'sqrt', 'min_samples_leaf': 0.49, 'min_samples_split': 20} --------> F1 = 0.5\n",
            "{'criterion': 'entropy', 'max_depth': 50, 'max_features': 'log2', 'min_samples_leaf': 0.2, 'min_samples_split': 2} --------> F1 = 0.5\n",
            "{'criterion': 'entropy', 'max_depth': 50, 'max_features': 'log2', 'min_samples_leaf': 0.2, 'min_samples_split': 3} --------> F1 = 0.5349\n",
            "{'criterion': 'entropy', 'max_depth': 50, 'max_features': 'log2', 'min_samples_leaf': 0.2, 'min_samples_split': 5} --------> F1 = 0.5\n",
            "{'criterion': 'entropy', 'max_depth': 50, 'max_features': 'log2', 'min_samples_leaf': 0.2, 'min_samples_split': 10} --------> F1 = 0.5\n",
            "{'criterion': 'entropy', 'max_depth': 50, 'max_features': 'log2', 'min_samples_leaf': 0.2, 'min_samples_split': 20} --------> F1 = 0.5\n",
            "{'criterion': 'entropy', 'max_depth': 50, 'max_features': 'log2', 'min_samples_leaf': 0.49, 'min_samples_split': 2} --------> F1 = 0.5\n",
            "{'criterion': 'entropy', 'max_depth': 50, 'max_features': 'log2', 'min_samples_leaf': 0.49, 'min_samples_split': 3} --------> F1 = 0.5\n",
            "{'criterion': 'entropy', 'max_depth': 50, 'max_features': 'log2', 'min_samples_leaf': 0.49, 'min_samples_split': 5} --------> F1 = 0.5\n",
            "{'criterion': 'entropy', 'max_depth': 50, 'max_features': 'log2', 'min_samples_leaf': 0.49, 'min_samples_split': 10} --------> F1 = 0.5\n",
            "{'criterion': 'entropy', 'max_depth': 50, 'max_features': 'log2', 'min_samples_leaf': 0.49, 'min_samples_split': 20} --------> F1 = 0.5\n",
            "{'criterion': 'entropy', 'max_depth': 100, 'max_features': None, 'min_samples_leaf': 0.2, 'min_samples_split': 2} --------> F1 = 0.6311\n",
            "{'criterion': 'entropy', 'max_depth': 100, 'max_features': None, 'min_samples_leaf': 0.2, 'min_samples_split': 3} --------> F1 = 0.6311\n",
            "{'criterion': 'entropy', 'max_depth': 100, 'max_features': None, 'min_samples_leaf': 0.2, 'min_samples_split': 5} --------> F1 = 0.6311\n",
            "{'criterion': 'entropy', 'max_depth': 100, 'max_features': None, 'min_samples_leaf': 0.2, 'min_samples_split': 10} --------> F1 = 0.6311\n",
            "{'criterion': 'entropy', 'max_depth': 100, 'max_features': None, 'min_samples_leaf': 0.2, 'min_samples_split': 20} --------> F1 = 0.6311\n",
            "{'criterion': 'entropy', 'max_depth': 100, 'max_features': None, 'min_samples_leaf': 0.49, 'min_samples_split': 2} --------> F1 = 0.5\n",
            "{'criterion': 'entropy', 'max_depth': 100, 'max_features': None, 'min_samples_leaf': 0.49, 'min_samples_split': 3} --------> F1 = 0.5\n",
            "{'criterion': 'entropy', 'max_depth': 100, 'max_features': None, 'min_samples_leaf': 0.49, 'min_samples_split': 5} --------> F1 = 0.5\n",
            "{'criterion': 'entropy', 'max_depth': 100, 'max_features': None, 'min_samples_leaf': 0.49, 'min_samples_split': 10} --------> F1 = 0.5\n",
            "{'criterion': 'entropy', 'max_depth': 100, 'max_features': None, 'min_samples_leaf': 0.49, 'min_samples_split': 20} --------> F1 = 0.5\n",
            "{'criterion': 'entropy', 'max_depth': 100, 'max_features': 'sqrt', 'min_samples_leaf': 0.2, 'min_samples_split': 2} --------> F1 = 0.5093\n",
            "{'criterion': 'entropy', 'max_depth': 100, 'max_features': 'sqrt', 'min_samples_leaf': 0.2, 'min_samples_split': 3} --------> F1 = 0.5141\n",
            "{'criterion': 'entropy', 'max_depth': 100, 'max_features': 'sqrt', 'min_samples_leaf': 0.2, 'min_samples_split': 5} --------> F1 = 0.5132\n",
            "{'criterion': 'entropy', 'max_depth': 100, 'max_features': 'sqrt', 'min_samples_leaf': 0.2, 'min_samples_split': 10} --------> F1 = 0.5\n",
            "{'criterion': 'entropy', 'max_depth': 100, 'max_features': 'sqrt', 'min_samples_leaf': 0.2, 'min_samples_split': 20} --------> F1 = 0.5\n",
            "{'criterion': 'entropy', 'max_depth': 100, 'max_features': 'sqrt', 'min_samples_leaf': 0.49, 'min_samples_split': 2} --------> F1 = 0.5\n",
            "{'criterion': 'entropy', 'max_depth': 100, 'max_features': 'sqrt', 'min_samples_leaf': 0.49, 'min_samples_split': 3} --------> F1 = 0.5\n",
            "{'criterion': 'entropy', 'max_depth': 100, 'max_features': 'sqrt', 'min_samples_leaf': 0.49, 'min_samples_split': 5} --------> F1 = 0.5\n",
            "{'criterion': 'entropy', 'max_depth': 100, 'max_features': 'sqrt', 'min_samples_leaf': 0.49, 'min_samples_split': 10} --------> F1 = 0.5\n",
            "{'criterion': 'entropy', 'max_depth': 100, 'max_features': 'sqrt', 'min_samples_leaf': 0.49, 'min_samples_split': 20} --------> F1 = 0.5\n",
            "{'criterion': 'entropy', 'max_depth': 100, 'max_features': 'log2', 'min_samples_leaf': 0.2, 'min_samples_split': 2} --------> F1 = 0.5\n",
            "{'criterion': 'entropy', 'max_depth': 100, 'max_features': 'log2', 'min_samples_leaf': 0.2, 'min_samples_split': 3} --------> F1 = 0.5023\n",
            "{'criterion': 'entropy', 'max_depth': 100, 'max_features': 'log2', 'min_samples_leaf': 0.2, 'min_samples_split': 5} --------> F1 = 0.5\n",
            "{'criterion': 'entropy', 'max_depth': 100, 'max_features': 'log2', 'min_samples_leaf': 0.2, 'min_samples_split': 10} --------> F1 = 0.5\n",
            "{'criterion': 'entropy', 'max_depth': 100, 'max_features': 'log2', 'min_samples_leaf': 0.2, 'min_samples_split': 20} --------> F1 = 0.5\n",
            "{'criterion': 'entropy', 'max_depth': 100, 'max_features': 'log2', 'min_samples_leaf': 0.49, 'min_samples_split': 2} --------> F1 = 0.5\n",
            "{'criterion': 'entropy', 'max_depth': 100, 'max_features': 'log2', 'min_samples_leaf': 0.49, 'min_samples_split': 3} --------> F1 = 0.5\n",
            "{'criterion': 'entropy', 'max_depth': 100, 'max_features': 'log2', 'min_samples_leaf': 0.49, 'min_samples_split': 5} --------> F1 = 0.5\n",
            "{'criterion': 'entropy', 'max_depth': 100, 'max_features': 'log2', 'min_samples_leaf': 0.49, 'min_samples_split': 10} --------> F1 = 0.5\n",
            "{'criterion': 'entropy', 'max_depth': 100, 'max_features': 'log2', 'min_samples_leaf': 0.49, 'min_samples_split': 20} --------> F1 = 0.5\n",
            "Best params: {'criterion': 'gini', 'max_depth': 8, 'max_features': None, 'min_samples_leaf': 0.2, 'min_samples_split': 2}\n",
            "Best F1 Score: 0.6311\n",
            " #################################################################################################### \n",
            "\n",
            "<class 'sklearn.svm._classes.LinearSVC'>\n",
            "{'C': 0.25, 'loss': 'hinge'} --------> F1 = 0.8568\n",
            "{'C': 0.25, 'loss': 'squared_hinge'} --------> F1 = 0.855\n",
            "{'C': 0.5, 'loss': 'hinge'} --------> F1 = 0.8464\n",
            "{'C': 0.5, 'loss': 'squared_hinge'} --------> F1 = 0.8501\n",
            "{'C': 1.5, 'loss': 'hinge'} --------> F1 = 0.8422999999999999\n",
            "{'C': 1.5, 'loss': 'squared_hinge'} --------> F1 = 0.8457\n",
            "{'C': 2, 'loss': 'hinge'} --------> F1 = 0.8411\n",
            "{'C': 2, 'loss': 'squared_hinge'} --------> F1 = 0.8446\n",
            "{'C': 5, 'loss': 'hinge'} --------> F1 = 0.8408\n",
            "{'C': 5, 'loss': 'squared_hinge'} --------> F1 = 0.8426\n",
            "{'C': 10, 'loss': 'hinge'} --------> F1 = 0.8408\n",
            "{'C': 10, 'loss': 'squared_hinge'} --------> F1 = 0.8418\n",
            "{'C': 100, 'loss': 'hinge'} --------> F1 = 0.8408\n",
            "{'C': 100, 'loss': 'squared_hinge'} --------> F1 = 0.8408\n",
            "Best params: {'C': 0.25, 'loss': 'hinge'}\n",
            "Best F1 Score: 0.8568\n",
            " #################################################################################################### \n",
            "\n",
            "CPU times: user 15min 19s, sys: 3.62 s, total: 15min 23s\n",
            "Wall time: 15min 17s\n"
          ],
          "name": "stdout"
        }
      ]
    },
    {
      "cell_type": "markdown",
      "metadata": {
        "id": "ksgQ6lFlPEH5"
      },
      "source": [
        ">> # **4.(d)**\n",
        " Report training, validation, and test F1-measure for all the classifiers (with best\n",
        "hyper-parameter configuration).\n"
      ]
    },
    {
      "cell_type": "code",
      "metadata": {
        "id": "VuQZ1lFmbp-J",
        "outputId": "963264b1-c686-4906-ec01-1e5cbaae3011",
        "colab": {
          "base_uri": "https://localhost:8080/"
        }
      },
      "source": [
        "%%time\n",
        "\n",
        "IMDB_train_F1_NB_optparam = IMDB_optimal_f1(IMDB_train_vec, class_IMDB_train, 'IMDB_train')\n",
        "IMDB_test_F1_NB_optparam = IMDB_optimal_f1(IMDB_test_vec, class_IMDB_test, 'IMDB_test')\n",
        "IMDB_valid_F1_NB_optparam = IMDB_optimal_f1(IMDB_valid_vec, class_IMDB_valid, 'IMDB_valid')"
      ],
      "execution_count": 83,
      "outputs": [
        {
          "output_type": "stream",
          "text": [
            "NB_BBoW best values for the IMDB IMDB_train with optimal hyperparameters is 0.8725038766289896\n",
            "NB_BBoW best values for the IMDB IMDB_test with optimal hyperparameters is 0.835578653150356\n",
            "NB_BBoW best values for the IMDB IMDB_valid with optimal hyperparameters is 0.8433751342363114\n",
            "CPU times: user 16.3 s, sys: 3.17 s, total: 19.5 s\n",
            "Wall time: 18.2 s\n"
          ],
          "name": "stdout"
        }
      ]
    },
    {
      "cell_type": "code",
      "metadata": {
        "id": "SD8JPGHYbp-N",
        "outputId": "f5b464ce-24cd-43de-89dc-f899a6b04b1e",
        "colab": {
          "base_uri": "https://localhost:8080/"
        }
      },
      "source": [
        "import re\n",
        "from sklearn.tree import DecisionTreeClassifier\n",
        "\n",
        "params_4 = []\n",
        "with open(\"#4_c-All Parameters.txt\") as f:\n",
        "  for line in f:\n",
        "    if 'Best params:' in line:\n",
        "      params_4.append(line)\n",
        "temp1_4 = repr(params_4[0])\n",
        "temp1_4 = re.sub('Best params: ', '', temp1_4)\n",
        "NB_best_param_4 = float(temp1_4.split()[1][:-4])\n",
        "print('NB_best alpha IMDB = ',NB_best_param_4)\n",
        "# #################################################\n"
      ],
      "execution_count": 84,
      "outputs": [
        {
          "output_type": "stream",
          "text": [
            "NB_best alpha IMDB =  0.02\n"
          ],
          "name": "stdout"
        }
      ]
    },
    {
      "cell_type": "code",
      "metadata": {
        "id": "yU_X3b_Sbp-P",
        "outputId": "5259c11b-d988-46ae-b5ac-57053091a705",
        "colab": {
          "base_uri": "https://localhost:8080/"
        }
      },
      "source": [
        "temp2_4 = repr(params_4[1])\n",
        "temp2_4 = re.sub('Best params: ', '', temp2_4)\n",
        "criterion_4 = temp2_4.split()[1][:-1]\n",
        "criterion_4 = criterion_4.replace(\"'\",'')\n",
        "max_dep_4 = [int(s) for s in temp2_4.split()[3] if s.isdigit()][0]\n",
        "max_feat_4 = temp2_4.split()[5][:-1]\n",
        "if max_feat_4==str(None):\n",
        "  max_feat_4 = None\n",
        "else:\n",
        "  max_feat_4 = max_feat_4.replace(\"'\", '')\n",
        "min_leaf_4 = float(temp2_4.split()[7][:-1])\n",
        "mss_4 = int(temp2_4.split()[9][:-4])\n",
        "tree_best_params_4 = [criterion_4, max_dep_4, max_feat_4, min_leaf_4, mss_4]\n",
        "print('criterion, max_depth, max_features, min_samples_leaf, min_samples_split =', \n",
        "      tree_best_params_4)\n",
        "##################################################"
      ],
      "execution_count": 85,
      "outputs": [
        {
          "output_type": "stream",
          "text": [
            "criterion, max_depth, max_features, min_samples_leaf, min_samples_split = ['gini', 8, None, 0.2, 2]\n"
          ],
          "name": "stdout"
        }
      ]
    },
    {
      "cell_type": "code",
      "metadata": {
        "id": "pL1D0OW0bp-T",
        "outputId": "c0abe6c5-12a1-43ed-e601-9a4a3a4b1262",
        "colab": {
          "base_uri": "https://localhost:8080/"
        }
      },
      "source": [
        "temp3_4 = repr(params_4[2])\n",
        "temp3_4 = re.sub('Best params: ', '', temp3_4)\n",
        "print(temp3_4)\n",
        "c_4 = float(temp3_4.split()[1][:-1])\n",
        "temp3_loss_4 = temp3_4.split()[3][:-4]\n",
        "temp3_loss_4 = temp3_loss_4.replace(\"'\",\"\" )\n",
        "svm_best_params_4 = [c_4, temp3_loss_4]\n",
        "print(svm_best_params_4)"
      ],
      "execution_count": 86,
      "outputs": [
        {
          "output_type": "stream",
          "text": [
            "\"{'C': 0.25, 'loss': 'hinge'}\\n\"\n",
            "[0.25, 'hinge']\n"
          ],
          "name": "stdout"
        }
      ]
    },
    {
      "cell_type": "code",
      "metadata": {
        "id": "Et_cOechbp-W",
        "outputId": "c3442a58-5401-48f2-e6c7-5f682599eed4",
        "colab": {
          "base_uri": "https://localhost:8080/"
        }
      },
      "source": [
        "print('NB_best_params are {},\\n tree_best_params are {},\\n svm_best_params are {}.'.\n",
        "      format(NB_best_param_4, tree_best_params_4, svm_best_params_4))"
      ],
      "execution_count": 87,
      "outputs": [
        {
          "output_type": "stream",
          "text": [
            "NB_best_params are 0.02,\n",
            " tree_best_params are ['gini', 8, None, 0.2, 2],\n",
            " svm_best_params are [0.25, 'hinge'].\n"
          ],
          "name": "stdout"
        }
      ]
    },
    {
      "cell_type": "code",
      "metadata": {
        "id": "ZvBnF4Wubp-Y"
      },
      "source": [
        "optimized_bayes_4 = BernoulliNB(alpha = NB_best_param_4)\n",
        "optimized_tree_4 = DecisionTreeClassifier(criterion = tree_best_params_4[0],\n",
        "                                        max_features = tree_best_params_4[2],\n",
        "                                        max_depth = float(tree_best_params_4[1]),\n",
        "                                        min_samples_split = tree_best_params_4[4], \n",
        "                                        random_state = 42)\n",
        "optimized_svm_4 = svm.LinearSVC(C = svm_best_params_4[0], loss = svm_best_params_4[1], random_state = 42)\n"
      ],
      "execution_count": 88,
      "outputs": []
    },
    {
      "cell_type": "code",
      "metadata": {
        "id": "lkLUGzoJbp-a",
        "outputId": "4403860a-d79c-45dd-d885-4beff97c02fb",
        "colab": {
          "base_uri": "https://localhost:8080/"
        }
      },
      "source": [
        "%%time\n",
        "\n",
        "print('Optimal NB f1 for train, valid, test = {}'.format(model_train_valid_test_4(optimized_bayes_4)))\n",
        "print('Optimal Tree f1 for train, valid, test = {}'.format(model_train_valid_test_4(optimized_tree_4)))\n",
        "print('Optimal SVM f1 for train, valid, test = {}'.format(model_train_valid_test_4(optimized_svm_4)))\n",
        "\n",
        "f = open(\"#4_d-Best_Results.txt\", 'a+')\n",
        "f.write('\\n NB_best_params are {}, \\n tree_best_params are {}, \\n svm_best_params are {} \\n {}\\n'.\n",
        "        format(NB_best_param_4, tree_best_params_4, svm_best_params_4, seperator))\n",
        "f.write('Optimal NB f1 for (train, valid, test) = {},\\n Optimal Tree f1 for train, valid, test = {}, \\n Optimal SVM f1 for train, valid, test = {}\\n {}'.\n",
        "        format(model_train_valid_test_4(optimized_bayes_4), model_train_valid_test_4(optimized_tree_4), \n",
        "               model_train_valid_test_4(optimized_svm_4), seperator))\n",
        "f.close()"
      ],
      "execution_count": 89,
      "outputs": [
        {
          "output_type": "stream",
          "text": [
            "Optimal NB f1 for train, valid, test = (0.8725333333333334, 0.8434, 0.83572)\n",
            "Optimal Tree f1 for train, valid, test = (0.7364666666666666, 0.7088, 0.70664)\n",
            "Optimal SVM f1 for train, valid, test = (0.9954, 0.8568, 0.83912)\n",
            "CPU times: user 1min 31s, sys: 3.26 s, total: 1min 35s\n",
            "Wall time: 1min 31s\n"
          ],
          "name": "stdout"
        }
      ]
    },
    {
      "cell_type": "markdown",
      "metadata": {
        "id": "gj0oQ77BPHkA"
      },
      "source": [
        ">> # **4.(e)**\n",
        "Comment about the performance of different classifiers. Why did a particular\n",
        "classifier performed better than the others? What was the role of that hyperparameter that fetched you the best results.\n"
      ]
    },
    {
      "cell_type": "markdown",
      "metadata": {
        "id": "HnREdyHDPLHI"
      },
      "source": [
        "># **5**\n",
        "Now we will consider IMDB dataset with frequency bag-of-words (FBoW) representation.\n",
        "\n"
      ]
    },
    {
      "cell_type": "markdown",
      "metadata": {
        "id": "LO1ESlIYfHWE"
      },
      "source": [
        ">> # **5.(a)**\n",
        "Train Naive Bayes, Decision Trees, and Linear SVM for this task. [Note: You\n",
        "should do a thorough hyper-parameter tuning by using the given validation set.\n",
        "Also, note that you should use the appropriate naive Bayes classifier for real valued\n",
        "features (also called Gaussian naive Bayes).]"
      ]
    },
    {
      "cell_type": "code",
      "metadata": {
        "id": "OgJaO0IIcZw6",
        "outputId": "e64eddd1-b8e3-48d2-a2ab-d8ba2b7c157e",
        "colab": {
          "base_uri": "https://localhost:8080/"
        }
      },
      "source": [
        "print('Question #5', '\\n')\n",
        "# random classifier\n",
        "\n",
        "import numpy as np\n",
        "import pandas as pd\n",
        "import matplotlib.pyplot as plt\n",
        "import random\n",
        "import string\n",
        "import operator\n",
        "from sklearn import preprocessing\n",
        "from sklearn.naive_bayes import BernoulliNB\n",
        "from sklearn import metrics\n",
        "from sklearn import tree\n",
        "from sklearn.svm import LinearSVC\n",
        "\n",
        "\n",
        "data_path = '/content/'\n",
        "out = set(string.punctuation)\n",
        "df_train_5 = pd.read_csv(data_path + 'IMDB-train.txt', sep='\\t', header=None)\n",
        "df_test_5 = pd.read_csv(data_path + 'IMDB-test.txt', sep='\\t', header=None)\n",
        "df_valid_5 = pd.read_csv(data_path + 'IMDB-valid.txt', sep='\\t', header=None)\n",
        "\n",
        "def bin_bag_of_words(data_set):\n",
        "  counti = data_set[0].count()\n",
        "  for counter in range(counti):\n",
        "    senti = data_set[0][counter]\n",
        "    senti = ''.join(char for char in senti if char not in out)\n",
        "    senti = senti.lower()\n",
        "    data_set[0][counter] = senti\n",
        "  return data_set\n",
        "\n",
        "\n",
        "def top_myriad(data_set):\n",
        "  pre_data = {}\n",
        "  for col in range(data_set.shape[0]):\n",
        "    sep = data_set[col][0].split()\n",
        "    for idems in range(len(sep)):\n",
        "      if sep[idems] in pre_data:\n",
        "        pre_data[sep[idems]] += 1\n",
        "      else:\n",
        "        pre_data[sep[idems]] = 1\n",
        "  return pre_data"
      ],
      "execution_count": 90,
      "outputs": [
        {
          "output_type": "stream",
          "text": [
            "Question #5 \n",
            "\n"
          ],
          "name": "stdout"
        }
      ]
    },
    {
      "cell_type": "code",
      "metadata": {
        "id": "0GtzD4-ydb5p",
        "outputId": "a4d8d10b-09e3-462b-91f8-23329b610c3d",
        "colab": {
          "base_uri": "https://localhost:8080/"
        }
      },
      "source": [
        "%%time\n",
        "\n",
        "FBoW_freq_IMDB_train = bin_bag_of_words(df_train_5)\n",
        "FBoW_freq_IMDB_test = bin_bag_of_words(df_test_5)\n",
        "FBoW_freq_IMDB_valid = bin_bag_of_words(df_valid_5)"
      ],
      "execution_count": 91,
      "outputs": [
        {
          "output_type": "stream",
          "text": [
            "CPU times: user 17.8 s, sys: 6.03 ms, total: 17.9 s\n",
            "Wall time: 17.9 s\n"
          ],
          "name": "stdout"
        }
      ]
    },
    {
      "cell_type": "code",
      "metadata": {
        "id": "EWMBXs5Wdb5t",
        "outputId": "f8dabe67-9285-4929-ad68-4bbae5d3c6b8",
        "colab": {
          "base_uri": "https://localhost:8080/"
        }
      },
      "source": [
        "%%time\n",
        "\n",
        "FBoW_freq_IMDB_train = df_train_5.values\n",
        "FBoW_freq_IMDB_test = df_test_5.values\n",
        "FBoW_freq_IMDB_valid = df_valid_5.values"
      ],
      "execution_count": 92,
      "outputs": [
        {
          "output_type": "stream",
          "text": [
            "CPU times: user 5.18 ms, sys: 0 ns, total: 5.18 ms\n",
            "Wall time: 7.77 ms\n"
          ],
          "name": "stdout"
        }
      ]
    },
    {
      "cell_type": "code",
      "metadata": {
        "id": "6030ZC_udb5v"
      },
      "source": [
        "\n",
        "top_train_IMDB_FBoW = []\n",
        "sortit_IMDB_FBoW = top_myriad(FBoW_freq_IMDB_train).items()\n",
        "sort_train_IMDB_FBoW = sorted(sortit_IMDB_FBoW, key=operator.itemgetter(1), reverse=True)\n",
        "for i in range(10000):\n",
        "  top_train_IMDB_FBoW.append(sort_train_IMDB_FBoW[i][0])"
      ],
      "execution_count": 93,
      "outputs": []
    },
    {
      "cell_type": "code",
      "metadata": {
        "id": "ed7d_ivXdb5x",
        "outputId": "6f9734b1-e191-4d68-a0b7-864dcca23027",
        "colab": {
          "base_uri": "https://localhost:8080/"
        }
      },
      "source": [
        "# frequency bag-of-words for train, validation, test\n",
        "%%time\n",
        "\n",
        "\n",
        "def frequency_classifier(data_set, file_name, n, top):\n",
        "  rand = np.zeros(shape = (data_set.shape[0], n))\n",
        "  for col in range(data_set.shape[0]):\n",
        "    mot = data_set[col][0].split(' ')\n",
        "    for counter in range(n):\n",
        "      rand[col][counter] = mot.count(top[counter])\n",
        "    if (np.sum(rand[col]) == 0):\n",
        "      continue\n",
        "    rand[col] = rand[col]/(np.sum(rand[col]))\n",
        "  return rand"
      ],
      "execution_count": 94,
      "outputs": [
        {
          "output_type": "stream",
          "text": [
            "CPU times: user 11 µs, sys: 0 ns, total: 11 µs\n",
            "Wall time: 14.8 µs\n"
          ],
          "name": "stdout"
        }
      ]
    },
    {
      "cell_type": "code",
      "metadata": {
        "id": "1BYejoB_db50",
        "outputId": "8e5a9bf1-eeba-41db-9794-e2d99f927ed2",
        "colab": {
          "base_uri": "https://localhost:8080/"
        }
      },
      "source": [
        "%%time\n",
        "# 30 min\n",
        "\n",
        "freq_IMDB_train_vec = frequency_classifier(FBoW_freq_IMDB_train, 'FBoW_IMDB_train', \n",
        "                                           10000, top_train_IMDB_FBoW)\n",
        "freq_IMDB_test_vec = frequency_classifier(FBoW_freq_IMDB_test, 'FBoW_IMDB_test', \n",
        "                                          10000, top_train_IMDB_FBoW)\n",
        "freq_IMDB_valid_vec = frequency_classifier(FBoW_freq_IMDB_valid, 'FBoW_IMDB_valid', \n",
        "                                           10000, top_train_IMDB_FBoW)\n"
      ],
      "execution_count": 95,
      "outputs": [
        {
          "output_type": "stream",
          "text": [
            "CPU times: user 31min 39s, sys: 327 ms, total: 31min 39s\n",
            "Wall time: 31min 40s\n"
          ],
          "name": "stdout"
        }
      ]
    },
    {
      "cell_type": "code",
      "metadata": {
        "id": "YocPE9xJdb52",
        "outputId": "944eba0f-d587-4e7b-debd-e5321886ec7e",
        "colab": {
          "base_uri": "https://localhost:8080/"
        }
      },
      "source": [
        "%%time \n",
        "\n",
        "class_IMDB_train_freq = FBoW_freq_IMDB_train[:,1].astype(str)\n",
        "class_IMDB_valid_freq = FBoW_freq_IMDB_valid[:,1].astype(str)\n",
        "class_IMDB_test_freq = FBoW_freq_IMDB_test[:,1].astype(str)\n"
      ],
      "execution_count": 96,
      "outputs": [
        {
          "output_type": "stream",
          "text": [
            "CPU times: user 9.72 ms, sys: 2 µs, total: 9.72 ms\n",
            "Wall time: 9.64 ms\n"
          ],
          "name": "stdout"
        }
      ]
    },
    {
      "cell_type": "code",
      "metadata": {
        "id": "3l9cXiJYdb55",
        "outputId": "775f8f21-b305-4675-91f4-c6c446a395f5",
        "colab": {
          "base_uri": "https://localhost:8080/"
        }
      },
      "source": [
        "# random classifier\n",
        "%%time\n",
        "\n",
        "def FBoW_rand_class_IMDB(data_set, data_class, file_name, n):\n",
        "  rand = np.empty(shape=(data_class.shape[0]), dtype=int)\n",
        "  for col in range(data_set.shape[0]):\n",
        "    rand[col] = np.random.randint(0, 2)\n",
        "  rand = rand.astype(str)\n",
        "  f1_random = metrics.f1_score(data_class, rand, average='macro')\n",
        "  print ('FBoW F1 for random classifier on {} = {}'.format(file_name, f1_random))\n",
        "  f = open(\"#5_b-Parameters.txt\", 'a+')\n",
        "  f.write('FBoW F1 for random classifier on {} = {} \\n'.format(file_name, f1_random))\n",
        "  f.close()\n",
        "  return f1_random, rand"
      ],
      "execution_count": 97,
      "outputs": [
        {
          "output_type": "stream",
          "text": [
            "CPU times: user 7 µs, sys: 0 ns, total: 7 µs\n",
            "Wall time: 10.5 µs\n"
          ],
          "name": "stdout"
        }
      ]
    },
    {
      "cell_type": "code",
      "metadata": {
        "id": "5brSLrZddb57",
        "outputId": "805e27bb-4f2e-45fe-e180-fd3b88357934",
        "colab": {
          "base_uri": "https://localhost:8080/"
        }
      },
      "source": [
        "%%time\n",
        "rand_IMDB_train_FBoW = FBoW_rand_class_IMDB(FBoW_freq_IMDB_train, class_IMDB_train_freq, \n",
        "                                            'IMDB_train', 10000)\n",
        "rand_IMDB_test_FBoW = FBoW_rand_class_IMDB(FBoW_freq_IMDB_test, class_IMDB_test_freq, \n",
        "                                           'IMDB_test', 10000)\n",
        "rand_IMDB_valid_FBoW = FBoW_rand_class_IMDB(FBoW_freq_IMDB_valid, class_IMDB_valid_freq, \n",
        "                                            'IMDB_valid', 10000)\n",
        "\n"
      ],
      "execution_count": 98,
      "outputs": [
        {
          "output_type": "stream",
          "text": [
            "FBoW F1 for random classifier on IMDB_train = 0.5015891457191735\n",
            "FBoW F1 for random classifier on IMDB_test = 0.500420297375856\n",
            "FBoW F1 for random classifier on IMDB_valid = 0.49829634258033745\n",
            "CPU times: user 388 ms, sys: 11 ms, total: 399 ms\n",
            "Wall time: 407 ms\n"
          ],
          "name": "stdout"
        }
      ]
    },
    {
      "cell_type": "code",
      "metadata": {
        "id": "5HCWmuSsdb6B",
        "outputId": "b9679cbb-48c4-4f52-857b-d9e693a9f8f9",
        "colab": {
          "base_uri": "https://localhost:8080/"
        }
      },
      "source": [
        "# decision trees classifier \n",
        "%%time\n",
        "\n",
        "Decisiontree_FBoW(freq_IMDB_train_vec, freq_IMDB_valid_vec, \n",
        "                 class_IMDB_train_freq, class_IMDB_valid_freq, False)"
      ],
      "execution_count": 99,
      "outputs": [
        {
          "output_type": "stream",
          "text": [
            "Depth:8   , criterion:gini      , F1_train: 0.7334388309499673    ,  F1_valid: 0.6935889029918799    \n",
            "Depth:9   , criterion:gini      , F1_train: 0.7544986062819226    ,  F1_valid: 0.7126169271076601    \n",
            "Depth:10  , criterion:gini      , F1_train: 0.7633977428748029    ,  F1_valid: 0.7055268451027157    \n",
            "Depth:11  , criterion:gini      , F1_train: 0.7862343143906685    ,  F1_valid: 0.714204944808578     \n",
            "Depth:12  , criterion:gini      , F1_train: 0.8024558391958667    ,  F1_valid: 0.718407056122859     \n",
            "Depth:15  , criterion:gini      , F1_train: 0.8404516261946074    ,  F1_valid: 0.7110261890756656    \n",
            "Depth:20  , criterion:gini      , F1_train: 0.8860759493670886    ,  F1_valid: 0.7152537313684064    \n",
            "Depth:25  , criterion:gini      , F1_train: 0.921694179477582     ,  F1_valid: 0.7094021715728833    \n",
            "Depth:30  , criterion:gini      , F1_train: 0.9467974605669164    ,  F1_valid: 0.7081712062256809    \n",
            "Depth:40  , criterion:gini      , F1_train: 0.9725835880484028    ,  F1_valid: 0.7086538141377818    \n",
            "Depth:50  , criterion:gini      , F1_train: 0.9819960564161974    ,  F1_valid: 0.7021585285535159    \n",
            "Depth:8   , criterion:entropy   , F1_train: 0.7314797902703823    ,  F1_valid: 0.6935889029918799    \n",
            "Depth:9   , criterion:entropy   , F1_train: 0.748743059135626     ,  F1_valid: 0.7126169271076601    \n",
            "Depth:10  , criterion:entropy   , F1_train: 0.753850569513036     ,  F1_valid: 0.7055268451027157    \n",
            "Depth:11  , criterion:entropy   , F1_train: 0.760656126788237     ,  F1_valid: 0.714204944808578     \n",
            "Depth:12  , criterion:entropy   , F1_train: 0.7764267032493122    ,  F1_valid: 0.718407056122859     \n",
            "Depth:15  , criterion:entropy   , F1_train: 0.8270176452566667    ,  F1_valid: 0.7110261890756656    \n",
            "Depth:20  , criterion:entropy   , F1_train: 0.8866314828543218    ,  F1_valid: 0.7152537313684064    \n",
            "Depth:25  , criterion:entropy   , F1_train: 0.9252605789913466    ,  F1_valid: 0.7094021715728833    \n",
            "Depth:30  , criterion:entropy   , F1_train: 0.9465107813278217    ,  F1_valid: 0.7081712062256809    \n",
            "Depth:40  , criterion:entropy   , F1_train: 0.9772666657573332    ,  F1_valid: 0.7086538141377818    \n",
            "Depth:50  , criterion:entropy   , F1_train: 0.9959333253626511    ,  F1_valid: 0.7021585285535159    \n",
            "CPU times: user 14min 56s, sys: 391 ms, total: 14min 56s\n",
            "Wall time: 14min 57s\n"
          ],
          "name": "stdout"
        }
      ]
    },
    {
      "cell_type": "code",
      "metadata": {
        "id": "zOzNes84db6E",
        "outputId": "b52c43e4-38fe-4529-bb5a-1cff4f994198",
        "colab": {
          "base_uri": "https://localhost:8080/"
        }
      },
      "source": [
        "%%time\n",
        "# Linear SVM for IMDB\n",
        "\n",
        "svm_FBoW(freq_IMDB_train_vec, class_IMDB_train_freq, \n",
        "         freq_IMDB_valid_vec, class_IMDB_valid_freq, False)\n",
        "\n"
      ],
      "execution_count": 100,
      "outputs": [
        {
          "output_type": "stream",
          "text": [
            "C = 0.0625  , F1_train = 0.4523646735130934      ,  F1_valid = 0.4485251579948628      \n",
            "C = 0.125   , F1_train = 0.48984009216123714     ,  F1_valid = 0.48512689106545165     \n",
            "C = 0.25    , F1_train = 0.6525290044936152      ,  F1_valid = 0.6523174416791098      \n",
            "C = 0.5     , F1_train = 0.6780600864740172      ,  F1_valid = 0.6757050054536926      \n",
            "C = 1       , F1_train = 0.717221725147022       ,  F1_valid = 0.7082461011695428      \n",
            "C = 1.5     , F1_train = 0.7405830778990883      ,  F1_valid = 0.7260484878562159      \n",
            "C = 2       , F1_train = 0.7573643671703434      ,  F1_valid = 0.7412624556479059      \n",
            "C = 4       , F1_train = 0.7959328991093676      ,  F1_valid = 0.7814576605852463      \n",
            "C = 10.0    , F1_train = 0.839418420823323       ,  F1_valid = 0.8218720613893723      \n",
            "C = 16      , F1_train = 0.8591027486104218      ,  F1_valid = 0.8371240085774418      \n",
            "C = 32      , F1_train = 0.8817155349384482      ,  F1_valid = 0.8553477805487781      \n",
            "CPU times: user 19.3 s, sys: 1.79 s, total: 21.1 s\n",
            "Wall time: 17.3 s\n"
          ],
          "name": "stdout"
        }
      ]
    },
    {
      "cell_type": "markdown",
      "metadata": {
        "id": "r8Y8z8fiPW-C"
      },
      "source": [
        ">> # **5.(b)**\n",
        "Report the list of hyper-parameters you considered for each classifier, the range\n",
        "of the individual hyper-parameters and the best value for these hyper-parameters\n",
        "chosen based on the validation set performance."
      ]
    },
    {
      "cell_type": "code",
      "metadata": {
        "id": "4Aw93zvYFdNY"
      },
      "source": [
        "def model_validation_FBoW_5(model):\n",
        "  model.fit(freq_IMDB_train_vec, class_IMDB_train_freq)\n",
        "  valid = model.predict(freq_IMDB_valid_vec)\n",
        "  f1_valid = f1_score(class_IMDB_valid_freq, valid, average = 'micro')\n",
        "  return f1_valid\n",
        "\n",
        "\n",
        "def model_train_valid_test_FBoW_5(model):\n",
        "  model.fit(freq_IMDB_train_vec, class_IMDB_train_freq)\n",
        "  train = model.predict(freq_IMDB_train_vec)\n",
        "  valid = model.predict(freq_IMDB_valid_vec)\n",
        "  test = model.predict(freq_IMDB_test_vec)\n",
        "  f1_train = f1_score(class_IMDB_train_freq, train, average='micro')\n",
        "  f1_valid = f1_score(class_IMDB_valid_freq, valid, average='micro')\n",
        "  f1_test = f1_score(class_IMDB_test_freq, test, average='micro')\n",
        "  return f1_train, f1_valid, f1_test\n"
      ],
      "execution_count": 101,
      "outputs": []
    },
    {
      "cell_type": "code",
      "metadata": {
        "id": "OccbZCrWFdNj",
        "outputId": "4f427c6b-268f-4e95-a231-edeb6f48c455",
        "colab": {
          "base_uri": "https://localhost:8080/"
        }
      },
      "source": [
        "%%time\n",
        "from sklearn.dummy import DummyClassifier as DC\n",
        "from sklearn.metrics import f1_score\n",
        "\n",
        "uni_random_5 = DC(strategy = 'uniform')\n",
        "majority_c_5 = DC(strategy = 'most_frequent')\n",
        "\n",
        "print('Random Classifier = {}'.format(model_validation_FBoW_5(uni_random_5)))\n",
        "# print('Majority Classifier = {}'.format(model_validation_FBoW_5(majority_c_5)))\n",
        "\n",
        "for param in classifiers:\n",
        "    clf_5 = param[0]\n",
        "    param_grid_5 = param[1]\n",
        "    print(clf_5)    \n",
        "    best_clf_5 = optimize_parameters_FBoW(clf_5, param_grid_5, False)"
      ],
      "execution_count": 102,
      "outputs": [
        {
          "output_type": "stream",
          "text": [
            "Random Classifier = 0.5019\n",
            "<class 'sklearn.naive_bayes.BernoulliNB'>\n",
            "{'alpha': 0.001} --------> F1 = 0.8431000000000001\n",
            "{'alpha': 0.002} --------> F1 = 0.8431000000000001\n",
            "{'alpha': 0.003} --------> F1 = 0.8432\n",
            "{'alpha': 0.004} --------> F1 = 0.8431000000000001\n",
            "{'alpha': 0.005} --------> F1 = 0.8431000000000001\n",
            "{'alpha': 0.006} --------> F1 = 0.8432\n",
            "{'alpha': 0.007} --------> F1 = 0.8432\n",
            "{'alpha': 0.008} --------> F1 = 0.8431000000000001\n",
            "{'alpha': 0.009} --------> F1 = 0.8431000000000001\n",
            "{'alpha': 0.01} --------> F1 = 0.8431000000000001\n",
            "{'alpha': 0.02} --------> F1 = 0.8434\n",
            "{'alpha': 0.05} --------> F1 = 0.8433\n",
            "{'alpha': 0.1} --------> F1 = 0.843\n",
            "Best params: {'alpha': 0.02}\n",
            "Best F1 Score: 0.8434\n",
            " #################################################################################################### \n",
            "\n",
            "<class 'sklearn.tree._classes.DecisionTreeClassifier'>\n",
            "{'criterion': 'gini', 'max_depth': 8, 'max_features': None, 'min_samples_leaf': 0.2, 'min_samples_split': 2} --------> F1 = 0.6393\n",
            "{'criterion': 'gini', 'max_depth': 8, 'max_features': None, 'min_samples_leaf': 0.2, 'min_samples_split': 3} --------> F1 = 0.6393\n",
            "{'criterion': 'gini', 'max_depth': 8, 'max_features': None, 'min_samples_leaf': 0.2, 'min_samples_split': 5} --------> F1 = 0.6393\n",
            "{'criterion': 'gini', 'max_depth': 8, 'max_features': None, 'min_samples_leaf': 0.2, 'min_samples_split': 10} --------> F1 = 0.6393\n",
            "{'criterion': 'gini', 'max_depth': 8, 'max_features': None, 'min_samples_leaf': 0.2, 'min_samples_split': 20} --------> F1 = 0.6393\n",
            "{'criterion': 'gini', 'max_depth': 8, 'max_features': None, 'min_samples_leaf': 0.49, 'min_samples_split': 2} --------> F1 = 0.5664\n",
            "{'criterion': 'gini', 'max_depth': 8, 'max_features': None, 'min_samples_leaf': 0.49, 'min_samples_split': 3} --------> F1 = 0.5664\n",
            "{'criterion': 'gini', 'max_depth': 8, 'max_features': None, 'min_samples_leaf': 0.49, 'min_samples_split': 5} --------> F1 = 0.5664\n",
            "{'criterion': 'gini', 'max_depth': 8, 'max_features': None, 'min_samples_leaf': 0.49, 'min_samples_split': 10} --------> F1 = 0.5664\n",
            "{'criterion': 'gini', 'max_depth': 8, 'max_features': None, 'min_samples_leaf': 0.49, 'min_samples_split': 20} --------> F1 = 0.5664\n",
            "{'criterion': 'gini', 'max_depth': 8, 'max_features': 'sqrt', 'min_samples_leaf': 0.2, 'min_samples_split': 2} --------> F1 = 0.5\n",
            "{'criterion': 'gini', 'max_depth': 8, 'max_features': 'sqrt', 'min_samples_leaf': 0.2, 'min_samples_split': 3} --------> F1 = 0.5\n",
            "{'criterion': 'gini', 'max_depth': 8, 'max_features': 'sqrt', 'min_samples_leaf': 0.2, 'min_samples_split': 5} --------> F1 = 0.5\n",
            "{'criterion': 'gini', 'max_depth': 8, 'max_features': 'sqrt', 'min_samples_leaf': 0.2, 'min_samples_split': 10} --------> F1 = 0.5446\n",
            "{'criterion': 'gini', 'max_depth': 8, 'max_features': 'sqrt', 'min_samples_leaf': 0.2, 'min_samples_split': 20} --------> F1 = 0.5317\n",
            "{'criterion': 'gini', 'max_depth': 8, 'max_features': 'sqrt', 'min_samples_leaf': 0.49, 'min_samples_split': 2} --------> F1 = 0.5\n",
            "{'criterion': 'gini', 'max_depth': 8, 'max_features': 'sqrt', 'min_samples_leaf': 0.49, 'min_samples_split': 3} --------> F1 = 0.5278\n",
            "{'criterion': 'gini', 'max_depth': 8, 'max_features': 'sqrt', 'min_samples_leaf': 0.49, 'min_samples_split': 5} --------> F1 = 0.5\n",
            "{'criterion': 'gini', 'max_depth': 8, 'max_features': 'sqrt', 'min_samples_leaf': 0.49, 'min_samples_split': 10} --------> F1 = 0.5\n",
            "{'criterion': 'gini', 'max_depth': 8, 'max_features': 'sqrt', 'min_samples_leaf': 0.49, 'min_samples_split': 20} --------> F1 = 0.5\n",
            "{'criterion': 'gini', 'max_depth': 8, 'max_features': 'log2', 'min_samples_leaf': 0.2, 'min_samples_split': 2} --------> F1 = 0.5\n",
            "{'criterion': 'gini', 'max_depth': 8, 'max_features': 'log2', 'min_samples_leaf': 0.2, 'min_samples_split': 3} --------> F1 = 0.5\n",
            "{'criterion': 'gini', 'max_depth': 8, 'max_features': 'log2', 'min_samples_leaf': 0.2, 'min_samples_split': 5} --------> F1 = 0.5\n",
            "{'criterion': 'gini', 'max_depth': 8, 'max_features': 'log2', 'min_samples_leaf': 0.2, 'min_samples_split': 10} --------> F1 = 0.5\n",
            "{'criterion': 'gini', 'max_depth': 8, 'max_features': 'log2', 'min_samples_leaf': 0.2, 'min_samples_split': 20} --------> F1 = 0.5\n",
            "{'criterion': 'gini', 'max_depth': 8, 'max_features': 'log2', 'min_samples_leaf': 0.49, 'min_samples_split': 2} --------> F1 = 0.5\n",
            "{'criterion': 'gini', 'max_depth': 8, 'max_features': 'log2', 'min_samples_leaf': 0.49, 'min_samples_split': 3} --------> F1 = 0.5\n",
            "{'criterion': 'gini', 'max_depth': 8, 'max_features': 'log2', 'min_samples_leaf': 0.49, 'min_samples_split': 5} --------> F1 = 0.5\n",
            "{'criterion': 'gini', 'max_depth': 8, 'max_features': 'log2', 'min_samples_leaf': 0.49, 'min_samples_split': 10} --------> F1 = 0.5\n",
            "{'criterion': 'gini', 'max_depth': 8, 'max_features': 'log2', 'min_samples_leaf': 0.49, 'min_samples_split': 20} --------> F1 = 0.5\n",
            "{'criterion': 'gini', 'max_depth': 9, 'max_features': None, 'min_samples_leaf': 0.2, 'min_samples_split': 2} --------> F1 = 0.6393\n",
            "{'criterion': 'gini', 'max_depth': 9, 'max_features': None, 'min_samples_leaf': 0.2, 'min_samples_split': 3} --------> F1 = 0.6393\n",
            "{'criterion': 'gini', 'max_depth': 9, 'max_features': None, 'min_samples_leaf': 0.2, 'min_samples_split': 5} --------> F1 = 0.6393\n",
            "{'criterion': 'gini', 'max_depth': 9, 'max_features': None, 'min_samples_leaf': 0.2, 'min_samples_split': 10} --------> F1 = 0.6393\n",
            "{'criterion': 'gini', 'max_depth': 9, 'max_features': None, 'min_samples_leaf': 0.2, 'min_samples_split': 20} --------> F1 = 0.6393\n",
            "{'criterion': 'gini', 'max_depth': 9, 'max_features': None, 'min_samples_leaf': 0.49, 'min_samples_split': 2} --------> F1 = 0.5664\n",
            "{'criterion': 'gini', 'max_depth': 9, 'max_features': None, 'min_samples_leaf': 0.49, 'min_samples_split': 3} --------> F1 = 0.5664\n",
            "{'criterion': 'gini', 'max_depth': 9, 'max_features': None, 'min_samples_leaf': 0.49, 'min_samples_split': 5} --------> F1 = 0.5664\n",
            "{'criterion': 'gini', 'max_depth': 9, 'max_features': None, 'min_samples_leaf': 0.49, 'min_samples_split': 10} --------> F1 = 0.5664\n",
            "{'criterion': 'gini', 'max_depth': 9, 'max_features': None, 'min_samples_leaf': 0.49, 'min_samples_split': 20} --------> F1 = 0.5664\n",
            "{'criterion': 'gini', 'max_depth': 9, 'max_features': 'sqrt', 'min_samples_leaf': 0.2, 'min_samples_split': 2} --------> F1 = 0.5325\n",
            "{'criterion': 'gini', 'max_depth': 9, 'max_features': 'sqrt', 'min_samples_leaf': 0.2, 'min_samples_split': 3} --------> F1 = 0.5009\n",
            "{'criterion': 'gini', 'max_depth': 9, 'max_features': 'sqrt', 'min_samples_leaf': 0.2, 'min_samples_split': 5} --------> F1 = 0.5575\n",
            "{'criterion': 'gini', 'max_depth': 9, 'max_features': 'sqrt', 'min_samples_leaf': 0.2, 'min_samples_split': 10} --------> F1 = 0.5442\n",
            "{'criterion': 'gini', 'max_depth': 9, 'max_features': 'sqrt', 'min_samples_leaf': 0.2, 'min_samples_split': 20} --------> F1 = 0.5425\n",
            "{'criterion': 'gini', 'max_depth': 9, 'max_features': 'sqrt', 'min_samples_leaf': 0.49, 'min_samples_split': 2} --------> F1 = 0.5\n",
            "{'criterion': 'gini', 'max_depth': 9, 'max_features': 'sqrt', 'min_samples_leaf': 0.49, 'min_samples_split': 3} --------> F1 = 0.5\n",
            "{'criterion': 'gini', 'max_depth': 9, 'max_features': 'sqrt', 'min_samples_leaf': 0.49, 'min_samples_split': 5} --------> F1 = 0.5\n",
            "{'criterion': 'gini', 'max_depth': 9, 'max_features': 'sqrt', 'min_samples_leaf': 0.49, 'min_samples_split': 10} --------> F1 = 0.5022\n",
            "{'criterion': 'gini', 'max_depth': 9, 'max_features': 'sqrt', 'min_samples_leaf': 0.49, 'min_samples_split': 20} --------> F1 = 0.5278\n",
            "{'criterion': 'gini', 'max_depth': 9, 'max_features': 'log2', 'min_samples_leaf': 0.2, 'min_samples_split': 2} --------> F1 = 0.5\n",
            "{'criterion': 'gini', 'max_depth': 9, 'max_features': 'log2', 'min_samples_leaf': 0.2, 'min_samples_split': 3} --------> F1 = 0.5\n",
            "{'criterion': 'gini', 'max_depth': 9, 'max_features': 'log2', 'min_samples_leaf': 0.2, 'min_samples_split': 5} --------> F1 = 0.5\n",
            "{'criterion': 'gini', 'max_depth': 9, 'max_features': 'log2', 'min_samples_leaf': 0.2, 'min_samples_split': 10} --------> F1 = 0.5\n",
            "{'criterion': 'gini', 'max_depth': 9, 'max_features': 'log2', 'min_samples_leaf': 0.2, 'min_samples_split': 20} --------> F1 = 0.5\n",
            "{'criterion': 'gini', 'max_depth': 9, 'max_features': 'log2', 'min_samples_leaf': 0.49, 'min_samples_split': 2} --------> F1 = 0.5\n",
            "{'criterion': 'gini', 'max_depth': 9, 'max_features': 'log2', 'min_samples_leaf': 0.49, 'min_samples_split': 3} --------> F1 = 0.5\n",
            "{'criterion': 'gini', 'max_depth': 9, 'max_features': 'log2', 'min_samples_leaf': 0.49, 'min_samples_split': 5} --------> F1 = 0.5\n",
            "{'criterion': 'gini', 'max_depth': 9, 'max_features': 'log2', 'min_samples_leaf': 0.49, 'min_samples_split': 10} --------> F1 = 0.5\n",
            "{'criterion': 'gini', 'max_depth': 9, 'max_features': 'log2', 'min_samples_leaf': 0.49, 'min_samples_split': 20} --------> F1 = 0.5\n",
            "{'criterion': 'gini', 'max_depth': 10, 'max_features': None, 'min_samples_leaf': 0.2, 'min_samples_split': 2} --------> F1 = 0.6393\n",
            "{'criterion': 'gini', 'max_depth': 10, 'max_features': None, 'min_samples_leaf': 0.2, 'min_samples_split': 3} --------> F1 = 0.6393\n",
            "{'criterion': 'gini', 'max_depth': 10, 'max_features': None, 'min_samples_leaf': 0.2, 'min_samples_split': 5} --------> F1 = 0.6393\n",
            "{'criterion': 'gini', 'max_depth': 10, 'max_features': None, 'min_samples_leaf': 0.2, 'min_samples_split': 10} --------> F1 = 0.6393\n",
            "{'criterion': 'gini', 'max_depth': 10, 'max_features': None, 'min_samples_leaf': 0.2, 'min_samples_split': 20} --------> F1 = 0.6393\n",
            "{'criterion': 'gini', 'max_depth': 10, 'max_features': None, 'min_samples_leaf': 0.49, 'min_samples_split': 2} --------> F1 = 0.5664\n",
            "{'criterion': 'gini', 'max_depth': 10, 'max_features': None, 'min_samples_leaf': 0.49, 'min_samples_split': 3} --------> F1 = 0.5664\n",
            "{'criterion': 'gini', 'max_depth': 10, 'max_features': None, 'min_samples_leaf': 0.49, 'min_samples_split': 5} --------> F1 = 0.5664\n",
            "{'criterion': 'gini', 'max_depth': 10, 'max_features': None, 'min_samples_leaf': 0.49, 'min_samples_split': 10} --------> F1 = 0.5664\n",
            "{'criterion': 'gini', 'max_depth': 10, 'max_features': None, 'min_samples_leaf': 0.49, 'min_samples_split': 20} --------> F1 = 0.5664\n",
            "{'criterion': 'gini', 'max_depth': 10, 'max_features': 'sqrt', 'min_samples_leaf': 0.2, 'min_samples_split': 2} --------> F1 = 0.5\n",
            "{'criterion': 'gini', 'max_depth': 10, 'max_features': 'sqrt', 'min_samples_leaf': 0.2, 'min_samples_split': 3} --------> F1 = 0.5341\n",
            "{'criterion': 'gini', 'max_depth': 10, 'max_features': 'sqrt', 'min_samples_leaf': 0.2, 'min_samples_split': 5} --------> F1 = 0.5264\n",
            "{'criterion': 'gini', 'max_depth': 10, 'max_features': 'sqrt', 'min_samples_leaf': 0.2, 'min_samples_split': 10} --------> F1 = 0.5\n",
            "{'criterion': 'gini', 'max_depth': 10, 'max_features': 'sqrt', 'min_samples_leaf': 0.2, 'min_samples_split': 20} --------> F1 = 0.5374\n",
            "{'criterion': 'gini', 'max_depth': 10, 'max_features': 'sqrt', 'min_samples_leaf': 0.49, 'min_samples_split': 2} --------> F1 = 0.5\n",
            "{'criterion': 'gini', 'max_depth': 10, 'max_features': 'sqrt', 'min_samples_leaf': 0.49, 'min_samples_split': 3} --------> F1 = 0.5\n",
            "{'criterion': 'gini', 'max_depth': 10, 'max_features': 'sqrt', 'min_samples_leaf': 0.49, 'min_samples_split': 5} --------> F1 = 0.5\n",
            "{'criterion': 'gini', 'max_depth': 10, 'max_features': 'sqrt', 'min_samples_leaf': 0.49, 'min_samples_split': 10} --------> F1 = 0.5\n",
            "{'criterion': 'gini', 'max_depth': 10, 'max_features': 'sqrt', 'min_samples_leaf': 0.49, 'min_samples_split': 20} --------> F1 = 0.5\n",
            "{'criterion': 'gini', 'max_depth': 10, 'max_features': 'log2', 'min_samples_leaf': 0.2, 'min_samples_split': 2} --------> F1 = 0.5\n",
            "{'criterion': 'gini', 'max_depth': 10, 'max_features': 'log2', 'min_samples_leaf': 0.2, 'min_samples_split': 3} --------> F1 = 0.5011\n",
            "{'criterion': 'gini', 'max_depth': 10, 'max_features': 'log2', 'min_samples_leaf': 0.2, 'min_samples_split': 5} --------> F1 = 0.5111\n",
            "{'criterion': 'gini', 'max_depth': 10, 'max_features': 'log2', 'min_samples_leaf': 0.2, 'min_samples_split': 10} --------> F1 = 0.5\n",
            "{'criterion': 'gini', 'max_depth': 10, 'max_features': 'log2', 'min_samples_leaf': 0.2, 'min_samples_split': 20} --------> F1 = 0.5\n",
            "{'criterion': 'gini', 'max_depth': 10, 'max_features': 'log2', 'min_samples_leaf': 0.49, 'min_samples_split': 2} --------> F1 = 0.5\n",
            "{'criterion': 'gini', 'max_depth': 10, 'max_features': 'log2', 'min_samples_leaf': 0.49, 'min_samples_split': 3} --------> F1 = 0.5\n",
            "{'criterion': 'gini', 'max_depth': 10, 'max_features': 'log2', 'min_samples_leaf': 0.49, 'min_samples_split': 5} --------> F1 = 0.5\n",
            "{'criterion': 'gini', 'max_depth': 10, 'max_features': 'log2', 'min_samples_leaf': 0.49, 'min_samples_split': 10} --------> F1 = 0.5\n",
            "{'criterion': 'gini', 'max_depth': 10, 'max_features': 'log2', 'min_samples_leaf': 0.49, 'min_samples_split': 20} --------> F1 = 0.5\n",
            "{'criterion': 'gini', 'max_depth': 15, 'max_features': None, 'min_samples_leaf': 0.2, 'min_samples_split': 2} --------> F1 = 0.6393\n",
            "{'criterion': 'gini', 'max_depth': 15, 'max_features': None, 'min_samples_leaf': 0.2, 'min_samples_split': 3} --------> F1 = 0.6393\n",
            "{'criterion': 'gini', 'max_depth': 15, 'max_features': None, 'min_samples_leaf': 0.2, 'min_samples_split': 5} --------> F1 = 0.6393\n",
            "{'criterion': 'gini', 'max_depth': 15, 'max_features': None, 'min_samples_leaf': 0.2, 'min_samples_split': 10} --------> F1 = 0.6393\n",
            "{'criterion': 'gini', 'max_depth': 15, 'max_features': None, 'min_samples_leaf': 0.2, 'min_samples_split': 20} --------> F1 = 0.6393\n",
            "{'criterion': 'gini', 'max_depth': 15, 'max_features': None, 'min_samples_leaf': 0.49, 'min_samples_split': 2} --------> F1 = 0.5664\n",
            "{'criterion': 'gini', 'max_depth': 15, 'max_features': None, 'min_samples_leaf': 0.49, 'min_samples_split': 3} --------> F1 = 0.5664\n",
            "{'criterion': 'gini', 'max_depth': 15, 'max_features': None, 'min_samples_leaf': 0.49, 'min_samples_split': 5} --------> F1 = 0.5664\n",
            "{'criterion': 'gini', 'max_depth': 15, 'max_features': None, 'min_samples_leaf': 0.49, 'min_samples_split': 10} --------> F1 = 0.5664\n",
            "{'criterion': 'gini', 'max_depth': 15, 'max_features': None, 'min_samples_leaf': 0.49, 'min_samples_split': 20} --------> F1 = 0.5664\n",
            "{'criterion': 'gini', 'max_depth': 15, 'max_features': 'sqrt', 'min_samples_leaf': 0.2, 'min_samples_split': 2} --------> F1 = 0.5355\n",
            "{'criterion': 'gini', 'max_depth': 15, 'max_features': 'sqrt', 'min_samples_leaf': 0.2, 'min_samples_split': 3} --------> F1 = 0.5101\n",
            "{'criterion': 'gini', 'max_depth': 15, 'max_features': 'sqrt', 'min_samples_leaf': 0.2, 'min_samples_split': 5} --------> F1 = 0.5179\n",
            "{'criterion': 'gini', 'max_depth': 15, 'max_features': 'sqrt', 'min_samples_leaf': 0.2, 'min_samples_split': 10} --------> F1 = 0.552\n",
            "{'criterion': 'gini', 'max_depth': 15, 'max_features': 'sqrt', 'min_samples_leaf': 0.2, 'min_samples_split': 20} --------> F1 = 0.5\n",
            "{'criterion': 'gini', 'max_depth': 15, 'max_features': 'sqrt', 'min_samples_leaf': 0.49, 'min_samples_split': 2} --------> F1 = 0.531\n",
            "{'criterion': 'gini', 'max_depth': 15, 'max_features': 'sqrt', 'min_samples_leaf': 0.49, 'min_samples_split': 3} --------> F1 = 0.5\n",
            "{'criterion': 'gini', 'max_depth': 15, 'max_features': 'sqrt', 'min_samples_leaf': 0.49, 'min_samples_split': 5} --------> F1 = 0.5\n",
            "{'criterion': 'gini', 'max_depth': 15, 'max_features': 'sqrt', 'min_samples_leaf': 0.49, 'min_samples_split': 10} --------> F1 = 0.5297\n",
            "{'criterion': 'gini', 'max_depth': 15, 'max_features': 'sqrt', 'min_samples_leaf': 0.49, 'min_samples_split': 20} --------> F1 = 0.5\n",
            "{'criterion': 'gini', 'max_depth': 15, 'max_features': 'log2', 'min_samples_leaf': 0.2, 'min_samples_split': 2} --------> F1 = 0.5\n",
            "{'criterion': 'gini', 'max_depth': 15, 'max_features': 'log2', 'min_samples_leaf': 0.2, 'min_samples_split': 3} --------> F1 = 0.5\n",
            "{'criterion': 'gini', 'max_depth': 15, 'max_features': 'log2', 'min_samples_leaf': 0.2, 'min_samples_split': 5} --------> F1 = 0.5\n",
            "{'criterion': 'gini', 'max_depth': 15, 'max_features': 'log2', 'min_samples_leaf': 0.2, 'min_samples_split': 10} --------> F1 = 0.5\n",
            "{'criterion': 'gini', 'max_depth': 15, 'max_features': 'log2', 'min_samples_leaf': 0.2, 'min_samples_split': 20} --------> F1 = 0.5475\n",
            "{'criterion': 'gini', 'max_depth': 15, 'max_features': 'log2', 'min_samples_leaf': 0.49, 'min_samples_split': 2} --------> F1 = 0.5\n",
            "{'criterion': 'gini', 'max_depth': 15, 'max_features': 'log2', 'min_samples_leaf': 0.49, 'min_samples_split': 3} --------> F1 = 0.5\n",
            "{'criterion': 'gini', 'max_depth': 15, 'max_features': 'log2', 'min_samples_leaf': 0.49, 'min_samples_split': 5} --------> F1 = 0.5\n",
            "{'criterion': 'gini', 'max_depth': 15, 'max_features': 'log2', 'min_samples_leaf': 0.49, 'min_samples_split': 10} --------> F1 = 0.5\n",
            "{'criterion': 'gini', 'max_depth': 15, 'max_features': 'log2', 'min_samples_leaf': 0.49, 'min_samples_split': 20} --------> F1 = 0.5\n",
            "{'criterion': 'gini', 'max_depth': 20, 'max_features': None, 'min_samples_leaf': 0.2, 'min_samples_split': 2} --------> F1 = 0.6393\n",
            "{'criterion': 'gini', 'max_depth': 20, 'max_features': None, 'min_samples_leaf': 0.2, 'min_samples_split': 3} --------> F1 = 0.6393\n",
            "{'criterion': 'gini', 'max_depth': 20, 'max_features': None, 'min_samples_leaf': 0.2, 'min_samples_split': 5} --------> F1 = 0.6393\n",
            "{'criterion': 'gini', 'max_depth': 20, 'max_features': None, 'min_samples_leaf': 0.2, 'min_samples_split': 10} --------> F1 = 0.6393\n",
            "{'criterion': 'gini', 'max_depth': 20, 'max_features': None, 'min_samples_leaf': 0.2, 'min_samples_split': 20} --------> F1 = 0.6393\n",
            "{'criterion': 'gini', 'max_depth': 20, 'max_features': None, 'min_samples_leaf': 0.49, 'min_samples_split': 2} --------> F1 = 0.5664\n",
            "{'criterion': 'gini', 'max_depth': 20, 'max_features': None, 'min_samples_leaf': 0.49, 'min_samples_split': 3} --------> F1 = 0.5664\n",
            "{'criterion': 'gini', 'max_depth': 20, 'max_features': None, 'min_samples_leaf': 0.49, 'min_samples_split': 5} --------> F1 = 0.5664\n",
            "{'criterion': 'gini', 'max_depth': 20, 'max_features': None, 'min_samples_leaf': 0.49, 'min_samples_split': 10} --------> F1 = 0.5664\n",
            "{'criterion': 'gini', 'max_depth': 20, 'max_features': None, 'min_samples_leaf': 0.49, 'min_samples_split': 20} --------> F1 = 0.5664\n",
            "{'criterion': 'gini', 'max_depth': 20, 'max_features': 'sqrt', 'min_samples_leaf': 0.2, 'min_samples_split': 2} --------> F1 = 0.5193\n",
            "{'criterion': 'gini', 'max_depth': 20, 'max_features': 'sqrt', 'min_samples_leaf': 0.2, 'min_samples_split': 3} --------> F1 = 0.5455\n",
            "{'criterion': 'gini', 'max_depth': 20, 'max_features': 'sqrt', 'min_samples_leaf': 0.2, 'min_samples_split': 5} --------> F1 = 0.536\n",
            "{'criterion': 'gini', 'max_depth': 20, 'max_features': 'sqrt', 'min_samples_leaf': 0.2, 'min_samples_split': 10} --------> F1 = 0.5507\n",
            "{'criterion': 'gini', 'max_depth': 20, 'max_features': 'sqrt', 'min_samples_leaf': 0.2, 'min_samples_split': 20} --------> F1 = 0.5\n",
            "{'criterion': 'gini', 'max_depth': 20, 'max_features': 'sqrt', 'min_samples_leaf': 0.49, 'min_samples_split': 2} --------> F1 = 0.5\n",
            "{'criterion': 'gini', 'max_depth': 20, 'max_features': 'sqrt', 'min_samples_leaf': 0.49, 'min_samples_split': 3} --------> F1 = 0.5\n",
            "{'criterion': 'gini', 'max_depth': 20, 'max_features': 'sqrt', 'min_samples_leaf': 0.49, 'min_samples_split': 5} --------> F1 = 0.5\n",
            "{'criterion': 'gini', 'max_depth': 20, 'max_features': 'sqrt', 'min_samples_leaf': 0.49, 'min_samples_split': 10} --------> F1 = 0.5348\n",
            "{'criterion': 'gini', 'max_depth': 20, 'max_features': 'sqrt', 'min_samples_leaf': 0.49, 'min_samples_split': 20} --------> F1 = 0.5\n",
            "{'criterion': 'gini', 'max_depth': 20, 'max_features': 'log2', 'min_samples_leaf': 0.2, 'min_samples_split': 2} --------> F1 = 0.5\n",
            "{'criterion': 'gini', 'max_depth': 20, 'max_features': 'log2', 'min_samples_leaf': 0.2, 'min_samples_split': 3} --------> F1 = 0.5\n",
            "{'criterion': 'gini', 'max_depth': 20, 'max_features': 'log2', 'min_samples_leaf': 0.2, 'min_samples_split': 5} --------> F1 = 0.5\n",
            "{'criterion': 'gini', 'max_depth': 20, 'max_features': 'log2', 'min_samples_leaf': 0.2, 'min_samples_split': 10} --------> F1 = 0.5121\n",
            "{'criterion': 'gini', 'max_depth': 20, 'max_features': 'log2', 'min_samples_leaf': 0.2, 'min_samples_split': 20} --------> F1 = 0.5\n",
            "{'criterion': 'gini', 'max_depth': 20, 'max_features': 'log2', 'min_samples_leaf': 0.49, 'min_samples_split': 2} --------> F1 = 0.5\n",
            "{'criterion': 'gini', 'max_depth': 20, 'max_features': 'log2', 'min_samples_leaf': 0.49, 'min_samples_split': 3} --------> F1 = 0.5\n",
            "{'criterion': 'gini', 'max_depth': 20, 'max_features': 'log2', 'min_samples_leaf': 0.49, 'min_samples_split': 5} --------> F1 = 0.5\n",
            "{'criterion': 'gini', 'max_depth': 20, 'max_features': 'log2', 'min_samples_leaf': 0.49, 'min_samples_split': 10} --------> F1 = 0.5\n",
            "{'criterion': 'gini', 'max_depth': 20, 'max_features': 'log2', 'min_samples_leaf': 0.49, 'min_samples_split': 20} --------> F1 = 0.5\n",
            "{'criterion': 'gini', 'max_depth': 30, 'max_features': None, 'min_samples_leaf': 0.2, 'min_samples_split': 2} --------> F1 = 0.6393\n",
            "{'criterion': 'gini', 'max_depth': 30, 'max_features': None, 'min_samples_leaf': 0.2, 'min_samples_split': 3} --------> F1 = 0.6393\n",
            "{'criterion': 'gini', 'max_depth': 30, 'max_features': None, 'min_samples_leaf': 0.2, 'min_samples_split': 5} --------> F1 = 0.6393\n",
            "{'criterion': 'gini', 'max_depth': 30, 'max_features': None, 'min_samples_leaf': 0.2, 'min_samples_split': 10} --------> F1 = 0.6393\n",
            "{'criterion': 'gini', 'max_depth': 30, 'max_features': None, 'min_samples_leaf': 0.2, 'min_samples_split': 20} --------> F1 = 0.6393\n",
            "{'criterion': 'gini', 'max_depth': 30, 'max_features': None, 'min_samples_leaf': 0.49, 'min_samples_split': 2} --------> F1 = 0.5664\n",
            "{'criterion': 'gini', 'max_depth': 30, 'max_features': None, 'min_samples_leaf': 0.49, 'min_samples_split': 3} --------> F1 = 0.5664\n",
            "{'criterion': 'gini', 'max_depth': 30, 'max_features': None, 'min_samples_leaf': 0.49, 'min_samples_split': 5} --------> F1 = 0.5664\n",
            "{'criterion': 'gini', 'max_depth': 30, 'max_features': None, 'min_samples_leaf': 0.49, 'min_samples_split': 10} --------> F1 = 0.5664\n",
            "{'criterion': 'gini', 'max_depth': 30, 'max_features': None, 'min_samples_leaf': 0.49, 'min_samples_split': 20} --------> F1 = 0.5664\n",
            "{'criterion': 'gini', 'max_depth': 30, 'max_features': 'sqrt', 'min_samples_leaf': 0.2, 'min_samples_split': 2} --------> F1 = 0.5\n",
            "{'criterion': 'gini', 'max_depth': 30, 'max_features': 'sqrt', 'min_samples_leaf': 0.2, 'min_samples_split': 3} --------> F1 = 0.5\n",
            "{'criterion': 'gini', 'max_depth': 30, 'max_features': 'sqrt', 'min_samples_leaf': 0.2, 'min_samples_split': 5} --------> F1 = 0.5041\n",
            "{'criterion': 'gini', 'max_depth': 30, 'max_features': 'sqrt', 'min_samples_leaf': 0.2, 'min_samples_split': 10} --------> F1 = 0.5\n",
            "{'criterion': 'gini', 'max_depth': 30, 'max_features': 'sqrt', 'min_samples_leaf': 0.2, 'min_samples_split': 20} --------> F1 = 0.517\n",
            "{'criterion': 'gini', 'max_depth': 30, 'max_features': 'sqrt', 'min_samples_leaf': 0.49, 'min_samples_split': 2} --------> F1 = 0.5\n",
            "{'criterion': 'gini', 'max_depth': 30, 'max_features': 'sqrt', 'min_samples_leaf': 0.49, 'min_samples_split': 3} --------> F1 = 0.515\n",
            "{'criterion': 'gini', 'max_depth': 30, 'max_features': 'sqrt', 'min_samples_leaf': 0.49, 'min_samples_split': 5} --------> F1 = 0.5\n",
            "{'criterion': 'gini', 'max_depth': 30, 'max_features': 'sqrt', 'min_samples_leaf': 0.49, 'min_samples_split': 10} --------> F1 = 0.5\n",
            "{'criterion': 'gini', 'max_depth': 30, 'max_features': 'sqrt', 'min_samples_leaf': 0.49, 'min_samples_split': 20} --------> F1 = 0.5\n",
            "{'criterion': 'gini', 'max_depth': 30, 'max_features': 'log2', 'min_samples_leaf': 0.2, 'min_samples_split': 2} --------> F1 = 0.5\n",
            "{'criterion': 'gini', 'max_depth': 30, 'max_features': 'log2', 'min_samples_leaf': 0.2, 'min_samples_split': 3} --------> F1 = 0.5\n",
            "{'criterion': 'gini', 'max_depth': 30, 'max_features': 'log2', 'min_samples_leaf': 0.2, 'min_samples_split': 5} --------> F1 = 0.5\n",
            "{'criterion': 'gini', 'max_depth': 30, 'max_features': 'log2', 'min_samples_leaf': 0.2, 'min_samples_split': 10} --------> F1 = 0.5\n",
            "{'criterion': 'gini', 'max_depth': 30, 'max_features': 'log2', 'min_samples_leaf': 0.2, 'min_samples_split': 20} --------> F1 = 0.5\n",
            "{'criterion': 'gini', 'max_depth': 30, 'max_features': 'log2', 'min_samples_leaf': 0.49, 'min_samples_split': 2} --------> F1 = 0.5\n",
            "{'criterion': 'gini', 'max_depth': 30, 'max_features': 'log2', 'min_samples_leaf': 0.49, 'min_samples_split': 3} --------> F1 = 0.5\n",
            "{'criterion': 'gini', 'max_depth': 30, 'max_features': 'log2', 'min_samples_leaf': 0.49, 'min_samples_split': 5} --------> F1 = 0.5\n",
            "{'criterion': 'gini', 'max_depth': 30, 'max_features': 'log2', 'min_samples_leaf': 0.49, 'min_samples_split': 10} --------> F1 = 0.5\n",
            "{'criterion': 'gini', 'max_depth': 30, 'max_features': 'log2', 'min_samples_leaf': 0.49, 'min_samples_split': 20} --------> F1 = 0.5\n",
            "{'criterion': 'gini', 'max_depth': 50, 'max_features': None, 'min_samples_leaf': 0.2, 'min_samples_split': 2} --------> F1 = 0.6393\n",
            "{'criterion': 'gini', 'max_depth': 50, 'max_features': None, 'min_samples_leaf': 0.2, 'min_samples_split': 3} --------> F1 = 0.6393\n",
            "{'criterion': 'gini', 'max_depth': 50, 'max_features': None, 'min_samples_leaf': 0.2, 'min_samples_split': 5} --------> F1 = 0.6393\n",
            "{'criterion': 'gini', 'max_depth': 50, 'max_features': None, 'min_samples_leaf': 0.2, 'min_samples_split': 10} --------> F1 = 0.6393\n",
            "{'criterion': 'gini', 'max_depth': 50, 'max_features': None, 'min_samples_leaf': 0.2, 'min_samples_split': 20} --------> F1 = 0.6393\n",
            "{'criterion': 'gini', 'max_depth': 50, 'max_features': None, 'min_samples_leaf': 0.49, 'min_samples_split': 2} --------> F1 = 0.5664\n",
            "{'criterion': 'gini', 'max_depth': 50, 'max_features': None, 'min_samples_leaf': 0.49, 'min_samples_split': 3} --------> F1 = 0.5664\n",
            "{'criterion': 'gini', 'max_depth': 50, 'max_features': None, 'min_samples_leaf': 0.49, 'min_samples_split': 5} --------> F1 = 0.5664\n",
            "{'criterion': 'gini', 'max_depth': 50, 'max_features': None, 'min_samples_leaf': 0.49, 'min_samples_split': 10} --------> F1 = 0.5664\n",
            "{'criterion': 'gini', 'max_depth': 50, 'max_features': None, 'min_samples_leaf': 0.49, 'min_samples_split': 20} --------> F1 = 0.5664\n",
            "{'criterion': 'gini', 'max_depth': 50, 'max_features': 'sqrt', 'min_samples_leaf': 0.2, 'min_samples_split': 2} --------> F1 = 0.5298\n",
            "{'criterion': 'gini', 'max_depth': 50, 'max_features': 'sqrt', 'min_samples_leaf': 0.2, 'min_samples_split': 3} --------> F1 = 0.5\n",
            "{'criterion': 'gini', 'max_depth': 50, 'max_features': 'sqrt', 'min_samples_leaf': 0.2, 'min_samples_split': 5} --------> F1 = 0.5193\n",
            "{'criterion': 'gini', 'max_depth': 50, 'max_features': 'sqrt', 'min_samples_leaf': 0.2, 'min_samples_split': 10} --------> F1 = 0.5464\n",
            "{'criterion': 'gini', 'max_depth': 50, 'max_features': 'sqrt', 'min_samples_leaf': 0.2, 'min_samples_split': 20} --------> F1 = 0.5\n",
            "{'criterion': 'gini', 'max_depth': 50, 'max_features': 'sqrt', 'min_samples_leaf': 0.49, 'min_samples_split': 2} --------> F1 = 0.5\n",
            "{'criterion': 'gini', 'max_depth': 50, 'max_features': 'sqrt', 'min_samples_leaf': 0.49, 'min_samples_split': 3} --------> F1 = 0.5\n",
            "{'criterion': 'gini', 'max_depth': 50, 'max_features': 'sqrt', 'min_samples_leaf': 0.49, 'min_samples_split': 5} --------> F1 = 0.5123\n",
            "{'criterion': 'gini', 'max_depth': 50, 'max_features': 'sqrt', 'min_samples_leaf': 0.49, 'min_samples_split': 10} --------> F1 = 0.5\n",
            "{'criterion': 'gini', 'max_depth': 50, 'max_features': 'sqrt', 'min_samples_leaf': 0.49, 'min_samples_split': 20} --------> F1 = 0.5278\n",
            "{'criterion': 'gini', 'max_depth': 50, 'max_features': 'log2', 'min_samples_leaf': 0.2, 'min_samples_split': 2} --------> F1 = 0.5\n",
            "{'criterion': 'gini', 'max_depth': 50, 'max_features': 'log2', 'min_samples_leaf': 0.2, 'min_samples_split': 3} --------> F1 = 0.5\n",
            "{'criterion': 'gini', 'max_depth': 50, 'max_features': 'log2', 'min_samples_leaf': 0.2, 'min_samples_split': 5} --------> F1 = 0.5\n",
            "{'criterion': 'gini', 'max_depth': 50, 'max_features': 'log2', 'min_samples_leaf': 0.2, 'min_samples_split': 10} --------> F1 = 0.5\n",
            "{'criterion': 'gini', 'max_depth': 50, 'max_features': 'log2', 'min_samples_leaf': 0.2, 'min_samples_split': 20} --------> F1 = 0.5\n",
            "{'criterion': 'gini', 'max_depth': 50, 'max_features': 'log2', 'min_samples_leaf': 0.49, 'min_samples_split': 2} --------> F1 = 0.5\n",
            "{'criterion': 'gini', 'max_depth': 50, 'max_features': 'log2', 'min_samples_leaf': 0.49, 'min_samples_split': 3} --------> F1 = 0.5\n",
            "{'criterion': 'gini', 'max_depth': 50, 'max_features': 'log2', 'min_samples_leaf': 0.49, 'min_samples_split': 5} --------> F1 = 0.5\n",
            "{'criterion': 'gini', 'max_depth': 50, 'max_features': 'log2', 'min_samples_leaf': 0.49, 'min_samples_split': 10} --------> F1 = 0.5\n",
            "{'criterion': 'gini', 'max_depth': 50, 'max_features': 'log2', 'min_samples_leaf': 0.49, 'min_samples_split': 20} --------> F1 = 0.5\n",
            "{'criterion': 'gini', 'max_depth': 100, 'max_features': None, 'min_samples_leaf': 0.2, 'min_samples_split': 2} --------> F1 = 0.6393\n",
            "{'criterion': 'gini', 'max_depth': 100, 'max_features': None, 'min_samples_leaf': 0.2, 'min_samples_split': 3} --------> F1 = 0.6393\n",
            "{'criterion': 'gini', 'max_depth': 100, 'max_features': None, 'min_samples_leaf': 0.2, 'min_samples_split': 5} --------> F1 = 0.6393\n",
            "{'criterion': 'gini', 'max_depth': 100, 'max_features': None, 'min_samples_leaf': 0.2, 'min_samples_split': 10} --------> F1 = 0.6393\n",
            "{'criterion': 'gini', 'max_depth': 100, 'max_features': None, 'min_samples_leaf': 0.2, 'min_samples_split': 20} --------> F1 = 0.6393\n",
            "{'criterion': 'gini', 'max_depth': 100, 'max_features': None, 'min_samples_leaf': 0.49, 'min_samples_split': 2} --------> F1 = 0.5664\n",
            "{'criterion': 'gini', 'max_depth': 100, 'max_features': None, 'min_samples_leaf': 0.49, 'min_samples_split': 3} --------> F1 = 0.5664\n",
            "{'criterion': 'gini', 'max_depth': 100, 'max_features': None, 'min_samples_leaf': 0.49, 'min_samples_split': 5} --------> F1 = 0.5664\n",
            "{'criterion': 'gini', 'max_depth': 100, 'max_features': None, 'min_samples_leaf': 0.49, 'min_samples_split': 10} --------> F1 = 0.5664\n",
            "{'criterion': 'gini', 'max_depth': 100, 'max_features': None, 'min_samples_leaf': 0.49, 'min_samples_split': 20} --------> F1 = 0.5664\n",
            "{'criterion': 'gini', 'max_depth': 100, 'max_features': 'sqrt', 'min_samples_leaf': 0.2, 'min_samples_split': 2} --------> F1 = 0.6113\n",
            "{'criterion': 'gini', 'max_depth': 100, 'max_features': 'sqrt', 'min_samples_leaf': 0.2, 'min_samples_split': 3} --------> F1 = 0.5\n",
            "{'criterion': 'gini', 'max_depth': 100, 'max_features': 'sqrt', 'min_samples_leaf': 0.2, 'min_samples_split': 5} --------> F1 = 0.5\n",
            "{'criterion': 'gini', 'max_depth': 100, 'max_features': 'sqrt', 'min_samples_leaf': 0.2, 'min_samples_split': 10} --------> F1 = 0.5\n",
            "{'criterion': 'gini', 'max_depth': 100, 'max_features': 'sqrt', 'min_samples_leaf': 0.2, 'min_samples_split': 20} --------> F1 = 0.534\n",
            "{'criterion': 'gini', 'max_depth': 100, 'max_features': 'sqrt', 'min_samples_leaf': 0.49, 'min_samples_split': 2} --------> F1 = 0.5196\n",
            "{'criterion': 'gini', 'max_depth': 100, 'max_features': 'sqrt', 'min_samples_leaf': 0.49, 'min_samples_split': 3} --------> F1 = 0.5\n",
            "{'criterion': 'gini', 'max_depth': 100, 'max_features': 'sqrt', 'min_samples_leaf': 0.49, 'min_samples_split': 5} --------> F1 = 0.5\n",
            "{'criterion': 'gini', 'max_depth': 100, 'max_features': 'sqrt', 'min_samples_leaf': 0.49, 'min_samples_split': 10} --------> F1 = 0.5\n",
            "{'criterion': 'gini', 'max_depth': 100, 'max_features': 'sqrt', 'min_samples_leaf': 0.49, 'min_samples_split': 20} --------> F1 = 0.537\n",
            "{'criterion': 'gini', 'max_depth': 100, 'max_features': 'log2', 'min_samples_leaf': 0.2, 'min_samples_split': 2} --------> F1 = 0.5348\n",
            "{'criterion': 'gini', 'max_depth': 100, 'max_features': 'log2', 'min_samples_leaf': 0.2, 'min_samples_split': 3} --------> F1 = 0.5\n",
            "{'criterion': 'gini', 'max_depth': 100, 'max_features': 'log2', 'min_samples_leaf': 0.2, 'min_samples_split': 5} --------> F1 = 0.5248\n",
            "{'criterion': 'gini', 'max_depth': 100, 'max_features': 'log2', 'min_samples_leaf': 0.2, 'min_samples_split': 10} --------> F1 = 0.5\n",
            "{'criterion': 'gini', 'max_depth': 100, 'max_features': 'log2', 'min_samples_leaf': 0.2, 'min_samples_split': 20} --------> F1 = 0.5\n",
            "{'criterion': 'gini', 'max_depth': 100, 'max_features': 'log2', 'min_samples_leaf': 0.49, 'min_samples_split': 2} --------> F1 = 0.5\n",
            "{'criterion': 'gini', 'max_depth': 100, 'max_features': 'log2', 'min_samples_leaf': 0.49, 'min_samples_split': 3} --------> F1 = 0.5\n",
            "{'criterion': 'gini', 'max_depth': 100, 'max_features': 'log2', 'min_samples_leaf': 0.49, 'min_samples_split': 5} --------> F1 = 0.5\n",
            "{'criterion': 'gini', 'max_depth': 100, 'max_features': 'log2', 'min_samples_leaf': 0.49, 'min_samples_split': 10} --------> F1 = 0.5\n",
            "{'criterion': 'gini', 'max_depth': 100, 'max_features': 'log2', 'min_samples_leaf': 0.49, 'min_samples_split': 20} --------> F1 = 0.5\n",
            "{'criterion': 'entropy', 'max_depth': 8, 'max_features': None, 'min_samples_leaf': 0.2, 'min_samples_split': 2} --------> F1 = 0.6393\n",
            "{'criterion': 'entropy', 'max_depth': 8, 'max_features': None, 'min_samples_leaf': 0.2, 'min_samples_split': 3} --------> F1 = 0.6393\n",
            "{'criterion': 'entropy', 'max_depth': 8, 'max_features': None, 'min_samples_leaf': 0.2, 'min_samples_split': 5} --------> F1 = 0.6393\n",
            "{'criterion': 'entropy', 'max_depth': 8, 'max_features': None, 'min_samples_leaf': 0.2, 'min_samples_split': 10} --------> F1 = 0.6393\n",
            "{'criterion': 'entropy', 'max_depth': 8, 'max_features': None, 'min_samples_leaf': 0.2, 'min_samples_split': 20} --------> F1 = 0.6393\n",
            "{'criterion': 'entropy', 'max_depth': 8, 'max_features': None, 'min_samples_leaf': 0.49, 'min_samples_split': 2} --------> F1 = 0.5664\n",
            "{'criterion': 'entropy', 'max_depth': 8, 'max_features': None, 'min_samples_leaf': 0.49, 'min_samples_split': 3} --------> F1 = 0.5664\n",
            "{'criterion': 'entropy', 'max_depth': 8, 'max_features': None, 'min_samples_leaf': 0.49, 'min_samples_split': 5} --------> F1 = 0.5664\n",
            "{'criterion': 'entropy', 'max_depth': 8, 'max_features': None, 'min_samples_leaf': 0.49, 'min_samples_split': 10} --------> F1 = 0.5664\n",
            "{'criterion': 'entropy', 'max_depth': 8, 'max_features': None, 'min_samples_leaf': 0.49, 'min_samples_split': 20} --------> F1 = 0.5664\n",
            "{'criterion': 'entropy', 'max_depth': 8, 'max_features': 'sqrt', 'min_samples_leaf': 0.2, 'min_samples_split': 2} --------> F1 = 0.525\n",
            "{'criterion': 'entropy', 'max_depth': 8, 'max_features': 'sqrt', 'min_samples_leaf': 0.2, 'min_samples_split': 3} --------> F1 = 0.5\n",
            "{'criterion': 'entropy', 'max_depth': 8, 'max_features': 'sqrt', 'min_samples_leaf': 0.2, 'min_samples_split': 5} --------> F1 = 0.5\n",
            "{'criterion': 'entropy', 'max_depth': 8, 'max_features': 'sqrt', 'min_samples_leaf': 0.2, 'min_samples_split': 10} --------> F1 = 0.5557\n",
            "{'criterion': 'entropy', 'max_depth': 8, 'max_features': 'sqrt', 'min_samples_leaf': 0.2, 'min_samples_split': 20} --------> F1 = 0.5113\n",
            "{'criterion': 'entropy', 'max_depth': 8, 'max_features': 'sqrt', 'min_samples_leaf': 0.49, 'min_samples_split': 2} --------> F1 = 0.5\n",
            "{'criterion': 'entropy', 'max_depth': 8, 'max_features': 'sqrt', 'min_samples_leaf': 0.49, 'min_samples_split': 3} --------> F1 = 0.5\n",
            "{'criterion': 'entropy', 'max_depth': 8, 'max_features': 'sqrt', 'min_samples_leaf': 0.49, 'min_samples_split': 5} --------> F1 = 0.5\n",
            "{'criterion': 'entropy', 'max_depth': 8, 'max_features': 'sqrt', 'min_samples_leaf': 0.49, 'min_samples_split': 10} --------> F1 = 0.5\n",
            "{'criterion': 'entropy', 'max_depth': 8, 'max_features': 'sqrt', 'min_samples_leaf': 0.49, 'min_samples_split': 20} --------> F1 = 0.5\n",
            "{'criterion': 'entropy', 'max_depth': 8, 'max_features': 'log2', 'min_samples_leaf': 0.2, 'min_samples_split': 2} --------> F1 = 0.5374\n",
            "{'criterion': 'entropy', 'max_depth': 8, 'max_features': 'log2', 'min_samples_leaf': 0.2, 'min_samples_split': 3} --------> F1 = 0.5179\n",
            "{'criterion': 'entropy', 'max_depth': 8, 'max_features': 'log2', 'min_samples_leaf': 0.2, 'min_samples_split': 5} --------> F1 = 0.5\n",
            "{'criterion': 'entropy', 'max_depth': 8, 'max_features': 'log2', 'min_samples_leaf': 0.2, 'min_samples_split': 10} --------> F1 = 0.5\n",
            "{'criterion': 'entropy', 'max_depth': 8, 'max_features': 'log2', 'min_samples_leaf': 0.2, 'min_samples_split': 20} --------> F1 = 0.5\n",
            "{'criterion': 'entropy', 'max_depth': 8, 'max_features': 'log2', 'min_samples_leaf': 0.49, 'min_samples_split': 2} --------> F1 = 0.5\n",
            "{'criterion': 'entropy', 'max_depth': 8, 'max_features': 'log2', 'min_samples_leaf': 0.49, 'min_samples_split': 3} --------> F1 = 0.5\n",
            "{'criterion': 'entropy', 'max_depth': 8, 'max_features': 'log2', 'min_samples_leaf': 0.49, 'min_samples_split': 5} --------> F1 = 0.5\n",
            "{'criterion': 'entropy', 'max_depth': 8, 'max_features': 'log2', 'min_samples_leaf': 0.49, 'min_samples_split': 10} --------> F1 = 0.518\n",
            "{'criterion': 'entropy', 'max_depth': 8, 'max_features': 'log2', 'min_samples_leaf': 0.49, 'min_samples_split': 20} --------> F1 = 0.5\n",
            "{'criterion': 'entropy', 'max_depth': 9, 'max_features': None, 'min_samples_leaf': 0.2, 'min_samples_split': 2} --------> F1 = 0.6393\n",
            "{'criterion': 'entropy', 'max_depth': 9, 'max_features': None, 'min_samples_leaf': 0.2, 'min_samples_split': 3} --------> F1 = 0.6393\n",
            "{'criterion': 'entropy', 'max_depth': 9, 'max_features': None, 'min_samples_leaf': 0.2, 'min_samples_split': 5} --------> F1 = 0.6393\n",
            "{'criterion': 'entropy', 'max_depth': 9, 'max_features': None, 'min_samples_leaf': 0.2, 'min_samples_split': 10} --------> F1 = 0.6393\n",
            "{'criterion': 'entropy', 'max_depth': 9, 'max_features': None, 'min_samples_leaf': 0.2, 'min_samples_split': 20} --------> F1 = 0.6393\n",
            "{'criterion': 'entropy', 'max_depth': 9, 'max_features': None, 'min_samples_leaf': 0.49, 'min_samples_split': 2} --------> F1 = 0.5664\n",
            "{'criterion': 'entropy', 'max_depth': 9, 'max_features': None, 'min_samples_leaf': 0.49, 'min_samples_split': 3} --------> F1 = 0.5664\n",
            "{'criterion': 'entropy', 'max_depth': 9, 'max_features': None, 'min_samples_leaf': 0.49, 'min_samples_split': 5} --------> F1 = 0.5664\n",
            "{'criterion': 'entropy', 'max_depth': 9, 'max_features': None, 'min_samples_leaf': 0.49, 'min_samples_split': 10} --------> F1 = 0.5664\n",
            "{'criterion': 'entropy', 'max_depth': 9, 'max_features': None, 'min_samples_leaf': 0.49, 'min_samples_split': 20} --------> F1 = 0.5664\n",
            "{'criterion': 'entropy', 'max_depth': 9, 'max_features': 'sqrt', 'min_samples_leaf': 0.2, 'min_samples_split': 2} --------> F1 = 0.5\n",
            "{'criterion': 'entropy', 'max_depth': 9, 'max_features': 'sqrt', 'min_samples_leaf': 0.2, 'min_samples_split': 3} --------> F1 = 0.5421\n",
            "{'criterion': 'entropy', 'max_depth': 9, 'max_features': 'sqrt', 'min_samples_leaf': 0.2, 'min_samples_split': 5} --------> F1 = 0.5478\n",
            "{'criterion': 'entropy', 'max_depth': 9, 'max_features': 'sqrt', 'min_samples_leaf': 0.2, 'min_samples_split': 10} --------> F1 = 0.5\n",
            "{'criterion': 'entropy', 'max_depth': 9, 'max_features': 'sqrt', 'min_samples_leaf': 0.2, 'min_samples_split': 20} --------> F1 = 0.5\n",
            "{'criterion': 'entropy', 'max_depth': 9, 'max_features': 'sqrt', 'min_samples_leaf': 0.49, 'min_samples_split': 2} --------> F1 = 0.5\n",
            "{'criterion': 'entropy', 'max_depth': 9, 'max_features': 'sqrt', 'min_samples_leaf': 0.49, 'min_samples_split': 3} --------> F1 = 0.5\n",
            "{'criterion': 'entropy', 'max_depth': 9, 'max_features': 'sqrt', 'min_samples_leaf': 0.49, 'min_samples_split': 5} --------> F1 = 0.5\n",
            "{'criterion': 'entropy', 'max_depth': 9, 'max_features': 'sqrt', 'min_samples_leaf': 0.49, 'min_samples_split': 10} --------> F1 = 0.5\n",
            "{'criterion': 'entropy', 'max_depth': 9, 'max_features': 'sqrt', 'min_samples_leaf': 0.49, 'min_samples_split': 20} --------> F1 = 0.5\n",
            "{'criterion': 'entropy', 'max_depth': 9, 'max_features': 'log2', 'min_samples_leaf': 0.2, 'min_samples_split': 2} --------> F1 = 0.5\n",
            "{'criterion': 'entropy', 'max_depth': 9, 'max_features': 'log2', 'min_samples_leaf': 0.2, 'min_samples_split': 3} --------> F1 = 0.5\n",
            "{'criterion': 'entropy', 'max_depth': 9, 'max_features': 'log2', 'min_samples_leaf': 0.2, 'min_samples_split': 5} --------> F1 = 0.5\n",
            "{'criterion': 'entropy', 'max_depth': 9, 'max_features': 'log2', 'min_samples_leaf': 0.2, 'min_samples_split': 10} --------> F1 = 0.5132\n",
            "{'criterion': 'entropy', 'max_depth': 9, 'max_features': 'log2', 'min_samples_leaf': 0.2, 'min_samples_split': 20} --------> F1 = 0.5\n",
            "{'criterion': 'entropy', 'max_depth': 9, 'max_features': 'log2', 'min_samples_leaf': 0.49, 'min_samples_split': 2} --------> F1 = 0.5\n",
            "{'criterion': 'entropy', 'max_depth': 9, 'max_features': 'log2', 'min_samples_leaf': 0.49, 'min_samples_split': 3} --------> F1 = 0.5\n",
            "{'criterion': 'entropy', 'max_depth': 9, 'max_features': 'log2', 'min_samples_leaf': 0.49, 'min_samples_split': 5} --------> F1 = 0.5123\n",
            "{'criterion': 'entropy', 'max_depth': 9, 'max_features': 'log2', 'min_samples_leaf': 0.49, 'min_samples_split': 10} --------> F1 = 0.5\n",
            "{'criterion': 'entropy', 'max_depth': 9, 'max_features': 'log2', 'min_samples_leaf': 0.49, 'min_samples_split': 20} --------> F1 = 0.5\n",
            "{'criterion': 'entropy', 'max_depth': 10, 'max_features': None, 'min_samples_leaf': 0.2, 'min_samples_split': 2} --------> F1 = 0.6393\n",
            "{'criterion': 'entropy', 'max_depth': 10, 'max_features': None, 'min_samples_leaf': 0.2, 'min_samples_split': 3} --------> F1 = 0.6393\n",
            "{'criterion': 'entropy', 'max_depth': 10, 'max_features': None, 'min_samples_leaf': 0.2, 'min_samples_split': 5} --------> F1 = 0.6393\n",
            "{'criterion': 'entropy', 'max_depth': 10, 'max_features': None, 'min_samples_leaf': 0.2, 'min_samples_split': 10} --------> F1 = 0.6393\n",
            "{'criterion': 'entropy', 'max_depth': 10, 'max_features': None, 'min_samples_leaf': 0.2, 'min_samples_split': 20} --------> F1 = 0.6393\n",
            "{'criterion': 'entropy', 'max_depth': 10, 'max_features': None, 'min_samples_leaf': 0.49, 'min_samples_split': 2} --------> F1 = 0.5664\n",
            "{'criterion': 'entropy', 'max_depth': 10, 'max_features': None, 'min_samples_leaf': 0.49, 'min_samples_split': 3} --------> F1 = 0.5664\n",
            "{'criterion': 'entropy', 'max_depth': 10, 'max_features': None, 'min_samples_leaf': 0.49, 'min_samples_split': 5} --------> F1 = 0.5664\n",
            "{'criterion': 'entropy', 'max_depth': 10, 'max_features': None, 'min_samples_leaf': 0.49, 'min_samples_split': 10} --------> F1 = 0.5664\n",
            "{'criterion': 'entropy', 'max_depth': 10, 'max_features': None, 'min_samples_leaf': 0.49, 'min_samples_split': 20} --------> F1 = 0.5664\n",
            "{'criterion': 'entropy', 'max_depth': 10, 'max_features': 'sqrt', 'min_samples_leaf': 0.2, 'min_samples_split': 2} --------> F1 = 0.5364\n",
            "{'criterion': 'entropy', 'max_depth': 10, 'max_features': 'sqrt', 'min_samples_leaf': 0.2, 'min_samples_split': 3} --------> F1 = 0.5487\n",
            "{'criterion': 'entropy', 'max_depth': 10, 'max_features': 'sqrt', 'min_samples_leaf': 0.2, 'min_samples_split': 5} --------> F1 = 0.5464\n",
            "{'criterion': 'entropy', 'max_depth': 10, 'max_features': 'sqrt', 'min_samples_leaf': 0.2, 'min_samples_split': 10} --------> F1 = 0.5433\n",
            "{'criterion': 'entropy', 'max_depth': 10, 'max_features': 'sqrt', 'min_samples_leaf': 0.2, 'min_samples_split': 20} --------> F1 = 0.5\n",
            "{'criterion': 'entropy', 'max_depth': 10, 'max_features': 'sqrt', 'min_samples_leaf': 0.49, 'min_samples_split': 2} --------> F1 = 0.5334\n",
            "{'criterion': 'entropy', 'max_depth': 10, 'max_features': 'sqrt', 'min_samples_leaf': 0.49, 'min_samples_split': 3} --------> F1 = 0.548\n",
            "{'criterion': 'entropy', 'max_depth': 10, 'max_features': 'sqrt', 'min_samples_leaf': 0.49, 'min_samples_split': 5} --------> F1 = 0.5\n",
            "{'criterion': 'entropy', 'max_depth': 10, 'max_features': 'sqrt', 'min_samples_leaf': 0.49, 'min_samples_split': 10} --------> F1 = 0.5148\n",
            "{'criterion': 'entropy', 'max_depth': 10, 'max_features': 'sqrt', 'min_samples_leaf': 0.49, 'min_samples_split': 20} --------> F1 = 0.5\n",
            "{'criterion': 'entropy', 'max_depth': 10, 'max_features': 'log2', 'min_samples_leaf': 0.2, 'min_samples_split': 2} --------> F1 = 0.5\n",
            "{'criterion': 'entropy', 'max_depth': 10, 'max_features': 'log2', 'min_samples_leaf': 0.2, 'min_samples_split': 3} --------> F1 = 0.5169\n",
            "{'criterion': 'entropy', 'max_depth': 10, 'max_features': 'log2', 'min_samples_leaf': 0.2, 'min_samples_split': 5} --------> F1 = 0.5\n",
            "{'criterion': 'entropy', 'max_depth': 10, 'max_features': 'log2', 'min_samples_leaf': 0.2, 'min_samples_split': 10} --------> F1 = 0.5\n",
            "{'criterion': 'entropy', 'max_depth': 10, 'max_features': 'log2', 'min_samples_leaf': 0.2, 'min_samples_split': 20} --------> F1 = 0.5\n",
            "{'criterion': 'entropy', 'max_depth': 10, 'max_features': 'log2', 'min_samples_leaf': 0.49, 'min_samples_split': 2} --------> F1 = 0.5\n",
            "{'criterion': 'entropy', 'max_depth': 10, 'max_features': 'log2', 'min_samples_leaf': 0.49, 'min_samples_split': 3} --------> F1 = 0.5\n",
            "{'criterion': 'entropy', 'max_depth': 10, 'max_features': 'log2', 'min_samples_leaf': 0.49, 'min_samples_split': 5} --------> F1 = 0.5\n",
            "{'criterion': 'entropy', 'max_depth': 10, 'max_features': 'log2', 'min_samples_leaf': 0.49, 'min_samples_split': 10} --------> F1 = 0.5\n",
            "{'criterion': 'entropy', 'max_depth': 10, 'max_features': 'log2', 'min_samples_leaf': 0.49, 'min_samples_split': 20} --------> F1 = 0.5\n",
            "{'criterion': 'entropy', 'max_depth': 15, 'max_features': None, 'min_samples_leaf': 0.2, 'min_samples_split': 2} --------> F1 = 0.6393\n",
            "{'criterion': 'entropy', 'max_depth': 15, 'max_features': None, 'min_samples_leaf': 0.2, 'min_samples_split': 3} --------> F1 = 0.6393\n",
            "{'criterion': 'entropy', 'max_depth': 15, 'max_features': None, 'min_samples_leaf': 0.2, 'min_samples_split': 5} --------> F1 = 0.6393\n",
            "{'criterion': 'entropy', 'max_depth': 15, 'max_features': None, 'min_samples_leaf': 0.2, 'min_samples_split': 10} --------> F1 = 0.6393\n",
            "{'criterion': 'entropy', 'max_depth': 15, 'max_features': None, 'min_samples_leaf': 0.2, 'min_samples_split': 20} --------> F1 = 0.6393\n",
            "{'criterion': 'entropy', 'max_depth': 15, 'max_features': None, 'min_samples_leaf': 0.49, 'min_samples_split': 2} --------> F1 = 0.5664\n",
            "{'criterion': 'entropy', 'max_depth': 15, 'max_features': None, 'min_samples_leaf': 0.49, 'min_samples_split': 3} --------> F1 = 0.5664\n",
            "{'criterion': 'entropy', 'max_depth': 15, 'max_features': None, 'min_samples_leaf': 0.49, 'min_samples_split': 5} --------> F1 = 0.5664\n",
            "{'criterion': 'entropy', 'max_depth': 15, 'max_features': None, 'min_samples_leaf': 0.49, 'min_samples_split': 10} --------> F1 = 0.5664\n",
            "{'criterion': 'entropy', 'max_depth': 15, 'max_features': None, 'min_samples_leaf': 0.49, 'min_samples_split': 20} --------> F1 = 0.5664\n",
            "{'criterion': 'entropy', 'max_depth': 15, 'max_features': 'sqrt', 'min_samples_leaf': 0.2, 'min_samples_split': 2} --------> F1 = 0.4999\n",
            "{'criterion': 'entropy', 'max_depth': 15, 'max_features': 'sqrt', 'min_samples_leaf': 0.2, 'min_samples_split': 3} --------> F1 = 0.5251\n",
            "{'criterion': 'entropy', 'max_depth': 15, 'max_features': 'sqrt', 'min_samples_leaf': 0.2, 'min_samples_split': 5} --------> F1 = 0.5179\n",
            "{'criterion': 'entropy', 'max_depth': 15, 'max_features': 'sqrt', 'min_samples_leaf': 0.2, 'min_samples_split': 10} --------> F1 = 0.5228\n",
            "{'criterion': 'entropy', 'max_depth': 15, 'max_features': 'sqrt', 'min_samples_leaf': 0.2, 'min_samples_split': 20} --------> F1 = 0.5\n",
            "{'criterion': 'entropy', 'max_depth': 15, 'max_features': 'sqrt', 'min_samples_leaf': 0.49, 'min_samples_split': 2} --------> F1 = 0.5\n",
            "{'criterion': 'entropy', 'max_depth': 15, 'max_features': 'sqrt', 'min_samples_leaf': 0.49, 'min_samples_split': 3} --------> F1 = 0.5\n",
            "{'criterion': 'entropy', 'max_depth': 15, 'max_features': 'sqrt', 'min_samples_leaf': 0.49, 'min_samples_split': 5} --------> F1 = 0.5\n",
            "{'criterion': 'entropy', 'max_depth': 15, 'max_features': 'sqrt', 'min_samples_leaf': 0.49, 'min_samples_split': 10} --------> F1 = 0.5\n",
            "{'criterion': 'entropy', 'max_depth': 15, 'max_features': 'sqrt', 'min_samples_leaf': 0.49, 'min_samples_split': 20} --------> F1 = 0.5\n",
            "{'criterion': 'entropy', 'max_depth': 15, 'max_features': 'log2', 'min_samples_leaf': 0.2, 'min_samples_split': 2} --------> F1 = 0.5\n",
            "{'criterion': 'entropy', 'max_depth': 15, 'max_features': 'log2', 'min_samples_leaf': 0.2, 'min_samples_split': 3} --------> F1 = 0.5\n",
            "{'criterion': 'entropy', 'max_depth': 15, 'max_features': 'log2', 'min_samples_leaf': 0.2, 'min_samples_split': 5} --------> F1 = 0.5\n",
            "{'criterion': 'entropy', 'max_depth': 15, 'max_features': 'log2', 'min_samples_leaf': 0.2, 'min_samples_split': 10} --------> F1 = 0.5\n",
            "{'criterion': 'entropy', 'max_depth': 15, 'max_features': 'log2', 'min_samples_leaf': 0.2, 'min_samples_split': 20} --------> F1 = 0.5\n",
            "{'criterion': 'entropy', 'max_depth': 15, 'max_features': 'log2', 'min_samples_leaf': 0.49, 'min_samples_split': 2} --------> F1 = 0.5\n",
            "{'criterion': 'entropy', 'max_depth': 15, 'max_features': 'log2', 'min_samples_leaf': 0.49, 'min_samples_split': 3} --------> F1 = 0.5\n",
            "{'criterion': 'entropy', 'max_depth': 15, 'max_features': 'log2', 'min_samples_leaf': 0.49, 'min_samples_split': 5} --------> F1 = 0.5\n",
            "{'criterion': 'entropy', 'max_depth': 15, 'max_features': 'log2', 'min_samples_leaf': 0.49, 'min_samples_split': 10} --------> F1 = 0.5\n",
            "{'criterion': 'entropy', 'max_depth': 15, 'max_features': 'log2', 'min_samples_leaf': 0.49, 'min_samples_split': 20} --------> F1 = 0.5\n",
            "{'criterion': 'entropy', 'max_depth': 20, 'max_features': None, 'min_samples_leaf': 0.2, 'min_samples_split': 2} --------> F1 = 0.6393\n",
            "{'criterion': 'entropy', 'max_depth': 20, 'max_features': None, 'min_samples_leaf': 0.2, 'min_samples_split': 3} --------> F1 = 0.6393\n",
            "{'criterion': 'entropy', 'max_depth': 20, 'max_features': None, 'min_samples_leaf': 0.2, 'min_samples_split': 5} --------> F1 = 0.6393\n",
            "{'criterion': 'entropy', 'max_depth': 20, 'max_features': None, 'min_samples_leaf': 0.2, 'min_samples_split': 10} --------> F1 = 0.6393\n",
            "{'criterion': 'entropy', 'max_depth': 20, 'max_features': None, 'min_samples_leaf': 0.2, 'min_samples_split': 20} --------> F1 = 0.6393\n",
            "{'criterion': 'entropy', 'max_depth': 20, 'max_features': None, 'min_samples_leaf': 0.49, 'min_samples_split': 2} --------> F1 = 0.5664\n",
            "{'criterion': 'entropy', 'max_depth': 20, 'max_features': None, 'min_samples_leaf': 0.49, 'min_samples_split': 3} --------> F1 = 0.5664\n",
            "{'criterion': 'entropy', 'max_depth': 20, 'max_features': None, 'min_samples_leaf': 0.49, 'min_samples_split': 5} --------> F1 = 0.5664\n",
            "{'criterion': 'entropy', 'max_depth': 20, 'max_features': None, 'min_samples_leaf': 0.49, 'min_samples_split': 10} --------> F1 = 0.5664\n",
            "{'criterion': 'entropy', 'max_depth': 20, 'max_features': None, 'min_samples_leaf': 0.49, 'min_samples_split': 20} --------> F1 = 0.5664\n",
            "{'criterion': 'entropy', 'max_depth': 20, 'max_features': 'sqrt', 'min_samples_leaf': 0.2, 'min_samples_split': 2} --------> F1 = 0.5521\n",
            "{'criterion': 'entropy', 'max_depth': 20, 'max_features': 'sqrt', 'min_samples_leaf': 0.2, 'min_samples_split': 3} --------> F1 = 0.5169\n",
            "{'criterion': 'entropy', 'max_depth': 20, 'max_features': 'sqrt', 'min_samples_leaf': 0.2, 'min_samples_split': 5} --------> F1 = 0.5478\n",
            "{'criterion': 'entropy', 'max_depth': 20, 'max_features': 'sqrt', 'min_samples_leaf': 0.2, 'min_samples_split': 10} --------> F1 = 0.5607\n",
            "{'criterion': 'entropy', 'max_depth': 20, 'max_features': 'sqrt', 'min_samples_leaf': 0.2, 'min_samples_split': 20} --------> F1 = 0.5\n",
            "{'criterion': 'entropy', 'max_depth': 20, 'max_features': 'sqrt', 'min_samples_leaf': 0.49, 'min_samples_split': 2} --------> F1 = 0.5\n",
            "{'criterion': 'entropy', 'max_depth': 20, 'max_features': 'sqrt', 'min_samples_leaf': 0.49, 'min_samples_split': 3} --------> F1 = 0.5\n",
            "{'criterion': 'entropy', 'max_depth': 20, 'max_features': 'sqrt', 'min_samples_leaf': 0.49, 'min_samples_split': 5} --------> F1 = 0.5\n",
            "{'criterion': 'entropy', 'max_depth': 20, 'max_features': 'sqrt', 'min_samples_leaf': 0.49, 'min_samples_split': 10} --------> F1 = 0.5\n",
            "{'criterion': 'entropy', 'max_depth': 20, 'max_features': 'sqrt', 'min_samples_leaf': 0.49, 'min_samples_split': 20} --------> F1 = 0.5\n",
            "{'criterion': 'entropy', 'max_depth': 20, 'max_features': 'log2', 'min_samples_leaf': 0.2, 'min_samples_split': 2} --------> F1 = 0.5\n",
            "{'criterion': 'entropy', 'max_depth': 20, 'max_features': 'log2', 'min_samples_leaf': 0.2, 'min_samples_split': 3} --------> F1 = 0.5\n",
            "{'criterion': 'entropy', 'max_depth': 20, 'max_features': 'log2', 'min_samples_leaf': 0.2, 'min_samples_split': 5} --------> F1 = 0.505\n",
            "{'criterion': 'entropy', 'max_depth': 20, 'max_features': 'log2', 'min_samples_leaf': 0.2, 'min_samples_split': 10} --------> F1 = 0.5\n",
            "{'criterion': 'entropy', 'max_depth': 20, 'max_features': 'log2', 'min_samples_leaf': 0.2, 'min_samples_split': 20} --------> F1 = 0.5\n",
            "{'criterion': 'entropy', 'max_depth': 20, 'max_features': 'log2', 'min_samples_leaf': 0.49, 'min_samples_split': 2} --------> F1 = 0.5\n",
            "{'criterion': 'entropy', 'max_depth': 20, 'max_features': 'log2', 'min_samples_leaf': 0.49, 'min_samples_split': 3} --------> F1 = 0.5\n",
            "{'criterion': 'entropy', 'max_depth': 20, 'max_features': 'log2', 'min_samples_leaf': 0.49, 'min_samples_split': 5} --------> F1 = 0.5\n",
            "{'criterion': 'entropy', 'max_depth': 20, 'max_features': 'log2', 'min_samples_leaf': 0.49, 'min_samples_split': 10} --------> F1 = 0.5\n",
            "{'criterion': 'entropy', 'max_depth': 20, 'max_features': 'log2', 'min_samples_leaf': 0.49, 'min_samples_split': 20} --------> F1 = 0.5\n",
            "{'criterion': 'entropy', 'max_depth': 30, 'max_features': None, 'min_samples_leaf': 0.2, 'min_samples_split': 2} --------> F1 = 0.6393\n",
            "{'criterion': 'entropy', 'max_depth': 30, 'max_features': None, 'min_samples_leaf': 0.2, 'min_samples_split': 3} --------> F1 = 0.6393\n",
            "{'criterion': 'entropy', 'max_depth': 30, 'max_features': None, 'min_samples_leaf': 0.2, 'min_samples_split': 5} --------> F1 = 0.6393\n",
            "{'criterion': 'entropy', 'max_depth': 30, 'max_features': None, 'min_samples_leaf': 0.2, 'min_samples_split': 10} --------> F1 = 0.6393\n",
            "{'criterion': 'entropy', 'max_depth': 30, 'max_features': None, 'min_samples_leaf': 0.2, 'min_samples_split': 20} --------> F1 = 0.6393\n",
            "{'criterion': 'entropy', 'max_depth': 30, 'max_features': None, 'min_samples_leaf': 0.49, 'min_samples_split': 2} --------> F1 = 0.5664\n",
            "{'criterion': 'entropy', 'max_depth': 30, 'max_features': None, 'min_samples_leaf': 0.49, 'min_samples_split': 3} --------> F1 = 0.5664\n",
            "{'criterion': 'entropy', 'max_depth': 30, 'max_features': None, 'min_samples_leaf': 0.49, 'min_samples_split': 5} --------> F1 = 0.5664\n",
            "{'criterion': 'entropy', 'max_depth': 30, 'max_features': None, 'min_samples_leaf': 0.49, 'min_samples_split': 10} --------> F1 = 0.5664\n",
            "{'criterion': 'entropy', 'max_depth': 30, 'max_features': None, 'min_samples_leaf': 0.49, 'min_samples_split': 20} --------> F1 = 0.5664\n",
            "{'criterion': 'entropy', 'max_depth': 30, 'max_features': 'sqrt', 'min_samples_leaf': 0.2, 'min_samples_split': 2} --------> F1 = 0.5\n",
            "{'criterion': 'entropy', 'max_depth': 30, 'max_features': 'sqrt', 'min_samples_leaf': 0.2, 'min_samples_split': 3} --------> F1 = 0.5\n",
            "{'criterion': 'entropy', 'max_depth': 30, 'max_features': 'sqrt', 'min_samples_leaf': 0.2, 'min_samples_split': 5} --------> F1 = 0.5\n",
            "{'criterion': 'entropy', 'max_depth': 30, 'max_features': 'sqrt', 'min_samples_leaf': 0.2, 'min_samples_split': 10} --------> F1 = 0.5241\n",
            "{'criterion': 'entropy', 'max_depth': 30, 'max_features': 'sqrt', 'min_samples_leaf': 0.2, 'min_samples_split': 20} --------> F1 = 0.5199\n",
            "{'criterion': 'entropy', 'max_depth': 30, 'max_features': 'sqrt', 'min_samples_leaf': 0.49, 'min_samples_split': 2} --------> F1 = 0.5317\n",
            "{'criterion': 'entropy', 'max_depth': 30, 'max_features': 'sqrt', 'min_samples_leaf': 0.49, 'min_samples_split': 3} --------> F1 = 0.5\n",
            "{'criterion': 'entropy', 'max_depth': 30, 'max_features': 'sqrt', 'min_samples_leaf': 0.49, 'min_samples_split': 5} --------> F1 = 0.5\n",
            "{'criterion': 'entropy', 'max_depth': 30, 'max_features': 'sqrt', 'min_samples_leaf': 0.49, 'min_samples_split': 10} --------> F1 = 0.5\n",
            "{'criterion': 'entropy', 'max_depth': 30, 'max_features': 'sqrt', 'min_samples_leaf': 0.49, 'min_samples_split': 20} --------> F1 = 0.5\n",
            "{'criterion': 'entropy', 'max_depth': 30, 'max_features': 'log2', 'min_samples_leaf': 0.2, 'min_samples_split': 2} --------> F1 = 0.5\n",
            "{'criterion': 'entropy', 'max_depth': 30, 'max_features': 'log2', 'min_samples_leaf': 0.2, 'min_samples_split': 3} --------> F1 = 0.5\n",
            "{'criterion': 'entropy', 'max_depth': 30, 'max_features': 'log2', 'min_samples_leaf': 0.2, 'min_samples_split': 5} --------> F1 = 0.5\n",
            "{'criterion': 'entropy', 'max_depth': 30, 'max_features': 'log2', 'min_samples_leaf': 0.2, 'min_samples_split': 10} --------> F1 = 0.5\n",
            "{'criterion': 'entropy', 'max_depth': 30, 'max_features': 'log2', 'min_samples_leaf': 0.2, 'min_samples_split': 20} --------> F1 = 0.5\n",
            "{'criterion': 'entropy', 'max_depth': 30, 'max_features': 'log2', 'min_samples_leaf': 0.49, 'min_samples_split': 2} --------> F1 = 0.5\n",
            "{'criterion': 'entropy', 'max_depth': 30, 'max_features': 'log2', 'min_samples_leaf': 0.49, 'min_samples_split': 3} --------> F1 = 0.5\n",
            "{'criterion': 'entropy', 'max_depth': 30, 'max_features': 'log2', 'min_samples_leaf': 0.49, 'min_samples_split': 5} --------> F1 = 0.5\n",
            "{'criterion': 'entropy', 'max_depth': 30, 'max_features': 'log2', 'min_samples_leaf': 0.49, 'min_samples_split': 10} --------> F1 = 0.5\n",
            "{'criterion': 'entropy', 'max_depth': 30, 'max_features': 'log2', 'min_samples_leaf': 0.49, 'min_samples_split': 20} --------> F1 = 0.5\n",
            "{'criterion': 'entropy', 'max_depth': 50, 'max_features': None, 'min_samples_leaf': 0.2, 'min_samples_split': 2} --------> F1 = 0.6393\n",
            "{'criterion': 'entropy', 'max_depth': 50, 'max_features': None, 'min_samples_leaf': 0.2, 'min_samples_split': 3} --------> F1 = 0.6393\n",
            "{'criterion': 'entropy', 'max_depth': 50, 'max_features': None, 'min_samples_leaf': 0.2, 'min_samples_split': 5} --------> F1 = 0.6393\n",
            "{'criterion': 'entropy', 'max_depth': 50, 'max_features': None, 'min_samples_leaf': 0.2, 'min_samples_split': 10} --------> F1 = 0.6393\n",
            "{'criterion': 'entropy', 'max_depth': 50, 'max_features': None, 'min_samples_leaf': 0.2, 'min_samples_split': 20} --------> F1 = 0.6393\n",
            "{'criterion': 'entropy', 'max_depth': 50, 'max_features': None, 'min_samples_leaf': 0.49, 'min_samples_split': 2} --------> F1 = 0.5664\n",
            "{'criterion': 'entropy', 'max_depth': 50, 'max_features': None, 'min_samples_leaf': 0.49, 'min_samples_split': 3} --------> F1 = 0.5664\n",
            "{'criterion': 'entropy', 'max_depth': 50, 'max_features': None, 'min_samples_leaf': 0.49, 'min_samples_split': 5} --------> F1 = 0.5664\n",
            "{'criterion': 'entropy', 'max_depth': 50, 'max_features': None, 'min_samples_leaf': 0.49, 'min_samples_split': 10} --------> F1 = 0.5664\n",
            "{'criterion': 'entropy', 'max_depth': 50, 'max_features': None, 'min_samples_leaf': 0.49, 'min_samples_split': 20} --------> F1 = 0.5664\n",
            "{'criterion': 'entropy', 'max_depth': 50, 'max_features': 'sqrt', 'min_samples_leaf': 0.2, 'min_samples_split': 2} --------> F1 = 0.5678\n",
            "{'criterion': 'entropy', 'max_depth': 50, 'max_features': 'sqrt', 'min_samples_leaf': 0.2, 'min_samples_split': 3} --------> F1 = 0.5387\n",
            "{'criterion': 'entropy', 'max_depth': 50, 'max_features': 'sqrt', 'min_samples_leaf': 0.2, 'min_samples_split': 5} --------> F1 = 0.5\n",
            "{'criterion': 'entropy', 'max_depth': 50, 'max_features': 'sqrt', 'min_samples_leaf': 0.2, 'min_samples_split': 10} --------> F1 = 0.5\n",
            "{'criterion': 'entropy', 'max_depth': 50, 'max_features': 'sqrt', 'min_samples_leaf': 0.2, 'min_samples_split': 20} --------> F1 = 0.5\n",
            "{'criterion': 'entropy', 'max_depth': 50, 'max_features': 'sqrt', 'min_samples_leaf': 0.49, 'min_samples_split': 2} --------> F1 = 0.5\n",
            "{'criterion': 'entropy', 'max_depth': 50, 'max_features': 'sqrt', 'min_samples_leaf': 0.49, 'min_samples_split': 3} --------> F1 = 0.5088\n",
            "{'criterion': 'entropy', 'max_depth': 50, 'max_features': 'sqrt', 'min_samples_leaf': 0.49, 'min_samples_split': 5} --------> F1 = 0.5238\n",
            "{'criterion': 'entropy', 'max_depth': 50, 'max_features': 'sqrt', 'min_samples_leaf': 0.49, 'min_samples_split': 10} --------> F1 = 0.5\n",
            "{'criterion': 'entropy', 'max_depth': 50, 'max_features': 'sqrt', 'min_samples_leaf': 0.49, 'min_samples_split': 20} --------> F1 = 0.531\n",
            "{'criterion': 'entropy', 'max_depth': 50, 'max_features': 'log2', 'min_samples_leaf': 0.2, 'min_samples_split': 2} --------> F1 = 0.5154\n",
            "{'criterion': 'entropy', 'max_depth': 50, 'max_features': 'log2', 'min_samples_leaf': 0.2, 'min_samples_split': 3} --------> F1 = 0.5\n",
            "{'criterion': 'entropy', 'max_depth': 50, 'max_features': 'log2', 'min_samples_leaf': 0.2, 'min_samples_split': 5} --------> F1 = 0.5\n",
            "{'criterion': 'entropy', 'max_depth': 50, 'max_features': 'log2', 'min_samples_leaf': 0.2, 'min_samples_split': 10} --------> F1 = 0.5041\n",
            "{'criterion': 'entropy', 'max_depth': 50, 'max_features': 'log2', 'min_samples_leaf': 0.2, 'min_samples_split': 20} --------> F1 = 0.5\n",
            "{'criterion': 'entropy', 'max_depth': 50, 'max_features': 'log2', 'min_samples_leaf': 0.49, 'min_samples_split': 2} --------> F1 = 0.5\n",
            "{'criterion': 'entropy', 'max_depth': 50, 'max_features': 'log2', 'min_samples_leaf': 0.49, 'min_samples_split': 3} --------> F1 = 0.5\n",
            "{'criterion': 'entropy', 'max_depth': 50, 'max_features': 'log2', 'min_samples_leaf': 0.49, 'min_samples_split': 5} --------> F1 = 0.5\n",
            "{'criterion': 'entropy', 'max_depth': 50, 'max_features': 'log2', 'min_samples_leaf': 0.49, 'min_samples_split': 10} --------> F1 = 0.5\n",
            "{'criterion': 'entropy', 'max_depth': 50, 'max_features': 'log2', 'min_samples_leaf': 0.49, 'min_samples_split': 20} --------> F1 = 0.5\n",
            "{'criterion': 'entropy', 'max_depth': 100, 'max_features': None, 'min_samples_leaf': 0.2, 'min_samples_split': 2} --------> F1 = 0.6393\n",
            "{'criterion': 'entropy', 'max_depth': 100, 'max_features': None, 'min_samples_leaf': 0.2, 'min_samples_split': 3} --------> F1 = 0.6393\n",
            "{'criterion': 'entropy', 'max_depth': 100, 'max_features': None, 'min_samples_leaf': 0.2, 'min_samples_split': 5} --------> F1 = 0.6393\n",
            "{'criterion': 'entropy', 'max_depth': 100, 'max_features': None, 'min_samples_leaf': 0.2, 'min_samples_split': 10} --------> F1 = 0.6393\n",
            "{'criterion': 'entropy', 'max_depth': 100, 'max_features': None, 'min_samples_leaf': 0.2, 'min_samples_split': 20} --------> F1 = 0.6393\n",
            "{'criterion': 'entropy', 'max_depth': 100, 'max_features': None, 'min_samples_leaf': 0.49, 'min_samples_split': 2} --------> F1 = 0.5664\n",
            "{'criterion': 'entropy', 'max_depth': 100, 'max_features': None, 'min_samples_leaf': 0.49, 'min_samples_split': 3} --------> F1 = 0.5664\n",
            "{'criterion': 'entropy', 'max_depth': 100, 'max_features': None, 'min_samples_leaf': 0.49, 'min_samples_split': 5} --------> F1 = 0.5664\n",
            "{'criterion': 'entropy', 'max_depth': 100, 'max_features': None, 'min_samples_leaf': 0.49, 'min_samples_split': 10} --------> F1 = 0.5664\n",
            "{'criterion': 'entropy', 'max_depth': 100, 'max_features': None, 'min_samples_leaf': 0.49, 'min_samples_split': 20} --------> F1 = 0.5664\n",
            "{'criterion': 'entropy', 'max_depth': 100, 'max_features': 'sqrt', 'min_samples_leaf': 0.2, 'min_samples_split': 2} --------> F1 = 0.5\n",
            "{'criterion': 'entropy', 'max_depth': 100, 'max_features': 'sqrt', 'min_samples_leaf': 0.2, 'min_samples_split': 3} --------> F1 = 0.5394\n",
            "{'criterion': 'entropy', 'max_depth': 100, 'max_features': 'sqrt', 'min_samples_leaf': 0.2, 'min_samples_split': 5} --------> F1 = 0.5\n",
            "{'criterion': 'entropy', 'max_depth': 100, 'max_features': 'sqrt', 'min_samples_leaf': 0.2, 'min_samples_split': 10} --------> F1 = 0.5101\n",
            "{'criterion': 'entropy', 'max_depth': 100, 'max_features': 'sqrt', 'min_samples_leaf': 0.2, 'min_samples_split': 20} --------> F1 = 0.5251\n",
            "{'criterion': 'entropy', 'max_depth': 100, 'max_features': 'sqrt', 'min_samples_leaf': 0.49, 'min_samples_split': 2} --------> F1 = 0.5\n",
            "{'criterion': 'entropy', 'max_depth': 100, 'max_features': 'sqrt', 'min_samples_leaf': 0.49, 'min_samples_split': 3} --------> F1 = 0.5\n",
            "{'criterion': 'entropy', 'max_depth': 100, 'max_features': 'sqrt', 'min_samples_leaf': 0.49, 'min_samples_split': 5} --------> F1 = 0.5\n",
            "{'criterion': 'entropy', 'max_depth': 100, 'max_features': 'sqrt', 'min_samples_leaf': 0.49, 'min_samples_split': 10} --------> F1 = 0.5\n",
            "{'criterion': 'entropy', 'max_depth': 100, 'max_features': 'sqrt', 'min_samples_leaf': 0.49, 'min_samples_split': 20} --------> F1 = 0.5\n",
            "{'criterion': 'entropy', 'max_depth': 100, 'max_features': 'log2', 'min_samples_leaf': 0.2, 'min_samples_split': 2} --------> F1 = 0.5\n",
            "{'criterion': 'entropy', 'max_depth': 100, 'max_features': 'log2', 'min_samples_leaf': 0.2, 'min_samples_split': 3} --------> F1 = 0.5\n",
            "{'criterion': 'entropy', 'max_depth': 100, 'max_features': 'log2', 'min_samples_leaf': 0.2, 'min_samples_split': 5} --------> F1 = 0.5\n",
            "{'criterion': 'entropy', 'max_depth': 100, 'max_features': 'log2', 'min_samples_leaf': 0.2, 'min_samples_split': 10} --------> F1 = 0.5222\n",
            "{'criterion': 'entropy', 'max_depth': 100, 'max_features': 'log2', 'min_samples_leaf': 0.2, 'min_samples_split': 20} --------> F1 = 0.5\n",
            "{'criterion': 'entropy', 'max_depth': 100, 'max_features': 'log2', 'min_samples_leaf': 0.49, 'min_samples_split': 2} --------> F1 = 0.5\n",
            "{'criterion': 'entropy', 'max_depth': 100, 'max_features': 'log2', 'min_samples_leaf': 0.49, 'min_samples_split': 3} --------> F1 = 0.5\n",
            "{'criterion': 'entropy', 'max_depth': 100, 'max_features': 'log2', 'min_samples_leaf': 0.49, 'min_samples_split': 5} --------> F1 = 0.5\n",
            "{'criterion': 'entropy', 'max_depth': 100, 'max_features': 'log2', 'min_samples_leaf': 0.49, 'min_samples_split': 10} --------> F1 = 0.5\n",
            "{'criterion': 'entropy', 'max_depth': 100, 'max_features': 'log2', 'min_samples_leaf': 0.49, 'min_samples_split': 20} --------> F1 = 0.5\n",
            "Best params: {'criterion': 'gini', 'max_depth': 8, 'max_features': None, 'min_samples_leaf': 0.2, 'min_samples_split': 2}\n",
            "Best F1 Score: 0.6393\n",
            " #################################################################################################### \n",
            "\n",
            "<class 'sklearn.svm._classes.LinearSVC'>\n",
            "{'C': 0.25, 'loss': 'hinge'} --------> F1 = 0.6534\n",
            "{'C': 0.25, 'loss': 'squared_hinge'} --------> F1 = 0.7289\n",
            "{'C': 0.5, 'loss': 'hinge'} --------> F1 = 0.6761\n",
            "{'C': 0.5, 'loss': 'squared_hinge'} --------> F1 = 0.7557000000000001\n",
            "{'C': 1.5, 'loss': 'hinge'} --------> F1 = 0.7262999999999998\n",
            "{'C': 1.5, 'loss': 'squared_hinge'} --------> F1 = 0.8048\n",
            "{'C': 2, 'loss': 'hinge'} --------> F1 = 0.7415\n",
            "{'C': 2, 'loss': 'squared_hinge'} --------> F1 = 0.8162999999999999\n",
            "{'C': 5, 'loss': 'hinge'} --------> F1 = 0.7923000000000001\n",
            "{'C': 5, 'loss': 'squared_hinge'} --------> F1 = 0.8434\n",
            "{'C': 10, 'loss': 'hinge'} --------> F1 = 0.822\n",
            "{'C': 10, 'loss': 'squared_hinge'} --------> F1 = 0.8576\n",
            "{'C': 100, 'loss': 'hinge'} --------> F1 = 0.8721\n",
            "{'C': 100, 'loss': 'squared_hinge'} --------> F1 = 0.8796999999999999\n",
            "Best params: {'C': 100, 'loss': 'squared_hinge'}\n",
            "Best F1 Score: 0.8796999999999999\n",
            " #################################################################################################### \n",
            "\n",
            "CPU times: user 17min 3s, sys: 7.09 s, total: 17min 10s\n",
            "Wall time: 16min 58s\n"
          ],
          "name": "stdout"
        }
      ]
    },
    {
      "cell_type": "markdown",
      "metadata": {
        "id": "WLS6DSDQPajg"
      },
      "source": [
        ">> # **5.(c)**\n",
        "Report training, validation, and test F1-measure for all the classifiers (with best\n",
        "hyper-parameter configuration)."
      ]
    },
    {
      "cell_type": "code",
      "metadata": {
        "id": "rIC38ua9-Pi_",
        "outputId": "8fd83129-602e-46a3-bac9-351e6e0998b6",
        "colab": {
          "base_uri": "https://localhost:8080/"
        }
      },
      "source": [
        "import re\n",
        "from sklearn.tree import DecisionTreeClassifier\n",
        "\n",
        "params_5 = []\n",
        "with open(\"#5_b-All Parameters.txt\") as f:\n",
        "  for line in f:\n",
        "    if 'Best params:' in line:\n",
        "      params_5.append(line)\n",
        "temp1_5 = repr(params_5[0])\n",
        "temp1_5 = re.sub('Best params: ', '', temp1_5)\n",
        "NB_best_param_5 = float(temp1_5.split()[1][:-4])\n",
        "with open(\"#5_c-Best_Results.txt\", 'a+') as g:\n",
        "  g.write('NB_best alpha = {}\\n'.format(NB_best_param_5))\n",
        "print('NB_best alpha = {}'.format(NB_best_param_5))\n",
        "#################################################\n"
      ],
      "execution_count": 103,
      "outputs": [
        {
          "output_type": "stream",
          "text": [
            "NB_best alpha = 0.02\n"
          ],
          "name": "stdout"
        }
      ]
    },
    {
      "cell_type": "code",
      "metadata": {
        "id": "W1FfL_zW-PjD",
        "outputId": "2aab5648-a0af-47c6-ca96-08a08eaf660e",
        "colab": {
          "base_uri": "https://localhost:8080/"
        }
      },
      "source": [
        "temp2_5 = repr(params_5[1])\n",
        "temp2_5 = re.sub('Best params: ', '', temp2_5)\n",
        "criterion_5 = temp2_5.split()[1][:-1]\n",
        "criterion_5 = criterion_5.replace(\"'\",'')\n",
        "max_dep_5 = [int(s) for s in temp2_5.split()[3] if s.isdigit()][0]\n",
        "max_feat_5 = temp2_5.split()[5][:-1]\n",
        "if max_feat_5 == str(None):\n",
        "  max_feat_5 = None\n",
        "else:\n",
        "  max_feat_5 = max_feat_5.replace(\"'\", '')\n",
        "min_leaf_5 = float(temp2_5.split()[7][:-1])\n",
        "mss_5 = int(temp2_5.split()[9][:-4])\n",
        "tree_best_params_5 = [criterion_5, max_dep_5, max_feat_5, min_leaf_5, mss_5]\n",
        "with open(\"#5_c-Best_Results.txt\", 'a+') as g:\n",
        "  g.write('[criterion, max_depth, max_features, min_samples_leaf, min_samples_split] = {}\\n'.\n",
        "          format(tree_best_params_5))\n",
        "print('criterion, max_depth, max_features, min_samples_leaf, min_samples_split =', tree_best_params_5)\n",
        "##################################################\n"
      ],
      "execution_count": 104,
      "outputs": [
        {
          "output_type": "stream",
          "text": [
            "criterion, max_depth, max_features, min_samples_leaf, min_samples_split = ['gini', 8, None, 0.2, 2]\n"
          ],
          "name": "stdout"
        }
      ]
    },
    {
      "cell_type": "code",
      "metadata": {
        "id": "ewVrJTu1-PjF",
        "outputId": "8829961d-69d3-4fc3-956d-4cf86d19bf85",
        "colab": {
          "base_uri": "https://localhost:8080/"
        }
      },
      "source": [
        "temp3_5 = repr(params_5[2])\n",
        "temp3_5 = re.sub('Best params: ', '', temp3_5)\n",
        "c_5 = float(temp3_5.split()[1][:-1])\n",
        "temp3_loss_5 = temp3_5.split()[3][:-4]\n",
        "temp3_loss_5 = temp3_loss_5.replace(\"'\",\"\" )\n",
        "svm_best_params_5 = [c_5, temp3_loss_5]\n",
        "with open(\"#5_c-Best_Results.txt\", 'a+') as g:\n",
        "  g.write('[C, loss] = {}\\n {}'.\n",
        "          format(svm_best_params_5, seperator))\n",
        "print('[C, loss] = ', svm_best_params_5)"
      ],
      "execution_count": 105,
      "outputs": [
        {
          "output_type": "stream",
          "text": [
            "[C, loss] =  [100.0, 'squared_hinge']\n"
          ],
          "name": "stdout"
        }
      ]
    },
    {
      "cell_type": "code",
      "metadata": {
        "id": "_tcYNhWu-PjH",
        "outputId": "c6b203be-c0ba-4232-b1c5-1ecb4da47d88",
        "colab": {
          "base_uri": "https://localhost:8080/"
        }
      },
      "source": [
        "print('NB_best_params are {},\\n tree_best_params are {},\\n svm_best_params are {}.'.\n",
        "      format(NB_best_param_5, tree_best_params_5, svm_best_params_5))\n",
        "\n"
      ],
      "execution_count": 106,
      "outputs": [
        {
          "output_type": "stream",
          "text": [
            "NB_best_params are 0.02,\n",
            " tree_best_params are ['gini', 8, None, 0.2, 2],\n",
            " svm_best_params are [100.0, 'squared_hinge'].\n"
          ],
          "name": "stdout"
        }
      ]
    },
    {
      "cell_type": "code",
      "metadata": {
        "id": "UjcsiNxC-PjJ"
      },
      "source": [
        "optimized_bayes_5 = BernoulliNB(alpha = NB_best_param_5)\n",
        "optimized_tree_5 = DecisionTreeClassifier(criterion = tree_best_params_5[0],\n",
        "                                        max_features = tree_best_params_5[2],\n",
        "                                        max_depth = float(tree_best_params_5[1]),\n",
        "                                        min_samples_leaf = tree_best_params_5[3],\n",
        "                                        min_samples_split = tree_best_params_5[4], \n",
        "                                        random_state = 42)\n",
        "optimized_svm_5 = svm.LinearSVC(C = svm_best_params_5[0], loss = svm_best_params_5[1], random_state = 42)\n"
      ],
      "execution_count": 107,
      "outputs": []
    },
    {
      "cell_type": "code",
      "metadata": {
        "id": "H8B70WXt-PjL",
        "outputId": "ceed3626-f51f-49b5-b94e-b4d04c38a381",
        "colab": {
          "base_uri": "https://localhost:8080/"
        }
      },
      "source": [
        "%%time\n",
        "\n",
        "print('Optimal NB f1 for train, valid, test = {}'.\n",
        "      format(model_train_valid_test_FBoW_5(optimized_bayes_5)))\n",
        "print('Optimal Tree f1 for train, valid, test = {}'.\n",
        "      format(model_train_valid_test_FBoW_5(optimized_tree_5)))\n",
        "print('Optimal SVM f1 for train, valid, test = {}'.\n",
        "      format(model_train_valid_test_FBoW_5(optimized_svm_5)))\n",
        "\n",
        "f = open(\"#5_c-Best_Results.txt\", 'a+')\n",
        "f.write('\\n NB_best_params are {}, \\n tree_best_params are {}, \\n svm_best_params are {} \\n {}\\n'.\n",
        "        format(NB_best_param_5, tree_best_params_5, svm_best_params_5, seperator))\n",
        "f.write('Optimal NB f1 for the (train, valid, test) = {},\\n Optimal Tree f1 for train, valid, test = {}, \\n Optimal SVM f1 for train, valid, test = {}\\n {}'.\n",
        "        format(model_train_valid_test_FBoW_5(optimized_bayes_5), \n",
        "               model_train_valid_test_FBoW_5(optimized_tree_5), \n",
        "               model_train_valid_test_FBoW_5(optimized_svm_5), \n",
        "               seperator))\n",
        "f.close()"
      ],
      "execution_count": 108,
      "outputs": [
        {
          "output_type": "stream",
          "text": [
            "Optimal NB f1 for train, valid, test = (0.8725333333333334, 0.8434, 0.83572)\n",
            "Optimal Tree f1 for train, valid, test = (0.6439333333333334, 0.6393, 0.64708)\n",
            "Optimal SVM f1 for train, valid, test = (0.9467333333333332, 0.8795, 0.8746)\n",
            "CPU times: user 56.5 s, sys: 4.07 s, total: 1min\n",
            "Wall time: 55.9 s\n"
          ],
          "name": "stdout"
        }
      ]
    },
    {
      "cell_type": "markdown",
      "metadata": {
        "id": "I7DWGx9TPfB4"
      },
      "source": [
        ">> # **5.(d)**\n",
        "Comment about the performance of different classifiers. Why did a particular\n",
        "classifier performed better than the others? What was the role of that hyperparameter that fetched you the best results.\n"
      ]
    },
    {
      "cell_type": "markdown",
      "metadata": {
        "id": "e1__HocTPiMQ"
      },
      "source": [
        ">> # **5.(e)**\n",
        "Compare the performance with the binary bag-of-words based classifiers. Why the\n",
        "difference in performance? Give a brief explanation comparing BBoW Naive Bayes\n",
        "and FBoW Naive Bayes and similarly for Decision Trees and Linear SVM."
      ]
    },
    {
      "cell_type": "markdown",
      "metadata": {
        "id": "SJ-1N1zYPoPJ"
      },
      "source": [
        ">> # **5.(f)**\n",
        "Which representation is better ? Why ?"
      ]
    },
    {
      "cell_type": "markdown",
      "metadata": {
        "id": "d0-g5WcvPq7Z"
      },
      "source": [
        ">> # **5.(g)**\n",
        "What did you observe about the relative performance of the classifiers when the\n",
        "dataset is changed? What aspects of the dataset aided or hampered the performance\n",
        "of that classifier.\n"
      ]
    }
  ]
}